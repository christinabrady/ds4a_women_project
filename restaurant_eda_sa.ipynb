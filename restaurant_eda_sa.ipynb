{
 "cells": [
  {
   "cell_type": "markdown",
   "id": "266c9f12",
   "metadata": {},
   "source": [
    "# About\n",
    "This notebook contains EDA of restaurants in the sample dataset of Team 7."
   ]
  },
  {
   "cell_type": "code",
   "execution_count": null,
   "id": "31b2a6ca",
   "metadata": {},
   "outputs": [],
   "source": [
    "import json\n",
    "import pandas as pd\n",
    "import matplotlib.pyplot as plt\n",
    "import numpy as np\n",
    "import seaborn as sns\n",
    "import folium\n",
    "from folium.plugins import HeatMap"
   ]
  },
  {
   "cell_type": "markdown",
   "id": "c9568d19",
   "metadata": {},
   "source": [
    "# Load datasets"
   ]
  },
  {
   "cell_type": "code",
   "execution_count": null,
   "id": "45de3bc1",
   "metadata": {},
   "outputs": [],
   "source": [
    "restaurant_df = pd.read_json('yelp_team7_dataset_restaurant.json')"
   ]
  },
  {
   "cell_type": "code",
   "execution_count": null,
   "id": "ca0edd56",
   "metadata": {},
   "outputs": [],
   "source": [
    "restaurant_df.shape"
   ]
  },
  {
   "cell_type": "code",
   "execution_count": null,
   "id": "4e1e8c52",
   "metadata": {},
   "outputs": [],
   "source": [
    "categories_df = pd.read_json('yelp_team7_dataset_category.json')"
   ]
  },
  {
   "cell_type": "code",
   "execution_count": null,
   "id": "cef66252",
   "metadata": {},
   "outputs": [],
   "source": [
    "categories_df.shape"
   ]
  },
  {
   "cell_type": "markdown",
   "id": "d32e93f9",
   "metadata": {},
   "source": [
    "# EDA"
   ]
  },
  {
   "cell_type": "code",
   "execution_count": null,
   "id": "f0b71a59",
   "metadata": {},
   "outputs": [],
   "source": [
    "# How many restaurants are there in our sample for each top city?\n",
    "restaurant_df.city.value_counts()"
   ]
  },
  {
   "cell_type": "code",
   "execution_count": null,
   "id": "5eeb9d37",
   "metadata": {},
   "outputs": [],
   "source": [
    "restaurant_df.city.value_counts().plot(kind = 'bar')\n",
    "plt.show()"
   ]
  },
  {
   "cell_type": "code",
   "execution_count": null,
   "id": "2449c654",
   "metadata": {},
   "outputs": [],
   "source": [
    "restaurant_df.city.value_counts(normalize = True)"
   ]
  },
  {
   "cell_type": "code",
   "execution_count": null,
   "id": "70c825dd",
   "metadata": {},
   "outputs": [],
   "source": [
    "restaurant_df.city.value_counts(normalize = True).plot(kind = 'bar')\n",
    "plt.title('Proportion of restaurants in the sample')\n",
    "plt.xticks(rotation = 0)\n",
    "#plt.show()\n",
    "plt.savefig('cities_prop.png')"
   ]
  },
  {
   "cell_type": "code",
   "execution_count": null,
   "id": "448a8299",
   "metadata": {},
   "outputs": [],
   "source": [
    "# How many restaurants were open?\n",
    "restaurant_df.is_open.value_counts(normalize = True)"
   ]
  },
  {
   "cell_type": "code",
   "execution_count": null,
   "id": "be91911c",
   "metadata": {},
   "outputs": [],
   "source": [
    "# looking at the proportion of restaurants that were open\n",
    "fig = restaurant_df.is_open.value_counts(normalize = True). plot(kind = 'bar')\n",
    "plt.title('Proportion of restaurants that were open vs. not open')\n",
    "fig.set_xlabel('Restaurant survival status')\n",
    "fig.set_xticklabels(['open', 'not open'], rotation = 0)\n",
    "#plt.show()\n",
    "plt.savefig('isopen_prop.png')"
   ]
  },
  {
   "cell_type": "code",
   "execution_count": null,
   "id": "95df81c7",
   "metadata": {},
   "outputs": [],
   "source": [
    "fig = sns.catplot(x = 'city', y = 'is_open', kind = 'bar', data = restaurant_df)\n",
    "plt.title(\"Proportion of restaurants that were open\")\n",
    "fig.set(ylabel = 'Proportion', xlabel = None)\n",
    "#plt.show()\n",
    "plt.savefig('prop_open_by_city.png', bbox_inches='tight')"
   ]
  },
  {
   "cell_type": "code",
   "execution_count": null,
   "id": "dc128e2b",
   "metadata": {},
   "outputs": [],
   "source": [
    "restaurant_df.groupby('city').agg({'is_open': 'mean'}).sort_values(by = 'is_open', ascending = False)"
   ]
  },
  {
   "cell_type": "code",
   "execution_count": null,
   "id": "6caeca3c",
   "metadata": {},
   "outputs": [],
   "source": [
    "restaurant_df.head()"
   ]
  },
  {
   "cell_type": "markdown",
   "id": "d1bbfcef",
   "metadata": {},
   "source": [
    "### Number of reviews"
   ]
  },
  {
   "cell_type": "code",
   "execution_count": null,
   "id": "4b9c7195",
   "metadata": {},
   "outputs": [],
   "source": [
    "# number of reviews\n",
    "restaurant_df.review_count.describe()"
   ]
  },
  {
   "cell_type": "code",
   "execution_count": null,
   "id": "b79415f4",
   "metadata": {},
   "outputs": [],
   "source": [
    "restaurant_df['review_count'].plot.hist(title = \"Review Count\")\n",
    "plt.show()"
   ]
  },
  {
   "cell_type": "markdown",
   "id": "9387980d",
   "metadata": {},
   "source": [
    "The distribution of review count is very skewed. With few restaurants receiving a lot of reviews."
   ]
  },
  {
   "cell_type": "code",
   "execution_count": null,
   "id": "555fa619",
   "metadata": {},
   "outputs": [],
   "source": [
    "g = sns.FacetGrid(restaurant_df, col='city')\n",
    "g.map_dataframe(sns.histplot, x = 'review_count')"
   ]
  },
  {
   "cell_type": "code",
   "execution_count": null,
   "id": "98b88a6f",
   "metadata": {},
   "outputs": [],
   "source": [
    "sns.catplot(x = 'city', y = 'review_count', kind = 'box', data = restaurant_df)\n",
    "plt.title(\"Boxplot of city vs. review count\")"
   ]
  },
  {
   "cell_type": "code",
   "execution_count": null,
   "id": "0257299a",
   "metadata": {},
   "outputs": [],
   "source": [
    "sns.catplot(x = 'city', y = 'review_count', hue = 'is_open', kind = 'box', data = restaurant_df)\n",
    "plt.title(\"Boxplot of city vs. review count\")"
   ]
  },
  {
   "cell_type": "markdown",
   "id": "55946a30",
   "metadata": {},
   "source": [
    "### Review Stars"
   ]
  },
  {
   "cell_type": "code",
   "execution_count": null,
   "id": "ebcd1f78",
   "metadata": {},
   "outputs": [],
   "source": [
    "sns.displot(restaurant_df, x = 'stars', bins = [1, 1.5, 2, 2.5, 3, 3.5, 4, 4.5, 5])\n",
    "plt.title('Distribution of review stars')\n",
    "#plt.show()\n",
    "plt.savefig('dist_stars.png', bbox_inches='tight')"
   ]
  },
  {
   "cell_type": "code",
   "execution_count": null,
   "id": "09a31212",
   "metadata": {},
   "outputs": [],
   "source": [
    "restaurant_df.stars.describe()"
   ]
  },
  {
   "cell_type": "code",
   "execution_count": null,
   "id": "d15a415b",
   "metadata": {},
   "outputs": [],
   "source": [
    "sns.displot(restaurant_df, x = 'stars', bins = [1, 1.5, 2, 2.5, 3, 3.5, 4, 4.5, 5], hue = 'city', element = 'step')"
   ]
  },
  {
   "cell_type": "code",
   "execution_count": null,
   "id": "0f66ed7c",
   "metadata": {},
   "outputs": [],
   "source": [
    "sns.displot(restaurant_df, x = 'stars', bins = [1, 1.5, 2, 2.5, 3, 3.5, 4, 4.5, 5], hue = 'is_open', multiple = 'dodge')\n",
    "plt.title('Distribution of review stars by restaurant survival status')"
   ]
  },
  {
   "cell_type": "code",
   "execution_count": null,
   "id": "86de628e",
   "metadata": {},
   "outputs": [],
   "source": [
    "sns.displot(restaurant_df, x = 'stars', bins = [1, 1.5, 2, 2.5, 3, 3.5, 4, 4.5, 5], col = 'is_open')\n",
    "#plt.show()\n",
    "plt.savefig('dist_stars_by_open.png')"
   ]
  },
  {
   "cell_type": "code",
   "execution_count": null,
   "id": "5263ea0a",
   "metadata": {},
   "outputs": [],
   "source": [
    "restaurant_df[restaurant_df['is_open'] == 1]['stars'].describe()"
   ]
  },
  {
   "cell_type": "code",
   "execution_count": null,
   "id": "444a5bab",
   "metadata": {},
   "outputs": [],
   "source": [
    "restaurant_df[restaurant_df['is_open'] == 0]['stars'].describe()"
   ]
  },
  {
   "cell_type": "code",
   "execution_count": null,
   "id": "e88666c5",
   "metadata": {},
   "outputs": [],
   "source": [
    "sns.displot(restaurant_df, x = 'stars', bins = [1, 1.5, 2, 2.5, 3, 3.5, 4, 4.5, 5], col = 'city', hue = 'is_open')\n",
    "plt.title('Distribution of review stars by city and restaurant status')"
   ]
  },
  {
   "cell_type": "markdown",
   "id": "53657d40",
   "metadata": {},
   "source": [
    "### Categories"
   ]
  },
  {
   "cell_type": "code",
   "execution_count": null,
   "id": "c5b0b867",
   "metadata": {},
   "outputs": [],
   "source": [
    "restaurant_category = restaurant_df.merge(categories_df, on = 'business_id', how = 'left')"
   ]
  },
  {
   "cell_type": "code",
   "execution_count": null,
   "id": "20c1e580",
   "metadata": {},
   "outputs": [],
   "source": [
    "restaurant_category.shape"
   ]
  },
  {
   "cell_type": "code",
   "execution_count": null,
   "id": "8165f6c4",
   "metadata": {},
   "outputs": [],
   "source": [
    "restaurant_category.head()"
   ]
  },
  {
   "cell_type": "code",
   "execution_count": null,
   "id": "2b357937",
   "metadata": {},
   "outputs": [],
   "source": [
    "# How many restaurants has cusine_type non missing?\n",
    "restaurant_category.cuisine_type.isna().value_counts()"
   ]
  },
  {
   "cell_type": "code",
   "execution_count": null,
   "id": "ec082ac0",
   "metadata": {},
   "outputs": [],
   "source": [
    "# what are the most popular cuisine type?\n",
    "categories_df.cuisine_type.value_counts(sort = True).plot(kind = 'bar')"
   ]
  },
  {
   "cell_type": "code",
   "execution_count": null,
   "id": "d353f8f4",
   "metadata": {},
   "outputs": [],
   "source": [
    "categories_df.cuisine_type.value_counts(normalize = True, sort = True)"
   ]
  },
  {
   "cell_type": "code",
   "execution_count": null,
   "id": "e9229ff9",
   "metadata": {},
   "outputs": [],
   "source": [
    "chart = sns.displot(restaurant_category, x = 'cuisine_type', col = 'city')\n",
    "chart.set_xticklabels(rotation = 90)"
   ]
  },
  {
   "cell_type": "code",
   "execution_count": null,
   "id": "20ad716c",
   "metadata": {},
   "outputs": [],
   "source": [
    "chart = sns.catplot(x = 'cuisine_type', y = 'is_open', kind = 'bar', data = restaurant_category)\n",
    "chart.set_xticklabels(rotation = 90)"
   ]
  },
  {
   "cell_type": "code",
   "execution_count": null,
   "id": "9c4f9863",
   "metadata": {},
   "outputs": [],
   "source": [
    "chart = sns.catplot(x = 'cuisine_type', y = 'is_open', kind = 'bar', col = 'city', data = restaurant_category)\n",
    "chart.set_xticklabels(rotation = 90)"
   ]
  },
  {
   "cell_type": "code",
   "execution_count": null,
   "id": "d4a769cd",
   "metadata": {},
   "outputs": [],
   "source": [
    "restaurant_category.loc[~restaurant_category['hi_transmission_risk'].isna(), 'hi_risk'] = 1\n",
    "restaurant_category.loc[restaurant_category['hi_transmission_risk'].isna(), 'hi_risk'] = 0"
   ]
  },
  {
   "cell_type": "code",
   "execution_count": null,
   "id": "d4af0863",
   "metadata": {},
   "outputs": [],
   "source": [
    "restaurant_category['hi_risk'].value_counts(dropna = False)"
   ]
  },
  {
   "cell_type": "code",
   "execution_count": null,
   "id": "bf700aab",
   "metadata": {},
   "outputs": [],
   "source": [
    "sns.catplot(x = 'hi_risk', y = 'is_open', kind = 'bar', data = restaurant_category)\n",
    "plt.title('Proportion of open: high vs. low tranmission risk restaurants')"
   ]
  },
  {
   "cell_type": "markdown",
   "id": "b5ef4780",
   "metadata": {},
   "source": [
    "### Food type"
   ]
  },
  {
   "cell_type": "code",
   "execution_count": null,
   "id": "065ad7a1",
   "metadata": {},
   "outputs": [],
   "source": [
    "# How many restaurants has cusine_type non missing?\n",
    "restaurant_category.food_type.isna().value_counts(normalize = True)"
   ]
  },
  {
   "cell_type": "code",
   "execution_count": null,
   "id": "dfb35b3f",
   "metadata": {},
   "outputs": [],
   "source": [
    "# what are the most popular food type?\n",
    "categories_df.food_type.value_counts(sort = True).plot(kind = 'bar')"
   ]
  },
  {
   "cell_type": "code",
   "execution_count": null,
   "id": "de017907",
   "metadata": {},
   "outputs": [],
   "source": [
    "categories_df.food_type.value_counts(normalize = True, sort = True)"
   ]
  },
  {
   "cell_type": "code",
   "execution_count": null,
   "id": "f9a593e7",
   "metadata": {},
   "outputs": [],
   "source": [
    "13+12+12"
   ]
  },
  {
   "cell_type": "markdown",
   "id": "ab0b02a1",
   "metadata": {},
   "source": [
    "### Atmosphere type"
   ]
  },
  {
   "cell_type": "code",
   "execution_count": null,
   "id": "0cff7b7c",
   "metadata": {},
   "outputs": [],
   "source": [
    "# How many restaurants has atmosphere_type non missing?\n",
    "restaurant_category.atmosphere_type.isna().value_counts(normalize = True)"
   ]
  },
  {
   "cell_type": "code",
   "execution_count": null,
   "id": "b65599e8",
   "metadata": {},
   "outputs": [],
   "source": [
    "# what are the most popular food type?\n",
    "categories_df.atmosphere_type.value_counts(sort = True).plot(kind = 'bar')"
   ]
  },
  {
   "cell_type": "markdown",
   "id": "aef5e32a",
   "metadata": {},
   "source": [
    "# Maps of 'is_open' "
   ]
  },
  {
   "cell_type": "code",
   "execution_count": null,
   "id": "7123aefd",
   "metadata": {},
   "outputs": [],
   "source": [
    "folium_map = folium.Map()"
   ]
  },
  {
   "cell_type": "code",
   "execution_count": null,
   "id": "d3095f8f",
   "metadata": {},
   "outputs": [],
   "source": [
    "lat_log_open_yes = restaurant_df.loc[ restaurant_df['is_open']==1, [\"latitude\",\"longitude\" ] ]\n",
    "lat_log_open_no = restaurant_df.loc[ restaurant_df['is_open']==0, [\"latitude\",\"longitude\" ] ]"
   ]
  },
  {
   "cell_type": "markdown",
   "id": "3e1f7e95",
   "metadata": {},
   "source": [
    "#### Atlanta"
   ]
  },
  {
   "cell_type": "code",
   "execution_count": null,
   "id": "2e3d5725",
   "metadata": {},
   "outputs": [],
   "source": [
    "atlanta_coords = [33.749,-84.388] # lat, long\n",
    "folium_map = folium.Map(location=atlanta_coords, zoom_start=12)\n",
    "folium_map"
   ]
  },
  {
   "cell_type": "code",
   "execution_count": null,
   "id": "65fdb14a",
   "metadata": {},
   "outputs": [],
   "source": [
    "atlanta_coords = [33.749,-84.388] # lat, long\n",
    "\n",
    "folium_map = folium.Map(location=atlanta_coords,\n",
    "                        zoom_start=12,\n",
    "                        tiles=\"CartoDB positron\")\n",
    "\n",
    "for i in range(len(lat_log_open_yes)):\n",
    "    marker = folium.CircleMarker(location=[lat_log_open_yes[\"latitude\"].iloc[i],lat_log_open_yes[\"longitude\"].iloc[i]],radius=5,color=\"blue\",\n",
    "                                 weight = 1.0, fill=True)\n",
    "    marker.add_to(folium_map)\n",
    "\n",
    "for i in range(len(lat_log_open_no)):\n",
    "    marker = folium.CircleMarker(location=[lat_log_open_no[\"latitude\"].iloc[i],lat_log_open_no[\"longitude\"].iloc[i]],radius=5,color=\"red\",\n",
    "                                 weight = 1.0, fill=True)\n",
    "    marker.add_to(folium_map)\n",
    "\n",
    "folium_map"
   ]
  },
  {
   "cell_type": "markdown",
   "id": "64039967",
   "metadata": {},
   "source": [
    "#### Portland"
   ]
  },
  {
   "cell_type": "code",
   "execution_count": null,
   "id": "bed94ad5",
   "metadata": {},
   "outputs": [],
   "source": [
    "portland_coords = [45.515,-122.678]\n",
    "folium_map = folium.Map(location=portland_coords, zoom_start=13)\n",
    "folium_map"
   ]
  },
  {
   "cell_type": "code",
   "execution_count": null,
   "id": "36cbc6ae",
   "metadata": {
    "scrolled": true
   },
   "outputs": [],
   "source": [
    "folium_map = folium.Map(location=portland_coords,\n",
    "                        zoom_start=12,\n",
    "                        tiles=\"CartoDB positron\")\n",
    "\n",
    "for i in range(len(lat_log_open_yes)):\n",
    "    marker = folium.CircleMarker(location=[lat_log_open_yes[\"latitude\"].iloc[i],lat_log_open_yes[\"longitude\"].iloc[i]],radius=5,\n",
    "                                 weight = 1.0, color=\"blue\",fill=True)\n",
    "    marker.add_to(folium_map)\n",
    "\n",
    "for i in range(len(lat_log_open_no)):\n",
    "    marker = folium.CircleMarker(location=[lat_log_open_no[\"latitude\"].iloc[i],lat_log_open_no[\"longitude\"].iloc[i]],radius=5,\n",
    "                                 weight=1.0, color=\"red\",fill=True)\n",
    "    marker.add_to(folium_map)\n",
    "\n",
    "folium_map"
   ]
  },
  {
   "cell_type": "markdown",
   "id": "82d52cf3",
   "metadata": {},
   "source": [
    "#### Boston"
   ]
  },
  {
   "cell_type": "code",
   "execution_count": null,
   "id": "a860b8bc",
   "metadata": {},
   "outputs": [],
   "source": [
    "boston_coords = [42.360,-71.059] \n",
    "folium_map = folium.Map(location=boston_coords, zoom_start=12)\n",
    "folium_map"
   ]
  },
  {
   "cell_type": "code",
   "execution_count": null,
   "id": "0cdbb77f",
   "metadata": {},
   "outputs": [],
   "source": [
    "folium_map = folium.Map(location=boston_coords,\n",
    "                        zoom_start=13,\n",
    "                        tiles=\"CartoDB positron\")\n",
    "\n",
    "for i in range(len(lat_log_open_yes)):\n",
    "    marker = folium.CircleMarker(location=[lat_log_open_yes[\"latitude\"].iloc[i],lat_log_open_yes[\"longitude\"].iloc[i]],radius=5,\n",
    "                                 weight = 1.0, color=\"blue\",fill=True)\n",
    "    marker.add_to(folium_map)\n",
    "\n",
    "for i in range(len(lat_log_open_no)):\n",
    "    marker = folium.CircleMarker(location=[lat_log_open_no[\"latitude\"].iloc[i],lat_log_open_no[\"longitude\"].iloc[i]],radius=5,\n",
    "                                 weight=1.0, color=\"red\",fill=True)\n",
    "    marker.add_to(folium_map)\n",
    "\n",
    "folium_map"
   ]
  },
  {
   "cell_type": "markdown",
   "id": "c0d10078",
   "metadata": {},
   "source": [
    "#### Austin"
   ]
  },
  {
   "cell_type": "code",
   "execution_count": null,
   "id": "4c290389",
   "metadata": {},
   "outputs": [],
   "source": [
    "austin_coords = [30.267,-97.743]\n",
    "folium_map = folium.Map(location=austin_coords, zoom_start=12)\n",
    "folium_map"
   ]
  },
  {
   "cell_type": "code",
   "execution_count": null,
   "id": "f56bdfa7",
   "metadata": {},
   "outputs": [],
   "source": [
    "lat_log_open_yes.shape"
   ]
  },
  {
   "cell_type": "code",
   "execution_count": null,
   "id": "2d9a5258",
   "metadata": {},
   "outputs": [],
   "source": [
    "austin_open = (restaurant_df['is_open']==1) & (restaurant_df['city']=='AUSTIN')\n",
    "austin_close = (restaurant_df['is_open']==0) & (restaurant_df['city']=='AUSTIN')"
   ]
  },
  {
   "cell_type": "code",
   "execution_count": null,
   "id": "dbbdfc57",
   "metadata": {},
   "outputs": [],
   "source": [
    "austin_lat_log_open_yes = restaurant_df.loc[ austin_open, [\"latitude\",\"longitude\" ] ]\n",
    "austin_lat_log_open_no = restaurant_df.loc[ austin_close, [\"latitude\",\"longitude\" ] ]"
   ]
  },
  {
   "cell_type": "code",
   "execution_count": null,
   "id": "72080f51",
   "metadata": {},
   "outputs": [],
   "source": [
    "austin_lat_log_open_yes.shape"
   ]
  },
  {
   "cell_type": "code",
   "execution_count": null,
   "id": "aa94a9fd",
   "metadata": {},
   "outputs": [],
   "source": [
    "folium_map = folium.Map(location=austin_coords,\n",
    "                        zoom_start=12,\n",
    "                        tiles=\"CartoDB positron\")\n",
    "\n",
    "for i in range(len(austin_lat_log_open_yes)):\n",
    "    marker = folium.CircleMarker(location=[austin_lat_log_open_yes[\"latitude\"].iloc[i],austin_lat_log_open_yes[\"longitude\"].iloc[i]],radius=5,\n",
    "                                 weight = 1.0, color=\"blue\",fill=True)\n",
    "    marker.add_to(folium_map)\n",
    "\n",
    "for i in range(len(austin_lat_log_open_no)):\n",
    "    marker = folium.CircleMarker(location=[austin_lat_log_open_no[\"latitude\"].iloc[i],austin_lat_log_open_no[\"longitude\"].iloc[i]],radius=5,\n",
    "                                 weight=1.0, color=\"red\",fill=True)\n",
    "    marker.add_to(folium_map)\n",
    "\n",
    "folium_map"
   ]
  },
  {
   "cell_type": "markdown",
   "id": "41d5e7a9",
   "metadata": {},
   "source": [
    "#### Orlando"
   ]
  },
  {
   "cell_type": "code",
   "execution_count": null,
   "id": "dc85a7da",
   "metadata": {},
   "outputs": [],
   "source": [
    "orlando_coords = [28.538,-81.379]\n",
    "folium_map = folium.Map(location=orlando_coords, zoom_start=12)\n",
    "folium_map"
   ]
  },
  {
   "cell_type": "code",
   "execution_count": null,
   "id": "63e23edb",
   "metadata": {},
   "outputs": [],
   "source": [
    "folium_map = folium.Map(location=orlando_coords,\n",
    "                        zoom_start=12,\n",
    "                        tiles=\"CartoDB positron\")\n",
    "\n",
    "for i in range(len(lat_log_open_yes)):\n",
    "    marker = folium.CircleMarker(location=[lat_log_open_yes[\"latitude\"].iloc[i],lat_log_open_yes[\"longitude\"].iloc[i]],radius=5,\n",
    "                                 weight = 1.0, color=\"blue\",fill=True)\n",
    "    marker.add_to(folium_map)\n",
    "\n",
    "for i in range(len(lat_log_open_no)):\n",
    "    marker = folium.CircleMarker(location=[lat_log_open_no[\"latitude\"].iloc[i],lat_log_open_no[\"longitude\"].iloc[i]],radius=5,\n",
    "                                 weight=1.0, color=\"red\",fill=True)\n",
    "    marker.add_to(folium_map)\n",
    "\n",
    "folium_map"
   ]
  },
  {
   "cell_type": "markdown",
   "id": "17e4c426",
   "metadata": {},
   "source": [
    "# Map of star reviews"
   ]
  },
  {
   "cell_type": "code",
   "execution_count": null,
   "id": "2fb31fae",
   "metadata": {},
   "outputs": [],
   "source": [
    "my_zip = zip(restaurant_df['latitude'], restaurant_df['longitude'], restaurant_df['stars'])\n",
    "list_of_my_zip = list(my_zip)\n",
    "list_of_my_zip[0:5]"
   ]
  },
  {
   "cell_type": "markdown",
   "id": "85d92cea",
   "metadata": {},
   "source": [
    "#### Atlanta"
   ]
  },
  {
   "cell_type": "code",
   "execution_count": null,
   "id": "f2062198",
   "metadata": {},
   "outputs": [],
   "source": [
    "folium_hmap = folium.Map(location=atlanta_coords, zoom_start=13, tiles=\"CartoDB positron\")\n",
    "\n",
    "hm_layer = HeatMap(list_of_my_zip,\n",
    "                   min_opacity=0.2,\n",
    "                   radius=8,\n",
    "                   blur=6, \n",
    "                 )\n",
    "\n",
    "folium_hmap.add_child(hm_layer)\n",
    "folium_hmap"
   ]
  },
  {
   "cell_type": "markdown",
   "id": "1ccfe07d",
   "metadata": {},
   "source": [
    "#### Portland"
   ]
  },
  {
   "cell_type": "code",
   "execution_count": null,
   "id": "009646cd",
   "metadata": {},
   "outputs": [],
   "source": [
    "folium_hmap = folium.Map(location=portland_coords, zoom_start=13, tiles=\"CartoDB positron\")\n",
    "\n",
    "hm_layer = HeatMap(list_of_my_zip,\n",
    "                   min_opacity=0.2,\n",
    "                   radius=8,\n",
    "                   blur=6, \n",
    "                 )\n",
    "\n",
    "folium_hmap.add_child(hm_layer)\n",
    "folium_hmap"
   ]
  },
  {
   "cell_type": "markdown",
   "id": "f3ad0d89",
   "metadata": {},
   "source": [
    "### Boston"
   ]
  },
  {
   "cell_type": "code",
   "execution_count": null,
   "id": "ca13c5a8",
   "metadata": {},
   "outputs": [],
   "source": [
    "folium_hmap = folium.Map(location=boston_coords, zoom_start=13, tiles=\"CartoDB positron\")\n",
    "\n",
    "hm_layer = HeatMap(list_of_my_zip,\n",
    "                   min_opacity=0.2,\n",
    "                   radius=8,\n",
    "                   blur=6, \n",
    "                 )\n",
    "\n",
    "folium_hmap.add_child(hm_layer)\n",
    "folium_hmap"
   ]
  },
  {
   "cell_type": "markdown",
   "id": "128ddf86",
   "metadata": {},
   "source": [
    "#### Austin"
   ]
  },
  {
   "cell_type": "code",
   "execution_count": null,
   "id": "fe6bcc12",
   "metadata": {},
   "outputs": [],
   "source": [
    "folium_hmap = folium.Map(location=austin_coords, zoom_start=13, tiles=\"CartoDB positron\")\n",
    "\n",
    "hm_layer = HeatMap(list_of_my_zip,\n",
    "                   min_opacity=0.2,\n",
    "                   radius=8,\n",
    "                   blur=6, \n",
    "                 )\n",
    "\n",
    "folium_hmap.add_child(hm_layer)\n",
    "folium_hmap"
   ]
  },
  {
   "cell_type": "markdown",
   "id": "a32dfd66",
   "metadata": {},
   "source": [
    "#### Orlando"
   ]
  },
  {
   "cell_type": "code",
   "execution_count": null,
   "id": "7363aa06",
   "metadata": {},
   "outputs": [],
   "source": [
    "folium_hmap = folium.Map(location=orlando_coords, zoom_start=13, tiles=\"CartoDB positron\")\n",
    "\n",
    "hm_layer = HeatMap(list_of_my_zip,\n",
    "                   min_opacity=0.2,\n",
    "                   radius=8,\n",
    "                   blur=6, \n",
    "                 )\n",
    "\n",
    "folium_hmap.add_child(hm_layer)\n",
    "folium_hmap"
   ]
  },
  {
   "cell_type": "code",
   "execution_count": null,
   "id": "54c7bae5",
   "metadata": {},
   "outputs": [],
   "source": []
  }
 ],
 "metadata": {
  "kernelspec": {
   "display_name": "ds4aw-env",
   "language": "python",
   "name": "ds4aw-env"
  },
  "language_info": {
   "codemirror_mode": {
    "name": "ipython",
    "version": 3
   },
   "file_extension": ".py",
   "mimetype": "text/x-python",
   "name": "python",
   "nbconvert_exporter": "python",
   "pygments_lexer": "ipython3",
   "version": "3.7.11"
  }
 },
 "nbformat": 4,
 "nbformat_minor": 5
}
