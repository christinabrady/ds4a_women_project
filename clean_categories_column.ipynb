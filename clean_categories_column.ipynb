{
 "cells": [
  {
   "cell_type": "markdown",
   "id": "0a412860",
   "metadata": {},
   "source": [
    "# About\n",
    "This notebook is to wrangle `categories` column in `yelp_team7_dataset_restaurant.json`. New columns based on category types were created: \n",
    "* `cuisine_type`\n",
    "* `food_type`\n",
    "* `atmosphere_type`\n",
    "* `dietary_type`\n",
    "\n",
    "These columns and `business_id` were saved in a separate file, `yelp_team7_dataset_categories.json`."
   ]
  },
  {
   "cell_type": "code",
   "execution_count": 1,
   "id": "515eda29",
   "metadata": {},
   "outputs": [
    {
     "name": "stderr",
     "output_type": "stream",
     "text": [
      "/opt/anaconda3/envs/ds4aw-env/lib/python3.7/site-packages/fuzzywuzzy/fuzz.py:11: UserWarning: Using slow pure-python SequenceMatcher. Install python-Levenshtein to remove this warning\n",
      "  warnings.warn('Using slow pure-python SequenceMatcher. Install python-Levenshtein to remove this warning')\n"
     ]
    }
   ],
   "source": [
    "import json\n",
    "import pandas as pd\n",
    "import preprocess"
   ]
  },
  {
   "cell_type": "markdown",
   "id": "df06aea1",
   "metadata": {},
   "source": [
    "# Load restaurant dataset"
   ]
  },
  {
   "cell_type": "code",
   "execution_count": 2,
   "id": "dcac8be8",
   "metadata": {},
   "outputs": [],
   "source": [
    "restaurant_df = pd.read_json('yelp_team7_dataset_restaurant.json')"
   ]
  },
  {
   "cell_type": "code",
   "execution_count": 3,
   "id": "3afba61b",
   "metadata": {},
   "outputs": [
    {
     "data": {
      "text/plain": [
       "(14970, 14)"
      ]
     },
     "execution_count": 3,
     "metadata": {},
     "output_type": "execute_result"
    }
   ],
   "source": [
    "restaurant_df.shape"
   ]
  },
  {
   "cell_type": "markdown",
   "id": "a109c1b7",
   "metadata": {},
   "source": [
    "# Create new columns of category types"
   ]
  },
  {
   "cell_type": "markdown",
   "id": "322db10e",
   "metadata": {},
   "source": [
    "See `categories_mapping.xls` for detailed steps to generate category mapping files used in this section."
   ]
  },
  {
   "cell_type": "code",
   "execution_count": 4,
   "id": "d44409e6",
   "metadata": {},
   "outputs": [],
   "source": [
    "categories = [['categories_mapping_cuisine_type.csv', 'cuisine_type'],\n",
    "              ['categories_mapping_food_type.csv', 'food_type'],\n",
    "              ['categories_mapping_atmosphere_type.csv', 'atmosphere_type'],\n",
    "              ['categories_mapping_dietary_type.csv', 'dietary_type']]"
   ]
  },
  {
   "cell_type": "code",
   "execution_count": 5,
   "id": "1fab98ee",
   "metadata": {},
   "outputs": [],
   "source": [
    "# map the categories column into four new columns of category types\n",
    "for a_type in categories:\n",
    "    preprocess.gen_category_column(restaurant_df, a_type[0], a_type[1])"
   ]
  },
  {
   "cell_type": "code",
   "execution_count": 6,
   "id": "0155606d",
   "metadata": {},
   "outputs": [
    {
     "data": {
      "text/plain": [
       "(14970, 18)"
      ]
     },
     "execution_count": 6,
     "metadata": {},
     "output_type": "execute_result"
    }
   ],
   "source": [
    "restaurant_df.shape"
   ]
  },
  {
   "cell_type": "code",
   "execution_count": null,
   "id": "4f2733a1",
   "metadata": {},
   "outputs": [],
   "source": []
  }
 ],
 "metadata": {
  "kernelspec": {
   "display_name": "ds4aw-env",
   "language": "python",
   "name": "ds4aw-env"
  },
  "language_info": {
   "codemirror_mode": {
    "name": "ipython",
    "version": 3
   },
   "file_extension": ".py",
   "mimetype": "text/x-python",
   "name": "python",
   "nbconvert_exporter": "python",
   "pygments_lexer": "ipython3",
   "version": "3.7.11"
  }
 },
 "nbformat": 4,
 "nbformat_minor": 5
}
