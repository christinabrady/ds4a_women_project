{
 "cells": [
  {
   "cell_type": "markdown",
   "id": "0a412860",
   "metadata": {},
   "source": [
    "# About\n",
    "This notebook is to wrangle `categories` column in `yelp_team7_dataset_restaurant.json`. New columns based on category types were created: \n",
    "* `cuisine_type`\n",
    "* `food_type`\n",
    "* `atmosphere_type`\n",
    "* `dietary_type`\n",
    "* `hi_transmission_risk`\n",
    "\n",
    "These columns and `business_id` were saved in a separate file, `yelp_team7_dataset_categories.json`."
   ]
  },
  {
   "cell_type": "code",
   "execution_count": 1,
   "id": "515eda29",
   "metadata": {},
   "outputs": [
    {
     "name": "stderr",
     "output_type": "stream",
     "text": [
      "/opt/anaconda3/envs/ds4aw-env/lib/python3.7/site-packages/fuzzywuzzy/fuzz.py:11: UserWarning: Using slow pure-python SequenceMatcher. Install python-Levenshtein to remove this warning\n",
      "  warnings.warn('Using slow pure-python SequenceMatcher. Install python-Levenshtein to remove this warning')\n"
     ]
    }
   ],
   "source": [
    "import json\n",
    "import pandas as pd\n",
    "import preprocess"
   ]
  },
  {
   "cell_type": "markdown",
   "id": "df06aea1",
   "metadata": {},
   "source": [
    "# Load restaurant dataset"
   ]
  },
  {
   "cell_type": "code",
   "execution_count": 2,
   "id": "dcac8be8",
   "metadata": {},
   "outputs": [],
   "source": [
    "restaurant_df = pd.read_json('yelp_team7_dataset_restaurant.json')"
   ]
  },
  {
   "cell_type": "code",
   "execution_count": 3,
   "id": "3afba61b",
   "metadata": {},
   "outputs": [
    {
     "data": {
      "text/plain": [
       "(14970, 14)"
      ]
     },
     "execution_count": 3,
     "metadata": {},
     "output_type": "execute_result"
    }
   ],
   "source": [
    "restaurant_df.shape"
   ]
  },
  {
   "cell_type": "markdown",
   "id": "a109c1b7",
   "metadata": {},
   "source": [
    "# Create new columns of category types"
   ]
  },
  {
   "cell_type": "markdown",
   "id": "322db10e",
   "metadata": {},
   "source": [
    "See `categories_mapping.xls` for detailed steps to generate category mapping files used in this section."
   ]
  },
  {
   "cell_type": "code",
   "execution_count": 4,
   "id": "d44409e6",
   "metadata": {},
   "outputs": [],
   "source": [
    "categories = [['categories_mapping_cuisine_type.csv', 'cuisine_type'],\n",
    "              ['categories_mapping_food_type.csv', 'food_type'],\n",
    "              ['categories_mapping_atmosphere_type.csv', 'atmosphere_type'],\n",
    "              ['categories_mapping_dietary_type.csv', 'dietary_type'],\n",
    "              ['categories_mapping_transmission_risk.csv', 'hi_transmission_risk']]"
   ]
  },
  {
   "cell_type": "code",
   "execution_count": 5,
   "id": "1fab98ee",
   "metadata": {},
   "outputs": [],
   "source": [
    "# map the categories column into four new columns of category types\n",
    "for a_type in categories:\n",
    "    preprocess.gen_category_column(restaurant_df, a_type[0], a_type[1])"
   ]
  },
  {
   "cell_type": "code",
   "execution_count": 6,
   "id": "0155606d",
   "metadata": {},
   "outputs": [
    {
     "data": {
      "text/plain": [
       "(14970, 19)"
      ]
     },
     "execution_count": 6,
     "metadata": {},
     "output_type": "execute_result"
    }
   ],
   "source": [
    "restaurant_df.shape"
   ]
  },
  {
   "cell_type": "code",
   "execution_count": 7,
   "id": "4f2733a1",
   "metadata": {},
   "outputs": [],
   "source": [
    "# check for observations with missing values in all category types\n",
    "missing_cuisine_type = restaurant_df.cuisine_type.isna()\n",
    "missing_food_type = restaurant_df.food_type.isna()\n",
    "missing_atmosphere_type = restaurant_df.atmosphere_type.isna()\n",
    "missing_dietary_type = restaurant_df.dietary_type.isna()\n",
    "missing_transmission_risk = restaurant_df.hi_transmission_risk.isna()\n",
    "missing_all = (missing_cuisine_type & missing_food_type & missing_atmosphere_type & \n",
    "               missing_dietary_type & missing_transmission_risk)\n",
    "no_category_types = restaurant_df[missing_all]"
   ]
  },
  {
   "cell_type": "code",
   "execution_count": 8,
   "id": "6f1994a4",
   "metadata": {},
   "outputs": [
    {
     "data": {
      "text/html": [
       "<div>\n",
       "<style scoped>\n",
       "    .dataframe tbody tr th:only-of-type {\n",
       "        vertical-align: middle;\n",
       "    }\n",
       "\n",
       "    .dataframe tbody tr th {\n",
       "        vertical-align: top;\n",
       "    }\n",
       "\n",
       "    .dataframe thead th {\n",
       "        text-align: right;\n",
       "    }\n",
       "</style>\n",
       "<table border=\"1\" class=\"dataframe\">\n",
       "  <thead>\n",
       "    <tr style=\"text-align: right;\">\n",
       "      <th></th>\n",
       "      <th>business_id</th>\n",
       "      <th>name</th>\n",
       "      <th>address</th>\n",
       "      <th>city</th>\n",
       "      <th>state</th>\n",
       "      <th>postal_code</th>\n",
       "      <th>latitude</th>\n",
       "      <th>longitude</th>\n",
       "      <th>stars</th>\n",
       "      <th>review_count</th>\n",
       "      <th>is_open</th>\n",
       "      <th>attributes</th>\n",
       "      <th>categories</th>\n",
       "      <th>hours</th>\n",
       "      <th>cuisine_type</th>\n",
       "      <th>food_type</th>\n",
       "      <th>atmosphere_type</th>\n",
       "      <th>dietary_type</th>\n",
       "      <th>hi_transmission_risk</th>\n",
       "    </tr>\n",
       "  </thead>\n",
       "  <tbody>\n",
       "    <tr>\n",
       "      <th>1018</th>\n",
       "      <td>vzyplzkOTTBAgjVJtBA5Qg</td>\n",
       "      <td>Northcreek Cafe</td>\n",
       "      <td>3715 Northside Pkwy NW</td>\n",
       "      <td>ATLANTA</td>\n",
       "      <td>GA</td>\n",
       "      <td>30327</td>\n",
       "      <td>33.857038</td>\n",
       "      <td>-84.429692</td>\n",
       "      <td>4.5</td>\n",
       "      <td>6</td>\n",
       "      <td>1</td>\n",
       "      <td>{'Alcohol': 'u'none'', 'HasTV': 'True', 'Busin...</td>\n",
       "      <td>Restaurants</td>\n",
       "      <td>None</td>\n",
       "      <td>NaN</td>\n",
       "      <td>NaN</td>\n",
       "      <td>NaN</td>\n",
       "      <td>NaN</td>\n",
       "      <td>NaN</td>\n",
       "    </tr>\n",
       "    <tr>\n",
       "      <th>1115</th>\n",
       "      <td>kJRZuKXMY3pqfunLCzEG7Q</td>\n",
       "      <td>Au Bon Pain</td>\n",
       "      <td>75 Federal St</td>\n",
       "      <td>BOSTON</td>\n",
       "      <td>MA</td>\n",
       "      <td>02110</td>\n",
       "      <td>42.355071</td>\n",
       "      <td>-71.056717</td>\n",
       "      <td>3.0</td>\n",
       "      <td>6</td>\n",
       "      <td>0</td>\n",
       "      <td>{'RestaurantsTakeOut': 'True', 'GoodForKids': ...</td>\n",
       "      <td>Restaurants</td>\n",
       "      <td>None</td>\n",
       "      <td>NaN</td>\n",
       "      <td>NaN</td>\n",
       "      <td>NaN</td>\n",
       "      <td>NaN</td>\n",
       "      <td>NaN</td>\n",
       "    </tr>\n",
       "    <tr>\n",
       "      <th>1360</th>\n",
       "      <td>EXOsmAB1s71WePlQk0WZrA</td>\n",
       "      <td>Linwood Grill &amp; BBQ Restaurant</td>\n",
       "      <td>69 Kilmarnock St</td>\n",
       "      <td>BOSTON</td>\n",
       "      <td>MA</td>\n",
       "      <td>02215</td>\n",
       "      <td>42.342541</td>\n",
       "      <td>-71.099522</td>\n",
       "      <td>2.5</td>\n",
       "      <td>14</td>\n",
       "      <td>0</td>\n",
       "      <td>{'RestaurantsAttire': ''casual'', 'BusinessPar...</td>\n",
       "      <td>Restaurants</td>\n",
       "      <td>None</td>\n",
       "      <td>NaN</td>\n",
       "      <td>NaN</td>\n",
       "      <td>NaN</td>\n",
       "      <td>NaN</td>\n",
       "      <td>NaN</td>\n",
       "    </tr>\n",
       "    <tr>\n",
       "      <th>1450</th>\n",
       "      <td>OC2bWcsJqhBHKowi8smMgw</td>\n",
       "      <td>Tiger Lily</td>\n",
       "      <td>8 Westland Ave</td>\n",
       "      <td>BOSTON</td>\n",
       "      <td>MA</td>\n",
       "      <td>02115</td>\n",
       "      <td>42.343153</td>\n",
       "      <td>-71.086494</td>\n",
       "      <td>2.5</td>\n",
       "      <td>28</td>\n",
       "      <td>0</td>\n",
       "      <td>{'RestaurantsAttire': ''casual'', 'Restaurants...</td>\n",
       "      <td>Restaurants</td>\n",
       "      <td>None</td>\n",
       "      <td>NaN</td>\n",
       "      <td>NaN</td>\n",
       "      <td>NaN</td>\n",
       "      <td>NaN</td>\n",
       "      <td>NaN</td>\n",
       "    </tr>\n",
       "    <tr>\n",
       "      <th>1857</th>\n",
       "      <td>XVjsDe9cncy0s-K5kb6qAQ</td>\n",
       "      <td>City Grill</td>\n",
       "      <td>50 Hurt Plz SE Ste 200</td>\n",
       "      <td>ATLANTA</td>\n",
       "      <td>GA</td>\n",
       "      <td>30303</td>\n",
       "      <td>33.754129</td>\n",
       "      <td>-84.387210</td>\n",
       "      <td>3.5</td>\n",
       "      <td>7</td>\n",
       "      <td>0</td>\n",
       "      <td>{'BusinessAcceptsCreditCards': 'True', 'Restau...</td>\n",
       "      <td>Restaurants</td>\n",
       "      <td>None</td>\n",
       "      <td>NaN</td>\n",
       "      <td>NaN</td>\n",
       "      <td>NaN</td>\n",
       "      <td>NaN</td>\n",
       "      <td>NaN</td>\n",
       "    </tr>\n",
       "  </tbody>\n",
       "</table>\n",
       "</div>"
      ],
      "text/plain": [
       "                 business_id                            name  \\\n",
       "1018  vzyplzkOTTBAgjVJtBA5Qg                 Northcreek Cafe   \n",
       "1115  kJRZuKXMY3pqfunLCzEG7Q                     Au Bon Pain   \n",
       "1360  EXOsmAB1s71WePlQk0WZrA  Linwood Grill & BBQ Restaurant   \n",
       "1450  OC2bWcsJqhBHKowi8smMgw                      Tiger Lily   \n",
       "1857  XVjsDe9cncy0s-K5kb6qAQ                      City Grill   \n",
       "\n",
       "                     address     city state postal_code   latitude  longitude  \\\n",
       "1018  3715 Northside Pkwy NW  ATLANTA    GA       30327  33.857038 -84.429692   \n",
       "1115           75 Federal St   BOSTON    MA       02110  42.355071 -71.056717   \n",
       "1360        69 Kilmarnock St   BOSTON    MA       02215  42.342541 -71.099522   \n",
       "1450          8 Westland Ave   BOSTON    MA       02115  42.343153 -71.086494   \n",
       "1857  50 Hurt Plz SE Ste 200  ATLANTA    GA       30303  33.754129 -84.387210   \n",
       "\n",
       "      stars  review_count  is_open  \\\n",
       "1018    4.5             6        1   \n",
       "1115    3.0             6        0   \n",
       "1360    2.5            14        0   \n",
       "1450    2.5            28        0   \n",
       "1857    3.5             7        0   \n",
       "\n",
       "                                             attributes   categories hours  \\\n",
       "1018  {'Alcohol': 'u'none'', 'HasTV': 'True', 'Busin...  Restaurants  None   \n",
       "1115  {'RestaurantsTakeOut': 'True', 'GoodForKids': ...  Restaurants  None   \n",
       "1360  {'RestaurantsAttire': ''casual'', 'BusinessPar...  Restaurants  None   \n",
       "1450  {'RestaurantsAttire': ''casual'', 'Restaurants...  Restaurants  None   \n",
       "1857  {'BusinessAcceptsCreditCards': 'True', 'Restau...  Restaurants  None   \n",
       "\n",
       "     cuisine_type food_type atmosphere_type dietary_type hi_transmission_risk  \n",
       "1018          NaN       NaN             NaN          NaN                  NaN  \n",
       "1115          NaN       NaN             NaN          NaN                  NaN  \n",
       "1360          NaN       NaN             NaN          NaN                  NaN  \n",
       "1450          NaN       NaN             NaN          NaN                  NaN  \n",
       "1857          NaN       NaN             NaN          NaN                  NaN  "
      ]
     },
     "execution_count": 8,
     "metadata": {},
     "output_type": "execute_result"
    }
   ],
   "source": [
    "no_category_types.head()"
   ]
  },
  {
   "cell_type": "code",
   "execution_count": 9,
   "id": "c72c9314",
   "metadata": {},
   "outputs": [
    {
     "data": {
      "text/plain": [
       "Restaurants                                       77\n",
       "Restaurants, Comfort Food                          1\n",
       "Specialty Food, Restaurants, Food, Ethnic Food     1\n",
       "Name: categories, dtype: int64"
      ]
     },
     "execution_count": 9,
     "metadata": {},
     "output_type": "execute_result"
    }
   ],
   "source": [
    "no_category_types.categories.value_counts()"
   ]
  },
  {
   "cell_type": "markdown",
   "id": "b322349a",
   "metadata": {},
   "source": [
    "# Clean and export"
   ]
  },
  {
   "cell_type": "code",
   "execution_count": 10,
   "id": "89947571",
   "metadata": {},
   "outputs": [],
   "source": [
    "# keep only restaurants that have at least one category type \n",
    "# (i.e., remove restaurants that have missing values in all category types)\n",
    "columns = ['business_id','cuisine_type', 'food_type', 'atmosphere_type', 'dietary_type', 'hi_transmission_risk']\n",
    "categories_df = restaurant_df[~missing_all][columns]"
   ]
  },
  {
   "cell_type": "code",
   "execution_count": 11,
   "id": "96f993c5",
   "metadata": {},
   "outputs": [
    {
     "data": {
      "text/plain": [
       "(14891, 6)"
      ]
     },
     "execution_count": 11,
     "metadata": {},
     "output_type": "execute_result"
    }
   ],
   "source": [
    "categories_df.shape"
   ]
  },
  {
   "cell_type": "code",
   "execution_count": 12,
   "id": "140cbea1",
   "metadata": {},
   "outputs": [
    {
     "data": {
      "text/html": [
       "<div>\n",
       "<style scoped>\n",
       "    .dataframe tbody tr th:only-of-type {\n",
       "        vertical-align: middle;\n",
       "    }\n",
       "\n",
       "    .dataframe tbody tr th {\n",
       "        vertical-align: top;\n",
       "    }\n",
       "\n",
       "    .dataframe thead th {\n",
       "        text-align: right;\n",
       "    }\n",
       "</style>\n",
       "<table border=\"1\" class=\"dataframe\">\n",
       "  <thead>\n",
       "    <tr style=\"text-align: right;\">\n",
       "      <th></th>\n",
       "      <th>business_id</th>\n",
       "      <th>cuisine_type</th>\n",
       "      <th>food_type</th>\n",
       "      <th>atmosphere_type</th>\n",
       "      <th>dietary_type</th>\n",
       "      <th>hi_transmission_risk</th>\n",
       "    </tr>\n",
       "  </thead>\n",
       "  <tbody>\n",
       "    <tr>\n",
       "      <th>0</th>\n",
       "      <td>tCbdrRPZA0oiIYSmHG3J0w</td>\n",
       "      <td>NaN</td>\n",
       "      <td>Salad</td>\n",
       "      <td>Delis</td>\n",
       "      <td>Vegetarian</td>\n",
       "      <td>NaN</td>\n",
       "    </tr>\n",
       "    <tr>\n",
       "      <th>1</th>\n",
       "      <td>ufCxltuh56FF4-ZFZ6cVhg</td>\n",
       "      <td>American</td>\n",
       "      <td>Bakeries</td>\n",
       "      <td>NaN</td>\n",
       "      <td>NaN</td>\n",
       "      <td>NaN</td>\n",
       "    </tr>\n",
       "    <tr>\n",
       "      <th>2</th>\n",
       "      <td>jGennaZUr2MsJyRhijNBfA</td>\n",
       "      <td>Italian</td>\n",
       "      <td>Sandwiches &amp; Wraps</td>\n",
       "      <td>Bars related</td>\n",
       "      <td>Gluten-Free</td>\n",
       "      <td>Bars related</td>\n",
       "    </tr>\n",
       "    <tr>\n",
       "      <th>3</th>\n",
       "      <td>iPD8BBvea6YldQZPHzVrSQ</td>\n",
       "      <td>NaN</td>\n",
       "      <td>Desserts</td>\n",
       "      <td>NaN</td>\n",
       "      <td>NaN</td>\n",
       "      <td>NaN</td>\n",
       "    </tr>\n",
       "    <tr>\n",
       "      <th>4</th>\n",
       "      <td>jx91IMdGOmLOo8h_F9z39g</td>\n",
       "      <td>NaN</td>\n",
       "      <td>Sandwiches &amp; Wraps</td>\n",
       "      <td>NaN</td>\n",
       "      <td>NaN</td>\n",
       "      <td>Nightlife</td>\n",
       "    </tr>\n",
       "    <tr>\n",
       "      <th>...</th>\n",
       "      <td>...</td>\n",
       "      <td>...</td>\n",
       "      <td>...</td>\n",
       "      <td>...</td>\n",
       "      <td>...</td>\n",
       "      <td>...</td>\n",
       "    </tr>\n",
       "    <tr>\n",
       "      <th>14965</th>\n",
       "      <td>m5eUPVD0Hu39Ff-Uqe-FLA</td>\n",
       "      <td>Italian</td>\n",
       "      <td>NaN</td>\n",
       "      <td>NaN</td>\n",
       "      <td>NaN</td>\n",
       "      <td>NaN</td>\n",
       "    </tr>\n",
       "    <tr>\n",
       "      <th>14966</th>\n",
       "      <td>87f7kR7nTz8WHnmtLM_S6w</td>\n",
       "      <td>Japanese</td>\n",
       "      <td>NaN</td>\n",
       "      <td>Bars related</td>\n",
       "      <td>NaN</td>\n",
       "      <td>Bars related</td>\n",
       "    </tr>\n",
       "    <tr>\n",
       "      <th>14967</th>\n",
       "      <td>jYgqSazE0gUyI7qq086Dzw</td>\n",
       "      <td>American</td>\n",
       "      <td>Steakhouses</td>\n",
       "      <td>NaN</td>\n",
       "      <td>NaN</td>\n",
       "      <td>Event Planning &amp; Services</td>\n",
       "    </tr>\n",
       "    <tr>\n",
       "      <th>14968</th>\n",
       "      <td>r5Uag1JqYjr2nbxQCVqm8A</td>\n",
       "      <td>Vietnamese</td>\n",
       "      <td>Noodles related</td>\n",
       "      <td>NaN</td>\n",
       "      <td>Vegetarian</td>\n",
       "      <td>NaN</td>\n",
       "    </tr>\n",
       "    <tr>\n",
       "      <th>14969</th>\n",
       "      <td>uXdQkuEtvLAzfc3MsO-sTQ</td>\n",
       "      <td>Mexican</td>\n",
       "      <td>NaN</td>\n",
       "      <td>NaN</td>\n",
       "      <td>NaN</td>\n",
       "      <td>NaN</td>\n",
       "    </tr>\n",
       "  </tbody>\n",
       "</table>\n",
       "<p>14891 rows × 6 columns</p>\n",
       "</div>"
      ],
      "text/plain": [
       "                  business_id cuisine_type           food_type  \\\n",
       "0      tCbdrRPZA0oiIYSmHG3J0w          NaN               Salad   \n",
       "1      ufCxltuh56FF4-ZFZ6cVhg     American            Bakeries   \n",
       "2      jGennaZUr2MsJyRhijNBfA      Italian  Sandwiches & Wraps   \n",
       "3      iPD8BBvea6YldQZPHzVrSQ          NaN            Desserts   \n",
       "4      jx91IMdGOmLOo8h_F9z39g          NaN  Sandwiches & Wraps   \n",
       "...                       ...          ...                 ...   \n",
       "14965  m5eUPVD0Hu39Ff-Uqe-FLA      Italian                 NaN   \n",
       "14966  87f7kR7nTz8WHnmtLM_S6w     Japanese                 NaN   \n",
       "14967  jYgqSazE0gUyI7qq086Dzw     American         Steakhouses   \n",
       "14968  r5Uag1JqYjr2nbxQCVqm8A   Vietnamese     Noodles related   \n",
       "14969  uXdQkuEtvLAzfc3MsO-sTQ      Mexican                 NaN   \n",
       "\n",
       "      atmosphere_type dietary_type       hi_transmission_risk  \n",
       "0               Delis   Vegetarian                        NaN  \n",
       "1                 NaN          NaN                        NaN  \n",
       "2        Bars related  Gluten-Free               Bars related  \n",
       "3                 NaN          NaN                        NaN  \n",
       "4                 NaN          NaN                  Nightlife  \n",
       "...               ...          ...                        ...  \n",
       "14965             NaN          NaN                        NaN  \n",
       "14966    Bars related          NaN               Bars related  \n",
       "14967             NaN          NaN  Event Planning & Services  \n",
       "14968             NaN   Vegetarian                        NaN  \n",
       "14969             NaN          NaN                        NaN  \n",
       "\n",
       "[14891 rows x 6 columns]"
      ]
     },
     "execution_count": 12,
     "metadata": {},
     "output_type": "execute_result"
    }
   ],
   "source": [
    "categories_df"
   ]
  },
  {
   "cell_type": "code",
   "execution_count": 13,
   "id": "1e419a50",
   "metadata": {},
   "outputs": [],
   "source": [
    "categories_df.to_json(r'yelp_team7_dataset_category.json')"
   ]
  }
 ],
 "metadata": {
  "kernelspec": {
   "display_name": "ds4aw-env",
   "language": "python",
   "name": "ds4aw-env"
  },
  "language_info": {
   "codemirror_mode": {
    "name": "ipython",
    "version": 3
   },
   "file_extension": ".py",
   "mimetype": "text/x-python",
   "name": "python",
   "nbconvert_exporter": "python",
   "pygments_lexer": "ipython3",
   "version": "3.7.11"
  }
 },
 "nbformat": 4,
 "nbformat_minor": 5
}
