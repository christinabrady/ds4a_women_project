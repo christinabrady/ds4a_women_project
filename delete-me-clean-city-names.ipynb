{
 "cells": [
  {
   "cell_type": "markdown",
   "id": "cd2eabe5",
   "metadata": {},
   "source": [
    "# About"
   ]
  },
  {
   "cell_type": "markdown",
   "id": "965c718b",
   "metadata": {},
   "source": [
    "This notebook is to sketch cleaning city names. To be deleted after related functions are incorporated into `preprocess.py` ."
   ]
  },
  {
   "cell_type": "code",
   "execution_count": 43,
   "id": "9b4a0a6c",
   "metadata": {},
   "outputs": [
    {
     "name": "stdout",
     "output_type": "stream",
     "text": [
      "Collecting fuzzywuzzy\n",
      "  Downloading fuzzywuzzy-0.18.0-py2.py3-none-any.whl (18 kB)\n",
      "Installing collected packages: fuzzywuzzy\n",
      "Successfully installed fuzzywuzzy-0.18.0\n",
      "Note: you may need to restart the kernel to use updated packages.\n"
     ]
    }
   ],
   "source": [
    "#pip install fuzzywuzzy"
   ]
  },
  {
   "cell_type": "code",
   "execution_count": 1,
   "id": "29fcfcc1",
   "metadata": {},
   "outputs": [
    {
     "name": "stderr",
     "output_type": "stream",
     "text": [
      "/opt/anaconda3/envs/ds4aw-env/lib/python3.7/site-packages/fuzzywuzzy/fuzz.py:11: UserWarning: Using slow pure-python SequenceMatcher. Install python-Levenshtein to remove this warning\n",
      "  warnings.warn('Using slow pure-python SequenceMatcher. Install python-Levenshtein to remove this warning')\n"
     ]
    }
   ],
   "source": [
    "import json\n",
    "import pandas as pd\n",
    "from fuzzywuzzy import process"
   ]
  },
  {
   "cell_type": "markdown",
   "id": "e3a9f790",
   "metadata": {},
   "source": [
    "# Load restaurant data in the top 5 city"
   ]
  },
  {
   "cell_type": "code",
   "execution_count": 2,
   "id": "77a34c47",
   "metadata": {},
   "outputs": [],
   "source": [
    "restaurant_top5 = pd.read_json('restaurants_top5.json')"
   ]
  },
  {
   "cell_type": "code",
   "execution_count": 3,
   "id": "7409b13c",
   "metadata": {},
   "outputs": [
    {
     "data": {
      "text/plain": [
       "(15478, 14)"
      ]
     },
     "execution_count": 3,
     "metadata": {},
     "output_type": "execute_result"
    }
   ],
   "source": [
    "restaurant_top5.shape"
   ]
  },
  {
   "cell_type": "code",
   "execution_count": 4,
   "id": "305a4032",
   "metadata": {},
   "outputs": [
    {
     "data": {
      "text/html": [
       "<div>\n",
       "<style scoped>\n",
       "    .dataframe tbody tr th:only-of-type {\n",
       "        vertical-align: middle;\n",
       "    }\n",
       "\n",
       "    .dataframe tbody tr th {\n",
       "        vertical-align: top;\n",
       "    }\n",
       "\n",
       "    .dataframe thead th {\n",
       "        text-align: right;\n",
       "    }\n",
       "</style>\n",
       "<table border=\"1\" class=\"dataframe\">\n",
       "  <thead>\n",
       "    <tr style=\"text-align: right;\">\n",
       "      <th></th>\n",
       "      <th>business_id</th>\n",
       "      <th>name</th>\n",
       "      <th>address</th>\n",
       "      <th>city</th>\n",
       "      <th>state</th>\n",
       "      <th>postal_code</th>\n",
       "      <th>latitude</th>\n",
       "      <th>longitude</th>\n",
       "      <th>stars</th>\n",
       "      <th>review_count</th>\n",
       "      <th>is_open</th>\n",
       "      <th>attributes</th>\n",
       "      <th>categories</th>\n",
       "      <th>hours</th>\n",
       "    </tr>\n",
       "  </thead>\n",
       "  <tbody>\n",
       "    <tr>\n",
       "      <th>1</th>\n",
       "      <td>tCbdrRPZA0oiIYSmHG3J0w</td>\n",
       "      <td>Flying Elephants at PDX</td>\n",
       "      <td>7000 NE Airport Way</td>\n",
       "      <td>PORTLAND</td>\n",
       "      <td>OR</td>\n",
       "      <td>97218</td>\n",
       "      <td>45.588906</td>\n",
       "      <td>-122.593331</td>\n",
       "      <td>4.0</td>\n",
       "      <td>126</td>\n",
       "      <td>1</td>\n",
       "      <td>{'RestaurantsTakeOut': 'True', 'RestaurantsAtt...</td>\n",
       "      <td>Salad, Soup, Sandwiches, Delis, Restaurants, C...</td>\n",
       "      <td>{'Monday': '5:0-18:0', 'Tuesday': '5:0-17:0', ...</td>\n",
       "    </tr>\n",
       "    <tr>\n",
       "      <th>13</th>\n",
       "      <td>ufCxltuh56FF4-ZFZ6cVhg</td>\n",
       "      <td>Sister Honey's</td>\n",
       "      <td>247 E Michigan St</td>\n",
       "      <td>ORLANDO</td>\n",
       "      <td>FL</td>\n",
       "      <td>32806</td>\n",
       "      <td>28.513265</td>\n",
       "      <td>-81.374707</td>\n",
       "      <td>4.5</td>\n",
       "      <td>135</td>\n",
       "      <td>1</td>\n",
       "      <td>{'BusinessParking': '{'garage': False, 'street...</td>\n",
       "      <td>Restaurants, American (New), Bakeries, Dessert...</td>\n",
       "      <td>{'Tuesday': '11:0-18:0', 'Wednesday': '11:0-18...</td>\n",
       "    </tr>\n",
       "    <tr>\n",
       "      <th>29</th>\n",
       "      <td>jGennaZUr2MsJyRhijNBfA</td>\n",
       "      <td>Legal Sea Foods</td>\n",
       "      <td>1 Harborside Dr</td>\n",
       "      <td>BOSTON</td>\n",
       "      <td>MA</td>\n",
       "      <td>02128</td>\n",
       "      <td>42.363442</td>\n",
       "      <td>-71.025781</td>\n",
       "      <td>3.5</td>\n",
       "      <td>856</td>\n",
       "      <td>1</td>\n",
       "      <td>{'NoiseLevel': 'u'average'', 'BikeParking': 'F...</td>\n",
       "      <td>Sandwiches, Food, Restaurants, Breakfast &amp; Bru...</td>\n",
       "      <td>{'Monday': '6:0-21:0', 'Tuesday': '6:0-21:0', ...</td>\n",
       "    </tr>\n",
       "    <tr>\n",
       "      <th>35</th>\n",
       "      <td>iPD8BBvea6YldQZPHzVrSQ</td>\n",
       "      <td>Espresso Minute</td>\n",
       "      <td>334 Mass Ave</td>\n",
       "      <td>BOSTON</td>\n",
       "      <td>MA</td>\n",
       "      <td>02115</td>\n",
       "      <td>42.342673</td>\n",
       "      <td>-71.084239</td>\n",
       "      <td>4.5</td>\n",
       "      <td>7</td>\n",
       "      <td>0</td>\n",
       "      <td>{'NoiseLevel': ''quiet'', 'GoodForKids': 'True...</td>\n",
       "      <td>Creperies, Restaurants, Food, Coffee &amp; Tea, Br...</td>\n",
       "      <td>{'Tuesday': '8:0-20:0', 'Wednesday': '8:0-20:0...</td>\n",
       "    </tr>\n",
       "    <tr>\n",
       "      <th>36</th>\n",
       "      <td>jx91IMdGOmLOo8h_F9z39g</td>\n",
       "      <td>Cleary's Restaurant &amp; Spirits</td>\n",
       "      <td>12429 NE Glisan St</td>\n",
       "      <td>PORTLAND</td>\n",
       "      <td>OR</td>\n",
       "      <td>97230</td>\n",
       "      <td>45.526473</td>\n",
       "      <td>-122.535323</td>\n",
       "      <td>3.5</td>\n",
       "      <td>19</td>\n",
       "      <td>1</td>\n",
       "      <td>{'RestaurantsGoodForGroups': 'True', 'Alcohol'...</td>\n",
       "      <td>Nightlife, Sandwiches, Seafood, Restaurants</td>\n",
       "      <td>{'Monday': '7:0-23:0', 'Tuesday': '7:0-23:0', ...</td>\n",
       "    </tr>\n",
       "  </tbody>\n",
       "</table>\n",
       "</div>"
      ],
      "text/plain": [
       "               business_id                           name  \\\n",
       "1   tCbdrRPZA0oiIYSmHG3J0w        Flying Elephants at PDX   \n",
       "13  ufCxltuh56FF4-ZFZ6cVhg                 Sister Honey's   \n",
       "29  jGennaZUr2MsJyRhijNBfA                Legal Sea Foods   \n",
       "35  iPD8BBvea6YldQZPHzVrSQ                Espresso Minute   \n",
       "36  jx91IMdGOmLOo8h_F9z39g  Cleary's Restaurant & Spirits   \n",
       "\n",
       "                address      city state postal_code   latitude   longitude  \\\n",
       "1   7000 NE Airport Way  PORTLAND    OR       97218  45.588906 -122.593331   \n",
       "13    247 E Michigan St   ORLANDO    FL       32806  28.513265  -81.374707   \n",
       "29      1 Harborside Dr    BOSTON    MA       02128  42.363442  -71.025781   \n",
       "35         334 Mass Ave    BOSTON    MA       02115  42.342673  -71.084239   \n",
       "36   12429 NE Glisan St  PORTLAND    OR       97230  45.526473 -122.535323   \n",
       "\n",
       "    stars  review_count  is_open  \\\n",
       "1     4.0           126        1   \n",
       "13    4.5           135        1   \n",
       "29    3.5           856        1   \n",
       "35    4.5             7        0   \n",
       "36    3.5            19        1   \n",
       "\n",
       "                                           attributes  \\\n",
       "1   {'RestaurantsTakeOut': 'True', 'RestaurantsAtt...   \n",
       "13  {'BusinessParking': '{'garage': False, 'street...   \n",
       "29  {'NoiseLevel': 'u'average'', 'BikeParking': 'F...   \n",
       "35  {'NoiseLevel': ''quiet'', 'GoodForKids': 'True...   \n",
       "36  {'RestaurantsGoodForGroups': 'True', 'Alcohol'...   \n",
       "\n",
       "                                           categories  \\\n",
       "1   Salad, Soup, Sandwiches, Delis, Restaurants, C...   \n",
       "13  Restaurants, American (New), Bakeries, Dessert...   \n",
       "29  Sandwiches, Food, Restaurants, Breakfast & Bru...   \n",
       "35  Creperies, Restaurants, Food, Coffee & Tea, Br...   \n",
       "36        Nightlife, Sandwiches, Seafood, Restaurants   \n",
       "\n",
       "                                                hours  \n",
       "1   {'Monday': '5:0-18:0', 'Tuesday': '5:0-17:0', ...  \n",
       "13  {'Tuesday': '11:0-18:0', 'Wednesday': '11:0-18...  \n",
       "29  {'Monday': '6:0-21:0', 'Tuesday': '6:0-21:0', ...  \n",
       "35  {'Tuesday': '8:0-20:0', 'Wednesday': '8:0-20:0...  \n",
       "36  {'Monday': '7:0-23:0', 'Tuesday': '7:0-23:0', ...  "
      ]
     },
     "execution_count": 4,
     "metadata": {},
     "output_type": "execute_result"
    }
   ],
   "source": [
    "restaurant_top5.head()"
   ]
  },
  {
   "cell_type": "markdown",
   "id": "c3f55972",
   "metadata": {},
   "source": [
    "# Check  and clean *states*"
   ]
  },
  {
   "cell_type": "code",
   "execution_count": 5,
   "id": "cf1bb15b",
   "metadata": {},
   "outputs": [
    {
     "data": {
      "text/html": [
       "<div>\n",
       "<style scoped>\n",
       "    .dataframe tbody tr th:only-of-type {\n",
       "        vertical-align: middle;\n",
       "    }\n",
       "\n",
       "    .dataframe tbody tr th {\n",
       "        vertical-align: top;\n",
       "    }\n",
       "\n",
       "    .dataframe thead th {\n",
       "        text-align: right;\n",
       "    }\n",
       "</style>\n",
       "<table border=\"1\" class=\"dataframe\">\n",
       "  <thead>\n",
       "    <tr style=\"text-align: right;\">\n",
       "      <th></th>\n",
       "      <th>state</th>\n",
       "      <th>business_id</th>\n",
       "    </tr>\n",
       "  </thead>\n",
       "  <tbody>\n",
       "    <tr>\n",
       "      <th>4</th>\n",
       "      <td>OR</td>\n",
       "      <td>3759</td>\n",
       "    </tr>\n",
       "    <tr>\n",
       "      <th>1</th>\n",
       "      <td>GA</td>\n",
       "      <td>3319</td>\n",
       "    </tr>\n",
       "    <tr>\n",
       "      <th>5</th>\n",
       "      <td>TX</td>\n",
       "      <td>3200</td>\n",
       "    </tr>\n",
       "    <tr>\n",
       "      <th>0</th>\n",
       "      <td>FL</td>\n",
       "      <td>2787</td>\n",
       "    </tr>\n",
       "    <tr>\n",
       "      <th>2</th>\n",
       "      <td>MA</td>\n",
       "      <td>2411</td>\n",
       "    </tr>\n",
       "    <tr>\n",
       "      <th>3</th>\n",
       "      <td>MN</td>\n",
       "      <td>1</td>\n",
       "    </tr>\n",
       "    <tr>\n",
       "      <th>6</th>\n",
       "      <td>WA</td>\n",
       "      <td>1</td>\n",
       "    </tr>\n",
       "  </tbody>\n",
       "</table>\n",
       "</div>"
      ],
      "text/plain": [
       "  state  business_id\n",
       "4    OR         3759\n",
       "1    GA         3319\n",
       "5    TX         3200\n",
       "0    FL         2787\n",
       "2    MA         2411\n",
       "3    MN            1\n",
       "6    WA            1"
      ]
     },
     "execution_count": 5,
     "metadata": {},
     "output_type": "execute_result"
    }
   ],
   "source": [
    "states_all_sorted = restaurant_top5.groupby(\"state\", as_index = False).agg({'business_id': 'count'}).sort_values(by = \"business_id\", ascending = False)\n",
    "states_all_sorted"
   ]
  },
  {
   "cell_type": "code",
   "execution_count": 6,
   "id": "d9642609",
   "metadata": {},
   "outputs": [
    {
     "data": {
      "text/plain": [
       "['OR', 'GA', 'TX', 'FL', 'MA']"
      ]
     },
     "execution_count": 6,
     "metadata": {},
     "output_type": "execute_result"
    }
   ],
   "source": [
    "states_top5 = list(states_all_sorted.iloc[0:5,0])\n",
    "states_top5"
   ]
  },
  {
   "cell_type": "code",
   "execution_count": 7,
   "id": "75120f97",
   "metadata": {},
   "outputs": [],
   "source": [
    "# clean up states\n",
    "restaurant_clean = restaurant_top5[restaurant_top5['state'].isin(states_top5)]"
   ]
  },
  {
   "cell_type": "code",
   "execution_count": 8,
   "id": "c6a6c182",
   "metadata": {},
   "outputs": [
    {
     "data": {
      "text/plain": [
       "(15476, 14)"
      ]
     },
     "execution_count": 8,
     "metadata": {},
     "output_type": "execute_result"
    }
   ],
   "source": [
    "restaurant_clean.shape"
   ]
  },
  {
   "cell_type": "code",
   "execution_count": 37,
   "id": "43cd1dcb",
   "metadata": {},
   "outputs": [
    {
     "data": {
      "text/html": [
       "<div>\n",
       "<style scoped>\n",
       "    .dataframe tbody tr th:only-of-type {\n",
       "        vertical-align: middle;\n",
       "    }\n",
       "\n",
       "    .dataframe tbody tr th {\n",
       "        vertical-align: top;\n",
       "    }\n",
       "\n",
       "    .dataframe thead th {\n",
       "        text-align: right;\n",
       "    }\n",
       "</style>\n",
       "<table border=\"1\" class=\"dataframe\">\n",
       "  <thead>\n",
       "    <tr style=\"text-align: right;\">\n",
       "      <th></th>\n",
       "      <th>business_id</th>\n",
       "      <th>name</th>\n",
       "      <th>address</th>\n",
       "      <th>city</th>\n",
       "      <th>state</th>\n",
       "      <th>postal_code</th>\n",
       "      <th>latitude</th>\n",
       "      <th>longitude</th>\n",
       "      <th>stars</th>\n",
       "      <th>review_count</th>\n",
       "      <th>is_open</th>\n",
       "      <th>attributes</th>\n",
       "      <th>categories</th>\n",
       "      <th>hours</th>\n",
       "    </tr>\n",
       "  </thead>\n",
       "  <tbody>\n",
       "    <tr>\n",
       "      <th>84075</th>\n",
       "      <td>HorLV50SgSj2lArWWu4lEA</td>\n",
       "      <td>Caribou Coffee</td>\n",
       "      <td>1001 18th Ave NW</td>\n",
       "      <td>AUSTIN</td>\n",
       "      <td>MN</td>\n",
       "      <td>55912</td>\n",
       "      <td>30.202130</td>\n",
       "      <td>-97.668832</td>\n",
       "      <td>3.5</td>\n",
       "      <td>6</td>\n",
       "      <td>1</td>\n",
       "      <td>{'RestaurantsPriceRange2': '1', 'BusinessParki...</td>\n",
       "      <td>Food, Coffee &amp; Tea, Bakeries, Cafes, Restaurants</td>\n",
       "      <td>{'Monday': '5:30-20:0', 'Tuesday': '5:30-20:0'...</td>\n",
       "    </tr>\n",
       "    <tr>\n",
       "      <th>113980</th>\n",
       "      <td>6PLFPRB3Tj560oAJLq5TKg</td>\n",
       "      <td>IJ SUSHI BURRITO</td>\n",
       "      <td>9585 SW Washington Square Rd, Space FC08</td>\n",
       "      <td>PORTLAND</td>\n",
       "      <td>WA</td>\n",
       "      <td>97233</td>\n",
       "      <td>45.450352</td>\n",
       "      <td>-122.780373</td>\n",
       "      <td>4.5</td>\n",
       "      <td>9</td>\n",
       "      <td>1</td>\n",
       "      <td>{'Caters': 'True', 'RestaurantsDelivery': 'Tru...</td>\n",
       "      <td>Sushi Bars, Restaurants, Hawaiian, Asian Fusio...</td>\n",
       "      <td>{'Monday': '11:0-19:0', 'Tuesday': '11:0-19:0'...</td>\n",
       "    </tr>\n",
       "  </tbody>\n",
       "</table>\n",
       "</div>"
      ],
      "text/plain": [
       "                   business_id              name  \\\n",
       "84075   HorLV50SgSj2lArWWu4lEA    Caribou Coffee   \n",
       "113980  6PLFPRB3Tj560oAJLq5TKg  IJ SUSHI BURRITO   \n",
       "\n",
       "                                         address      city state postal_code  \\\n",
       "84075                           1001 18th Ave NW    AUSTIN    MN       55912   \n",
       "113980  9585 SW Washington Square Rd, Space FC08  PORTLAND    WA       97233   \n",
       "\n",
       "         latitude   longitude  stars  review_count  is_open  \\\n",
       "84075   30.202130  -97.668832    3.5             6        1   \n",
       "113980  45.450352 -122.780373    4.5             9        1   \n",
       "\n",
       "                                               attributes  \\\n",
       "84075   {'RestaurantsPriceRange2': '1', 'BusinessParki...   \n",
       "113980  {'Caters': 'True', 'RestaurantsDelivery': 'Tru...   \n",
       "\n",
       "                                               categories  \\\n",
       "84075    Food, Coffee & Tea, Bakeries, Cafes, Restaurants   \n",
       "113980  Sushi Bars, Restaurants, Hawaiian, Asian Fusio...   \n",
       "\n",
       "                                                    hours  \n",
       "84075   {'Monday': '5:30-20:0', 'Tuesday': '5:30-20:0'...  \n",
       "113980  {'Monday': '11:0-19:0', 'Tuesday': '11:0-19:0'...  "
      ]
     },
     "execution_count": 37,
     "metadata": {},
     "output_type": "execute_result"
    }
   ],
   "source": [
    "# see the outliers\n",
    "restaurant_top5[restaurant_top5['state'].isin(['MN', 'WA'])]"
   ]
  },
  {
   "cell_type": "markdown",
   "id": "44adc01d",
   "metadata": {},
   "source": [
    "# Collapsing city name"
   ]
  },
  {
   "cell_type": "code",
   "execution_count": 36,
   "id": "7911ce90",
   "metadata": {},
   "outputs": [
    {
     "data": {
      "text/plain": [
       "PORTLAND                     3757\n",
       "ATLANTA                      3318\n",
       "AUSTIN                       3200\n",
       "ORLANDO                      2786\n",
       "BOSTON                       2365\n",
       "EAST BOSTON                    30\n",
       "SOUTH BOSTON                   14\n",
       "ATLANTA  (BKHD)                 1\n",
       "ALTAMONTE SPRINGS ORLANDO       1\n",
       "PORTLAND-GATEWAY PLAZA          1\n",
       "BOSTON-FENWAY                   1\n",
       "S BOSTON                        1\n",
       "PORTLAND-EASTPORT PLAZA         1\n",
       "Name: city, dtype: int64"
      ]
     },
     "execution_count": 36,
     "metadata": {},
     "output_type": "execute_result"
    }
   ],
   "source": [
    "restaurant_clean['city'].value_counts()"
   ]
  },
  {
   "cell_type": "markdown",
   "id": "e6519010",
   "metadata": {},
   "source": [
    "## Approach 1: fuzzywuzzy"
   ]
  },
  {
   "cell_type": "markdown",
   "id": "c8172daf",
   "metadata": {},
   "source": [
    "### 01. Determine cut-off value"
   ]
  },
  {
   "cell_type": "code",
   "execution_count": 10,
   "id": "e562c42b",
   "metadata": {},
   "outputs": [
    {
     "name": "stdout",
     "output_type": "stream",
     "text": [
      "['PORTLAND' 'ORLANDO' 'BOSTON' 'AUSTIN' 'ATLANTA' 'EAST BOSTON'\n",
      " 'ATLANTA  (BKHD)' 'SOUTH BOSTON' 'ALTAMONTE SPRINGS ORLANDO'\n",
      " 'PORTLAND-GATEWAY PLAZA' 'BOSTON-FENWAY' 'S BOSTON'\n",
      " 'PORTLAND-EASTPORT PLAZA']\n"
     ]
    }
   ],
   "source": [
    "# store unique values of city names\n",
    "city_values = restaurant_clean['city'].unique()\n",
    "print(city_values)"
   ]
  },
  {
   "cell_type": "code",
   "execution_count": 11,
   "id": "8ba385a5",
   "metadata": {},
   "outputs": [
    {
     "name": "stdout",
     "output_type": "stream",
     "text": [
      "[('PORTLAND', 100), ('PORTLAND-GATEWAY PLAZA', 90), ('PORTLAND-EASTPORT PLAZA', 90), ('ORLANDO', 80), ('ALTAMONTE SPRINGS ORLANDO', 68), ('ATLANTA', 53), ('ATLANTA  (BKHD)', 45), ('BOSTON', 43), ('S BOSTON', 38), ('SOUTH BOSTON', 36), ('BOSTON-FENWAY', 34), ('EAST BOSTON', 32), ('AUSTIN', 29)]\n"
     ]
    }
   ],
   "source": [
    "# 1 - calculate similarities to top city\n",
    "top_city = 'PORTLAND'\n",
    "print(process.extract(top_city, city_values, limit = len(city_values)))"
   ]
  },
  {
   "cell_type": "code",
   "execution_count": 12,
   "id": "34ce8fb9",
   "metadata": {},
   "outputs": [
    {
     "name": "stdout",
     "output_type": "stream",
     "text": [
      "[('ATLANTA', 100), ('ATLANTA  (BKHD)', 90), ('PORTLAND', 53), ('PORTLAND-GATEWAY PLAZA', 53), ('PORTLAND-EASTPORT PLAZA', 53), ('ALTAMONTE SPRINGS ORLANDO', 51), ('AUSTIN', 46), ('ORLANDO', 43), ('EAST BOSTON', 34), ('BOSTON', 31), ('SOUTH BOSTON', 30), ('S BOSTON', 27), ('BOSTON-FENWAY', 20)]\n"
     ]
    }
   ],
   "source": [
    "# 2\n",
    "top_city = 'ATLANTA'\n",
    "print(process.extract(top_city, city_values, limit = len(city_values)))"
   ]
  },
  {
   "cell_type": "code",
   "execution_count": 13,
   "id": "0936cf92",
   "metadata": {},
   "outputs": [
    {
     "name": "stdout",
     "output_type": "stream",
     "text": [
      "[('AUSTIN', 100), ('BOSTON', 50), ('EAST BOSTON', 47), ('ATLANTA', 46), ('ATLANTA  (BKHD)', 45), ('SOUTH BOSTON', 45), ('ALTAMONTE SPRINGS ORLANDO', 45), ('BOSTON-FENWAY', 45), ('PORTLAND-EASTPORT PLAZA', 45), ('S BOSTON', 43), ('ORLANDO', 31), ('PORTLAND-GATEWAY PLAZA', 30), ('PORTLAND', 29)]\n"
     ]
    }
   ],
   "source": [
    "# 3\n",
    "top_city = 'AUSTIN'\n",
    "print(process.extract(top_city, city_values, limit = len(city_values)))"
   ]
  },
  {
   "cell_type": "code",
   "execution_count": 14,
   "id": "548a6297",
   "metadata": {},
   "outputs": [
    {
     "name": "stdout",
     "output_type": "stream",
     "text": [
      "[('ORLANDO', 100), ('ALTAMONTE SPRINGS ORLANDO', 90), ('PORTLAND', 80), ('PORTLAND-GATEWAY PLAZA', 77), ('PORTLAND-EASTPORT PLAZA', 77), ('ATLANTA', 43), ('ATLANTA  (BKHD)', 39), ('SOUTH BOSTON', 37), ('BOSTON', 31), ('AUSTIN', 31), ('EAST BOSTON', 30), ('S BOSTON', 27), ('BOSTON-FENWAY', 26)]\n"
     ]
    }
   ],
   "source": [
    "# 4\n",
    "top_city = 'ORLANDO'\n",
    "print(process.extract(top_city, city_values, limit = len(city_values)))"
   ]
  },
  {
   "cell_type": "code",
   "execution_count": 15,
   "id": "625f874f",
   "metadata": {},
   "outputs": [
    {
     "name": "stdout",
     "output_type": "stream",
     "text": [
      "[('BOSTON', 100), ('S BOSTON', 95), ('EAST BOSTON', 90), ('SOUTH BOSTON', 90), ('BOSTON-FENWAY', 90), ('AUSTIN', 50), ('ALTAMONTE SPRINGS ORLANDO', 45), ('PORTLAND-GATEWAY PLAZA', 45), ('PORTLAND-EASTPORT PLAZA', 45), ('PORTLAND', 43), ('ORLANDO', 31), ('ATLANTA', 31), ('ATLANTA  (BKHD)', 18)]\n"
     ]
    }
   ],
   "source": [
    "# 5\n",
    "top_city = 'BOSTON'\n",
    "print(process.extract(top_city, city_values, limit = len(city_values)))"
   ]
  },
  {
   "cell_type": "markdown",
   "id": "91636c80",
   "metadata": {},
   "source": [
    "the **cut-off** for similarity score seem to be > 80, for example cut-off = 85"
   ]
  },
  {
   "cell_type": "markdown",
   "id": "f1fbaaf6",
   "metadata": {},
   "source": [
    "### 02. Iterate"
   ]
  },
  {
   "cell_type": "code",
   "execution_count": null,
   "id": "7d056344",
   "metadata": {},
   "outputs": [],
   "source": [
    "# Create list of top 5 city"
   ]
  },
  {
   "cell_type": "code",
   "execution_count": 23,
   "id": "d0ce2354",
   "metadata": {},
   "outputs": [
    {
     "data": {
      "text/plain": [
       "['PORTLAND', 'ATLANTA', 'AUSTIN', 'ORLANDO', 'BOSTON']"
      ]
     },
     "execution_count": 23,
     "metadata": {},
     "output_type": "execute_result"
    }
   ],
   "source": [
    "city_list = list(restaurant_clean.groupby([\"state\", \"city\"], as_index = False) \n",
    "                 .agg({'business_id': 'count'}).sort_values(by = 'business_id', ascending = False).head(5)['city'])\n",
    "city_list"
   ]
  },
  {
   "cell_type": "code",
   "execution_count": 24,
   "id": "d2848d54",
   "metadata": {},
   "outputs": [
    {
     "name": "stderr",
     "output_type": "stream",
     "text": [
      "/opt/anaconda3/envs/ds4aw-env/lib/python3.7/site-packages/pandas/core/indexing.py:1817: SettingWithCopyWarning: \n",
      "A value is trying to be set on a copy of a slice from a DataFrame.\n",
      "Try using .loc[row_indexer,col_indexer] = value instead\n",
      "\n",
      "See the caveats in the documentation: https://pandas.pydata.org/pandas-docs/stable/user_guide/indexing.html#returning-a-view-versus-a-copy\n",
      "  self._setitem_single_column(loc, value, pi)\n"
     ]
    }
   ],
   "source": [
    "# Iterate through the city_list\n",
    "for city_name in city_list:  \n",
    "  # Create a list of matches, comparing city_name with the 'city' column\n",
    "  matches = process.extract(city_name, restaurant_clean['city'], limit=len(restaurant_clean.city))\n",
    "    \n",
    "  # Iterate through the list of matches\n",
    "  for match in matches:\n",
    "     # Check whether the similarity score is greater than or equal to 85\n",
    "    if match[1] >= 85:\n",
    "      # If it is, select all rows where the city is spelled this way, and set them to the correct city_name\n",
    "      restaurant_clean.loc[restaurant_clean['city'] == match[0]] = city_name"
   ]
  },
  {
   "cell_type": "code",
   "execution_count": 25,
   "id": "4a0ccfd2",
   "metadata": {},
   "outputs": [
    {
     "data": {
      "text/plain": [
       "PORTLAND    3759\n",
       "ATLANTA     3319\n",
       "AUSTIN      3200\n",
       "ORLANDO     2787\n",
       "BOSTON      2411\n",
       "Name: city, dtype: int64"
      ]
     },
     "execution_count": 25,
     "metadata": {},
     "output_type": "execute_result"
    }
   ],
   "source": [
    "# confirm remapping\n",
    "restaurant_clean['city'].value_counts()"
   ]
  },
  {
   "cell_type": "markdown",
   "id": "711f5a36",
   "metadata": {},
   "source": [
    "## Approach 2: mapping"
   ]
  },
  {
   "cell_type": "code",
   "execution_count": 38,
   "id": "3cbe2d4d",
   "metadata": {},
   "outputs": [],
   "source": [
    "mapping = {'PORTLAND': 'PORTLAND',\n",
    "           'ATLANTA': 'ATLANTA',\n",
    "           'AUSTIN' : 'AUSTIN',\n",
    "           'ORLANDO' : 'ORLANDO',\n",
    "           'BOSTON' : 'BOSTON',\n",
    "           'EAST BOSTON': 'BOSTON',\n",
    "           'SOUTH BOSTON': 'BOSTON',\n",
    "           'ATLANTA  (BKHD)' : 'ATLANTA',\n",
    "           'ALTAMONTE SPRINGS ORLANDO': 'ORLANDO',\n",
    "           'PORTLAND-GATEWAY PLAZA' : 'PORTLAND',\n",
    "           'BOSTON-FENWAY' : 'BOSTON',\n",
    "           'S BOSTON' : 'BOSTON',\n",
    "           'PORTLAND-EASTPORT PLAZA' : 'PORTLAND'\n",
    "          }"
   ]
  },
  {
   "cell_type": "code",
   "execution_count": 40,
   "id": "b7383b24",
   "metadata": {},
   "outputs": [
    {
     "name": "stderr",
     "output_type": "stream",
     "text": [
      "/Users/shantiagung/.local/lib/python3.7/site-packages/ipykernel_launcher.py:1: SettingWithCopyWarning: \n",
      "A value is trying to be set on a copy of a slice from a DataFrame.\n",
      "Try using .loc[row_indexer,col_indexer] = value instead\n",
      "\n",
      "See the caveats in the documentation: https://pandas.pydata.org/pandas-docs/stable/user_guide/indexing.html#returning-a-view-versus-a-copy\n",
      "  \"\"\"Entry point for launching an IPython kernel.\n"
     ]
    }
   ],
   "source": [
    "restaurant_clean['city'] = restaurant_clean['city'].replace(mapping)"
   ]
  },
  {
   "cell_type": "code",
   "execution_count": 41,
   "id": "39e01804",
   "metadata": {},
   "outputs": [
    {
     "data": {
      "text/plain": [
       "array(['PORTLAND', 'ORLANDO', 'BOSTON', 'AUSTIN', 'ATLANTA'], dtype=object)"
      ]
     },
     "execution_count": 41,
     "metadata": {},
     "output_type": "execute_result"
    }
   ],
   "source": [
    "restaurant_clean['city'].unique()"
   ]
  },
  {
   "cell_type": "code",
   "execution_count": 42,
   "id": "8cb471da",
   "metadata": {},
   "outputs": [
    {
     "data": {
      "text/plain": [
       "PORTLAND    3759\n",
       "ATLANTA     3319\n",
       "AUSTIN      3200\n",
       "ORLANDO     2787\n",
       "BOSTON      2411\n",
       "Name: city, dtype: int64"
      ]
     },
     "execution_count": 42,
     "metadata": {},
     "output_type": "execute_result"
    }
   ],
   "source": [
    "restaurant_clean['city'].value_counts()"
   ]
  },
  {
   "cell_type": "code",
   "execution_count": null,
   "id": "7bac52b3",
   "metadata": {},
   "outputs": [],
   "source": []
  }
 ],
 "metadata": {
  "kernelspec": {
   "display_name": "ds4aw-env",
   "language": "python",
   "name": "ds4aw-env"
  },
  "language_info": {
   "codemirror_mode": {
    "name": "ipython",
    "version": 3
   },
   "file_extension": ".py",
   "mimetype": "text/x-python",
   "name": "python",
   "nbconvert_exporter": "python",
   "pygments_lexer": "ipython3",
   "version": "3.7.11"
  }
 },
 "nbformat": 4,
 "nbformat_minor": 5
}
