{
 "cells": [
  {
   "cell_type": "markdown",
   "id": "cc1d06ba",
   "metadata": {},
   "source": [
    "# About\n",
    "This notebook is to clean `categories` column in `yelp_team7_dataset_restaurant.json`."
   ]
  },
  {
   "cell_type": "code",
   "execution_count": 1,
   "id": "1beafd89",
   "metadata": {},
   "outputs": [],
   "source": [
    "import json\n",
    "import pandas as pd"
   ]
  },
  {
   "cell_type": "markdown",
   "id": "038d9374",
   "metadata": {},
   "source": [
    "# Load restaurant dataset"
   ]
  },
  {
   "cell_type": "code",
   "execution_count": 2,
   "id": "8836a5fa",
   "metadata": {},
   "outputs": [],
   "source": [
    "restaurant_df = pd.read_json('yelp_team7_dataset_restaurant.json')"
   ]
  },
  {
   "cell_type": "code",
   "execution_count": 3,
   "id": "2a103733",
   "metadata": {},
   "outputs": [
    {
     "data": {
      "text/html": [
       "<div>\n",
       "<style scoped>\n",
       "    .dataframe tbody tr th:only-of-type {\n",
       "        vertical-align: middle;\n",
       "    }\n",
       "\n",
       "    .dataframe tbody tr th {\n",
       "        vertical-align: top;\n",
       "    }\n",
       "\n",
       "    .dataframe thead th {\n",
       "        text-align: right;\n",
       "    }\n",
       "</style>\n",
       "<table border=\"1\" class=\"dataframe\">\n",
       "  <thead>\n",
       "    <tr style=\"text-align: right;\">\n",
       "      <th></th>\n",
       "      <th>business_id</th>\n",
       "      <th>name</th>\n",
       "      <th>address</th>\n",
       "      <th>city</th>\n",
       "      <th>state</th>\n",
       "      <th>postal_code</th>\n",
       "      <th>latitude</th>\n",
       "      <th>longitude</th>\n",
       "      <th>stars</th>\n",
       "      <th>review_count</th>\n",
       "      <th>is_open</th>\n",
       "      <th>attributes</th>\n",
       "      <th>categories</th>\n",
       "      <th>hours</th>\n",
       "    </tr>\n",
       "  </thead>\n",
       "  <tbody>\n",
       "    <tr>\n",
       "      <th>0</th>\n",
       "      <td>tCbdrRPZA0oiIYSmHG3J0w</td>\n",
       "      <td>Flying Elephants at PDX</td>\n",
       "      <td>7000 NE Airport Way</td>\n",
       "      <td>PORTLAND</td>\n",
       "      <td>OR</td>\n",
       "      <td>97218</td>\n",
       "      <td>45.588906</td>\n",
       "      <td>-122.593331</td>\n",
       "      <td>4.0</td>\n",
       "      <td>126</td>\n",
       "      <td>1</td>\n",
       "      <td>{'RestaurantsTakeOut': 'True', 'RestaurantsAtt...</td>\n",
       "      <td>Salad, Soup, Sandwiches, Delis, Restaurants, C...</td>\n",
       "      <td>{'Monday': '5:0-18:0', 'Tuesday': '5:0-17:0', ...</td>\n",
       "    </tr>\n",
       "    <tr>\n",
       "      <th>1</th>\n",
       "      <td>ufCxltuh56FF4-ZFZ6cVhg</td>\n",
       "      <td>Sister Honey's</td>\n",
       "      <td>247 E Michigan St</td>\n",
       "      <td>ORLANDO</td>\n",
       "      <td>FL</td>\n",
       "      <td>32806</td>\n",
       "      <td>28.513265</td>\n",
       "      <td>-81.374707</td>\n",
       "      <td>4.5</td>\n",
       "      <td>135</td>\n",
       "      <td>1</td>\n",
       "      <td>{'BusinessParking': '{'garage': False, 'street...</td>\n",
       "      <td>Restaurants, American (New), Bakeries, Dessert...</td>\n",
       "      <td>{'Tuesday': '11:0-18:0', 'Wednesday': '11:0-18...</td>\n",
       "    </tr>\n",
       "    <tr>\n",
       "      <th>2</th>\n",
       "      <td>jGennaZUr2MsJyRhijNBfA</td>\n",
       "      <td>Legal Sea Foods</td>\n",
       "      <td>1 Harborside Dr</td>\n",
       "      <td>BOSTON</td>\n",
       "      <td>MA</td>\n",
       "      <td>02128</td>\n",
       "      <td>42.363442</td>\n",
       "      <td>-71.025781</td>\n",
       "      <td>3.5</td>\n",
       "      <td>856</td>\n",
       "      <td>1</td>\n",
       "      <td>{'NoiseLevel': 'u'average'', 'BikeParking': 'F...</td>\n",
       "      <td>Sandwiches, Food, Restaurants, Breakfast &amp; Bru...</td>\n",
       "      <td>{'Monday': '6:0-21:0', 'Tuesday': '6:0-21:0', ...</td>\n",
       "    </tr>\n",
       "    <tr>\n",
       "      <th>3</th>\n",
       "      <td>iPD8BBvea6YldQZPHzVrSQ</td>\n",
       "      <td>Espresso Minute</td>\n",
       "      <td>334 Mass Ave</td>\n",
       "      <td>BOSTON</td>\n",
       "      <td>MA</td>\n",
       "      <td>02115</td>\n",
       "      <td>42.342673</td>\n",
       "      <td>-71.084239</td>\n",
       "      <td>4.5</td>\n",
       "      <td>7</td>\n",
       "      <td>0</td>\n",
       "      <td>{'NoiseLevel': ''quiet'', 'GoodForKids': 'True...</td>\n",
       "      <td>Creperies, Restaurants, Food, Coffee &amp; Tea, Br...</td>\n",
       "      <td>{'Tuesday': '8:0-20:0', 'Wednesday': '8:0-20:0...</td>\n",
       "    </tr>\n",
       "    <tr>\n",
       "      <th>4</th>\n",
       "      <td>jx91IMdGOmLOo8h_F9z39g</td>\n",
       "      <td>Cleary's Restaurant &amp; Spirits</td>\n",
       "      <td>12429 NE Glisan St</td>\n",
       "      <td>PORTLAND</td>\n",
       "      <td>OR</td>\n",
       "      <td>97230</td>\n",
       "      <td>45.526473</td>\n",
       "      <td>-122.535323</td>\n",
       "      <td>3.5</td>\n",
       "      <td>19</td>\n",
       "      <td>1</td>\n",
       "      <td>{'RestaurantsGoodForGroups': 'True', 'Alcohol'...</td>\n",
       "      <td>Nightlife, Sandwiches, Seafood, Restaurants</td>\n",
       "      <td>{'Monday': '7:0-23:0', 'Tuesday': '7:0-23:0', ...</td>\n",
       "    </tr>\n",
       "    <tr>\n",
       "      <th>...</th>\n",
       "      <td>...</td>\n",
       "      <td>...</td>\n",
       "      <td>...</td>\n",
       "      <td>...</td>\n",
       "      <td>...</td>\n",
       "      <td>...</td>\n",
       "      <td>...</td>\n",
       "      <td>...</td>\n",
       "      <td>...</td>\n",
       "      <td>...</td>\n",
       "      <td>...</td>\n",
       "      <td>...</td>\n",
       "      <td>...</td>\n",
       "      <td>...</td>\n",
       "    </tr>\n",
       "    <tr>\n",
       "      <th>14965</th>\n",
       "      <td>m5eUPVD0Hu39Ff-Uqe-FLA</td>\n",
       "      <td>The Italian Joint</td>\n",
       "      <td>3145 SE Hawthorne Blvd</td>\n",
       "      <td>PORTLAND</td>\n",
       "      <td>OR</td>\n",
       "      <td>97203</td>\n",
       "      <td>45.512196</td>\n",
       "      <td>-122.632865</td>\n",
       "      <td>3.5</td>\n",
       "      <td>20</td>\n",
       "      <td>0</td>\n",
       "      <td>{'RestaurantsGoodForGroups': 'False', 'GoodFor...</td>\n",
       "      <td>Italian, Restaurants</td>\n",
       "      <td>None</td>\n",
       "    </tr>\n",
       "    <tr>\n",
       "      <th>14966</th>\n",
       "      <td>87f7kR7nTz8WHnmtLM_S6w</td>\n",
       "      <td>O Ya</td>\n",
       "      <td>9 East St Pl</td>\n",
       "      <td>BOSTON</td>\n",
       "      <td>MA</td>\n",
       "      <td>02111</td>\n",
       "      <td>42.351408</td>\n",
       "      <td>-71.056867</td>\n",
       "      <td>4.5</td>\n",
       "      <td>737</td>\n",
       "      <td>1</td>\n",
       "      <td>{'RestaurantsPriceRange2': '4', 'RestaurantsGo...</td>\n",
       "      <td>Japanese, Sushi Bars, Restaurants</td>\n",
       "      <td>{'Monday': '0:0-0:0', 'Tuesday': '17:0-21:30',...</td>\n",
       "    </tr>\n",
       "    <tr>\n",
       "      <th>14967</th>\n",
       "      <td>jYgqSazE0gUyI7qq086Dzw</td>\n",
       "      <td>Chart House</td>\n",
       "      <td>5700 SW Terwilliger</td>\n",
       "      <td>PORTLAND</td>\n",
       "      <td>OR</td>\n",
       "      <td>97239</td>\n",
       "      <td>45.483154</td>\n",
       "      <td>-122.682748</td>\n",
       "      <td>3.5</td>\n",
       "      <td>457</td>\n",
       "      <td>1</td>\n",
       "      <td>{'BusinessAcceptsCreditCards': 'True', 'Outdoo...</td>\n",
       "      <td>Event Planning &amp; Services, Steakhouses, Seafoo...</td>\n",
       "      <td>{'Tuesday': '16:0-21:0', 'Wednesday': '16:0-21...</td>\n",
       "    </tr>\n",
       "    <tr>\n",
       "      <th>14968</th>\n",
       "      <td>r5Uag1JqYjr2nbxQCVqm8A</td>\n",
       "      <td>Saigon Noodle &amp; Grill</td>\n",
       "      <td>101 N Bumby Ave</td>\n",
       "      <td>ORLANDO</td>\n",
       "      <td>FL</td>\n",
       "      <td>32803</td>\n",
       "      <td>28.544430</td>\n",
       "      <td>-81.351606</td>\n",
       "      <td>4.5</td>\n",
       "      <td>437</td>\n",
       "      <td>1</td>\n",
       "      <td>{'Alcohol': 'u'beer_and_wine'', 'RestaurantsAt...</td>\n",
       "      <td>Restaurants, Noodles, Salad, Vietnamese, Veget...</td>\n",
       "      <td>{'Monday': '0:0-0:0', 'Tuesday': '10:30-21:30'...</td>\n",
       "    </tr>\n",
       "    <tr>\n",
       "      <th>14969</th>\n",
       "      <td>uXdQkuEtvLAzfc3MsO-sTQ</td>\n",
       "      <td>Mama's Cocina Latina</td>\n",
       "      <td>1958 Piedmont Rd NE</td>\n",
       "      <td>ATLANTA</td>\n",
       "      <td>GA</td>\n",
       "      <td>30324</td>\n",
       "      <td>33.810996</td>\n",
       "      <td>-84.367084</td>\n",
       "      <td>3.0</td>\n",
       "      <td>185</td>\n",
       "      <td>1</td>\n",
       "      <td>{'WiFi': 'u'no'', 'BusinessAcceptsCreditCards'...</td>\n",
       "      <td>Restaurants, Mexican, Latin American</td>\n",
       "      <td>{'Monday': '0:0-0:0', 'Tuesday': '0:0-0:0', 'W...</td>\n",
       "    </tr>\n",
       "  </tbody>\n",
       "</table>\n",
       "<p>14970 rows × 14 columns</p>\n",
       "</div>"
      ],
      "text/plain": [
       "                  business_id                           name  \\\n",
       "0      tCbdrRPZA0oiIYSmHG3J0w        Flying Elephants at PDX   \n",
       "1      ufCxltuh56FF4-ZFZ6cVhg                 Sister Honey's   \n",
       "2      jGennaZUr2MsJyRhijNBfA                Legal Sea Foods   \n",
       "3      iPD8BBvea6YldQZPHzVrSQ                Espresso Minute   \n",
       "4      jx91IMdGOmLOo8h_F9z39g  Cleary's Restaurant & Spirits   \n",
       "...                       ...                            ...   \n",
       "14965  m5eUPVD0Hu39Ff-Uqe-FLA              The Italian Joint   \n",
       "14966  87f7kR7nTz8WHnmtLM_S6w                           O Ya   \n",
       "14967  jYgqSazE0gUyI7qq086Dzw                    Chart House   \n",
       "14968  r5Uag1JqYjr2nbxQCVqm8A          Saigon Noodle & Grill   \n",
       "14969  uXdQkuEtvLAzfc3MsO-sTQ           Mama's Cocina Latina   \n",
       "\n",
       "                      address      city state postal_code   latitude  \\\n",
       "0         7000 NE Airport Way  PORTLAND    OR       97218  45.588906   \n",
       "1           247 E Michigan St   ORLANDO    FL       32806  28.513265   \n",
       "2             1 Harborside Dr    BOSTON    MA       02128  42.363442   \n",
       "3                334 Mass Ave    BOSTON    MA       02115  42.342673   \n",
       "4          12429 NE Glisan St  PORTLAND    OR       97230  45.526473   \n",
       "...                       ...       ...   ...         ...        ...   \n",
       "14965  3145 SE Hawthorne Blvd  PORTLAND    OR       97203  45.512196   \n",
       "14966            9 East St Pl    BOSTON    MA       02111  42.351408   \n",
       "14967     5700 SW Terwilliger  PORTLAND    OR       97239  45.483154   \n",
       "14968         101 N Bumby Ave   ORLANDO    FL       32803  28.544430   \n",
       "14969     1958 Piedmont Rd NE   ATLANTA    GA       30324  33.810996   \n",
       "\n",
       "        longitude  stars  review_count  is_open  \\\n",
       "0     -122.593331    4.0           126        1   \n",
       "1      -81.374707    4.5           135        1   \n",
       "2      -71.025781    3.5           856        1   \n",
       "3      -71.084239    4.5             7        0   \n",
       "4     -122.535323    3.5            19        1   \n",
       "...           ...    ...           ...      ...   \n",
       "14965 -122.632865    3.5            20        0   \n",
       "14966  -71.056867    4.5           737        1   \n",
       "14967 -122.682748    3.5           457        1   \n",
       "14968  -81.351606    4.5           437        1   \n",
       "14969  -84.367084    3.0           185        1   \n",
       "\n",
       "                                              attributes  \\\n",
       "0      {'RestaurantsTakeOut': 'True', 'RestaurantsAtt...   \n",
       "1      {'BusinessParking': '{'garage': False, 'street...   \n",
       "2      {'NoiseLevel': 'u'average'', 'BikeParking': 'F...   \n",
       "3      {'NoiseLevel': ''quiet'', 'GoodForKids': 'True...   \n",
       "4      {'RestaurantsGoodForGroups': 'True', 'Alcohol'...   \n",
       "...                                                  ...   \n",
       "14965  {'RestaurantsGoodForGroups': 'False', 'GoodFor...   \n",
       "14966  {'RestaurantsPriceRange2': '4', 'RestaurantsGo...   \n",
       "14967  {'BusinessAcceptsCreditCards': 'True', 'Outdoo...   \n",
       "14968  {'Alcohol': 'u'beer_and_wine'', 'RestaurantsAt...   \n",
       "14969  {'WiFi': 'u'no'', 'BusinessAcceptsCreditCards'...   \n",
       "\n",
       "                                              categories  \\\n",
       "0      Salad, Soup, Sandwiches, Delis, Restaurants, C...   \n",
       "1      Restaurants, American (New), Bakeries, Dessert...   \n",
       "2      Sandwiches, Food, Restaurants, Breakfast & Bru...   \n",
       "3      Creperies, Restaurants, Food, Coffee & Tea, Br...   \n",
       "4            Nightlife, Sandwiches, Seafood, Restaurants   \n",
       "...                                                  ...   \n",
       "14965                               Italian, Restaurants   \n",
       "14966                  Japanese, Sushi Bars, Restaurants   \n",
       "14967  Event Planning & Services, Steakhouses, Seafoo...   \n",
       "14968  Restaurants, Noodles, Salad, Vietnamese, Veget...   \n",
       "14969               Restaurants, Mexican, Latin American   \n",
       "\n",
       "                                                   hours  \n",
       "0      {'Monday': '5:0-18:0', 'Tuesday': '5:0-17:0', ...  \n",
       "1      {'Tuesday': '11:0-18:0', 'Wednesday': '11:0-18...  \n",
       "2      {'Monday': '6:0-21:0', 'Tuesday': '6:0-21:0', ...  \n",
       "3      {'Tuesday': '8:0-20:0', 'Wednesday': '8:0-20:0...  \n",
       "4      {'Monday': '7:0-23:0', 'Tuesday': '7:0-23:0', ...  \n",
       "...                                                  ...  \n",
       "14965                                               None  \n",
       "14966  {'Monday': '0:0-0:0', 'Tuesday': '17:0-21:30',...  \n",
       "14967  {'Tuesday': '16:0-21:0', 'Wednesday': '16:0-21...  \n",
       "14968  {'Monday': '0:0-0:0', 'Tuesday': '10:30-21:30'...  \n",
       "14969  {'Monday': '0:0-0:0', 'Tuesday': '0:0-0:0', 'W...  \n",
       "\n",
       "[14970 rows x 14 columns]"
      ]
     },
     "execution_count": 3,
     "metadata": {},
     "output_type": "execute_result"
    }
   ],
   "source": [
    "restaurant_df"
   ]
  },
  {
   "cell_type": "code",
   "execution_count": 4,
   "id": "73c9d8ec",
   "metadata": {},
   "outputs": [
    {
     "data": {
      "text/plain": [
       "(14970, 14)"
      ]
     },
     "execution_count": 4,
     "metadata": {},
     "output_type": "execute_result"
    }
   ],
   "source": [
    "restaurant_df.shape"
   ]
  },
  {
   "cell_type": "markdown",
   "id": "544d3b4b",
   "metadata": {},
   "source": [
    "# Identify categories"
   ]
  },
  {
   "cell_type": "code",
   "execution_count": 5,
   "id": "57702f3e",
   "metadata": {},
   "outputs": [
    {
     "data": {
      "text/html": [
       "<div>\n",
       "<style scoped>\n",
       "    .dataframe tbody tr th:only-of-type {\n",
       "        vertical-align: middle;\n",
       "    }\n",
       "\n",
       "    .dataframe tbody tr th {\n",
       "        vertical-align: top;\n",
       "    }\n",
       "\n",
       "    .dataframe thead th {\n",
       "        text-align: right;\n",
       "    }\n",
       "</style>\n",
       "<table border=\"1\" class=\"dataframe\">\n",
       "  <thead>\n",
       "    <tr style=\"text-align: right;\">\n",
       "      <th></th>\n",
       "      <th>categories</th>\n",
       "    </tr>\n",
       "  </thead>\n",
       "  <tbody>\n",
       "    <tr>\n",
       "      <th>0</th>\n",
       "      <td>Salad, Soup, Sandwiches, Delis, Restaurants, C...</td>\n",
       "    </tr>\n",
       "    <tr>\n",
       "      <th>1</th>\n",
       "      <td>Restaurants, American (New), Bakeries, Dessert...</td>\n",
       "    </tr>\n",
       "    <tr>\n",
       "      <th>2</th>\n",
       "      <td>Sandwiches, Food, Restaurants, Breakfast &amp; Bru...</td>\n",
       "    </tr>\n",
       "    <tr>\n",
       "      <th>3</th>\n",
       "      <td>Creperies, Restaurants, Food, Coffee &amp; Tea, Br...</td>\n",
       "    </tr>\n",
       "    <tr>\n",
       "      <th>4</th>\n",
       "      <td>Nightlife, Sandwiches, Seafood, Restaurants</td>\n",
       "    </tr>\n",
       "    <tr>\n",
       "      <th>...</th>\n",
       "      <td>...</td>\n",
       "    </tr>\n",
       "    <tr>\n",
       "      <th>14965</th>\n",
       "      <td>Italian, Restaurants</td>\n",
       "    </tr>\n",
       "    <tr>\n",
       "      <th>14966</th>\n",
       "      <td>Japanese, Sushi Bars, Restaurants</td>\n",
       "    </tr>\n",
       "    <tr>\n",
       "      <th>14967</th>\n",
       "      <td>Event Planning &amp; Services, Steakhouses, Seafoo...</td>\n",
       "    </tr>\n",
       "    <tr>\n",
       "      <th>14968</th>\n",
       "      <td>Restaurants, Noodles, Salad, Vietnamese, Veget...</td>\n",
       "    </tr>\n",
       "    <tr>\n",
       "      <th>14969</th>\n",
       "      <td>Restaurants, Mexican, Latin American</td>\n",
       "    </tr>\n",
       "  </tbody>\n",
       "</table>\n",
       "<p>14970 rows × 1 columns</p>\n",
       "</div>"
      ],
      "text/plain": [
       "                                              categories\n",
       "0      Salad, Soup, Sandwiches, Delis, Restaurants, C...\n",
       "1      Restaurants, American (New), Bakeries, Dessert...\n",
       "2      Sandwiches, Food, Restaurants, Breakfast & Bru...\n",
       "3      Creperies, Restaurants, Food, Coffee & Tea, Br...\n",
       "4            Nightlife, Sandwiches, Seafood, Restaurants\n",
       "...                                                  ...\n",
       "14965                               Italian, Restaurants\n",
       "14966                  Japanese, Sushi Bars, Restaurants\n",
       "14967  Event Planning & Services, Steakhouses, Seafoo...\n",
       "14968  Restaurants, Noodles, Salad, Vietnamese, Veget...\n",
       "14969               Restaurants, Mexican, Latin American\n",
       "\n",
       "[14970 rows x 1 columns]"
      ]
     },
     "execution_count": 5,
     "metadata": {},
     "output_type": "execute_result"
    }
   ],
   "source": [
    "categories_df = restaurant_df[['categories']]\n",
    "categories_df"
   ]
  },
  {
   "cell_type": "code",
   "execution_count": 6,
   "id": "cde74fb0",
   "metadata": {},
   "outputs": [],
   "source": [
    "# create a full list of categories\n",
    "# --- make this a function\n",
    "\n",
    "categories_dict = {}\n",
    "\n",
    "for item in restaurant_df['categories']:\n",
    "    my_list = item.split(',')\n",
    "    for element in my_list:\n",
    "        cleaned_element = element.strip()\n",
    "        if not(cleaned_element in categories_dict):\n",
    "            categories_dict[cleaned_element] = 1\n",
    "        else:\n",
    "            categories_dict[cleaned_element] += 1"
   ]
  },
  {
   "cell_type": "code",
   "execution_count": 7,
   "id": "56d4fba4",
   "metadata": {},
   "outputs": [
    {
     "data": {
      "text/html": [
       "<div>\n",
       "<style scoped>\n",
       "    .dataframe tbody tr th:only-of-type {\n",
       "        vertical-align: middle;\n",
       "    }\n",
       "\n",
       "    .dataframe tbody tr th {\n",
       "        vertical-align: top;\n",
       "    }\n",
       "\n",
       "    .dataframe thead th {\n",
       "        text-align: right;\n",
       "    }\n",
       "</style>\n",
       "<table border=\"1\" class=\"dataframe\">\n",
       "  <thead>\n",
       "    <tr style=\"text-align: right;\">\n",
       "      <th></th>\n",
       "      <th>category</th>\n",
       "      <th>number_of_restaurants</th>\n",
       "    </tr>\n",
       "  </thead>\n",
       "  <tbody>\n",
       "    <tr>\n",
       "      <th>0</th>\n",
       "      <td>Salad</td>\n",
       "      <td>882</td>\n",
       "    </tr>\n",
       "    <tr>\n",
       "      <th>1</th>\n",
       "      <td>Soup</td>\n",
       "      <td>317</td>\n",
       "    </tr>\n",
       "    <tr>\n",
       "      <th>2</th>\n",
       "      <td>Sandwiches</td>\n",
       "      <td>2102</td>\n",
       "    </tr>\n",
       "    <tr>\n",
       "      <th>3</th>\n",
       "      <td>Delis</td>\n",
       "      <td>425</td>\n",
       "    </tr>\n",
       "    <tr>\n",
       "      <th>4</th>\n",
       "      <td>Restaurants</td>\n",
       "      <td>14970</td>\n",
       "    </tr>\n",
       "  </tbody>\n",
       "</table>\n",
       "</div>"
      ],
      "text/plain": [
       "      category  number_of_restaurants\n",
       "0        Salad                    882\n",
       "1         Soup                    317\n",
       "2   Sandwiches                   2102\n",
       "3        Delis                    425\n",
       "4  Restaurants                  14970"
      ]
     },
     "execution_count": 7,
     "metadata": {},
     "output_type": "execute_result"
    }
   ],
   "source": [
    "# create a data frame\n",
    "categories_agg = pd.DataFrame(list(categories_dict.items()))\n",
    "categories_agg.columns = ['category', 'number_of_restaurants']\n",
    "categories_agg.head()"
   ]
  },
  {
   "cell_type": "code",
   "execution_count": 8,
   "id": "d67486cd",
   "metadata": {},
   "outputs": [],
   "source": [
    "# sort and export\n",
    "categories_agg_sorted = categories_agg.sort_values(by = 'number_of_restaurants', ascending = False)\n",
    "categories_agg_sorted.to_csv('categories_agg.csv', index = False)"
   ]
  },
  {
   "cell_type": "markdown",
   "id": "6424aa48",
   "metadata": {},
   "source": [
    "# Map categories: cuisine type"
   ]
  },
  {
   "cell_type": "code",
   "execution_count": 6,
   "id": "00cd72f1",
   "metadata": {},
   "outputs": [],
   "source": [
    "# load mapping csv for cuisine type\n",
    "mapping_cuisine_df = pd.read_csv('categories_mapping_cuisine_type.csv')"
   ]
  },
  {
   "cell_type": "code",
   "execution_count": 7,
   "id": "09df522c",
   "metadata": {},
   "outputs": [
    {
     "data": {
      "text/html": [
       "<div>\n",
       "<style scoped>\n",
       "    .dataframe tbody tr th:only-of-type {\n",
       "        vertical-align: middle;\n",
       "    }\n",
       "\n",
       "    .dataframe tbody tr th {\n",
       "        vertical-align: top;\n",
       "    }\n",
       "\n",
       "    .dataframe thead th {\n",
       "        text-align: right;\n",
       "    }\n",
       "</style>\n",
       "<table border=\"1\" class=\"dataframe\">\n",
       "  <thead>\n",
       "    <tr style=\"text-align: right;\">\n",
       "      <th></th>\n",
       "      <th>category</th>\n",
       "      <th>cuisine type</th>\n",
       "    </tr>\n",
       "  </thead>\n",
       "  <tbody>\n",
       "    <tr>\n",
       "      <th>0</th>\n",
       "      <td>American (Traditional)</td>\n",
       "      <td>American</td>\n",
       "    </tr>\n",
       "    <tr>\n",
       "      <th>1</th>\n",
       "      <td>American (New)</td>\n",
       "      <td>American</td>\n",
       "    </tr>\n",
       "    <tr>\n",
       "      <th>2</th>\n",
       "      <td>Mexican</td>\n",
       "      <td>Mexican</td>\n",
       "    </tr>\n",
       "    <tr>\n",
       "      <th>3</th>\n",
       "      <td>Italian</td>\n",
       "      <td>Italian</td>\n",
       "    </tr>\n",
       "    <tr>\n",
       "      <th>4</th>\n",
       "      <td>Chinese</td>\n",
       "      <td>Chinese</td>\n",
       "    </tr>\n",
       "  </tbody>\n",
       "</table>\n",
       "</div>"
      ],
      "text/plain": [
       "                 category cuisine type\n",
       "0  American (Traditional)     American\n",
       "1          American (New)     American\n",
       "2                 Mexican      Mexican\n",
       "3                 Italian      Italian\n",
       "4                 Chinese      Chinese"
      ]
     },
     "execution_count": 7,
     "metadata": {},
     "output_type": "execute_result"
    }
   ],
   "source": [
    "mapping_cuisine_df.head()"
   ]
  },
  {
   "cell_type": "code",
   "execution_count": 8,
   "id": "17b25b53",
   "metadata": {},
   "outputs": [
    {
     "data": {
      "text/plain": [
       "(90, 2)"
      ]
     },
     "execution_count": 8,
     "metadata": {},
     "output_type": "execute_result"
    }
   ],
   "source": [
    "mapping_cuisine_df.shape"
   ]
  },
  {
   "cell_type": "code",
   "execution_count": 16,
   "id": "f1433892",
   "metadata": {
    "scrolled": true
   },
   "outputs": [
    {
     "data": {
      "text/plain": [
       "0     American (Traditional)\n",
       "1             American (New)\n",
       "2                    Mexican\n",
       "3                    Italian\n",
       "4                    Chinese\n",
       "               ...          \n",
       "85                   Iberian\n",
       "86                Nicaraguan\n",
       "87                  Scottish\n",
       "88                  Sicilian\n",
       "89                  Georgian\n",
       "Name: category, Length: 90, dtype: object"
      ]
     },
     "execution_count": 16,
     "metadata": {},
     "output_type": "execute_result"
    }
   ],
   "source": [
    "mapping_cuisine_df['category']"
   ]
  },
  {
   "cell_type": "code",
   "execution_count": 3,
   "id": "1b7d3c97",
   "metadata": {},
   "outputs": [],
   "source": [
    "def gen_category_dict(df, category_type):\n",
    "    a_dict = df.set_index('category').to_dict()[category_type]\n",
    "    return a_dict"
   ]
  },
  {
   "cell_type": "code",
   "execution_count": 11,
   "id": "da6d0cf4",
   "metadata": {},
   "outputs": [],
   "source": [
    "# create dictionary of mapping\n",
    "cuisine_dict = gen_category_dict(mapping_cuisine_df, 'cuisine_type')"
   ]
  },
  {
   "cell_type": "code",
   "execution_count": 68,
   "id": "149e2329",
   "metadata": {},
   "outputs": [],
   "source": [
    "# create dictionary of mapping\n",
    "#cuisine_dict = mapping_cuisine_df.set_index('category').to_dict()['cuisine type']"
   ]
  },
  {
   "cell_type": "code",
   "execution_count": 12,
   "id": "af860716",
   "metadata": {},
   "outputs": [
    {
     "data": {
      "text/plain": [
       "'American'"
      ]
     },
     "execution_count": 12,
     "metadata": {},
     "output_type": "execute_result"
    }
   ],
   "source": [
    "cuisine_dict['American (New)']"
   ]
  },
  {
   "cell_type": "code",
   "execution_count": 13,
   "id": "a24a5c0c",
   "metadata": {},
   "outputs": [
    {
     "data": {
      "text/plain": [
       "['American (Traditional)',\n",
       " 'American (New)',\n",
       " 'Mexican',\n",
       " 'Italian',\n",
       " 'Chinese',\n",
       " 'Japanese',\n",
       " 'Asian Fusion',\n",
       " 'Mediterranean',\n",
       " 'Thai']"
      ]
     },
     "execution_count": 13,
     "metadata": {},
     "output_type": "execute_result"
    }
   ],
   "source": [
    "# create a list of categories that are considered as cuisine types\n",
    "cuisine_list = list(mapping_cuisine_df['category'])\n",
    "cuisine_list[0:9]"
   ]
  },
  {
   "cell_type": "code",
   "execution_count": 18,
   "id": "0c7e76a6",
   "metadata": {},
   "outputs": [
    {
     "data": {
      "text/plain": [
       "0        Salad, Soup, Sandwiches, Delis, Restaurants, C...\n",
       "1        Restaurants, American (New), Bakeries, Dessert...\n",
       "2        Sandwiches, Food, Restaurants, Breakfast & Bru...\n",
       "3        Creperies, Restaurants, Food, Coffee & Tea, Br...\n",
       "4              Nightlife, Sandwiches, Seafood, Restaurants\n",
       "                               ...                        \n",
       "14965                                 Italian, Restaurants\n",
       "14966                    Japanese, Sushi Bars, Restaurants\n",
       "14967    Event Planning & Services, Steakhouses, Seafoo...\n",
       "14968    Restaurants, Noodles, Salad, Vietnamese, Veget...\n",
       "14969                 Restaurants, Mexican, Latin American\n",
       "Name: categories, Length: 14970, dtype: object"
      ]
     },
     "execution_count": 18,
     "metadata": {},
     "output_type": "execute_result"
    }
   ],
   "source": [
    "restaurant_df['categories']"
   ]
  },
  {
   "cell_type": "code",
   "execution_count": 14,
   "id": "45478f0f",
   "metadata": {},
   "outputs": [
    {
     "data": {
      "text/plain": [
       "'Restaurants, American (New), Bakeries, Desserts, Food, Cupcakes'"
      ]
     },
     "execution_count": 14,
     "metadata": {},
     "output_type": "execute_result"
    }
   ],
   "source": [
    "case_1 = restaurant_df['categories'].iloc[1]\n",
    "case_1"
   ]
  },
  {
   "cell_type": "code",
   "execution_count": 24,
   "id": "cafa6fc2",
   "metadata": {},
   "outputs": [
    {
     "data": {
      "text/plain": [
       "True"
      ]
     },
     "execution_count": 24,
     "metadata": {},
     "output_type": "execute_result"
    }
   ],
   "source": [
    "'American (New)' in categories_cuisine"
   ]
  },
  {
   "cell_type": "code",
   "execution_count": 4,
   "id": "3d727cd2",
   "metadata": {},
   "outputs": [],
   "source": [
    "def identify_category_type(item, reference_list):\n",
    "    is_category_type = False\n",
    "    my_list = item.split(',')\n",
    "    for item in my_list:\n",
    "        item = item.strip()\n",
    "        is_category_type = item in reference_list\n",
    "        #print('item:',item, '; status:', is_category_type)\n",
    "        if is_category_type:\n",
    "            return True\n",
    "    return is_category_type"
   ]
  },
  {
   "cell_type": "code",
   "execution_count": 17,
   "id": "fd7ec587",
   "metadata": {},
   "outputs": [
    {
     "name": "stdout",
     "output_type": "stream",
     "text": [
      "item: Restaurants ; status: False\n",
      "item: American (New) ; status: True\n"
     ]
    },
    {
     "data": {
      "text/plain": [
       "True"
      ]
     },
     "execution_count": 17,
     "metadata": {},
     "output_type": "execute_result"
    }
   ],
   "source": [
    "identify_category_type(case_1, cuisine_list)"
   ]
  },
  {
   "cell_type": "code",
   "execution_count": 18,
   "id": "5b8d640c",
   "metadata": {},
   "outputs": [
    {
     "data": {
      "text/plain": [
       "'Salad, Soup, Sandwiches, Delis, Restaurants, Cafes, Vegetarian'"
      ]
     },
     "execution_count": 18,
     "metadata": {},
     "output_type": "execute_result"
    }
   ],
   "source": [
    "case_2 = restaurant_df['categories'].iloc[0]\n",
    "case_2"
   ]
  },
  {
   "cell_type": "code",
   "execution_count": 19,
   "id": "ceaccdad",
   "metadata": {},
   "outputs": [
    {
     "name": "stdout",
     "output_type": "stream",
     "text": [
      "item: Salad ; status: False\n",
      "item: Soup ; status: False\n",
      "item: Sandwiches ; status: False\n",
      "item: Delis ; status: False\n",
      "item: Restaurants ; status: False\n",
      "item: Cafes ; status: False\n",
      "item: Vegetarian ; status: False\n"
     ]
    },
    {
     "data": {
      "text/plain": [
       "False"
      ]
     },
     "execution_count": 19,
     "metadata": {},
     "output_type": "execute_result"
    }
   ],
   "source": [
    "identify_category_type(case_2, cuisine_list)"
   ]
  },
  {
   "cell_type": "code",
   "execution_count": 84,
   "id": "3a8cd0d1",
   "metadata": {},
   "outputs": [],
   "source": [
    "#map_category_type(case_2, reference_list = cuisine_list, reference_dict = cuisine_dict)"
   ]
  },
  {
   "cell_type": "code",
   "execution_count": 20,
   "id": "355f7f68",
   "metadata": {},
   "outputs": [
    {
     "data": {
      "text/plain": [
       "'Coffee & Tea, Tex-Mex, Restaurants, Mexican, Food'"
      ]
     },
     "execution_count": 20,
     "metadata": {},
     "output_type": "execute_result"
    }
   ],
   "source": [
    "case_3 = restaurant_df['categories'].iloc[8]\n",
    "case_3"
   ]
  },
  {
   "cell_type": "code",
   "execution_count": 21,
   "id": "254aff4b",
   "metadata": {},
   "outputs": [
    {
     "name": "stdout",
     "output_type": "stream",
     "text": [
      "item: Coffee & Tea ; status: False\n",
      "item: Tex-Mex ; status: True\n"
     ]
    },
    {
     "data": {
      "text/plain": [
       "True"
      ]
     },
     "execution_count": 21,
     "metadata": {},
     "output_type": "execute_result"
    }
   ],
   "source": [
    "identify_category_type(case_3, cuisine_list)"
   ]
  },
  {
   "cell_type": "code",
   "execution_count": 24,
   "id": "3c2bc1fd",
   "metadata": {},
   "outputs": [],
   "source": [
    "# create a new column to tag whether a business categories is one of the cuisine type\n",
    "condition = restaurant_df.categories.apply(identify_category_type, args = (cuisine_list,))"
   ]
  },
  {
   "cell_type": "code",
   "execution_count": 25,
   "id": "cdbe94bd",
   "metadata": {},
   "outputs": [
    {
     "data": {
      "text/plain": [
       "True     10637\n",
       "False     4333\n",
       "Name: categories, dtype: int64"
      ]
     },
     "execution_count": 25,
     "metadata": {},
     "output_type": "execute_result"
    }
   ],
   "source": [
    "condition.value_counts()"
   ]
  },
  {
   "cell_type": "code",
   "execution_count": 26,
   "id": "b67d6a7f",
   "metadata": {},
   "outputs": [],
   "source": [
    "cuisine_df = restaurant_df[condition][['business_id', 'categories']]"
   ]
  },
  {
   "cell_type": "code",
   "execution_count": 27,
   "id": "bfea5f6f",
   "metadata": {},
   "outputs": [
    {
     "data": {
      "text/plain": [
       "(10637, 2)"
      ]
     },
     "execution_count": 27,
     "metadata": {},
     "output_type": "execute_result"
    }
   ],
   "source": [
    "cuisine_df.shape"
   ]
  },
  {
   "cell_type": "code",
   "execution_count": 28,
   "id": "09d37202",
   "metadata": {},
   "outputs": [
    {
     "data": {
      "text/html": [
       "<div>\n",
       "<style scoped>\n",
       "    .dataframe tbody tr th:only-of-type {\n",
       "        vertical-align: middle;\n",
       "    }\n",
       "\n",
       "    .dataframe tbody tr th {\n",
       "        vertical-align: top;\n",
       "    }\n",
       "\n",
       "    .dataframe thead th {\n",
       "        text-align: right;\n",
       "    }\n",
       "</style>\n",
       "<table border=\"1\" class=\"dataframe\">\n",
       "  <thead>\n",
       "    <tr style=\"text-align: right;\">\n",
       "      <th></th>\n",
       "      <th>business_id</th>\n",
       "      <th>categories</th>\n",
       "    </tr>\n",
       "  </thead>\n",
       "  <tbody>\n",
       "    <tr>\n",
       "      <th>1</th>\n",
       "      <td>ufCxltuh56FF4-ZFZ6cVhg</td>\n",
       "      <td>Restaurants, American (New), Bakeries, Dessert...</td>\n",
       "    </tr>\n",
       "    <tr>\n",
       "      <th>2</th>\n",
       "      <td>jGennaZUr2MsJyRhijNBfA</td>\n",
       "      <td>Sandwiches, Food, Restaurants, Breakfast &amp; Bru...</td>\n",
       "    </tr>\n",
       "    <tr>\n",
       "      <th>6</th>\n",
       "      <td>w4qVflIAbdklzG3mnKmQsg</td>\n",
       "      <td>Italian, Restaurants</td>\n",
       "    </tr>\n",
       "    <tr>\n",
       "      <th>8</th>\n",
       "      <td>z-0oY7VxQMQw3JHvdPejrA</td>\n",
       "      <td>Coffee &amp; Tea, Tex-Mex, Restaurants, Mexican, Food</td>\n",
       "    </tr>\n",
       "    <tr>\n",
       "      <th>12</th>\n",
       "      <td>TbZDLpBOl-EbO2LfMySrEg</td>\n",
       "      <td>Restaurants, Chinese</td>\n",
       "    </tr>\n",
       "  </tbody>\n",
       "</table>\n",
       "</div>"
      ],
      "text/plain": [
       "               business_id                                         categories\n",
       "1   ufCxltuh56FF4-ZFZ6cVhg  Restaurants, American (New), Bakeries, Dessert...\n",
       "2   jGennaZUr2MsJyRhijNBfA  Sandwiches, Food, Restaurants, Breakfast & Bru...\n",
       "6   w4qVflIAbdklzG3mnKmQsg                               Italian, Restaurants\n",
       "8   z-0oY7VxQMQw3JHvdPejrA  Coffee & Tea, Tex-Mex, Restaurants, Mexican, Food\n",
       "12  TbZDLpBOl-EbO2LfMySrEg                               Restaurants, Chinese"
      ]
     },
     "execution_count": 28,
     "metadata": {},
     "output_type": "execute_result"
    }
   ],
   "source": [
    "cuisine_df.head()"
   ]
  },
  {
   "cell_type": "code",
   "execution_count": 57,
   "id": "d372f12b",
   "metadata": {},
   "outputs": [
    {
     "data": {
      "text/plain": [
       "1        Restaurants, American (New), Bakeries, Dessert...\n",
       "2        Sandwiches, Food, Restaurants, Breakfast & Bru...\n",
       "6                                     Italian, Restaurants\n",
       "8        Coffee & Tea, Tex-Mex, Restaurants, Mexican, Food\n",
       "12                                    Restaurants, Chinese\n",
       "                               ...                        \n",
       "14965                                 Italian, Restaurants\n",
       "14966                    Japanese, Sushi Bars, Restaurants\n",
       "14967    Event Planning & Services, Steakhouses, Seafoo...\n",
       "14968    Restaurants, Noodles, Salad, Vietnamese, Veget...\n",
       "14969                 Restaurants, Mexican, Latin American\n",
       "Name: categories, Length: 10637, dtype: object"
      ]
     },
     "execution_count": 57,
     "metadata": {},
     "output_type": "execute_result"
    }
   ],
   "source": [
    "cuisine_df['categories']"
   ]
  },
  {
   "cell_type": "code",
   "execution_count": 29,
   "id": "02c97d97",
   "metadata": {},
   "outputs": [
    {
     "data": {
      "text/plain": [
       "'Restaurants, American (New), Bakeries, Desserts, Food, Cupcakes'"
      ]
     },
     "execution_count": 29,
     "metadata": {},
     "output_type": "execute_result"
    }
   ],
   "source": [
    "case_1 = cuisine_df['categories'].iloc[0]\n",
    "case_1"
   ]
  },
  {
   "cell_type": "code",
   "execution_count": 5,
   "id": "7660afdc",
   "metadata": {},
   "outputs": [],
   "source": [
    "def map_category_type(item, reference_list, reference_dict):\n",
    "    my_list = item.split(',')\n",
    "    for item in my_list:\n",
    "        item = item.strip()\n",
    "        is_category_type = item in reference_list\n",
    "        if is_category_type:\n",
    "            new_category = reference_dict[item]\n",
    "            return new_category\n",
    "    return None"
   ]
  },
  {
   "cell_type": "code",
   "execution_count": 31,
   "id": "74f981eb",
   "metadata": {},
   "outputs": [
    {
     "data": {
      "text/plain": [
       "'American'"
      ]
     },
     "execution_count": 31,
     "metadata": {},
     "output_type": "execute_result"
    }
   ],
   "source": [
    "map_category_type(case_1, reference_list = cuisine_list, reference_dict = cuisine_dict)"
   ]
  },
  {
   "cell_type": "code",
   "execution_count": 32,
   "id": "dd404a9f",
   "metadata": {},
   "outputs": [
    {
     "data": {
      "text/plain": [
       "'Restaurants, Southern'"
      ]
     },
     "execution_count": 32,
     "metadata": {},
     "output_type": "execute_result"
    }
   ],
   "source": [
    "case_2 = cuisine_df['categories'].iloc[7]\n",
    "case_2"
   ]
  },
  {
   "cell_type": "code",
   "execution_count": 33,
   "id": "2a268571",
   "metadata": {},
   "outputs": [
    {
     "data": {
      "text/plain": [
       "'American'"
      ]
     },
     "execution_count": 33,
     "metadata": {},
     "output_type": "execute_result"
    }
   ],
   "source": [
    "map_category_type(case_2, reference_list = cuisine_list, reference_dict = cuisine_dict)"
   ]
  },
  {
   "cell_type": "code",
   "execution_count": 34,
   "id": "fdd0100a",
   "metadata": {},
   "outputs": [
    {
     "data": {
      "text/plain": [
       "'Restaurants, Nightlife, Mexican, Bars, Sports Bars, Tex-Mex'"
      ]
     },
     "execution_count": 34,
     "metadata": {},
     "output_type": "execute_result"
    }
   ],
   "source": [
    "case_3 = cuisine_df['categories'].iloc[9]\n",
    "case_3"
   ]
  },
  {
   "cell_type": "code",
   "execution_count": 35,
   "id": "77a319e2",
   "metadata": {},
   "outputs": [
    {
     "data": {
      "text/plain": [
       "'Mexican'"
      ]
     },
     "execution_count": 35,
     "metadata": {},
     "output_type": "execute_result"
    }
   ],
   "source": [
    "map_category_type(case_3, reference_list = cuisine_list, reference_dict = cuisine_dict)"
   ]
  },
  {
   "cell_type": "code",
   "execution_count": 36,
   "id": "1c61fb27",
   "metadata": {},
   "outputs": [
    {
     "data": {
      "text/plain": [
       "0              None\n",
       "1          American\n",
       "2           Italian\n",
       "3              None\n",
       "4              None\n",
       "            ...    \n",
       "14965       Italian\n",
       "14966      Japanese\n",
       "14967      American\n",
       "14968    Vietnamese\n",
       "14969       Mexican\n",
       "Name: categories, Length: 14970, dtype: object"
      ]
     },
     "execution_count": 36,
     "metadata": {},
     "output_type": "execute_result"
    }
   ],
   "source": [
    "cuisine_mapped = restaurant_df.categories.apply(map_category_type, args = (cuisine_list, cuisine_dict))\n",
    "cuisine_mapped"
   ]
  },
  {
   "cell_type": "code",
   "execution_count": 37,
   "id": "c2c8a0cb",
   "metadata": {},
   "outputs": [],
   "source": [
    "# approach 1: map directly to the restaurant df\n",
    "restaurant_df.loc[condition, 'cuisine_type'] = cuisine_mapped"
   ]
  },
  {
   "cell_type": "code",
   "execution_count": 38,
   "id": "4a80580b",
   "metadata": {},
   "outputs": [
    {
     "data": {
      "text/html": [
       "<div>\n",
       "<style scoped>\n",
       "    .dataframe tbody tr th:only-of-type {\n",
       "        vertical-align: middle;\n",
       "    }\n",
       "\n",
       "    .dataframe tbody tr th {\n",
       "        vertical-align: top;\n",
       "    }\n",
       "\n",
       "    .dataframe thead th {\n",
       "        text-align: right;\n",
       "    }\n",
       "</style>\n",
       "<table border=\"1\" class=\"dataframe\">\n",
       "  <thead>\n",
       "    <tr style=\"text-align: right;\">\n",
       "      <th></th>\n",
       "      <th>business_id</th>\n",
       "      <th>name</th>\n",
       "      <th>address</th>\n",
       "      <th>city</th>\n",
       "      <th>state</th>\n",
       "      <th>postal_code</th>\n",
       "      <th>latitude</th>\n",
       "      <th>longitude</th>\n",
       "      <th>stars</th>\n",
       "      <th>review_count</th>\n",
       "      <th>is_open</th>\n",
       "      <th>attributes</th>\n",
       "      <th>categories</th>\n",
       "      <th>hours</th>\n",
       "      <th>cuisine_type</th>\n",
       "    </tr>\n",
       "  </thead>\n",
       "  <tbody>\n",
       "    <tr>\n",
       "      <th>0</th>\n",
       "      <td>tCbdrRPZA0oiIYSmHG3J0w</td>\n",
       "      <td>Flying Elephants at PDX</td>\n",
       "      <td>7000 NE Airport Way</td>\n",
       "      <td>PORTLAND</td>\n",
       "      <td>OR</td>\n",
       "      <td>97218</td>\n",
       "      <td>45.588906</td>\n",
       "      <td>-122.593331</td>\n",
       "      <td>4.0</td>\n",
       "      <td>126</td>\n",
       "      <td>1</td>\n",
       "      <td>{'RestaurantsTakeOut': 'True', 'RestaurantsAtt...</td>\n",
       "      <td>Salad, Soup, Sandwiches, Delis, Restaurants, C...</td>\n",
       "      <td>{'Monday': '5:0-18:0', 'Tuesday': '5:0-17:0', ...</td>\n",
       "      <td>NaN</td>\n",
       "    </tr>\n",
       "    <tr>\n",
       "      <th>1</th>\n",
       "      <td>ufCxltuh56FF4-ZFZ6cVhg</td>\n",
       "      <td>Sister Honey's</td>\n",
       "      <td>247 E Michigan St</td>\n",
       "      <td>ORLANDO</td>\n",
       "      <td>FL</td>\n",
       "      <td>32806</td>\n",
       "      <td>28.513265</td>\n",
       "      <td>-81.374707</td>\n",
       "      <td>4.5</td>\n",
       "      <td>135</td>\n",
       "      <td>1</td>\n",
       "      <td>{'BusinessParking': '{'garage': False, 'street...</td>\n",
       "      <td>Restaurants, American (New), Bakeries, Dessert...</td>\n",
       "      <td>{'Tuesday': '11:0-18:0', 'Wednesday': '11:0-18...</td>\n",
       "      <td>American</td>\n",
       "    </tr>\n",
       "    <tr>\n",
       "      <th>2</th>\n",
       "      <td>jGennaZUr2MsJyRhijNBfA</td>\n",
       "      <td>Legal Sea Foods</td>\n",
       "      <td>1 Harborside Dr</td>\n",
       "      <td>BOSTON</td>\n",
       "      <td>MA</td>\n",
       "      <td>02128</td>\n",
       "      <td>42.363442</td>\n",
       "      <td>-71.025781</td>\n",
       "      <td>3.5</td>\n",
       "      <td>856</td>\n",
       "      <td>1</td>\n",
       "      <td>{'NoiseLevel': 'u'average'', 'BikeParking': 'F...</td>\n",
       "      <td>Sandwiches, Food, Restaurants, Breakfast &amp; Bru...</td>\n",
       "      <td>{'Monday': '6:0-21:0', 'Tuesday': '6:0-21:0', ...</td>\n",
       "      <td>Italian</td>\n",
       "    </tr>\n",
       "    <tr>\n",
       "      <th>3</th>\n",
       "      <td>iPD8BBvea6YldQZPHzVrSQ</td>\n",
       "      <td>Espresso Minute</td>\n",
       "      <td>334 Mass Ave</td>\n",
       "      <td>BOSTON</td>\n",
       "      <td>MA</td>\n",
       "      <td>02115</td>\n",
       "      <td>42.342673</td>\n",
       "      <td>-71.084239</td>\n",
       "      <td>4.5</td>\n",
       "      <td>7</td>\n",
       "      <td>0</td>\n",
       "      <td>{'NoiseLevel': ''quiet'', 'GoodForKids': 'True...</td>\n",
       "      <td>Creperies, Restaurants, Food, Coffee &amp; Tea, Br...</td>\n",
       "      <td>{'Tuesday': '8:0-20:0', 'Wednesday': '8:0-20:0...</td>\n",
       "      <td>NaN</td>\n",
       "    </tr>\n",
       "    <tr>\n",
       "      <th>4</th>\n",
       "      <td>jx91IMdGOmLOo8h_F9z39g</td>\n",
       "      <td>Cleary's Restaurant &amp; Spirits</td>\n",
       "      <td>12429 NE Glisan St</td>\n",
       "      <td>PORTLAND</td>\n",
       "      <td>OR</td>\n",
       "      <td>97230</td>\n",
       "      <td>45.526473</td>\n",
       "      <td>-122.535323</td>\n",
       "      <td>3.5</td>\n",
       "      <td>19</td>\n",
       "      <td>1</td>\n",
       "      <td>{'RestaurantsGoodForGroups': 'True', 'Alcohol'...</td>\n",
       "      <td>Nightlife, Sandwiches, Seafood, Restaurants</td>\n",
       "      <td>{'Monday': '7:0-23:0', 'Tuesday': '7:0-23:0', ...</td>\n",
       "      <td>NaN</td>\n",
       "    </tr>\n",
       "  </tbody>\n",
       "</table>\n",
       "</div>"
      ],
      "text/plain": [
       "              business_id                           name              address  \\\n",
       "0  tCbdrRPZA0oiIYSmHG3J0w        Flying Elephants at PDX  7000 NE Airport Way   \n",
       "1  ufCxltuh56FF4-ZFZ6cVhg                 Sister Honey's    247 E Michigan St   \n",
       "2  jGennaZUr2MsJyRhijNBfA                Legal Sea Foods      1 Harborside Dr   \n",
       "3  iPD8BBvea6YldQZPHzVrSQ                Espresso Minute         334 Mass Ave   \n",
       "4  jx91IMdGOmLOo8h_F9z39g  Cleary's Restaurant & Spirits   12429 NE Glisan St   \n",
       "\n",
       "       city state postal_code   latitude   longitude  stars  review_count  \\\n",
       "0  PORTLAND    OR       97218  45.588906 -122.593331    4.0           126   \n",
       "1   ORLANDO    FL       32806  28.513265  -81.374707    4.5           135   \n",
       "2    BOSTON    MA       02128  42.363442  -71.025781    3.5           856   \n",
       "3    BOSTON    MA       02115  42.342673  -71.084239    4.5             7   \n",
       "4  PORTLAND    OR       97230  45.526473 -122.535323    3.5            19   \n",
       "\n",
       "   is_open                                         attributes  \\\n",
       "0        1  {'RestaurantsTakeOut': 'True', 'RestaurantsAtt...   \n",
       "1        1  {'BusinessParking': '{'garage': False, 'street...   \n",
       "2        1  {'NoiseLevel': 'u'average'', 'BikeParking': 'F...   \n",
       "3        0  {'NoiseLevel': ''quiet'', 'GoodForKids': 'True...   \n",
       "4        1  {'RestaurantsGoodForGroups': 'True', 'Alcohol'...   \n",
       "\n",
       "                                          categories  \\\n",
       "0  Salad, Soup, Sandwiches, Delis, Restaurants, C...   \n",
       "1  Restaurants, American (New), Bakeries, Dessert...   \n",
       "2  Sandwiches, Food, Restaurants, Breakfast & Bru...   \n",
       "3  Creperies, Restaurants, Food, Coffee & Tea, Br...   \n",
       "4        Nightlife, Sandwiches, Seafood, Restaurants   \n",
       "\n",
       "                                               hours cuisine_type  \n",
       "0  {'Monday': '5:0-18:0', 'Tuesday': '5:0-17:0', ...          NaN  \n",
       "1  {'Tuesday': '11:0-18:0', 'Wednesday': '11:0-18...     American  \n",
       "2  {'Monday': '6:0-21:0', 'Tuesday': '6:0-21:0', ...      Italian  \n",
       "3  {'Tuesday': '8:0-20:0', 'Wednesday': '8:0-20:0...          NaN  \n",
       "4  {'Monday': '7:0-23:0', 'Tuesday': '7:0-23:0', ...          NaN  "
      ]
     },
     "execution_count": 38,
     "metadata": {},
     "output_type": "execute_result"
    }
   ],
   "source": [
    "restaurant_df.head()"
   ]
  },
  {
   "cell_type": "code",
   "execution_count": 39,
   "id": "c7647ef9",
   "metadata": {},
   "outputs": [
    {
     "data": {
      "text/plain": [
       "'Sandwiches, Food, Restaurants, Breakfast & Brunch, Seafood, Italian, Beer, Wine & Spirits, Cocktail Bars, Gluten-Free, Nightlife, Bars, Salad'"
      ]
     },
     "execution_count": 39,
     "metadata": {},
     "output_type": "execute_result"
    }
   ],
   "source": [
    "restaurant_df.iloc[2]['categories']"
   ]
  },
  {
   "cell_type": "markdown",
   "id": "43b65acb",
   "metadata": {},
   "source": [
    "## Compile steps"
   ]
  },
  {
   "cell_type": "code",
   "execution_count": 6,
   "id": "93db11aa",
   "metadata": {},
   "outputs": [],
   "source": [
    "# create a function to compile the steps\n",
    "def gen_category_column(restaurant_df, mapping_csv, category_type):\n",
    "    \"\"\"Generate a category column for a category type\n",
    "    \n",
    "       restaurant_df: a restaurant data frame from Yelp business dataset\n",
    "       mapping_csv: a string, containing the name of csv file that map categories\n",
    "       category_type: a string, for example 'cuisine_type', 'atmosphere_type'\n",
    "       \n",
    "       Return a data frame with a new category column\n",
    "    \"\"\"\n",
    "    # upload the mapping_csv into a data frame\n",
    "    mapping_df = pd.read_csv(mapping_csv)\n",
    "    \n",
    "    # create a dictionary of mapping\n",
    "    category_dict = gen_category_dict(mapping_df, category_type)\n",
    "    \n",
    "    # create a list of categories that fall under the category type\n",
    "    category_list = list(mapping_df['category'])\n",
    "    \n",
    "    # create a new column to tag whether a business' categories include the category type\n",
    "    condition = restaurant_df.categories.apply(identify_category_type, args = (category_list,))\n",
    "    \n",
    "    # map the category\n",
    "    category_mapped = restaurant_df.categories.apply(map_category_type, args = (category_list, category_dict))\n",
    "    restaurant_df.loc[condition, category_type] = category_mapped\n",
    "    \n",
    "    return restaurant_df\n",
    "    \n",
    "    "
   ]
  },
  {
   "cell_type": "code",
   "execution_count": 7,
   "id": "1a4e0355",
   "metadata": {},
   "outputs": [],
   "source": [
    "updated_restaurant_df = gen_category_column(restaurant_df, 'categories_mapping_cuisine_type.csv', 'cuisine_type')"
   ]
  },
  {
   "cell_type": "code",
   "execution_count": 8,
   "id": "bbb474f6",
   "metadata": {},
   "outputs": [
    {
     "data": {
      "text/html": [
       "<div>\n",
       "<style scoped>\n",
       "    .dataframe tbody tr th:only-of-type {\n",
       "        vertical-align: middle;\n",
       "    }\n",
       "\n",
       "    .dataframe tbody tr th {\n",
       "        vertical-align: top;\n",
       "    }\n",
       "\n",
       "    .dataframe thead th {\n",
       "        text-align: right;\n",
       "    }\n",
       "</style>\n",
       "<table border=\"1\" class=\"dataframe\">\n",
       "  <thead>\n",
       "    <tr style=\"text-align: right;\">\n",
       "      <th></th>\n",
       "      <th>business_id</th>\n",
       "      <th>name</th>\n",
       "      <th>address</th>\n",
       "      <th>city</th>\n",
       "      <th>state</th>\n",
       "      <th>postal_code</th>\n",
       "      <th>latitude</th>\n",
       "      <th>longitude</th>\n",
       "      <th>stars</th>\n",
       "      <th>review_count</th>\n",
       "      <th>is_open</th>\n",
       "      <th>attributes</th>\n",
       "      <th>categories</th>\n",
       "      <th>hours</th>\n",
       "      <th>cuisine_type</th>\n",
       "    </tr>\n",
       "  </thead>\n",
       "  <tbody>\n",
       "    <tr>\n",
       "      <th>0</th>\n",
       "      <td>tCbdrRPZA0oiIYSmHG3J0w</td>\n",
       "      <td>Flying Elephants at PDX</td>\n",
       "      <td>7000 NE Airport Way</td>\n",
       "      <td>PORTLAND</td>\n",
       "      <td>OR</td>\n",
       "      <td>97218</td>\n",
       "      <td>45.588906</td>\n",
       "      <td>-122.593331</td>\n",
       "      <td>4.0</td>\n",
       "      <td>126</td>\n",
       "      <td>1</td>\n",
       "      <td>{'RestaurantsTakeOut': 'True', 'RestaurantsAtt...</td>\n",
       "      <td>Salad, Soup, Sandwiches, Delis, Restaurants, C...</td>\n",
       "      <td>{'Monday': '5:0-18:0', 'Tuesday': '5:0-17:0', ...</td>\n",
       "      <td>NaN</td>\n",
       "    </tr>\n",
       "    <tr>\n",
       "      <th>1</th>\n",
       "      <td>ufCxltuh56FF4-ZFZ6cVhg</td>\n",
       "      <td>Sister Honey's</td>\n",
       "      <td>247 E Michigan St</td>\n",
       "      <td>ORLANDO</td>\n",
       "      <td>FL</td>\n",
       "      <td>32806</td>\n",
       "      <td>28.513265</td>\n",
       "      <td>-81.374707</td>\n",
       "      <td>4.5</td>\n",
       "      <td>135</td>\n",
       "      <td>1</td>\n",
       "      <td>{'BusinessParking': '{'garage': False, 'street...</td>\n",
       "      <td>Restaurants, American (New), Bakeries, Dessert...</td>\n",
       "      <td>{'Tuesday': '11:0-18:0', 'Wednesday': '11:0-18...</td>\n",
       "      <td>American</td>\n",
       "    </tr>\n",
       "    <tr>\n",
       "      <th>2</th>\n",
       "      <td>jGennaZUr2MsJyRhijNBfA</td>\n",
       "      <td>Legal Sea Foods</td>\n",
       "      <td>1 Harborside Dr</td>\n",
       "      <td>BOSTON</td>\n",
       "      <td>MA</td>\n",
       "      <td>02128</td>\n",
       "      <td>42.363442</td>\n",
       "      <td>-71.025781</td>\n",
       "      <td>3.5</td>\n",
       "      <td>856</td>\n",
       "      <td>1</td>\n",
       "      <td>{'NoiseLevel': 'u'average'', 'BikeParking': 'F...</td>\n",
       "      <td>Sandwiches, Food, Restaurants, Breakfast &amp; Bru...</td>\n",
       "      <td>{'Monday': '6:0-21:0', 'Tuesday': '6:0-21:0', ...</td>\n",
       "      <td>Italian</td>\n",
       "    </tr>\n",
       "    <tr>\n",
       "      <th>3</th>\n",
       "      <td>iPD8BBvea6YldQZPHzVrSQ</td>\n",
       "      <td>Espresso Minute</td>\n",
       "      <td>334 Mass Ave</td>\n",
       "      <td>BOSTON</td>\n",
       "      <td>MA</td>\n",
       "      <td>02115</td>\n",
       "      <td>42.342673</td>\n",
       "      <td>-71.084239</td>\n",
       "      <td>4.5</td>\n",
       "      <td>7</td>\n",
       "      <td>0</td>\n",
       "      <td>{'NoiseLevel': ''quiet'', 'GoodForKids': 'True...</td>\n",
       "      <td>Creperies, Restaurants, Food, Coffee &amp; Tea, Br...</td>\n",
       "      <td>{'Tuesday': '8:0-20:0', 'Wednesday': '8:0-20:0...</td>\n",
       "      <td>NaN</td>\n",
       "    </tr>\n",
       "    <tr>\n",
       "      <th>4</th>\n",
       "      <td>jx91IMdGOmLOo8h_F9z39g</td>\n",
       "      <td>Cleary's Restaurant &amp; Spirits</td>\n",
       "      <td>12429 NE Glisan St</td>\n",
       "      <td>PORTLAND</td>\n",
       "      <td>OR</td>\n",
       "      <td>97230</td>\n",
       "      <td>45.526473</td>\n",
       "      <td>-122.535323</td>\n",
       "      <td>3.5</td>\n",
       "      <td>19</td>\n",
       "      <td>1</td>\n",
       "      <td>{'RestaurantsGoodForGroups': 'True', 'Alcohol'...</td>\n",
       "      <td>Nightlife, Sandwiches, Seafood, Restaurants</td>\n",
       "      <td>{'Monday': '7:0-23:0', 'Tuesday': '7:0-23:0', ...</td>\n",
       "      <td>NaN</td>\n",
       "    </tr>\n",
       "  </tbody>\n",
       "</table>\n",
       "</div>"
      ],
      "text/plain": [
       "              business_id                           name              address  \\\n",
       "0  tCbdrRPZA0oiIYSmHG3J0w        Flying Elephants at PDX  7000 NE Airport Way   \n",
       "1  ufCxltuh56FF4-ZFZ6cVhg                 Sister Honey's    247 E Michigan St   \n",
       "2  jGennaZUr2MsJyRhijNBfA                Legal Sea Foods      1 Harborside Dr   \n",
       "3  iPD8BBvea6YldQZPHzVrSQ                Espresso Minute         334 Mass Ave   \n",
       "4  jx91IMdGOmLOo8h_F9z39g  Cleary's Restaurant & Spirits   12429 NE Glisan St   \n",
       "\n",
       "       city state postal_code   latitude   longitude  stars  review_count  \\\n",
       "0  PORTLAND    OR       97218  45.588906 -122.593331    4.0           126   \n",
       "1   ORLANDO    FL       32806  28.513265  -81.374707    4.5           135   \n",
       "2    BOSTON    MA       02128  42.363442  -71.025781    3.5           856   \n",
       "3    BOSTON    MA       02115  42.342673  -71.084239    4.5             7   \n",
       "4  PORTLAND    OR       97230  45.526473 -122.535323    3.5            19   \n",
       "\n",
       "   is_open                                         attributes  \\\n",
       "0        1  {'RestaurantsTakeOut': 'True', 'RestaurantsAtt...   \n",
       "1        1  {'BusinessParking': '{'garage': False, 'street...   \n",
       "2        1  {'NoiseLevel': 'u'average'', 'BikeParking': 'F...   \n",
       "3        0  {'NoiseLevel': ''quiet'', 'GoodForKids': 'True...   \n",
       "4        1  {'RestaurantsGoodForGroups': 'True', 'Alcohol'...   \n",
       "\n",
       "                                          categories  \\\n",
       "0  Salad, Soup, Sandwiches, Delis, Restaurants, C...   \n",
       "1  Restaurants, American (New), Bakeries, Dessert...   \n",
       "2  Sandwiches, Food, Restaurants, Breakfast & Bru...   \n",
       "3  Creperies, Restaurants, Food, Coffee & Tea, Br...   \n",
       "4        Nightlife, Sandwiches, Seafood, Restaurants   \n",
       "\n",
       "                                               hours cuisine_type  \n",
       "0  {'Monday': '5:0-18:0', 'Tuesday': '5:0-17:0', ...          NaN  \n",
       "1  {'Tuesday': '11:0-18:0', 'Wednesday': '11:0-18...     American  \n",
       "2  {'Monday': '6:0-21:0', 'Tuesday': '6:0-21:0', ...      Italian  \n",
       "3  {'Tuesday': '8:0-20:0', 'Wednesday': '8:0-20:0...          NaN  \n",
       "4  {'Monday': '7:0-23:0', 'Tuesday': '7:0-23:0', ...          NaN  "
      ]
     },
     "execution_count": 8,
     "metadata": {},
     "output_type": "execute_result"
    }
   ],
   "source": [
    "updated_restaurant_df.head()"
   ]
  },
  {
   "cell_type": "code",
   "execution_count": 9,
   "id": "087247c8",
   "metadata": {},
   "outputs": [
    {
     "data": {
      "text/plain": [
       "(14970, 15)"
      ]
     },
     "execution_count": 9,
     "metadata": {},
     "output_type": "execute_result"
    }
   ],
   "source": [
    "updated_restaurant_df.shape"
   ]
  },
  {
   "cell_type": "markdown",
   "id": "8c02b0e6",
   "metadata": {},
   "source": [
    "# Loop for all category types"
   ]
  },
  {
   "cell_type": "code",
   "execution_count": 7,
   "id": "5174027d",
   "metadata": {},
   "outputs": [],
   "source": [
    "categories = [['categories_mapping_cuisine_type.csv', 'cuisine_type'],\n",
    "              ['categories_mapping_food_type.csv', 'food_type'],\n",
    "              ['categories_mapping_atmosphere_type.csv', 'atmosphere_type'],\n",
    "              ['categories_mapping_dietary_type.csv', 'dietary_type']\n",
    "]"
   ]
  },
  {
   "cell_type": "code",
   "execution_count": 8,
   "id": "f67e168d",
   "metadata": {},
   "outputs": [],
   "source": [
    "for a_type in categories:\n",
    "    gen_category_column(restaurant_df, a_type[0], a_type[1])"
   ]
  },
  {
   "cell_type": "code",
   "execution_count": 9,
   "id": "18364cf9",
   "metadata": {},
   "outputs": [
    {
     "data": {
      "text/plain": [
       "(14970, 18)"
      ]
     },
     "execution_count": 9,
     "metadata": {},
     "output_type": "execute_result"
    }
   ],
   "source": [
    "restaurant_df.shape"
   ]
  },
  {
   "cell_type": "code",
   "execution_count": 10,
   "id": "88828778",
   "metadata": {},
   "outputs": [
    {
     "data": {
      "text/html": [
       "<div>\n",
       "<style scoped>\n",
       "    .dataframe tbody tr th:only-of-type {\n",
       "        vertical-align: middle;\n",
       "    }\n",
       "\n",
       "    .dataframe tbody tr th {\n",
       "        vertical-align: top;\n",
       "    }\n",
       "\n",
       "    .dataframe thead th {\n",
       "        text-align: right;\n",
       "    }\n",
       "</style>\n",
       "<table border=\"1\" class=\"dataframe\">\n",
       "  <thead>\n",
       "    <tr style=\"text-align: right;\">\n",
       "      <th></th>\n",
       "      <th>business_id</th>\n",
       "      <th>name</th>\n",
       "      <th>address</th>\n",
       "      <th>city</th>\n",
       "      <th>state</th>\n",
       "      <th>postal_code</th>\n",
       "      <th>latitude</th>\n",
       "      <th>longitude</th>\n",
       "      <th>stars</th>\n",
       "      <th>review_count</th>\n",
       "      <th>is_open</th>\n",
       "      <th>attributes</th>\n",
       "      <th>categories</th>\n",
       "      <th>hours</th>\n",
       "      <th>cuisine_type</th>\n",
       "      <th>food_type</th>\n",
       "      <th>atmosphere_type</th>\n",
       "      <th>dietary_type</th>\n",
       "    </tr>\n",
       "  </thead>\n",
       "  <tbody>\n",
       "    <tr>\n",
       "      <th>0</th>\n",
       "      <td>tCbdrRPZA0oiIYSmHG3J0w</td>\n",
       "      <td>Flying Elephants at PDX</td>\n",
       "      <td>7000 NE Airport Way</td>\n",
       "      <td>PORTLAND</td>\n",
       "      <td>OR</td>\n",
       "      <td>97218</td>\n",
       "      <td>45.588906</td>\n",
       "      <td>-122.593331</td>\n",
       "      <td>4.0</td>\n",
       "      <td>126</td>\n",
       "      <td>1</td>\n",
       "      <td>{'RestaurantsTakeOut': 'True', 'RestaurantsAtt...</td>\n",
       "      <td>Salad, Soup, Sandwiches, Delis, Restaurants, C...</td>\n",
       "      <td>{'Monday': '5:0-18:0', 'Tuesday': '5:0-17:0', ...</td>\n",
       "      <td>NaN</td>\n",
       "      <td>Salad</td>\n",
       "      <td>Delis</td>\n",
       "      <td>Vegetarian</td>\n",
       "    </tr>\n",
       "    <tr>\n",
       "      <th>1</th>\n",
       "      <td>ufCxltuh56FF4-ZFZ6cVhg</td>\n",
       "      <td>Sister Honey's</td>\n",
       "      <td>247 E Michigan St</td>\n",
       "      <td>ORLANDO</td>\n",
       "      <td>FL</td>\n",
       "      <td>32806</td>\n",
       "      <td>28.513265</td>\n",
       "      <td>-81.374707</td>\n",
       "      <td>4.5</td>\n",
       "      <td>135</td>\n",
       "      <td>1</td>\n",
       "      <td>{'BusinessParking': '{'garage': False, 'street...</td>\n",
       "      <td>Restaurants, American (New), Bakeries, Dessert...</td>\n",
       "      <td>{'Tuesday': '11:0-18:0', 'Wednesday': '11:0-18...</td>\n",
       "      <td>American</td>\n",
       "      <td>Bakeries</td>\n",
       "      <td>NaN</td>\n",
       "      <td>NaN</td>\n",
       "    </tr>\n",
       "    <tr>\n",
       "      <th>2</th>\n",
       "      <td>jGennaZUr2MsJyRhijNBfA</td>\n",
       "      <td>Legal Sea Foods</td>\n",
       "      <td>1 Harborside Dr</td>\n",
       "      <td>BOSTON</td>\n",
       "      <td>MA</td>\n",
       "      <td>02128</td>\n",
       "      <td>42.363442</td>\n",
       "      <td>-71.025781</td>\n",
       "      <td>3.5</td>\n",
       "      <td>856</td>\n",
       "      <td>1</td>\n",
       "      <td>{'NoiseLevel': 'u'average'', 'BikeParking': 'F...</td>\n",
       "      <td>Sandwiches, Food, Restaurants, Breakfast &amp; Bru...</td>\n",
       "      <td>{'Monday': '6:0-21:0', 'Tuesday': '6:0-21:0', ...</td>\n",
       "      <td>Italian</td>\n",
       "      <td>Sandwiches &amp; Wraps</td>\n",
       "      <td>Bars related</td>\n",
       "      <td>Gluten-Free</td>\n",
       "    </tr>\n",
       "    <tr>\n",
       "      <th>3</th>\n",
       "      <td>iPD8BBvea6YldQZPHzVrSQ</td>\n",
       "      <td>Espresso Minute</td>\n",
       "      <td>334 Mass Ave</td>\n",
       "      <td>BOSTON</td>\n",
       "      <td>MA</td>\n",
       "      <td>02115</td>\n",
       "      <td>42.342673</td>\n",
       "      <td>-71.084239</td>\n",
       "      <td>4.5</td>\n",
       "      <td>7</td>\n",
       "      <td>0</td>\n",
       "      <td>{'NoiseLevel': ''quiet'', 'GoodForKids': 'True...</td>\n",
       "      <td>Creperies, Restaurants, Food, Coffee &amp; Tea, Br...</td>\n",
       "      <td>{'Tuesday': '8:0-20:0', 'Wednesday': '8:0-20:0...</td>\n",
       "      <td>NaN</td>\n",
       "      <td>Desserts</td>\n",
       "      <td>NaN</td>\n",
       "      <td>NaN</td>\n",
       "    </tr>\n",
       "    <tr>\n",
       "      <th>4</th>\n",
       "      <td>jx91IMdGOmLOo8h_F9z39g</td>\n",
       "      <td>Cleary's Restaurant &amp; Spirits</td>\n",
       "      <td>12429 NE Glisan St</td>\n",
       "      <td>PORTLAND</td>\n",
       "      <td>OR</td>\n",
       "      <td>97230</td>\n",
       "      <td>45.526473</td>\n",
       "      <td>-122.535323</td>\n",
       "      <td>3.5</td>\n",
       "      <td>19</td>\n",
       "      <td>1</td>\n",
       "      <td>{'RestaurantsGoodForGroups': 'True', 'Alcohol'...</td>\n",
       "      <td>Nightlife, Sandwiches, Seafood, Restaurants</td>\n",
       "      <td>{'Monday': '7:0-23:0', 'Tuesday': '7:0-23:0', ...</td>\n",
       "      <td>NaN</td>\n",
       "      <td>Sandwiches &amp; Wraps</td>\n",
       "      <td>NaN</td>\n",
       "      <td>NaN</td>\n",
       "    </tr>\n",
       "    <tr>\n",
       "      <th>...</th>\n",
       "      <td>...</td>\n",
       "      <td>...</td>\n",
       "      <td>...</td>\n",
       "      <td>...</td>\n",
       "      <td>...</td>\n",
       "      <td>...</td>\n",
       "      <td>...</td>\n",
       "      <td>...</td>\n",
       "      <td>...</td>\n",
       "      <td>...</td>\n",
       "      <td>...</td>\n",
       "      <td>...</td>\n",
       "      <td>...</td>\n",
       "      <td>...</td>\n",
       "      <td>...</td>\n",
       "      <td>...</td>\n",
       "      <td>...</td>\n",
       "      <td>...</td>\n",
       "    </tr>\n",
       "    <tr>\n",
       "      <th>14965</th>\n",
       "      <td>m5eUPVD0Hu39Ff-Uqe-FLA</td>\n",
       "      <td>The Italian Joint</td>\n",
       "      <td>3145 SE Hawthorne Blvd</td>\n",
       "      <td>PORTLAND</td>\n",
       "      <td>OR</td>\n",
       "      <td>97203</td>\n",
       "      <td>45.512196</td>\n",
       "      <td>-122.632865</td>\n",
       "      <td>3.5</td>\n",
       "      <td>20</td>\n",
       "      <td>0</td>\n",
       "      <td>{'RestaurantsGoodForGroups': 'False', 'GoodFor...</td>\n",
       "      <td>Italian, Restaurants</td>\n",
       "      <td>None</td>\n",
       "      <td>Italian</td>\n",
       "      <td>NaN</td>\n",
       "      <td>NaN</td>\n",
       "      <td>NaN</td>\n",
       "    </tr>\n",
       "    <tr>\n",
       "      <th>14966</th>\n",
       "      <td>87f7kR7nTz8WHnmtLM_S6w</td>\n",
       "      <td>O Ya</td>\n",
       "      <td>9 East St Pl</td>\n",
       "      <td>BOSTON</td>\n",
       "      <td>MA</td>\n",
       "      <td>02111</td>\n",
       "      <td>42.351408</td>\n",
       "      <td>-71.056867</td>\n",
       "      <td>4.5</td>\n",
       "      <td>737</td>\n",
       "      <td>1</td>\n",
       "      <td>{'RestaurantsPriceRange2': '4', 'RestaurantsGo...</td>\n",
       "      <td>Japanese, Sushi Bars, Restaurants</td>\n",
       "      <td>{'Monday': '0:0-0:0', 'Tuesday': '17:0-21:30',...</td>\n",
       "      <td>Japanese</td>\n",
       "      <td>NaN</td>\n",
       "      <td>Bars related</td>\n",
       "      <td>NaN</td>\n",
       "    </tr>\n",
       "    <tr>\n",
       "      <th>14967</th>\n",
       "      <td>jYgqSazE0gUyI7qq086Dzw</td>\n",
       "      <td>Chart House</td>\n",
       "      <td>5700 SW Terwilliger</td>\n",
       "      <td>PORTLAND</td>\n",
       "      <td>OR</td>\n",
       "      <td>97239</td>\n",
       "      <td>45.483154</td>\n",
       "      <td>-122.682748</td>\n",
       "      <td>3.5</td>\n",
       "      <td>457</td>\n",
       "      <td>1</td>\n",
       "      <td>{'BusinessAcceptsCreditCards': 'True', 'Outdoo...</td>\n",
       "      <td>Event Planning &amp; Services, Steakhouses, Seafoo...</td>\n",
       "      <td>{'Tuesday': '16:0-21:0', 'Wednesday': '16:0-21...</td>\n",
       "      <td>American</td>\n",
       "      <td>Steakhouses</td>\n",
       "      <td>NaN</td>\n",
       "      <td>NaN</td>\n",
       "    </tr>\n",
       "    <tr>\n",
       "      <th>14968</th>\n",
       "      <td>r5Uag1JqYjr2nbxQCVqm8A</td>\n",
       "      <td>Saigon Noodle &amp; Grill</td>\n",
       "      <td>101 N Bumby Ave</td>\n",
       "      <td>ORLANDO</td>\n",
       "      <td>FL</td>\n",
       "      <td>32803</td>\n",
       "      <td>28.544430</td>\n",
       "      <td>-81.351606</td>\n",
       "      <td>4.5</td>\n",
       "      <td>437</td>\n",
       "      <td>1</td>\n",
       "      <td>{'Alcohol': 'u'beer_and_wine'', 'RestaurantsAt...</td>\n",
       "      <td>Restaurants, Noodles, Salad, Vietnamese, Veget...</td>\n",
       "      <td>{'Monday': '0:0-0:0', 'Tuesday': '10:30-21:30'...</td>\n",
       "      <td>Vietnamese</td>\n",
       "      <td>Noodles related</td>\n",
       "      <td>NaN</td>\n",
       "      <td>Vegetarian</td>\n",
       "    </tr>\n",
       "    <tr>\n",
       "      <th>14969</th>\n",
       "      <td>uXdQkuEtvLAzfc3MsO-sTQ</td>\n",
       "      <td>Mama's Cocina Latina</td>\n",
       "      <td>1958 Piedmont Rd NE</td>\n",
       "      <td>ATLANTA</td>\n",
       "      <td>GA</td>\n",
       "      <td>30324</td>\n",
       "      <td>33.810996</td>\n",
       "      <td>-84.367084</td>\n",
       "      <td>3.0</td>\n",
       "      <td>185</td>\n",
       "      <td>1</td>\n",
       "      <td>{'WiFi': 'u'no'', 'BusinessAcceptsCreditCards'...</td>\n",
       "      <td>Restaurants, Mexican, Latin American</td>\n",
       "      <td>{'Monday': '0:0-0:0', 'Tuesday': '0:0-0:0', 'W...</td>\n",
       "      <td>Mexican</td>\n",
       "      <td>NaN</td>\n",
       "      <td>NaN</td>\n",
       "      <td>NaN</td>\n",
       "    </tr>\n",
       "  </tbody>\n",
       "</table>\n",
       "<p>14970 rows × 18 columns</p>\n",
       "</div>"
      ],
      "text/plain": [
       "                  business_id                           name  \\\n",
       "0      tCbdrRPZA0oiIYSmHG3J0w        Flying Elephants at PDX   \n",
       "1      ufCxltuh56FF4-ZFZ6cVhg                 Sister Honey's   \n",
       "2      jGennaZUr2MsJyRhijNBfA                Legal Sea Foods   \n",
       "3      iPD8BBvea6YldQZPHzVrSQ                Espresso Minute   \n",
       "4      jx91IMdGOmLOo8h_F9z39g  Cleary's Restaurant & Spirits   \n",
       "...                       ...                            ...   \n",
       "14965  m5eUPVD0Hu39Ff-Uqe-FLA              The Italian Joint   \n",
       "14966  87f7kR7nTz8WHnmtLM_S6w                           O Ya   \n",
       "14967  jYgqSazE0gUyI7qq086Dzw                    Chart House   \n",
       "14968  r5Uag1JqYjr2nbxQCVqm8A          Saigon Noodle & Grill   \n",
       "14969  uXdQkuEtvLAzfc3MsO-sTQ           Mama's Cocina Latina   \n",
       "\n",
       "                      address      city state postal_code   latitude  \\\n",
       "0         7000 NE Airport Way  PORTLAND    OR       97218  45.588906   \n",
       "1           247 E Michigan St   ORLANDO    FL       32806  28.513265   \n",
       "2             1 Harborside Dr    BOSTON    MA       02128  42.363442   \n",
       "3                334 Mass Ave    BOSTON    MA       02115  42.342673   \n",
       "4          12429 NE Glisan St  PORTLAND    OR       97230  45.526473   \n",
       "...                       ...       ...   ...         ...        ...   \n",
       "14965  3145 SE Hawthorne Blvd  PORTLAND    OR       97203  45.512196   \n",
       "14966            9 East St Pl    BOSTON    MA       02111  42.351408   \n",
       "14967     5700 SW Terwilliger  PORTLAND    OR       97239  45.483154   \n",
       "14968         101 N Bumby Ave   ORLANDO    FL       32803  28.544430   \n",
       "14969     1958 Piedmont Rd NE   ATLANTA    GA       30324  33.810996   \n",
       "\n",
       "        longitude  stars  review_count  is_open  \\\n",
       "0     -122.593331    4.0           126        1   \n",
       "1      -81.374707    4.5           135        1   \n",
       "2      -71.025781    3.5           856        1   \n",
       "3      -71.084239    4.5             7        0   \n",
       "4     -122.535323    3.5            19        1   \n",
       "...           ...    ...           ...      ...   \n",
       "14965 -122.632865    3.5            20        0   \n",
       "14966  -71.056867    4.5           737        1   \n",
       "14967 -122.682748    3.5           457        1   \n",
       "14968  -81.351606    4.5           437        1   \n",
       "14969  -84.367084    3.0           185        1   \n",
       "\n",
       "                                              attributes  \\\n",
       "0      {'RestaurantsTakeOut': 'True', 'RestaurantsAtt...   \n",
       "1      {'BusinessParking': '{'garage': False, 'street...   \n",
       "2      {'NoiseLevel': 'u'average'', 'BikeParking': 'F...   \n",
       "3      {'NoiseLevel': ''quiet'', 'GoodForKids': 'True...   \n",
       "4      {'RestaurantsGoodForGroups': 'True', 'Alcohol'...   \n",
       "...                                                  ...   \n",
       "14965  {'RestaurantsGoodForGroups': 'False', 'GoodFor...   \n",
       "14966  {'RestaurantsPriceRange2': '4', 'RestaurantsGo...   \n",
       "14967  {'BusinessAcceptsCreditCards': 'True', 'Outdoo...   \n",
       "14968  {'Alcohol': 'u'beer_and_wine'', 'RestaurantsAt...   \n",
       "14969  {'WiFi': 'u'no'', 'BusinessAcceptsCreditCards'...   \n",
       "\n",
       "                                              categories  \\\n",
       "0      Salad, Soup, Sandwiches, Delis, Restaurants, C...   \n",
       "1      Restaurants, American (New), Bakeries, Dessert...   \n",
       "2      Sandwiches, Food, Restaurants, Breakfast & Bru...   \n",
       "3      Creperies, Restaurants, Food, Coffee & Tea, Br...   \n",
       "4            Nightlife, Sandwiches, Seafood, Restaurants   \n",
       "...                                                  ...   \n",
       "14965                               Italian, Restaurants   \n",
       "14966                  Japanese, Sushi Bars, Restaurants   \n",
       "14967  Event Planning & Services, Steakhouses, Seafoo...   \n",
       "14968  Restaurants, Noodles, Salad, Vietnamese, Veget...   \n",
       "14969               Restaurants, Mexican, Latin American   \n",
       "\n",
       "                                                   hours cuisine_type  \\\n",
       "0      {'Monday': '5:0-18:0', 'Tuesday': '5:0-17:0', ...          NaN   \n",
       "1      {'Tuesday': '11:0-18:0', 'Wednesday': '11:0-18...     American   \n",
       "2      {'Monday': '6:0-21:0', 'Tuesday': '6:0-21:0', ...      Italian   \n",
       "3      {'Tuesday': '8:0-20:0', 'Wednesday': '8:0-20:0...          NaN   \n",
       "4      {'Monday': '7:0-23:0', 'Tuesday': '7:0-23:0', ...          NaN   \n",
       "...                                                  ...          ...   \n",
       "14965                                               None      Italian   \n",
       "14966  {'Monday': '0:0-0:0', 'Tuesday': '17:0-21:30',...     Japanese   \n",
       "14967  {'Tuesday': '16:0-21:0', 'Wednesday': '16:0-21...     American   \n",
       "14968  {'Monday': '0:0-0:0', 'Tuesday': '10:30-21:30'...   Vietnamese   \n",
       "14969  {'Monday': '0:0-0:0', 'Tuesday': '0:0-0:0', 'W...      Mexican   \n",
       "\n",
       "                food_type atmosphere_type dietary_type  \n",
       "0                   Salad           Delis   Vegetarian  \n",
       "1                Bakeries             NaN          NaN  \n",
       "2      Sandwiches & Wraps    Bars related  Gluten-Free  \n",
       "3                Desserts             NaN          NaN  \n",
       "4      Sandwiches & Wraps             NaN          NaN  \n",
       "...                   ...             ...          ...  \n",
       "14965                 NaN             NaN          NaN  \n",
       "14966                 NaN    Bars related          NaN  \n",
       "14967         Steakhouses             NaN          NaN  \n",
       "14968     Noodles related             NaN   Vegetarian  \n",
       "14969                 NaN             NaN          NaN  \n",
       "\n",
       "[14970 rows x 18 columns]"
      ]
     },
     "execution_count": 10,
     "metadata": {},
     "output_type": "execute_result"
    }
   ],
   "source": [
    "restaurant_df"
   ]
  },
  {
   "cell_type": "code",
   "execution_count": 11,
   "id": "ff8fd234",
   "metadata": {},
   "outputs": [
    {
     "data": {
      "text/plain": [
       "NaN                     4333\n",
       "American                3922\n",
       "Italian                 1094\n",
       "Mexican                 1084\n",
       "Other Asian              726\n",
       "Chinese                  703\n",
       "Japanese                 609\n",
       "Other Mediterranean      428\n",
       "Other Latin American     386\n",
       "Other European           371\n",
       "Thai                     350\n",
       "Vietnamese               289\n",
       "Caribean                 223\n",
       "Tex-Mex                  219\n",
       "Middle Eastern           139\n",
       "African                   89\n",
       "Other                      5\n",
       "Name: cuisine_type, dtype: int64"
      ]
     },
     "execution_count": 11,
     "metadata": {},
     "output_type": "execute_result"
    }
   ],
   "source": [
    "restaurant_df.cuisine_type.value_counts(dropna = False)"
   ]
  },
  {
   "cell_type": "code",
   "execution_count": 12,
   "id": "00c847ad",
   "metadata": {},
   "outputs": [
    {
     "data": {
      "text/plain": [
       "NaN                       5860\n",
       "Pizza                     1180\n",
       "Breakfast & Brunch        1144\n",
       "Sandwiches & Wraps        1084\n",
       "Coffee & Tea               757\n",
       "Seafood                    718\n",
       "Other food                 608\n",
       "Burgers                    608\n",
       "Desserts                   477\n",
       "Bakeries                   448\n",
       "Salad                      385\n",
       "Barbeque                   379\n",
       "Chicken Wings              306\n",
       "Steakhouses                280\n",
       "Alcoholic drinks           266\n",
       "Noodles related            191\n",
       "Juice Bars & Smoothies     140\n",
       "Soup                       139\n",
       "Name: food_type, dtype: int64"
      ]
     },
     "execution_count": 12,
     "metadata": {},
     "output_type": "execute_result"
    }
   ],
   "source": [
    "restaurant_df.food_type.value_counts(dropna = False)"
   ]
  },
  {
   "cell_type": "code",
   "execution_count": 13,
   "id": "24a78551",
   "metadata": {},
   "outputs": [
    {
     "data": {
      "text/plain": [
       "NaN                                9222\n",
       "Bars related                       3648\n",
       "Cafes related                       845\n",
       "Delis                               371\n",
       "Diners and cafeteria related        319\n",
       "Pubs related                        282\n",
       "Buffets                             186\n",
       "Brewery and beer garden related      97\n",
       "Name: atmosphere_type, dtype: int64"
      ]
     },
     "execution_count": 13,
     "metadata": {},
     "output_type": "execute_result"
    }
   ],
   "source": [
    "restaurant_df.atmosphere_type.value_counts(dropna = False)"
   ]
  },
  {
   "cell_type": "code",
   "execution_count": 14,
   "id": "99acf202",
   "metadata": {},
   "outputs": [
    {
     "data": {
      "text/plain": [
       "NaN            13791\n",
       "Vegetarian       422\n",
       "Vegan            316\n",
       "Gluten-Free      290\n",
       "Halal            135\n",
       "Kosher            16\n",
       "Name: dietary_type, dtype: int64"
      ]
     },
     "execution_count": 14,
     "metadata": {},
     "output_type": "execute_result"
    }
   ],
   "source": [
    "restaurant_df.dietary_type.value_counts(dropna = False)"
   ]
  },
  {
   "cell_type": "code",
   "execution_count": null,
   "id": "86fcf649",
   "metadata": {},
   "outputs": [],
   "source": []
  }
 ],
 "metadata": {
  "kernelspec": {
   "display_name": "ds4aw-env",
   "language": "python",
   "name": "ds4aw-env"
  },
  "language_info": {
   "codemirror_mode": {
    "name": "ipython",
    "version": 3
   },
   "file_extension": ".py",
   "mimetype": "text/x-python",
   "name": "python",
   "nbconvert_exporter": "python",
   "pygments_lexer": "ipython3",
   "version": "3.7.11"
  }
 },
 "nbformat": 4,
 "nbformat_minor": 5
}
