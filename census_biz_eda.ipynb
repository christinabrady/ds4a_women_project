{
 "cells": [
  {
   "cell_type": "code",
   "execution_count": 1,
   "id": "78695581",
   "metadata": {},
   "outputs": [],
   "source": [
    "import pandas as pd\n",
    "import plotly.express as px\n",
    "import glob\n",
    "from collections import defaultdict\n",
    "import re\n",
    "import datetime\n",
    "# import wget\n",
    "import time\n",
    "import requests"
   ]
  },
  {
   "cell_type": "code",
   "execution_count": null,
   "id": "bd63d6bf",
   "metadata": {
    "scrolled": false
   },
   "outputs": [],
   "source": [
    "## apparently, pandas is not enough to read excel files\n",
    "## had to install openpyxl also\n",
    "## run only once\n",
    "# !pip3 install openpyxl\n"
   ]
  },
  {
   "cell_type": "code",
   "execution_count": null,
   "id": "58745cc5",
   "metadata": {},
   "outputs": [],
   "source": [
    "# download data programmatically. This is only run once\n",
    "base_sector_url = \"https://portal.census.gov/pulse/data/downloads/10/national_state_sector_09Aug20_15Aug20.xlsx\"\n",
    "base_msa_url = \"https://portal.census.gov/pulse/data/downloads/%s/top_50_msa_%s_%s.xlsx\"\n",
    "\n",
    "def download_census(base_url, start_date, i):\n",
    "    end = start_date + datetime.timedelta(days=6)\n",
    "    file_url = base_msa_url %(i, start.strftime(\"%d%b%y\"), end.strftime(\"%d%b%y\"))\n",
    "    local_file = \"./raw_data/census_pulse_msa_%s_%s.xlsx\" %(start.strftime(\"%d%b%y\"), end.strftime(\"%d%b%y\"))\n",
    "    print(\"Trying \", file_url)\n",
    "    try:\n",
    "        resp = requests.get(file_url)\n",
    "        with open(local_file, 'wb') as output:\n",
    "            output.write(resp.content)\n",
    "        time.sleep(3)\n",
    "    except:\n",
    "        pass\n",
    "\n",
    "## there is a 4-5 week break between survey instruments. We have to skip those dates otherwise they \n",
    "## will mess up the autoincrementing number\n",
    "skip = ['2020-06-28', '2020-07-05', '2020-07-12', '2020-07-19', '2020-07-26', '2020-08-02', '2020-10-11', \n",
    "        '2020-10-18', '2020-10-25', '2020-11-01', '2021-01-11', '2021-01-18', '2021-01-25', '2021-02-01', \n",
    "        '2021-02-08', '2021-04-19', '2021-04-26', '2021-05-03', '2021-05-10', '2021-07-19', '2021-07-26', \n",
    "        '2021-08-02', '2021-08-09']\n",
    "skip_dates = [datetime.datetime.strptime(dt, \"%Y-%m-%d\").date() for dt in skip]\n",
    "\n",
    "    \n",
    "# first_survey_date_2020 = datetime.datetime(2020, 4, 26).date()\n",
    "# last_survey_date_2020 = datetime.datetime(2020, 12, 29).date()\n",
    "\n",
    "# start = first_survey_date_2020\n",
    "# i = 1\n",
    "\n",
    "# while start < last_survey_date_2020:\n",
    "#     if start not in skip_dates:\n",
    "#         download_census(base_msa_url, start, i)\n",
    "#         start = start + datetime.timedelta(days=7)\n",
    "#         i += 1 \n",
    "#     else:\n",
    "#         start = start + datetime.timedelta(days=7)\n",
    "\n",
    "## in 2020 survey weeks started on Sundays, however in 2021 they start on Mondays so we have to split it up. \n",
    "## The auto-incremented number continues, though.\n",
    "\n",
    "first_survey_date_2021 = datetime.datetime(2021, 1, 4).date()\n",
    "last_survey_date_2021 = datetime.datetime(2021, 9, 21).date()\n",
    "\n",
    "start = first_survey_date_2021\n",
    "i = 27\n",
    "while start < last_survey_date_2021:\n",
    "    if start not in skip_dates:\n",
    "        download_census(base_msa_url, start, i)\n",
    "        start = start + datetime.timedelta(days=7)  \n",
    "        i += 1\n",
    "    else:\n",
    "        start = start + datetime.timedelta(days=7)\n",
    "\n"
   ]
  },
  {
   "cell_type": "code",
   "execution_count": 2,
   "id": "8191a02b",
   "metadata": {},
   "outputs": [],
   "source": [
    "## set global variables\n",
    "yelp_cities = ['Montreal', 'Calgary', 'Toronto', 'Pittsburgh', 'Charlotte', 'Urbana-Champaign', 'Phoenix',\n",
    "              'Las Vegas', 'Madison', 'Cleveland']\n",
    "yelp_states = ['PA', 'NC', 'IL', 'AZ', 'NV', 'WI', 'OH']\n",
    "\n",
    "# read in files using glob\n",
    "dpath = \"/Users/christinabrady/Documents/codebase/ds4a_women_project/raw_data/*.xlsx\"\n",
    "msas = glob.glob(dpath)\n",
    "\n",
    "# get MSAs that match yelp data\n",
    "matches = defaultdict(list)\n",
    "census_cities = pd.read_excel(msas[0]).MSA.unique()\n",
    "for ycity in yelp_cities:\n",
    "    for ccity in census_cities:\n",
    "        if ycity in ccity:\n",
    "            matches[ycity].append(ccity)\n",
    "    \n",
    "flattened_ccities = [city for cities in matches.values() for city in cities]       \n",
    "    "
   ]
  },
  {
   "cell_type": "code",
   "execution_count": 3,
   "id": "fc7bf7aa",
   "metadata": {},
   "outputs": [
    {
     "name": "stdout",
     "output_type": "stream",
     "text": [
      "There are 5 matching cities.\n",
      "dict_keys(['Pittsburgh', 'Charlotte', 'Phoenix', 'Las Vegas', 'Cleveland'])\n",
      "dict_values([['Pittsburgh, PA MSA'], ['Charlotte-Concord-Gastonia, NC-SC MSA'], ['Phoenix-Mesa-Chandler, AZ MSA'], ['Las Vegas-Henderson-Paradise, NV MSA'], ['Cleveland-Elyria, OH MSA']])\n"
     ]
    }
   ],
   "source": [
    "print(\"There are\", len(matches), \"matching cities.\")\n",
    "print(matches.keys())\n",
    "print(matches.values())"
   ]
  },
  {
   "cell_type": "code",
   "execution_count": 4,
   "id": "b74efeec",
   "metadata": {},
   "outputs": [],
   "source": [
    "## helper functions\n",
    "def read_msa_data(fl, locations, question, response):\n",
    "    \"\"\" takes a file name and a list of MSAs, \n",
    "    a question (Instrument ID) and answer or list of answers (Answer ID)\n",
    "    and returns a data frame of the percentage of businesses\n",
    "    that gave the chosen responses to the chosen questions in the survey\n",
    "    for that week\n",
    "    \"\"\"\n",
    "    tmpdf = pd.read_excel(fl)\n",
    "    \n",
    "    # make the column names all lower case\n",
    "    tmpdf.columns = tmpdf.columns.str.lower()\n",
    "    \n",
    "    # set the index to the MSA, which will make it easier to subset\n",
    "    tmpdf = tmpdf.set_index(['msa'])\n",
    "    \n",
    "    locations_of_interest = tmpdf.loc[locations]\n",
    "    ret = locations_of_interest[locations_of_interest.instrument_id.isin(question) & \n",
    "                                locations_of_interest.answer_id.isin(response)]\n",
    "    return(ret)\n",
    "\n",
    "# test\n",
    "# test_run = read_census_data(msas[0], flattened_ccities, 1, [1, 2])\n",
    "# test_run.head()\n",
    "\n",
    "def get_date(fl, which_date=\"end\"):\n",
    "    survey_dates = re.search(r\"([0-9]{2}[A-Z][a-z].[0-9]{2})_([0-9]{2}[A-Z][a-z].[0-9]{2})\", fl)\n",
    "    if which_date == \"start\":\n",
    "        dt = survey_dates.group(0)\n",
    "    elif which_date == \"end\":\n",
    "        dt = survey_dates.group(1)\n",
    "    else:\n",
    "        sys.exit(\"Please enter 'start' or 'end'.\")\n",
    "    return(datetime.datetime.strptime(dt, \"%d%b%y\").date())\n",
    "\n",
    "## test getdate\n",
    "# get_date(msas[0])\n",
    "\n"
   ]
  },
  {
   "cell_type": "code",
   "execution_count": null,
   "id": "3895e7cf",
   "metadata": {},
   "outputs": [],
   "source": [
    "# tmpdf = pd.read_excel(sectors[0])\n",
    "    \n",
    "# # make the column names all lower case\n",
    "# tmpdf.columns = tmpdf.columns.str.lower()\n",
    "# tmpdf.naics_sector = tmpdf.naics_sector.str.strip()\n",
    "# tmpdf.head()\n",
    "\n",
    "# # tmpdf.naics_sector.unique()\n",
    "# # tmpdf.st.unique()\n",
    "# # tmpdf.empclass.unique()\n",
    "# # tmpdf.employee_size.unique()\n",
    "\n",
    "# tmpdf = tmpdf.set_index(['st'])\n",
    "# # # tmpdf.head()\n",
    "# locations_of_interest = tmpdf.loc[yelp_states]\n",
    "# # # ret = locations_of_interest[locations_of_interest.instrument_id == 1 & \n",
    "# # #                             locations_of_interest.answer_id.isin([1,2]) & \n",
    "# # #                             locations_of_interest.naics_sector == '72']\n",
    "\n",
    "# # locations_of_interest.head()\n",
    "# restaurants = tmpdf[tmpdf.naics_sector == '72']\n",
    "# restaurants.index"
   ]
  },
  {
   "cell_type": "code",
   "execution_count": 5,
   "id": "e0230ad5",
   "metadata": {},
   "outputs": [
    {
     "data": {
      "text/html": [
       "<div>\n",
       "<style scoped>\n",
       "    .dataframe tbody tr th:only-of-type {\n",
       "        vertical-align: middle;\n",
       "    }\n",
       "\n",
       "    .dataframe tbody tr th {\n",
       "        vertical-align: top;\n",
       "    }\n",
       "\n",
       "    .dataframe thead th {\n",
       "        text-align: right;\n",
       "    }\n",
       "</style>\n",
       "<table border=\"1\" class=\"dataframe\">\n",
       "  <thead>\n",
       "    <tr style=\"text-align: right;\">\n",
       "      <th></th>\n",
       "      <th>cbsa_code</th>\n",
       "      <th>instrument_id</th>\n",
       "      <th>question</th>\n",
       "      <th>answer_id</th>\n",
       "      <th>answer_text</th>\n",
       "      <th>estimate_percentage</th>\n",
       "      <th>se</th>\n",
       "      <th>survey_end_date</th>\n",
       "      <th>estimate_percentage_num</th>\n",
       "    </tr>\n",
       "    <tr>\n",
       "      <th>msa</th>\n",
       "      <th></th>\n",
       "      <th></th>\n",
       "      <th></th>\n",
       "      <th></th>\n",
       "      <th></th>\n",
       "      <th></th>\n",
       "      <th></th>\n",
       "      <th></th>\n",
       "      <th></th>\n",
       "    </tr>\n",
       "  </thead>\n",
       "  <tbody>\n",
       "    <tr>\n",
       "      <th>Pittsburgh, PA MSA</th>\n",
       "      <td>38300</td>\n",
       "      <td>2</td>\n",
       "      <td>Overall, how has this business been affected b...</td>\n",
       "      <td>1</td>\n",
       "      <td>Large negative effect</td>\n",
       "      <td>29.3%</td>\n",
       "      <td>4.47%</td>\n",
       "      <td>2021-09-06</td>\n",
       "      <td>29.3</td>\n",
       "    </tr>\n",
       "    <tr>\n",
       "      <th>Pittsburgh, PA MSA</th>\n",
       "      <td>38300</td>\n",
       "      <td>2</td>\n",
       "      <td>Overall, how has this business been affected b...</td>\n",
       "      <td>2</td>\n",
       "      <td>Moderate negative effect</td>\n",
       "      <td>35.3%</td>\n",
       "      <td>4.74%</td>\n",
       "      <td>2021-09-06</td>\n",
       "      <td>35.3</td>\n",
       "    </tr>\n",
       "    <tr>\n",
       "      <th>Charlotte-Concord-Gastonia, NC-SC MSA</th>\n",
       "      <td>16740</td>\n",
       "      <td>2</td>\n",
       "      <td>Overall, how has this business been affected b...</td>\n",
       "      <td>1</td>\n",
       "      <td>Large negative effect</td>\n",
       "      <td>25.2%</td>\n",
       "      <td>4.50%</td>\n",
       "      <td>2021-09-06</td>\n",
       "      <td>25.2</td>\n",
       "    </tr>\n",
       "    <tr>\n",
       "      <th>Charlotte-Concord-Gastonia, NC-SC MSA</th>\n",
       "      <td>16740</td>\n",
       "      <td>2</td>\n",
       "      <td>Overall, how has this business been affected b...</td>\n",
       "      <td>2</td>\n",
       "      <td>Moderate negative effect</td>\n",
       "      <td>33.7%</td>\n",
       "      <td>5.69%</td>\n",
       "      <td>2021-09-06</td>\n",
       "      <td>33.7</td>\n",
       "    </tr>\n",
       "    <tr>\n",
       "      <th>Phoenix-Mesa-Chandler, AZ MSA</th>\n",
       "      <td>38060</td>\n",
       "      <td>2</td>\n",
       "      <td>Overall, how has this business been affected b...</td>\n",
       "      <td>1</td>\n",
       "      <td>Large negative effect</td>\n",
       "      <td>21.7%</td>\n",
       "      <td>4.11%</td>\n",
       "      <td>2021-09-06</td>\n",
       "      <td>21.7</td>\n",
       "    </tr>\n",
       "  </tbody>\n",
       "</table>\n",
       "</div>"
      ],
      "text/plain": [
       "                                       cbsa_code  instrument_id  \\\n",
       "msa                                                               \n",
       "Pittsburgh, PA MSA                         38300              2   \n",
       "Pittsburgh, PA MSA                         38300              2   \n",
       "Charlotte-Concord-Gastonia, NC-SC MSA      16740              2   \n",
       "Charlotte-Concord-Gastonia, NC-SC MSA      16740              2   \n",
       "Phoenix-Mesa-Chandler, AZ MSA              38060              2   \n",
       "\n",
       "                                                                                question  \\\n",
       "msa                                                                                        \n",
       "Pittsburgh, PA MSA                     Overall, how has this business been affected b...   \n",
       "Pittsburgh, PA MSA                     Overall, how has this business been affected b...   \n",
       "Charlotte-Concord-Gastonia, NC-SC MSA  Overall, how has this business been affected b...   \n",
       "Charlotte-Concord-Gastonia, NC-SC MSA  Overall, how has this business been affected b...   \n",
       "Phoenix-Mesa-Chandler, AZ MSA          Overall, how has this business been affected b...   \n",
       "\n",
       "                                       answer_id               answer_text  \\\n",
       "msa                                                                          \n",
       "Pittsburgh, PA MSA                             1     Large negative effect   \n",
       "Pittsburgh, PA MSA                             2  Moderate negative effect   \n",
       "Charlotte-Concord-Gastonia, NC-SC MSA          1     Large negative effect   \n",
       "Charlotte-Concord-Gastonia, NC-SC MSA          2  Moderate negative effect   \n",
       "Phoenix-Mesa-Chandler, AZ MSA                  1     Large negative effect   \n",
       "\n",
       "                                      estimate_percentage       se  \\\n",
       "msa                                                                  \n",
       "Pittsburgh, PA MSA                                  29.3%    4.47%   \n",
       "Pittsburgh, PA MSA                                  35.3%    4.74%   \n",
       "Charlotte-Concord-Gastonia, NC-SC MSA               25.2%    4.50%   \n",
       "Charlotte-Concord-Gastonia, NC-SC MSA               33.7%    5.69%   \n",
       "Phoenix-Mesa-Chandler, AZ MSA                       21.7%    4.11%   \n",
       "\n",
       "                                      survey_end_date  estimate_percentage_num  \n",
       "msa                                                                             \n",
       "Pittsburgh, PA MSA                         2021-09-06                     29.3  \n",
       "Pittsburgh, PA MSA                         2021-09-06                     35.3  \n",
       "Charlotte-Concord-Gastonia, NC-SC MSA      2021-09-06                     25.2  \n",
       "Charlotte-Concord-Gastonia, NC-SC MSA      2021-09-06                     33.7  \n",
       "Phoenix-Mesa-Chandler, AZ MSA              2021-09-06                     21.7  "
      ]
     },
     "execution_count": 5,
     "metadata": {},
     "output_type": "execute_result"
    }
   ],
   "source": [
    "### put it together and plot it\n",
    "msa_data = []\n",
    "for fl in msas:\n",
    "    tmp = read_msa_data(fl, flattened_ccities, [2], [1, 2])\n",
    "    tmp[\"survey_end_date\"] = get_date(fl)\n",
    "    msa_data.append(tmp)\n",
    "    \n",
    "all_msa_data = pd.concat(msa_data)\n",
    "all_msa_data.dtypes\n",
    "\n",
    "## convert the pecentages to a float\n",
    "## so that we can combine them and plot them\n",
    "all_msa_data[\"estimate_percentage_num\"] = all_msa_data.estimate_percentage.str.replace(\"%\", \"\")\n",
    "all_msa_data[\"estimate_percentage_num\"] = all_msa_data.estimate_percentage_num.str.strip()\n",
    "all_msa_data[\"estimate_percentage_num\"] = pd.to_numeric(all_msa_data.estimate_percentage_num)\n",
    "all_msa_data.head()\n",
    "\n",
    "\n"
   ]
  },
  {
   "cell_type": "code",
   "execution_count": 7,
   "id": "8fb068ee",
   "metadata": {},
   "outputs": [
    {
     "data": {
      "application/vnd.plotly.v1+json": {
       "config": {
        "plotlyServerURL": "https://plot.ly"
       },
       "data": [
        {
         "hovertemplate": "<b>%{hovertext}</b><br><br>msa=Charlotte-Concord-Gastonia, NC-SC MSA<br>survey_end_date=%{x}<br>estimate_percentage_num=%{y}<extra></extra>",
         "hovertext": [
          "Charlotte-Concord-Gastonia, NC-SC MSA",
          "Charlotte-Concord-Gastonia, NC-SC MSA",
          "Charlotte-Concord-Gastonia, NC-SC MSA",
          "Charlotte-Concord-Gastonia, NC-SC MSA",
          "Charlotte-Concord-Gastonia, NC-SC MSA",
          "Charlotte-Concord-Gastonia, NC-SC MSA",
          "Charlotte-Concord-Gastonia, NC-SC MSA",
          "Charlotte-Concord-Gastonia, NC-SC MSA",
          "Charlotte-Concord-Gastonia, NC-SC MSA",
          "Charlotte-Concord-Gastonia, NC-SC MSA",
          "Charlotte-Concord-Gastonia, NC-SC MSA",
          "Charlotte-Concord-Gastonia, NC-SC MSA",
          "Charlotte-Concord-Gastonia, NC-SC MSA",
          "Charlotte-Concord-Gastonia, NC-SC MSA",
          "Charlotte-Concord-Gastonia, NC-SC MSA",
          "Charlotte-Concord-Gastonia, NC-SC MSA",
          "Charlotte-Concord-Gastonia, NC-SC MSA",
          "Charlotte-Concord-Gastonia, NC-SC MSA",
          "Charlotte-Concord-Gastonia, NC-SC MSA",
          "Charlotte-Concord-Gastonia, NC-SC MSA",
          "Charlotte-Concord-Gastonia, NC-SC MSA",
          "Charlotte-Concord-Gastonia, NC-SC MSA",
          "Charlotte-Concord-Gastonia, NC-SC MSA",
          "Charlotte-Concord-Gastonia, NC-SC MSA",
          "Charlotte-Concord-Gastonia, NC-SC MSA"
         ],
         "legendgroup": "Charlotte-Concord-Gastonia, NC-SC MSA",
         "line": {
          "color": "#636efa",
          "dash": "solid",
          "shape": "spline"
         },
         "marker": {
          "symbol": "circle"
         },
         "mode": "markers+lines",
         "name": "Charlotte-Concord-Gastonia, NC-SC MSA",
         "orientation": "v",
         "showlegend": true,
         "type": "scatter",
         "x": [
          "2021-01-04",
          "2021-02-15",
          "2021-02-22",
          "2021-03-01",
          "2021-03-08",
          "2021-03-15",
          "2021-03-22",
          "2021-03-29",
          "2021-04-05",
          "2021-04-12",
          "2021-05-17",
          "2021-05-24",
          "2021-05-31",
          "2021-06-07",
          "2021-06-14",
          "2021-06-21",
          "2021-06-28",
          "2021-07-05",
          "2021-07-12",
          "2021-08-16",
          "2021-08-23",
          "2021-08-30",
          "2021-09-06",
          "2021-09-13",
          "2021-09-20"
         ],
         "xaxis": "x",
         "y": [
          31.9,
          28.1,
          27.7,
          17.7,
          18.2,
          29.6,
          23.4,
          16.2,
          27.9,
          21.6,
          28.2,
          27.9,
          23.5,
          23.9,
          19.8,
          23.8,
          19.1,
          20.1,
          20.5,
          27.7,
          26.2,
          19.8,
          25.2,
          24,
          20.6
         ],
         "yaxis": "y"
        },
        {
         "hovertemplate": "<b>%{hovertext}</b><br><br>msa=Cleveland-Elyria, OH MSA<br>survey_end_date=%{x}<br>estimate_percentage_num=%{y}<extra></extra>",
         "hovertext": [
          "Cleveland-Elyria, OH MSA",
          "Cleveland-Elyria, OH MSA",
          "Cleveland-Elyria, OH MSA",
          "Cleveland-Elyria, OH MSA",
          "Cleveland-Elyria, OH MSA",
          "Cleveland-Elyria, OH MSA",
          "Cleveland-Elyria, OH MSA",
          "Cleveland-Elyria, OH MSA",
          "Cleveland-Elyria, OH MSA",
          "Cleveland-Elyria, OH MSA",
          "Cleveland-Elyria, OH MSA",
          "Cleveland-Elyria, OH MSA",
          "Cleveland-Elyria, OH MSA",
          "Cleveland-Elyria, OH MSA",
          "Cleveland-Elyria, OH MSA",
          "Cleveland-Elyria, OH MSA",
          "Cleveland-Elyria, OH MSA",
          "Cleveland-Elyria, OH MSA",
          "Cleveland-Elyria, OH MSA",
          "Cleveland-Elyria, OH MSA",
          "Cleveland-Elyria, OH MSA",
          "Cleveland-Elyria, OH MSA",
          "Cleveland-Elyria, OH MSA",
          "Cleveland-Elyria, OH MSA",
          "Cleveland-Elyria, OH MSA"
         ],
         "legendgroup": "Cleveland-Elyria, OH MSA",
         "line": {
          "color": "#EF553B",
          "dash": "solid",
          "shape": "spline"
         },
         "marker": {
          "symbol": "circle"
         },
         "mode": "markers+lines",
         "name": "Cleveland-Elyria, OH MSA",
         "orientation": "v",
         "showlegend": true,
         "type": "scatter",
         "x": [
          "2021-01-04",
          "2021-02-15",
          "2021-02-22",
          "2021-03-01",
          "2021-03-08",
          "2021-03-15",
          "2021-03-22",
          "2021-03-29",
          "2021-04-05",
          "2021-04-12",
          "2021-05-17",
          "2021-05-24",
          "2021-05-31",
          "2021-06-07",
          "2021-06-14",
          "2021-06-21",
          "2021-06-28",
          "2021-07-05",
          "2021-07-12",
          "2021-08-16",
          "2021-08-23",
          "2021-08-30",
          "2021-09-06",
          "2021-09-13",
          "2021-09-20"
         ],
         "xaxis": "x",
         "y": [
          26.8,
          23.6,
          37.5,
          28.1,
          31.5,
          34.8,
          24.1,
          25.5,
          26.2,
          29.9,
          16.9,
          28.1,
          23.9,
          30.1,
          29.9,
          24.4,
          33.9,
          22,
          29.5,
          20.3,
          22.4,
          23.1,
          23.9,
          28,
          18.9
         ],
         "yaxis": "y"
        },
        {
         "hovertemplate": "<b>%{hovertext}</b><br><br>msa=Las Vegas-Henderson-Paradise, NV MSA<br>survey_end_date=%{x}<br>estimate_percentage_num=%{y}<extra></extra>",
         "hovertext": [
          "Las Vegas-Henderson-Paradise, NV MSA",
          "Las Vegas-Henderson-Paradise, NV MSA",
          "Las Vegas-Henderson-Paradise, NV MSA",
          "Las Vegas-Henderson-Paradise, NV MSA",
          "Las Vegas-Henderson-Paradise, NV MSA",
          "Las Vegas-Henderson-Paradise, NV MSA",
          "Las Vegas-Henderson-Paradise, NV MSA",
          "Las Vegas-Henderson-Paradise, NV MSA",
          "Las Vegas-Henderson-Paradise, NV MSA",
          "Las Vegas-Henderson-Paradise, NV MSA",
          "Las Vegas-Henderson-Paradise, NV MSA",
          "Las Vegas-Henderson-Paradise, NV MSA",
          "Las Vegas-Henderson-Paradise, NV MSA",
          "Las Vegas-Henderson-Paradise, NV MSA",
          "Las Vegas-Henderson-Paradise, NV MSA",
          "Las Vegas-Henderson-Paradise, NV MSA",
          "Las Vegas-Henderson-Paradise, NV MSA",
          "Las Vegas-Henderson-Paradise, NV MSA",
          "Las Vegas-Henderson-Paradise, NV MSA",
          "Las Vegas-Henderson-Paradise, NV MSA",
          "Las Vegas-Henderson-Paradise, NV MSA",
          "Las Vegas-Henderson-Paradise, NV MSA",
          "Las Vegas-Henderson-Paradise, NV MSA",
          "Las Vegas-Henderson-Paradise, NV MSA",
          "Las Vegas-Henderson-Paradise, NV MSA"
         ],
         "legendgroup": "Las Vegas-Henderson-Paradise, NV MSA",
         "line": {
          "color": "#00cc96",
          "dash": "solid",
          "shape": "spline"
         },
         "marker": {
          "symbol": "circle"
         },
         "mode": "markers+lines",
         "name": "Las Vegas-Henderson-Paradise, NV MSA",
         "orientation": "v",
         "showlegend": true,
         "type": "scatter",
         "x": [
          "2021-01-04",
          "2021-02-15",
          "2021-02-22",
          "2021-03-01",
          "2021-03-08",
          "2021-03-15",
          "2021-03-22",
          "2021-03-29",
          "2021-04-05",
          "2021-04-12",
          "2021-05-17",
          "2021-05-24",
          "2021-05-31",
          "2021-06-07",
          "2021-06-14",
          "2021-06-21",
          "2021-06-28",
          "2021-07-05",
          "2021-07-12",
          "2021-08-16",
          "2021-08-23",
          "2021-08-30",
          "2021-09-06",
          "2021-09-13",
          "2021-09-20"
         ],
         "xaxis": "x",
         "y": [
          35.1,
          33.6,
          31.1,
          40.3,
          36.4,
          29.6,
          27.4,
          33.3,
          31.1,
          30,
          35.6,
          29.9,
          34.7,
          37.8,
          25.2,
          32.7,
          27.5,
          37.5,
          29.7,
          28.9,
          22.7,
          33,
          32.9,
          21.5,
          30.8
         ],
         "yaxis": "y"
        },
        {
         "hovertemplate": "<b>%{hovertext}</b><br><br>msa=Phoenix-Mesa-Chandler, AZ MSA<br>survey_end_date=%{x}<br>estimate_percentage_num=%{y}<extra></extra>",
         "hovertext": [
          "Phoenix-Mesa-Chandler, AZ MSA",
          "Phoenix-Mesa-Chandler, AZ MSA",
          "Phoenix-Mesa-Chandler, AZ MSA",
          "Phoenix-Mesa-Chandler, AZ MSA",
          "Phoenix-Mesa-Chandler, AZ MSA",
          "Phoenix-Mesa-Chandler, AZ MSA",
          "Phoenix-Mesa-Chandler, AZ MSA",
          "Phoenix-Mesa-Chandler, AZ MSA",
          "Phoenix-Mesa-Chandler, AZ MSA",
          "Phoenix-Mesa-Chandler, AZ MSA",
          "Phoenix-Mesa-Chandler, AZ MSA",
          "Phoenix-Mesa-Chandler, AZ MSA",
          "Phoenix-Mesa-Chandler, AZ MSA",
          "Phoenix-Mesa-Chandler, AZ MSA",
          "Phoenix-Mesa-Chandler, AZ MSA",
          "Phoenix-Mesa-Chandler, AZ MSA",
          "Phoenix-Mesa-Chandler, AZ MSA",
          "Phoenix-Mesa-Chandler, AZ MSA",
          "Phoenix-Mesa-Chandler, AZ MSA",
          "Phoenix-Mesa-Chandler, AZ MSA",
          "Phoenix-Mesa-Chandler, AZ MSA",
          "Phoenix-Mesa-Chandler, AZ MSA",
          "Phoenix-Mesa-Chandler, AZ MSA",
          "Phoenix-Mesa-Chandler, AZ MSA",
          "Phoenix-Mesa-Chandler, AZ MSA"
         ],
         "legendgroup": "Phoenix-Mesa-Chandler, AZ MSA",
         "line": {
          "color": "#ab63fa",
          "dash": "solid",
          "shape": "spline"
         },
         "marker": {
          "symbol": "circle"
         },
         "mode": "markers+lines",
         "name": "Phoenix-Mesa-Chandler, AZ MSA",
         "orientation": "v",
         "showlegend": true,
         "type": "scatter",
         "x": [
          "2021-01-04",
          "2021-02-15",
          "2021-02-22",
          "2021-03-01",
          "2021-03-08",
          "2021-03-15",
          "2021-03-22",
          "2021-03-29",
          "2021-04-05",
          "2021-04-12",
          "2021-05-17",
          "2021-05-24",
          "2021-05-31",
          "2021-06-07",
          "2021-06-14",
          "2021-06-21",
          "2021-06-28",
          "2021-07-05",
          "2021-07-12",
          "2021-08-16",
          "2021-08-23",
          "2021-08-30",
          "2021-09-06",
          "2021-09-13",
          "2021-09-20"
         ],
         "xaxis": "x",
         "y": [
          27,
          29,
          23.4,
          21.9,
          24,
          23.3,
          25.5,
          23.6,
          16.7,
          26.5,
          25.1,
          21.9,
          27.6,
          25.5,
          23.4,
          22.6,
          22.8,
          16.9,
          25.1,
          19.5,
          22.1,
          18.6,
          21.7,
          22.8,
          22.9
         ],
         "yaxis": "y"
        },
        {
         "hovertemplate": "<b>%{hovertext}</b><br><br>msa=Pittsburgh, PA MSA<br>survey_end_date=%{x}<br>estimate_percentage_num=%{y}<extra></extra>",
         "hovertext": [
          "Pittsburgh, PA MSA",
          "Pittsburgh, PA MSA",
          "Pittsburgh, PA MSA",
          "Pittsburgh, PA MSA",
          "Pittsburgh, PA MSA",
          "Pittsburgh, PA MSA",
          "Pittsburgh, PA MSA",
          "Pittsburgh, PA MSA",
          "Pittsburgh, PA MSA",
          "Pittsburgh, PA MSA",
          "Pittsburgh, PA MSA",
          "Pittsburgh, PA MSA",
          "Pittsburgh, PA MSA",
          "Pittsburgh, PA MSA",
          "Pittsburgh, PA MSA",
          "Pittsburgh, PA MSA",
          "Pittsburgh, PA MSA",
          "Pittsburgh, PA MSA",
          "Pittsburgh, PA MSA",
          "Pittsburgh, PA MSA",
          "Pittsburgh, PA MSA",
          "Pittsburgh, PA MSA",
          "Pittsburgh, PA MSA",
          "Pittsburgh, PA MSA",
          "Pittsburgh, PA MSA"
         ],
         "legendgroup": "Pittsburgh, PA MSA",
         "line": {
          "color": "#FFA15A",
          "dash": "solid",
          "shape": "spline"
         },
         "marker": {
          "symbol": "circle"
         },
         "mode": "markers+lines",
         "name": "Pittsburgh, PA MSA",
         "orientation": "v",
         "showlegend": true,
         "type": "scatter",
         "x": [
          "2021-01-04",
          "2021-02-15",
          "2021-02-22",
          "2021-03-01",
          "2021-03-08",
          "2021-03-15",
          "2021-03-22",
          "2021-03-29",
          "2021-04-05",
          "2021-04-12",
          "2021-05-17",
          "2021-05-24",
          "2021-05-31",
          "2021-06-07",
          "2021-06-14",
          "2021-06-21",
          "2021-06-28",
          "2021-07-05",
          "2021-07-12",
          "2021-08-16",
          "2021-08-23",
          "2021-08-30",
          "2021-09-06",
          "2021-09-13",
          "2021-09-20"
         ],
         "xaxis": "x",
         "y": [
          33.8,
          36.1,
          28.8,
          28.2,
          37.7,
          36.1,
          24.5,
          32,
          32.9,
          31,
          36.2,
          27.3,
          35.3,
          33.3,
          32.3,
          22.6,
          27,
          21.2,
          32.4,
          28.5,
          26.9,
          28.7,
          29.3,
          24.9,
          23.9
         ],
         "yaxis": "y"
        }
       ],
       "layout": {
        "legend": {
         "title": {
          "text": "msa"
         },
         "tracegroupgap": 0
        },
        "margin": {
         "t": 60
        },
        "template": {
         "data": {
          "bar": [
           {
            "error_x": {
             "color": "#2a3f5f"
            },
            "error_y": {
             "color": "#2a3f5f"
            },
            "marker": {
             "line": {
              "color": "#E5ECF6",
              "width": 0.5
             },
             "pattern": {
              "fillmode": "overlay",
              "size": 10,
              "solidity": 0.2
             }
            },
            "type": "bar"
           }
          ],
          "barpolar": [
           {
            "marker": {
             "line": {
              "color": "#E5ECF6",
              "width": 0.5
             },
             "pattern": {
              "fillmode": "overlay",
              "size": 10,
              "solidity": 0.2
             }
            },
            "type": "barpolar"
           }
          ],
          "carpet": [
           {
            "aaxis": {
             "endlinecolor": "#2a3f5f",
             "gridcolor": "white",
             "linecolor": "white",
             "minorgridcolor": "white",
             "startlinecolor": "#2a3f5f"
            },
            "baxis": {
             "endlinecolor": "#2a3f5f",
             "gridcolor": "white",
             "linecolor": "white",
             "minorgridcolor": "white",
             "startlinecolor": "#2a3f5f"
            },
            "type": "carpet"
           }
          ],
          "choropleth": [
           {
            "colorbar": {
             "outlinewidth": 0,
             "ticks": ""
            },
            "type": "choropleth"
           }
          ],
          "contour": [
           {
            "colorbar": {
             "outlinewidth": 0,
             "ticks": ""
            },
            "colorscale": [
             [
              0,
              "#0d0887"
             ],
             [
              0.1111111111111111,
              "#46039f"
             ],
             [
              0.2222222222222222,
              "#7201a8"
             ],
             [
              0.3333333333333333,
              "#9c179e"
             ],
             [
              0.4444444444444444,
              "#bd3786"
             ],
             [
              0.5555555555555556,
              "#d8576b"
             ],
             [
              0.6666666666666666,
              "#ed7953"
             ],
             [
              0.7777777777777778,
              "#fb9f3a"
             ],
             [
              0.8888888888888888,
              "#fdca26"
             ],
             [
              1,
              "#f0f921"
             ]
            ],
            "type": "contour"
           }
          ],
          "contourcarpet": [
           {
            "colorbar": {
             "outlinewidth": 0,
             "ticks": ""
            },
            "type": "contourcarpet"
           }
          ],
          "heatmap": [
           {
            "colorbar": {
             "outlinewidth": 0,
             "ticks": ""
            },
            "colorscale": [
             [
              0,
              "#0d0887"
             ],
             [
              0.1111111111111111,
              "#46039f"
             ],
             [
              0.2222222222222222,
              "#7201a8"
             ],
             [
              0.3333333333333333,
              "#9c179e"
             ],
             [
              0.4444444444444444,
              "#bd3786"
             ],
             [
              0.5555555555555556,
              "#d8576b"
             ],
             [
              0.6666666666666666,
              "#ed7953"
             ],
             [
              0.7777777777777778,
              "#fb9f3a"
             ],
             [
              0.8888888888888888,
              "#fdca26"
             ],
             [
              1,
              "#f0f921"
             ]
            ],
            "type": "heatmap"
           }
          ],
          "heatmapgl": [
           {
            "colorbar": {
             "outlinewidth": 0,
             "ticks": ""
            },
            "colorscale": [
             [
              0,
              "#0d0887"
             ],
             [
              0.1111111111111111,
              "#46039f"
             ],
             [
              0.2222222222222222,
              "#7201a8"
             ],
             [
              0.3333333333333333,
              "#9c179e"
             ],
             [
              0.4444444444444444,
              "#bd3786"
             ],
             [
              0.5555555555555556,
              "#d8576b"
             ],
             [
              0.6666666666666666,
              "#ed7953"
             ],
             [
              0.7777777777777778,
              "#fb9f3a"
             ],
             [
              0.8888888888888888,
              "#fdca26"
             ],
             [
              1,
              "#f0f921"
             ]
            ],
            "type": "heatmapgl"
           }
          ],
          "histogram": [
           {
            "marker": {
             "pattern": {
              "fillmode": "overlay",
              "size": 10,
              "solidity": 0.2
             }
            },
            "type": "histogram"
           }
          ],
          "histogram2d": [
           {
            "colorbar": {
             "outlinewidth": 0,
             "ticks": ""
            },
            "colorscale": [
             [
              0,
              "#0d0887"
             ],
             [
              0.1111111111111111,
              "#46039f"
             ],
             [
              0.2222222222222222,
              "#7201a8"
             ],
             [
              0.3333333333333333,
              "#9c179e"
             ],
             [
              0.4444444444444444,
              "#bd3786"
             ],
             [
              0.5555555555555556,
              "#d8576b"
             ],
             [
              0.6666666666666666,
              "#ed7953"
             ],
             [
              0.7777777777777778,
              "#fb9f3a"
             ],
             [
              0.8888888888888888,
              "#fdca26"
             ],
             [
              1,
              "#f0f921"
             ]
            ],
            "type": "histogram2d"
           }
          ],
          "histogram2dcontour": [
           {
            "colorbar": {
             "outlinewidth": 0,
             "ticks": ""
            },
            "colorscale": [
             [
              0,
              "#0d0887"
             ],
             [
              0.1111111111111111,
              "#46039f"
             ],
             [
              0.2222222222222222,
              "#7201a8"
             ],
             [
              0.3333333333333333,
              "#9c179e"
             ],
             [
              0.4444444444444444,
              "#bd3786"
             ],
             [
              0.5555555555555556,
              "#d8576b"
             ],
             [
              0.6666666666666666,
              "#ed7953"
             ],
             [
              0.7777777777777778,
              "#fb9f3a"
             ],
             [
              0.8888888888888888,
              "#fdca26"
             ],
             [
              1,
              "#f0f921"
             ]
            ],
            "type": "histogram2dcontour"
           }
          ],
          "mesh3d": [
           {
            "colorbar": {
             "outlinewidth": 0,
             "ticks": ""
            },
            "type": "mesh3d"
           }
          ],
          "parcoords": [
           {
            "line": {
             "colorbar": {
              "outlinewidth": 0,
              "ticks": ""
             }
            },
            "type": "parcoords"
           }
          ],
          "pie": [
           {
            "automargin": true,
            "type": "pie"
           }
          ],
          "scatter": [
           {
            "marker": {
             "colorbar": {
              "outlinewidth": 0,
              "ticks": ""
             }
            },
            "type": "scatter"
           }
          ],
          "scatter3d": [
           {
            "line": {
             "colorbar": {
              "outlinewidth": 0,
              "ticks": ""
             }
            },
            "marker": {
             "colorbar": {
              "outlinewidth": 0,
              "ticks": ""
             }
            },
            "type": "scatter3d"
           }
          ],
          "scattercarpet": [
           {
            "marker": {
             "colorbar": {
              "outlinewidth": 0,
              "ticks": ""
             }
            },
            "type": "scattercarpet"
           }
          ],
          "scattergeo": [
           {
            "marker": {
             "colorbar": {
              "outlinewidth": 0,
              "ticks": ""
             }
            },
            "type": "scattergeo"
           }
          ],
          "scattergl": [
           {
            "marker": {
             "colorbar": {
              "outlinewidth": 0,
              "ticks": ""
             }
            },
            "type": "scattergl"
           }
          ],
          "scattermapbox": [
           {
            "marker": {
             "colorbar": {
              "outlinewidth": 0,
              "ticks": ""
             }
            },
            "type": "scattermapbox"
           }
          ],
          "scatterpolar": [
           {
            "marker": {
             "colorbar": {
              "outlinewidth": 0,
              "ticks": ""
             }
            },
            "type": "scatterpolar"
           }
          ],
          "scatterpolargl": [
           {
            "marker": {
             "colorbar": {
              "outlinewidth": 0,
              "ticks": ""
             }
            },
            "type": "scatterpolargl"
           }
          ],
          "scatterternary": [
           {
            "marker": {
             "colorbar": {
              "outlinewidth": 0,
              "ticks": ""
             }
            },
            "type": "scatterternary"
           }
          ],
          "surface": [
           {
            "colorbar": {
             "outlinewidth": 0,
             "ticks": ""
            },
            "colorscale": [
             [
              0,
              "#0d0887"
             ],
             [
              0.1111111111111111,
              "#46039f"
             ],
             [
              0.2222222222222222,
              "#7201a8"
             ],
             [
              0.3333333333333333,
              "#9c179e"
             ],
             [
              0.4444444444444444,
              "#bd3786"
             ],
             [
              0.5555555555555556,
              "#d8576b"
             ],
             [
              0.6666666666666666,
              "#ed7953"
             ],
             [
              0.7777777777777778,
              "#fb9f3a"
             ],
             [
              0.8888888888888888,
              "#fdca26"
             ],
             [
              1,
              "#f0f921"
             ]
            ],
            "type": "surface"
           }
          ],
          "table": [
           {
            "cells": {
             "fill": {
              "color": "#EBF0F8"
             },
             "line": {
              "color": "white"
             }
            },
            "header": {
             "fill": {
              "color": "#C8D4E3"
             },
             "line": {
              "color": "white"
             }
            },
            "type": "table"
           }
          ]
         },
         "layout": {
          "annotationdefaults": {
           "arrowcolor": "#2a3f5f",
           "arrowhead": 0,
           "arrowwidth": 1
          },
          "autotypenumbers": "strict",
          "coloraxis": {
           "colorbar": {
            "outlinewidth": 0,
            "ticks": ""
           }
          },
          "colorscale": {
           "diverging": [
            [
             0,
             "#8e0152"
            ],
            [
             0.1,
             "#c51b7d"
            ],
            [
             0.2,
             "#de77ae"
            ],
            [
             0.3,
             "#f1b6da"
            ],
            [
             0.4,
             "#fde0ef"
            ],
            [
             0.5,
             "#f7f7f7"
            ],
            [
             0.6,
             "#e6f5d0"
            ],
            [
             0.7,
             "#b8e186"
            ],
            [
             0.8,
             "#7fbc41"
            ],
            [
             0.9,
             "#4d9221"
            ],
            [
             1,
             "#276419"
            ]
           ],
           "sequential": [
            [
             0,
             "#0d0887"
            ],
            [
             0.1111111111111111,
             "#46039f"
            ],
            [
             0.2222222222222222,
             "#7201a8"
            ],
            [
             0.3333333333333333,
             "#9c179e"
            ],
            [
             0.4444444444444444,
             "#bd3786"
            ],
            [
             0.5555555555555556,
             "#d8576b"
            ],
            [
             0.6666666666666666,
             "#ed7953"
            ],
            [
             0.7777777777777778,
             "#fb9f3a"
            ],
            [
             0.8888888888888888,
             "#fdca26"
            ],
            [
             1,
             "#f0f921"
            ]
           ],
           "sequentialminus": [
            [
             0,
             "#0d0887"
            ],
            [
             0.1111111111111111,
             "#46039f"
            ],
            [
             0.2222222222222222,
             "#7201a8"
            ],
            [
             0.3333333333333333,
             "#9c179e"
            ],
            [
             0.4444444444444444,
             "#bd3786"
            ],
            [
             0.5555555555555556,
             "#d8576b"
            ],
            [
             0.6666666666666666,
             "#ed7953"
            ],
            [
             0.7777777777777778,
             "#fb9f3a"
            ],
            [
             0.8888888888888888,
             "#fdca26"
            ],
            [
             1,
             "#f0f921"
            ]
           ]
          },
          "colorway": [
           "#636efa",
           "#EF553B",
           "#00cc96",
           "#ab63fa",
           "#FFA15A",
           "#19d3f3",
           "#FF6692",
           "#B6E880",
           "#FF97FF",
           "#FECB52"
          ],
          "font": {
           "color": "#2a3f5f"
          },
          "geo": {
           "bgcolor": "white",
           "lakecolor": "white",
           "landcolor": "#E5ECF6",
           "showlakes": true,
           "showland": true,
           "subunitcolor": "white"
          },
          "hoverlabel": {
           "align": "left"
          },
          "hovermode": "closest",
          "mapbox": {
           "style": "light"
          },
          "paper_bgcolor": "white",
          "plot_bgcolor": "#E5ECF6",
          "polar": {
           "angularaxis": {
            "gridcolor": "white",
            "linecolor": "white",
            "ticks": ""
           },
           "bgcolor": "#E5ECF6",
           "radialaxis": {
            "gridcolor": "white",
            "linecolor": "white",
            "ticks": ""
           }
          },
          "scene": {
           "xaxis": {
            "backgroundcolor": "#E5ECF6",
            "gridcolor": "white",
            "gridwidth": 2,
            "linecolor": "white",
            "showbackground": true,
            "ticks": "",
            "zerolinecolor": "white"
           },
           "yaxis": {
            "backgroundcolor": "#E5ECF6",
            "gridcolor": "white",
            "gridwidth": 2,
            "linecolor": "white",
            "showbackground": true,
            "ticks": "",
            "zerolinecolor": "white"
           },
           "zaxis": {
            "backgroundcolor": "#E5ECF6",
            "gridcolor": "white",
            "gridwidth": 2,
            "linecolor": "white",
            "showbackground": true,
            "ticks": "",
            "zerolinecolor": "white"
           }
          },
          "shapedefaults": {
           "line": {
            "color": "#2a3f5f"
           }
          },
          "ternary": {
           "aaxis": {
            "gridcolor": "white",
            "linecolor": "white",
            "ticks": ""
           },
           "baxis": {
            "gridcolor": "white",
            "linecolor": "white",
            "ticks": ""
           },
           "bgcolor": "#E5ECF6",
           "caxis": {
            "gridcolor": "white",
            "linecolor": "white",
            "ticks": ""
           }
          },
          "title": {
           "x": 0.05
          },
          "xaxis": {
           "automargin": true,
           "gridcolor": "white",
           "linecolor": "white",
           "ticks": "",
           "title": {
            "standoff": 15
           },
           "zerolinecolor": "white",
           "zerolinewidth": 2
          },
          "yaxis": {
           "automargin": true,
           "gridcolor": "white",
           "linecolor": "white",
           "ticks": "",
           "title": {
            "standoff": 15
           },
           "zerolinecolor": "white",
           "zerolinewidth": 2
          }
         }
        },
        "xaxis": {
         "anchor": "y",
         "domain": [
          0,
          1
         ],
         "title": {
          "text": "survey_end_date"
         }
        },
        "yaxis": {
         "anchor": "x",
         "domain": [
          0,
          1
         ],
         "range": [
          0,
          100
         ],
         "title": {
          "text": "estimate_percentage_num"
         }
        }
       }
      },
      "text/html": [
       "<div>                            <div id=\"87414179-f994-4b13-b7d2-79ca09dafe8b\" class=\"plotly-graph-div\" style=\"height:525px; width:100%;\"></div>            <script type=\"text/javascript\">                require([\"plotly\"], function(Plotly) {                    window.PLOTLYENV=window.PLOTLYENV || {};                                    if (document.getElementById(\"87414179-f994-4b13-b7d2-79ca09dafe8b\")) {                    Plotly.newPlot(                        \"87414179-f994-4b13-b7d2-79ca09dafe8b\",                        [{\"hovertemplate\":\"<b>%{hovertext}</b><br><br>msa=Charlotte-Concord-Gastonia, NC-SC MSA<br>survey_end_date=%{x}<br>estimate_percentage_num=%{y}<extra></extra>\",\"hovertext\":[\"Charlotte-Concord-Gastonia, NC-SC MSA\",\"Charlotte-Concord-Gastonia, NC-SC MSA\",\"Charlotte-Concord-Gastonia, NC-SC MSA\",\"Charlotte-Concord-Gastonia, NC-SC MSA\",\"Charlotte-Concord-Gastonia, NC-SC MSA\",\"Charlotte-Concord-Gastonia, NC-SC MSA\",\"Charlotte-Concord-Gastonia, NC-SC MSA\",\"Charlotte-Concord-Gastonia, NC-SC MSA\",\"Charlotte-Concord-Gastonia, NC-SC MSA\",\"Charlotte-Concord-Gastonia, NC-SC MSA\",\"Charlotte-Concord-Gastonia, NC-SC MSA\",\"Charlotte-Concord-Gastonia, NC-SC MSA\",\"Charlotte-Concord-Gastonia, NC-SC MSA\",\"Charlotte-Concord-Gastonia, NC-SC MSA\",\"Charlotte-Concord-Gastonia, NC-SC MSA\",\"Charlotte-Concord-Gastonia, NC-SC MSA\",\"Charlotte-Concord-Gastonia, NC-SC MSA\",\"Charlotte-Concord-Gastonia, NC-SC MSA\",\"Charlotte-Concord-Gastonia, NC-SC MSA\",\"Charlotte-Concord-Gastonia, NC-SC MSA\",\"Charlotte-Concord-Gastonia, NC-SC MSA\",\"Charlotte-Concord-Gastonia, NC-SC MSA\",\"Charlotte-Concord-Gastonia, NC-SC MSA\",\"Charlotte-Concord-Gastonia, NC-SC MSA\",\"Charlotte-Concord-Gastonia, NC-SC MSA\"],\"legendgroup\":\"Charlotte-Concord-Gastonia, NC-SC MSA\",\"line\":{\"color\":\"#636efa\",\"dash\":\"solid\",\"shape\":\"spline\"},\"marker\":{\"symbol\":\"circle\"},\"mode\":\"markers+lines\",\"name\":\"Charlotte-Concord-Gastonia, NC-SC MSA\",\"orientation\":\"v\",\"showlegend\":true,\"type\":\"scatter\",\"x\":[\"2021-01-04\",\"2021-02-15\",\"2021-02-22\",\"2021-03-01\",\"2021-03-08\",\"2021-03-15\",\"2021-03-22\",\"2021-03-29\",\"2021-04-05\",\"2021-04-12\",\"2021-05-17\",\"2021-05-24\",\"2021-05-31\",\"2021-06-07\",\"2021-06-14\",\"2021-06-21\",\"2021-06-28\",\"2021-07-05\",\"2021-07-12\",\"2021-08-16\",\"2021-08-23\",\"2021-08-30\",\"2021-09-06\",\"2021-09-13\",\"2021-09-20\"],\"xaxis\":\"x\",\"y\":[31.9,28.1,27.7,17.7,18.2,29.6,23.4,16.2,27.9,21.6,28.2,27.9,23.5,23.9,19.8,23.8,19.1,20.1,20.5,27.7,26.2,19.8,25.2,24.0,20.6],\"yaxis\":\"y\"},{\"hovertemplate\":\"<b>%{hovertext}</b><br><br>msa=Cleveland-Elyria, OH MSA<br>survey_end_date=%{x}<br>estimate_percentage_num=%{y}<extra></extra>\",\"hovertext\":[\"Cleveland-Elyria, OH MSA\",\"Cleveland-Elyria, OH MSA\",\"Cleveland-Elyria, OH MSA\",\"Cleveland-Elyria, OH MSA\",\"Cleveland-Elyria, OH MSA\",\"Cleveland-Elyria, OH MSA\",\"Cleveland-Elyria, OH MSA\",\"Cleveland-Elyria, OH MSA\",\"Cleveland-Elyria, OH MSA\",\"Cleveland-Elyria, OH MSA\",\"Cleveland-Elyria, OH MSA\",\"Cleveland-Elyria, OH MSA\",\"Cleveland-Elyria, OH MSA\",\"Cleveland-Elyria, OH MSA\",\"Cleveland-Elyria, OH MSA\",\"Cleveland-Elyria, OH MSA\",\"Cleveland-Elyria, OH MSA\",\"Cleveland-Elyria, OH MSA\",\"Cleveland-Elyria, OH MSA\",\"Cleveland-Elyria, OH MSA\",\"Cleveland-Elyria, OH MSA\",\"Cleveland-Elyria, OH MSA\",\"Cleveland-Elyria, OH MSA\",\"Cleveland-Elyria, OH MSA\",\"Cleveland-Elyria, OH MSA\"],\"legendgroup\":\"Cleveland-Elyria, OH MSA\",\"line\":{\"color\":\"#EF553B\",\"dash\":\"solid\",\"shape\":\"spline\"},\"marker\":{\"symbol\":\"circle\"},\"mode\":\"markers+lines\",\"name\":\"Cleveland-Elyria, OH MSA\",\"orientation\":\"v\",\"showlegend\":true,\"type\":\"scatter\",\"x\":[\"2021-01-04\",\"2021-02-15\",\"2021-02-22\",\"2021-03-01\",\"2021-03-08\",\"2021-03-15\",\"2021-03-22\",\"2021-03-29\",\"2021-04-05\",\"2021-04-12\",\"2021-05-17\",\"2021-05-24\",\"2021-05-31\",\"2021-06-07\",\"2021-06-14\",\"2021-06-21\",\"2021-06-28\",\"2021-07-05\",\"2021-07-12\",\"2021-08-16\",\"2021-08-23\",\"2021-08-30\",\"2021-09-06\",\"2021-09-13\",\"2021-09-20\"],\"xaxis\":\"x\",\"y\":[26.8,23.6,37.5,28.1,31.5,34.8,24.1,25.5,26.2,29.9,16.9,28.1,23.9,30.1,29.9,24.4,33.9,22.0,29.5,20.3,22.4,23.1,23.9,28.0,18.9],\"yaxis\":\"y\"},{\"hovertemplate\":\"<b>%{hovertext}</b><br><br>msa=Las Vegas-Henderson-Paradise, NV MSA<br>survey_end_date=%{x}<br>estimate_percentage_num=%{y}<extra></extra>\",\"hovertext\":[\"Las Vegas-Henderson-Paradise, NV MSA\",\"Las Vegas-Henderson-Paradise, NV MSA\",\"Las Vegas-Henderson-Paradise, NV MSA\",\"Las Vegas-Henderson-Paradise, NV MSA\",\"Las Vegas-Henderson-Paradise, NV MSA\",\"Las Vegas-Henderson-Paradise, NV MSA\",\"Las Vegas-Henderson-Paradise, NV MSA\",\"Las Vegas-Henderson-Paradise, NV MSA\",\"Las Vegas-Henderson-Paradise, NV MSA\",\"Las Vegas-Henderson-Paradise, NV MSA\",\"Las Vegas-Henderson-Paradise, NV MSA\",\"Las Vegas-Henderson-Paradise, NV MSA\",\"Las Vegas-Henderson-Paradise, NV MSA\",\"Las Vegas-Henderson-Paradise, NV MSA\",\"Las Vegas-Henderson-Paradise, NV MSA\",\"Las Vegas-Henderson-Paradise, NV MSA\",\"Las Vegas-Henderson-Paradise, NV MSA\",\"Las Vegas-Henderson-Paradise, NV MSA\",\"Las Vegas-Henderson-Paradise, NV MSA\",\"Las Vegas-Henderson-Paradise, NV MSA\",\"Las Vegas-Henderson-Paradise, NV MSA\",\"Las Vegas-Henderson-Paradise, NV MSA\",\"Las Vegas-Henderson-Paradise, NV MSA\",\"Las Vegas-Henderson-Paradise, NV MSA\",\"Las Vegas-Henderson-Paradise, NV MSA\"],\"legendgroup\":\"Las Vegas-Henderson-Paradise, NV MSA\",\"line\":{\"color\":\"#00cc96\",\"dash\":\"solid\",\"shape\":\"spline\"},\"marker\":{\"symbol\":\"circle\"},\"mode\":\"markers+lines\",\"name\":\"Las Vegas-Henderson-Paradise, NV MSA\",\"orientation\":\"v\",\"showlegend\":true,\"type\":\"scatter\",\"x\":[\"2021-01-04\",\"2021-02-15\",\"2021-02-22\",\"2021-03-01\",\"2021-03-08\",\"2021-03-15\",\"2021-03-22\",\"2021-03-29\",\"2021-04-05\",\"2021-04-12\",\"2021-05-17\",\"2021-05-24\",\"2021-05-31\",\"2021-06-07\",\"2021-06-14\",\"2021-06-21\",\"2021-06-28\",\"2021-07-05\",\"2021-07-12\",\"2021-08-16\",\"2021-08-23\",\"2021-08-30\",\"2021-09-06\",\"2021-09-13\",\"2021-09-20\"],\"xaxis\":\"x\",\"y\":[35.1,33.6,31.1,40.3,36.4,29.6,27.4,33.3,31.1,30.0,35.6,29.9,34.7,37.8,25.2,32.7,27.5,37.5,29.7,28.9,22.7,33.0,32.9,21.5,30.8],\"yaxis\":\"y\"},{\"hovertemplate\":\"<b>%{hovertext}</b><br><br>msa=Phoenix-Mesa-Chandler, AZ MSA<br>survey_end_date=%{x}<br>estimate_percentage_num=%{y}<extra></extra>\",\"hovertext\":[\"Phoenix-Mesa-Chandler, AZ MSA\",\"Phoenix-Mesa-Chandler, AZ MSA\",\"Phoenix-Mesa-Chandler, AZ MSA\",\"Phoenix-Mesa-Chandler, AZ MSA\",\"Phoenix-Mesa-Chandler, AZ MSA\",\"Phoenix-Mesa-Chandler, AZ MSA\",\"Phoenix-Mesa-Chandler, AZ MSA\",\"Phoenix-Mesa-Chandler, AZ MSA\",\"Phoenix-Mesa-Chandler, AZ MSA\",\"Phoenix-Mesa-Chandler, AZ MSA\",\"Phoenix-Mesa-Chandler, AZ MSA\",\"Phoenix-Mesa-Chandler, AZ MSA\",\"Phoenix-Mesa-Chandler, AZ MSA\",\"Phoenix-Mesa-Chandler, AZ MSA\",\"Phoenix-Mesa-Chandler, AZ MSA\",\"Phoenix-Mesa-Chandler, AZ MSA\",\"Phoenix-Mesa-Chandler, AZ MSA\",\"Phoenix-Mesa-Chandler, AZ MSA\",\"Phoenix-Mesa-Chandler, AZ MSA\",\"Phoenix-Mesa-Chandler, AZ MSA\",\"Phoenix-Mesa-Chandler, AZ MSA\",\"Phoenix-Mesa-Chandler, AZ MSA\",\"Phoenix-Mesa-Chandler, AZ MSA\",\"Phoenix-Mesa-Chandler, AZ MSA\",\"Phoenix-Mesa-Chandler, AZ MSA\"],\"legendgroup\":\"Phoenix-Mesa-Chandler, AZ MSA\",\"line\":{\"color\":\"#ab63fa\",\"dash\":\"solid\",\"shape\":\"spline\"},\"marker\":{\"symbol\":\"circle\"},\"mode\":\"markers+lines\",\"name\":\"Phoenix-Mesa-Chandler, AZ MSA\",\"orientation\":\"v\",\"showlegend\":true,\"type\":\"scatter\",\"x\":[\"2021-01-04\",\"2021-02-15\",\"2021-02-22\",\"2021-03-01\",\"2021-03-08\",\"2021-03-15\",\"2021-03-22\",\"2021-03-29\",\"2021-04-05\",\"2021-04-12\",\"2021-05-17\",\"2021-05-24\",\"2021-05-31\",\"2021-06-07\",\"2021-06-14\",\"2021-06-21\",\"2021-06-28\",\"2021-07-05\",\"2021-07-12\",\"2021-08-16\",\"2021-08-23\",\"2021-08-30\",\"2021-09-06\",\"2021-09-13\",\"2021-09-20\"],\"xaxis\":\"x\",\"y\":[27.0,29.0,23.4,21.9,24.0,23.3,25.5,23.6,16.7,26.5,25.1,21.9,27.6,25.5,23.4,22.6,22.8,16.9,25.1,19.5,22.1,18.6,21.7,22.8,22.9],\"yaxis\":\"y\"},{\"hovertemplate\":\"<b>%{hovertext}</b><br><br>msa=Pittsburgh, PA MSA<br>survey_end_date=%{x}<br>estimate_percentage_num=%{y}<extra></extra>\",\"hovertext\":[\"Pittsburgh, PA MSA\",\"Pittsburgh, PA MSA\",\"Pittsburgh, PA MSA\",\"Pittsburgh, PA MSA\",\"Pittsburgh, PA MSA\",\"Pittsburgh, PA MSA\",\"Pittsburgh, PA MSA\",\"Pittsburgh, PA MSA\",\"Pittsburgh, PA MSA\",\"Pittsburgh, PA MSA\",\"Pittsburgh, PA MSA\",\"Pittsburgh, PA MSA\",\"Pittsburgh, PA MSA\",\"Pittsburgh, PA MSA\",\"Pittsburgh, PA MSA\",\"Pittsburgh, PA MSA\",\"Pittsburgh, PA MSA\",\"Pittsburgh, PA MSA\",\"Pittsburgh, PA MSA\",\"Pittsburgh, PA MSA\",\"Pittsburgh, PA MSA\",\"Pittsburgh, PA MSA\",\"Pittsburgh, PA MSA\",\"Pittsburgh, PA MSA\",\"Pittsburgh, PA MSA\"],\"legendgroup\":\"Pittsburgh, PA MSA\",\"line\":{\"color\":\"#FFA15A\",\"dash\":\"solid\",\"shape\":\"spline\"},\"marker\":{\"symbol\":\"circle\"},\"mode\":\"markers+lines\",\"name\":\"Pittsburgh, PA MSA\",\"orientation\":\"v\",\"showlegend\":true,\"type\":\"scatter\",\"x\":[\"2021-01-04\",\"2021-02-15\",\"2021-02-22\",\"2021-03-01\",\"2021-03-08\",\"2021-03-15\",\"2021-03-22\",\"2021-03-29\",\"2021-04-05\",\"2021-04-12\",\"2021-05-17\",\"2021-05-24\",\"2021-05-31\",\"2021-06-07\",\"2021-06-14\",\"2021-06-21\",\"2021-06-28\",\"2021-07-05\",\"2021-07-12\",\"2021-08-16\",\"2021-08-23\",\"2021-08-30\",\"2021-09-06\",\"2021-09-13\",\"2021-09-20\"],\"xaxis\":\"x\",\"y\":[33.8,36.1,28.8,28.2,37.7,36.1,24.5,32.0,32.9,31.0,36.2,27.3,35.3,33.3,32.3,22.6,27.0,21.2,32.4,28.5,26.9,28.7,29.3,24.9,23.9],\"yaxis\":\"y\"}],                        {\"legend\":{\"title\":{\"text\":\"msa\"},\"tracegroupgap\":0},\"margin\":{\"t\":60},\"template\":{\"data\":{\"bar\":[{\"error_x\":{\"color\":\"#2a3f5f\"},\"error_y\":{\"color\":\"#2a3f5f\"},\"marker\":{\"line\":{\"color\":\"#E5ECF6\",\"width\":0.5},\"pattern\":{\"fillmode\":\"overlay\",\"size\":10,\"solidity\":0.2}},\"type\":\"bar\"}],\"barpolar\":[{\"marker\":{\"line\":{\"color\":\"#E5ECF6\",\"width\":0.5},\"pattern\":{\"fillmode\":\"overlay\",\"size\":10,\"solidity\":0.2}},\"type\":\"barpolar\"}],\"carpet\":[{\"aaxis\":{\"endlinecolor\":\"#2a3f5f\",\"gridcolor\":\"white\",\"linecolor\":\"white\",\"minorgridcolor\":\"white\",\"startlinecolor\":\"#2a3f5f\"},\"baxis\":{\"endlinecolor\":\"#2a3f5f\",\"gridcolor\":\"white\",\"linecolor\":\"white\",\"minorgridcolor\":\"white\",\"startlinecolor\":\"#2a3f5f\"},\"type\":\"carpet\"}],\"choropleth\":[{\"colorbar\":{\"outlinewidth\":0,\"ticks\":\"\"},\"type\":\"choropleth\"}],\"contour\":[{\"colorbar\":{\"outlinewidth\":0,\"ticks\":\"\"},\"colorscale\":[[0.0,\"#0d0887\"],[0.1111111111111111,\"#46039f\"],[0.2222222222222222,\"#7201a8\"],[0.3333333333333333,\"#9c179e\"],[0.4444444444444444,\"#bd3786\"],[0.5555555555555556,\"#d8576b\"],[0.6666666666666666,\"#ed7953\"],[0.7777777777777778,\"#fb9f3a\"],[0.8888888888888888,\"#fdca26\"],[1.0,\"#f0f921\"]],\"type\":\"contour\"}],\"contourcarpet\":[{\"colorbar\":{\"outlinewidth\":0,\"ticks\":\"\"},\"type\":\"contourcarpet\"}],\"heatmap\":[{\"colorbar\":{\"outlinewidth\":0,\"ticks\":\"\"},\"colorscale\":[[0.0,\"#0d0887\"],[0.1111111111111111,\"#46039f\"],[0.2222222222222222,\"#7201a8\"],[0.3333333333333333,\"#9c179e\"],[0.4444444444444444,\"#bd3786\"],[0.5555555555555556,\"#d8576b\"],[0.6666666666666666,\"#ed7953\"],[0.7777777777777778,\"#fb9f3a\"],[0.8888888888888888,\"#fdca26\"],[1.0,\"#f0f921\"]],\"type\":\"heatmap\"}],\"heatmapgl\":[{\"colorbar\":{\"outlinewidth\":0,\"ticks\":\"\"},\"colorscale\":[[0.0,\"#0d0887\"],[0.1111111111111111,\"#46039f\"],[0.2222222222222222,\"#7201a8\"],[0.3333333333333333,\"#9c179e\"],[0.4444444444444444,\"#bd3786\"],[0.5555555555555556,\"#d8576b\"],[0.6666666666666666,\"#ed7953\"],[0.7777777777777778,\"#fb9f3a\"],[0.8888888888888888,\"#fdca26\"],[1.0,\"#f0f921\"]],\"type\":\"heatmapgl\"}],\"histogram\":[{\"marker\":{\"pattern\":{\"fillmode\":\"overlay\",\"size\":10,\"solidity\":0.2}},\"type\":\"histogram\"}],\"histogram2d\":[{\"colorbar\":{\"outlinewidth\":0,\"ticks\":\"\"},\"colorscale\":[[0.0,\"#0d0887\"],[0.1111111111111111,\"#46039f\"],[0.2222222222222222,\"#7201a8\"],[0.3333333333333333,\"#9c179e\"],[0.4444444444444444,\"#bd3786\"],[0.5555555555555556,\"#d8576b\"],[0.6666666666666666,\"#ed7953\"],[0.7777777777777778,\"#fb9f3a\"],[0.8888888888888888,\"#fdca26\"],[1.0,\"#f0f921\"]],\"type\":\"histogram2d\"}],\"histogram2dcontour\":[{\"colorbar\":{\"outlinewidth\":0,\"ticks\":\"\"},\"colorscale\":[[0.0,\"#0d0887\"],[0.1111111111111111,\"#46039f\"],[0.2222222222222222,\"#7201a8\"],[0.3333333333333333,\"#9c179e\"],[0.4444444444444444,\"#bd3786\"],[0.5555555555555556,\"#d8576b\"],[0.6666666666666666,\"#ed7953\"],[0.7777777777777778,\"#fb9f3a\"],[0.8888888888888888,\"#fdca26\"],[1.0,\"#f0f921\"]],\"type\":\"histogram2dcontour\"}],\"mesh3d\":[{\"colorbar\":{\"outlinewidth\":0,\"ticks\":\"\"},\"type\":\"mesh3d\"}],\"parcoords\":[{\"line\":{\"colorbar\":{\"outlinewidth\":0,\"ticks\":\"\"}},\"type\":\"parcoords\"}],\"pie\":[{\"automargin\":true,\"type\":\"pie\"}],\"scatter\":[{\"marker\":{\"colorbar\":{\"outlinewidth\":0,\"ticks\":\"\"}},\"type\":\"scatter\"}],\"scatter3d\":[{\"line\":{\"colorbar\":{\"outlinewidth\":0,\"ticks\":\"\"}},\"marker\":{\"colorbar\":{\"outlinewidth\":0,\"ticks\":\"\"}},\"type\":\"scatter3d\"}],\"scattercarpet\":[{\"marker\":{\"colorbar\":{\"outlinewidth\":0,\"ticks\":\"\"}},\"type\":\"scattercarpet\"}],\"scattergeo\":[{\"marker\":{\"colorbar\":{\"outlinewidth\":0,\"ticks\":\"\"}},\"type\":\"scattergeo\"}],\"scattergl\":[{\"marker\":{\"colorbar\":{\"outlinewidth\":0,\"ticks\":\"\"}},\"type\":\"scattergl\"}],\"scattermapbox\":[{\"marker\":{\"colorbar\":{\"outlinewidth\":0,\"ticks\":\"\"}},\"type\":\"scattermapbox\"}],\"scatterpolar\":[{\"marker\":{\"colorbar\":{\"outlinewidth\":0,\"ticks\":\"\"}},\"type\":\"scatterpolar\"}],\"scatterpolargl\":[{\"marker\":{\"colorbar\":{\"outlinewidth\":0,\"ticks\":\"\"}},\"type\":\"scatterpolargl\"}],\"scatterternary\":[{\"marker\":{\"colorbar\":{\"outlinewidth\":0,\"ticks\":\"\"}},\"type\":\"scatterternary\"}],\"surface\":[{\"colorbar\":{\"outlinewidth\":0,\"ticks\":\"\"},\"colorscale\":[[0.0,\"#0d0887\"],[0.1111111111111111,\"#46039f\"],[0.2222222222222222,\"#7201a8\"],[0.3333333333333333,\"#9c179e\"],[0.4444444444444444,\"#bd3786\"],[0.5555555555555556,\"#d8576b\"],[0.6666666666666666,\"#ed7953\"],[0.7777777777777778,\"#fb9f3a\"],[0.8888888888888888,\"#fdca26\"],[1.0,\"#f0f921\"]],\"type\":\"surface\"}],\"table\":[{\"cells\":{\"fill\":{\"color\":\"#EBF0F8\"},\"line\":{\"color\":\"white\"}},\"header\":{\"fill\":{\"color\":\"#C8D4E3\"},\"line\":{\"color\":\"white\"}},\"type\":\"table\"}]},\"layout\":{\"annotationdefaults\":{\"arrowcolor\":\"#2a3f5f\",\"arrowhead\":0,\"arrowwidth\":1},\"autotypenumbers\":\"strict\",\"coloraxis\":{\"colorbar\":{\"outlinewidth\":0,\"ticks\":\"\"}},\"colorscale\":{\"diverging\":[[0,\"#8e0152\"],[0.1,\"#c51b7d\"],[0.2,\"#de77ae\"],[0.3,\"#f1b6da\"],[0.4,\"#fde0ef\"],[0.5,\"#f7f7f7\"],[0.6,\"#e6f5d0\"],[0.7,\"#b8e186\"],[0.8,\"#7fbc41\"],[0.9,\"#4d9221\"],[1,\"#276419\"]],\"sequential\":[[0.0,\"#0d0887\"],[0.1111111111111111,\"#46039f\"],[0.2222222222222222,\"#7201a8\"],[0.3333333333333333,\"#9c179e\"],[0.4444444444444444,\"#bd3786\"],[0.5555555555555556,\"#d8576b\"],[0.6666666666666666,\"#ed7953\"],[0.7777777777777778,\"#fb9f3a\"],[0.8888888888888888,\"#fdca26\"],[1.0,\"#f0f921\"]],\"sequentialminus\":[[0.0,\"#0d0887\"],[0.1111111111111111,\"#46039f\"],[0.2222222222222222,\"#7201a8\"],[0.3333333333333333,\"#9c179e\"],[0.4444444444444444,\"#bd3786\"],[0.5555555555555556,\"#d8576b\"],[0.6666666666666666,\"#ed7953\"],[0.7777777777777778,\"#fb9f3a\"],[0.8888888888888888,\"#fdca26\"],[1.0,\"#f0f921\"]]},\"colorway\":[\"#636efa\",\"#EF553B\",\"#00cc96\",\"#ab63fa\",\"#FFA15A\",\"#19d3f3\",\"#FF6692\",\"#B6E880\",\"#FF97FF\",\"#FECB52\"],\"font\":{\"color\":\"#2a3f5f\"},\"geo\":{\"bgcolor\":\"white\",\"lakecolor\":\"white\",\"landcolor\":\"#E5ECF6\",\"showlakes\":true,\"showland\":true,\"subunitcolor\":\"white\"},\"hoverlabel\":{\"align\":\"left\"},\"hovermode\":\"closest\",\"mapbox\":{\"style\":\"light\"},\"paper_bgcolor\":\"white\",\"plot_bgcolor\":\"#E5ECF6\",\"polar\":{\"angularaxis\":{\"gridcolor\":\"white\",\"linecolor\":\"white\",\"ticks\":\"\"},\"bgcolor\":\"#E5ECF6\",\"radialaxis\":{\"gridcolor\":\"white\",\"linecolor\":\"white\",\"ticks\":\"\"}},\"scene\":{\"xaxis\":{\"backgroundcolor\":\"#E5ECF6\",\"gridcolor\":\"white\",\"gridwidth\":2,\"linecolor\":\"white\",\"showbackground\":true,\"ticks\":\"\",\"zerolinecolor\":\"white\"},\"yaxis\":{\"backgroundcolor\":\"#E5ECF6\",\"gridcolor\":\"white\",\"gridwidth\":2,\"linecolor\":\"white\",\"showbackground\":true,\"ticks\":\"\",\"zerolinecolor\":\"white\"},\"zaxis\":{\"backgroundcolor\":\"#E5ECF6\",\"gridcolor\":\"white\",\"gridwidth\":2,\"linecolor\":\"white\",\"showbackground\":true,\"ticks\":\"\",\"zerolinecolor\":\"white\"}},\"shapedefaults\":{\"line\":{\"color\":\"#2a3f5f\"}},\"ternary\":{\"aaxis\":{\"gridcolor\":\"white\",\"linecolor\":\"white\",\"ticks\":\"\"},\"baxis\":{\"gridcolor\":\"white\",\"linecolor\":\"white\",\"ticks\":\"\"},\"bgcolor\":\"#E5ECF6\",\"caxis\":{\"gridcolor\":\"white\",\"linecolor\":\"white\",\"ticks\":\"\"}},\"title\":{\"x\":0.05},\"xaxis\":{\"automargin\":true,\"gridcolor\":\"white\",\"linecolor\":\"white\",\"ticks\":\"\",\"title\":{\"standoff\":15},\"zerolinecolor\":\"white\",\"zerolinewidth\":2},\"yaxis\":{\"automargin\":true,\"gridcolor\":\"white\",\"linecolor\":\"white\",\"ticks\":\"\",\"title\":{\"standoff\":15},\"zerolinecolor\":\"white\",\"zerolinewidth\":2}}},\"xaxis\":{\"anchor\":\"y\",\"domain\":[0.0,1.0],\"title\":{\"text\":\"survey_end_date\"}},\"yaxis\":{\"anchor\":\"x\",\"domain\":[0.0,1.0],\"range\":[0,100],\"title\":{\"text\":\"estimate_percentage_num\"}}},                        {\"responsive\": true}                    ).then(function(){\n",
       "                            \n",
       "var gd = document.getElementById('87414179-f994-4b13-b7d2-79ca09dafe8b');\n",
       "var x = new MutationObserver(function (mutations, observer) {{\n",
       "        var display = window.getComputedStyle(gd).display;\n",
       "        if (!display || display === 'none') {{\n",
       "            console.log([gd, 'removed!']);\n",
       "            Plotly.purge(gd);\n",
       "            observer.disconnect();\n",
       "        }}\n",
       "}});\n",
       "\n",
       "// Listen for the removal of the full notebook cells\n",
       "var notebookContainer = gd.closest('#notebook-container');\n",
       "if (notebookContainer) {{\n",
       "    x.observe(notebookContainer, {childList: true});\n",
       "}}\n",
       "\n",
       "// Listen for the clearing of the current output cell\n",
       "var outputEl = gd.closest('.output');\n",
       "if (outputEl) {{\n",
       "    x.observe(outputEl, {childList: true});\n",
       "}}\n",
       "\n",
       "                        })                };                });            </script>        </div>"
      ]
     },
     "metadata": {},
     "output_type": "display_data"
    }
   ],
   "source": [
    "## first let's look at only a large negative effect\n",
    "msa_large_negative = all_msa_data[all_msa_data.answer_id == 1]\n",
    "msa_large_negative = msa_large_negative.reset_index(drop = False)\n",
    "\n",
    "## estimate percentage is read in as a string. We need to convert it to a float\n",
    "## so that we can graph it properly\n",
    "\n",
    "msa_large_negative = msa_large_negative.sort_values([\"msa\", \"survey_end_date\"])\n",
    "\n",
    "fig1 = px.line(msa_large_negative, \n",
    "              x=\"survey_end_date\", \n",
    "              y=\"estimate_percentage_num\", \n",
    "              color=\"msa\", \n",
    "              line_group=\"msa\", \n",
    "              hover_name=\"msa\",\n",
    "              line_shape=\"spline\", \n",
    "              render_mode=\"svg\",\n",
    "             markers = True)\n",
    "fig1.update_yaxes(range=[0,100])\n",
    "fig1.show()"
   ]
  },
  {
   "cell_type": "code",
   "execution_count": null,
   "id": "16e28f7c",
   "metadata": {},
   "outputs": [],
   "source": []
  },
  {
   "cell_type": "markdown",
   "id": "7f83e652",
   "metadata": {},
   "source": [
    "That is all over the place, which may make sense since this was the beginning of the pandemic. We can look at more data later. Right now, let's look at the combined negative affect. "
   ]
  },
  {
   "cell_type": "code",
   "execution_count": 8,
   "id": "54821955",
   "metadata": {},
   "outputs": [
    {
     "data": {
      "application/vnd.plotly.v1+json": {
       "config": {
        "plotlyServerURL": "https://plot.ly"
       },
       "data": [
        {
         "hovertemplate": "<b>%{hovertext}</b><br><br>msa=Charlotte-Concord-Gastonia, NC-SC MSA<br>survey_end_date=%{x}<br>estimate_percentage_num=%{y}<extra></extra>",
         "hovertext": [
          "Charlotte-Concord-Gastonia, NC-SC MSA",
          "Charlotte-Concord-Gastonia, NC-SC MSA",
          "Charlotte-Concord-Gastonia, NC-SC MSA",
          "Charlotte-Concord-Gastonia, NC-SC MSA",
          "Charlotte-Concord-Gastonia, NC-SC MSA",
          "Charlotte-Concord-Gastonia, NC-SC MSA",
          "Charlotte-Concord-Gastonia, NC-SC MSA",
          "Charlotte-Concord-Gastonia, NC-SC MSA",
          "Charlotte-Concord-Gastonia, NC-SC MSA",
          "Charlotte-Concord-Gastonia, NC-SC MSA",
          "Charlotte-Concord-Gastonia, NC-SC MSA",
          "Charlotte-Concord-Gastonia, NC-SC MSA",
          "Charlotte-Concord-Gastonia, NC-SC MSA",
          "Charlotte-Concord-Gastonia, NC-SC MSA",
          "Charlotte-Concord-Gastonia, NC-SC MSA",
          "Charlotte-Concord-Gastonia, NC-SC MSA",
          "Charlotte-Concord-Gastonia, NC-SC MSA",
          "Charlotte-Concord-Gastonia, NC-SC MSA",
          "Charlotte-Concord-Gastonia, NC-SC MSA",
          "Charlotte-Concord-Gastonia, NC-SC MSA",
          "Charlotte-Concord-Gastonia, NC-SC MSA",
          "Charlotte-Concord-Gastonia, NC-SC MSA",
          "Charlotte-Concord-Gastonia, NC-SC MSA",
          "Charlotte-Concord-Gastonia, NC-SC MSA",
          "Charlotte-Concord-Gastonia, NC-SC MSA"
         ],
         "legendgroup": "Charlotte-Concord-Gastonia, NC-SC MSA",
         "line": {
          "color": "#636efa",
          "dash": "solid",
          "shape": "spline"
         },
         "marker": {
          "symbol": "circle"
         },
         "mode": "markers+lines",
         "name": "Charlotte-Concord-Gastonia, NC-SC MSA",
         "orientation": "v",
         "showlegend": true,
         "type": "scatter",
         "x": [
          "2021-01-04",
          "2021-02-15",
          "2021-02-22",
          "2021-03-01",
          "2021-03-08",
          "2021-03-15",
          "2021-03-22",
          "2021-03-29",
          "2021-04-05",
          "2021-04-12",
          "2021-05-17",
          "2021-05-24",
          "2021-05-31",
          "2021-06-07",
          "2021-06-14",
          "2021-06-21",
          "2021-06-28",
          "2021-07-05",
          "2021-07-12",
          "2021-08-16",
          "2021-08-23",
          "2021-08-30",
          "2021-09-06",
          "2021-09-13",
          "2021-09-20"
         ],
         "xaxis": "x",
         "y": [
          77.1,
          72.9,
          75.4,
          56.7,
          67.3,
          71.9,
          73.3,
          64.8,
          72,
          65.2,
          68.7,
          67,
          57.9,
          64.19999999999999,
          63.599999999999994,
          65.8,
          60.1,
          70.30000000000001,
          64.3,
          72.2,
          69.5,
          54.900000000000006,
          58.900000000000006,
          63.4,
          61.2
         ],
         "yaxis": "y"
        },
        {
         "hovertemplate": "<b>%{hovertext}</b><br><br>msa=Cleveland-Elyria, OH MSA<br>survey_end_date=%{x}<br>estimate_percentage_num=%{y}<extra></extra>",
         "hovertext": [
          "Cleveland-Elyria, OH MSA",
          "Cleveland-Elyria, OH MSA",
          "Cleveland-Elyria, OH MSA",
          "Cleveland-Elyria, OH MSA",
          "Cleveland-Elyria, OH MSA",
          "Cleveland-Elyria, OH MSA",
          "Cleveland-Elyria, OH MSA",
          "Cleveland-Elyria, OH MSA",
          "Cleveland-Elyria, OH MSA",
          "Cleveland-Elyria, OH MSA",
          "Cleveland-Elyria, OH MSA",
          "Cleveland-Elyria, OH MSA",
          "Cleveland-Elyria, OH MSA",
          "Cleveland-Elyria, OH MSA",
          "Cleveland-Elyria, OH MSA",
          "Cleveland-Elyria, OH MSA",
          "Cleveland-Elyria, OH MSA",
          "Cleveland-Elyria, OH MSA",
          "Cleveland-Elyria, OH MSA",
          "Cleveland-Elyria, OH MSA",
          "Cleveland-Elyria, OH MSA",
          "Cleveland-Elyria, OH MSA",
          "Cleveland-Elyria, OH MSA",
          "Cleveland-Elyria, OH MSA",
          "Cleveland-Elyria, OH MSA"
         ],
         "legendgroup": "Cleveland-Elyria, OH MSA",
         "line": {
          "color": "#EF553B",
          "dash": "solid",
          "shape": "spline"
         },
         "marker": {
          "symbol": "circle"
         },
         "mode": "markers+lines",
         "name": "Cleveland-Elyria, OH MSA",
         "orientation": "v",
         "showlegend": true,
         "type": "scatter",
         "x": [
          "2021-01-04",
          "2021-02-15",
          "2021-02-22",
          "2021-03-01",
          "2021-03-08",
          "2021-03-15",
          "2021-03-22",
          "2021-03-29",
          "2021-04-05",
          "2021-04-12",
          "2021-05-17",
          "2021-05-24",
          "2021-05-31",
          "2021-06-07",
          "2021-06-14",
          "2021-06-21",
          "2021-06-28",
          "2021-07-05",
          "2021-07-12",
          "2021-08-16",
          "2021-08-23",
          "2021-08-30",
          "2021-09-06",
          "2021-09-13",
          "2021-09-20"
         ],
         "xaxis": "x",
         "y": [
          78.5,
          66.9,
          75.9,
          71.6,
          75.6,
          76.19999999999999,
          68.6,
          76.3,
          68.4,
          83.5,
          65.8,
          64.9,
          72.1,
          70.6,
          73.4,
          75.1,
          75.4,
          64.5,
          67.9,
          65.1,
          66,
          68.9,
          71.3,
          68.1,
          73
         ],
         "yaxis": "y"
        },
        {
         "hovertemplate": "<b>%{hovertext}</b><br><br>msa=Las Vegas-Henderson-Paradise, NV MSA<br>survey_end_date=%{x}<br>estimate_percentage_num=%{y}<extra></extra>",
         "hovertext": [
          "Las Vegas-Henderson-Paradise, NV MSA",
          "Las Vegas-Henderson-Paradise, NV MSA",
          "Las Vegas-Henderson-Paradise, NV MSA",
          "Las Vegas-Henderson-Paradise, NV MSA",
          "Las Vegas-Henderson-Paradise, NV MSA",
          "Las Vegas-Henderson-Paradise, NV MSA",
          "Las Vegas-Henderson-Paradise, NV MSA",
          "Las Vegas-Henderson-Paradise, NV MSA",
          "Las Vegas-Henderson-Paradise, NV MSA",
          "Las Vegas-Henderson-Paradise, NV MSA",
          "Las Vegas-Henderson-Paradise, NV MSA",
          "Las Vegas-Henderson-Paradise, NV MSA",
          "Las Vegas-Henderson-Paradise, NV MSA",
          "Las Vegas-Henderson-Paradise, NV MSA",
          "Las Vegas-Henderson-Paradise, NV MSA",
          "Las Vegas-Henderson-Paradise, NV MSA",
          "Las Vegas-Henderson-Paradise, NV MSA",
          "Las Vegas-Henderson-Paradise, NV MSA",
          "Las Vegas-Henderson-Paradise, NV MSA",
          "Las Vegas-Henderson-Paradise, NV MSA",
          "Las Vegas-Henderson-Paradise, NV MSA",
          "Las Vegas-Henderson-Paradise, NV MSA",
          "Las Vegas-Henderson-Paradise, NV MSA",
          "Las Vegas-Henderson-Paradise, NV MSA",
          "Las Vegas-Henderson-Paradise, NV MSA"
         ],
         "legendgroup": "Las Vegas-Henderson-Paradise, NV MSA",
         "line": {
          "color": "#00cc96",
          "dash": "solid",
          "shape": "spline"
         },
         "marker": {
          "symbol": "circle"
         },
         "mode": "markers+lines",
         "name": "Las Vegas-Henderson-Paradise, NV MSA",
         "orientation": "v",
         "showlegend": true,
         "type": "scatter",
         "x": [
          "2021-01-04",
          "2021-02-15",
          "2021-02-22",
          "2021-03-01",
          "2021-03-08",
          "2021-03-15",
          "2021-03-22",
          "2021-03-29",
          "2021-04-05",
          "2021-04-12",
          "2021-05-17",
          "2021-05-24",
          "2021-05-31",
          "2021-06-07",
          "2021-06-14",
          "2021-06-21",
          "2021-06-28",
          "2021-07-05",
          "2021-07-12",
          "2021-08-16",
          "2021-08-23",
          "2021-08-30",
          "2021-09-06",
          "2021-09-13",
          "2021-09-20"
         ],
         "xaxis": "x",
         "y": [
          76,
          83.6,
          77.7,
          78.4,
          81.8,
          67.80000000000001,
          76.1,
          71,
          64.9,
          69,
          73.2,
          72.3,
          73.5,
          65.6,
          65.8,
          71.7,
          66.6,
          69.5,
          70.1,
          66.6,
          73.6,
          73.7,
          70,
          61.3,
          74
         ],
         "yaxis": "y"
        },
        {
         "hovertemplate": "<b>%{hovertext}</b><br><br>msa=Phoenix-Mesa-Chandler, AZ MSA<br>survey_end_date=%{x}<br>estimate_percentage_num=%{y}<extra></extra>",
         "hovertext": [
          "Phoenix-Mesa-Chandler, AZ MSA",
          "Phoenix-Mesa-Chandler, AZ MSA",
          "Phoenix-Mesa-Chandler, AZ MSA",
          "Phoenix-Mesa-Chandler, AZ MSA",
          "Phoenix-Mesa-Chandler, AZ MSA",
          "Phoenix-Mesa-Chandler, AZ MSA",
          "Phoenix-Mesa-Chandler, AZ MSA",
          "Phoenix-Mesa-Chandler, AZ MSA",
          "Phoenix-Mesa-Chandler, AZ MSA",
          "Phoenix-Mesa-Chandler, AZ MSA",
          "Phoenix-Mesa-Chandler, AZ MSA",
          "Phoenix-Mesa-Chandler, AZ MSA",
          "Phoenix-Mesa-Chandler, AZ MSA",
          "Phoenix-Mesa-Chandler, AZ MSA",
          "Phoenix-Mesa-Chandler, AZ MSA",
          "Phoenix-Mesa-Chandler, AZ MSA",
          "Phoenix-Mesa-Chandler, AZ MSA",
          "Phoenix-Mesa-Chandler, AZ MSA",
          "Phoenix-Mesa-Chandler, AZ MSA",
          "Phoenix-Mesa-Chandler, AZ MSA",
          "Phoenix-Mesa-Chandler, AZ MSA",
          "Phoenix-Mesa-Chandler, AZ MSA",
          "Phoenix-Mesa-Chandler, AZ MSA",
          "Phoenix-Mesa-Chandler, AZ MSA",
          "Phoenix-Mesa-Chandler, AZ MSA"
         ],
         "legendgroup": "Phoenix-Mesa-Chandler, AZ MSA",
         "line": {
          "color": "#ab63fa",
          "dash": "solid",
          "shape": "spline"
         },
         "marker": {
          "symbol": "circle"
         },
         "mode": "markers+lines",
         "name": "Phoenix-Mesa-Chandler, AZ MSA",
         "orientation": "v",
         "showlegend": true,
         "type": "scatter",
         "x": [
          "2021-01-04",
          "2021-02-15",
          "2021-02-22",
          "2021-03-01",
          "2021-03-08",
          "2021-03-15",
          "2021-03-22",
          "2021-03-29",
          "2021-04-05",
          "2021-04-12",
          "2021-05-17",
          "2021-05-24",
          "2021-05-31",
          "2021-06-07",
          "2021-06-14",
          "2021-06-21",
          "2021-06-28",
          "2021-07-05",
          "2021-07-12",
          "2021-08-16",
          "2021-08-23",
          "2021-08-30",
          "2021-09-06",
          "2021-09-13",
          "2021-09-20"
         ],
         "xaxis": "x",
         "y": [
          73.3,
          71.1,
          67.4,
          62.1,
          67.2,
          65.9,
          68.1,
          64.80000000000001,
          62.400000000000006,
          70.6,
          70.30000000000001,
          55.8,
          59.5,
          67.6,
          66.6,
          65.4,
          60.2,
          56.9,
          61.5,
          68.9,
          61.6,
          57.4,
          65.4,
          68.8,
          62.199999999999996
         ],
         "yaxis": "y"
        },
        {
         "hovertemplate": "<b>%{hovertext}</b><br><br>msa=Pittsburgh, PA MSA<br>survey_end_date=%{x}<br>estimate_percentage_num=%{y}<extra></extra>",
         "hovertext": [
          "Pittsburgh, PA MSA",
          "Pittsburgh, PA MSA",
          "Pittsburgh, PA MSA",
          "Pittsburgh, PA MSA",
          "Pittsburgh, PA MSA",
          "Pittsburgh, PA MSA",
          "Pittsburgh, PA MSA",
          "Pittsburgh, PA MSA",
          "Pittsburgh, PA MSA",
          "Pittsburgh, PA MSA",
          "Pittsburgh, PA MSA",
          "Pittsburgh, PA MSA",
          "Pittsburgh, PA MSA",
          "Pittsburgh, PA MSA",
          "Pittsburgh, PA MSA",
          "Pittsburgh, PA MSA",
          "Pittsburgh, PA MSA",
          "Pittsburgh, PA MSA",
          "Pittsburgh, PA MSA",
          "Pittsburgh, PA MSA",
          "Pittsburgh, PA MSA",
          "Pittsburgh, PA MSA",
          "Pittsburgh, PA MSA",
          "Pittsburgh, PA MSA",
          "Pittsburgh, PA MSA"
         ],
         "legendgroup": "Pittsburgh, PA MSA",
         "line": {
          "color": "#FFA15A",
          "dash": "solid",
          "shape": "spline"
         },
         "marker": {
          "symbol": "circle"
         },
         "mode": "markers+lines",
         "name": "Pittsburgh, PA MSA",
         "orientation": "v",
         "showlegend": true,
         "type": "scatter",
         "x": [
          "2021-01-04",
          "2021-02-15",
          "2021-02-22",
          "2021-03-01",
          "2021-03-08",
          "2021-03-15",
          "2021-03-22",
          "2021-03-29",
          "2021-04-05",
          "2021-04-12",
          "2021-05-17",
          "2021-05-24",
          "2021-05-31",
          "2021-06-07",
          "2021-06-14",
          "2021-06-21",
          "2021-06-28",
          "2021-07-05",
          "2021-07-12",
          "2021-08-16",
          "2021-08-23",
          "2021-08-30",
          "2021-09-06",
          "2021-09-13",
          "2021-09-20"
         ],
         "xaxis": "x",
         "y": [
          77.3,
          80.2,
          75.4,
          72.5,
          78.9,
          84.5,
          74.3,
          75.6,
          80.5,
          76.7,
          73.4,
          76.2,
          73.9,
          73.19999999999999,
          70.9,
          65,
          67.5,
          74.7,
          69,
          72.1,
          74.6,
          70.1,
          64.6,
          78.69999999999999,
          64.69999999999999
         ],
         "yaxis": "y"
        }
       ],
       "layout": {
        "legend": {
         "title": {
          "text": "msa"
         },
         "tracegroupgap": 0
        },
        "margin": {
         "t": 60
        },
        "template": {
         "data": {
          "bar": [
           {
            "error_x": {
             "color": "#2a3f5f"
            },
            "error_y": {
             "color": "#2a3f5f"
            },
            "marker": {
             "line": {
              "color": "#E5ECF6",
              "width": 0.5
             },
             "pattern": {
              "fillmode": "overlay",
              "size": 10,
              "solidity": 0.2
             }
            },
            "type": "bar"
           }
          ],
          "barpolar": [
           {
            "marker": {
             "line": {
              "color": "#E5ECF6",
              "width": 0.5
             },
             "pattern": {
              "fillmode": "overlay",
              "size": 10,
              "solidity": 0.2
             }
            },
            "type": "barpolar"
           }
          ],
          "carpet": [
           {
            "aaxis": {
             "endlinecolor": "#2a3f5f",
             "gridcolor": "white",
             "linecolor": "white",
             "minorgridcolor": "white",
             "startlinecolor": "#2a3f5f"
            },
            "baxis": {
             "endlinecolor": "#2a3f5f",
             "gridcolor": "white",
             "linecolor": "white",
             "minorgridcolor": "white",
             "startlinecolor": "#2a3f5f"
            },
            "type": "carpet"
           }
          ],
          "choropleth": [
           {
            "colorbar": {
             "outlinewidth": 0,
             "ticks": ""
            },
            "type": "choropleth"
           }
          ],
          "contour": [
           {
            "colorbar": {
             "outlinewidth": 0,
             "ticks": ""
            },
            "colorscale": [
             [
              0,
              "#0d0887"
             ],
             [
              0.1111111111111111,
              "#46039f"
             ],
             [
              0.2222222222222222,
              "#7201a8"
             ],
             [
              0.3333333333333333,
              "#9c179e"
             ],
             [
              0.4444444444444444,
              "#bd3786"
             ],
             [
              0.5555555555555556,
              "#d8576b"
             ],
             [
              0.6666666666666666,
              "#ed7953"
             ],
             [
              0.7777777777777778,
              "#fb9f3a"
             ],
             [
              0.8888888888888888,
              "#fdca26"
             ],
             [
              1,
              "#f0f921"
             ]
            ],
            "type": "contour"
           }
          ],
          "contourcarpet": [
           {
            "colorbar": {
             "outlinewidth": 0,
             "ticks": ""
            },
            "type": "contourcarpet"
           }
          ],
          "heatmap": [
           {
            "colorbar": {
             "outlinewidth": 0,
             "ticks": ""
            },
            "colorscale": [
             [
              0,
              "#0d0887"
             ],
             [
              0.1111111111111111,
              "#46039f"
             ],
             [
              0.2222222222222222,
              "#7201a8"
             ],
             [
              0.3333333333333333,
              "#9c179e"
             ],
             [
              0.4444444444444444,
              "#bd3786"
             ],
             [
              0.5555555555555556,
              "#d8576b"
             ],
             [
              0.6666666666666666,
              "#ed7953"
             ],
             [
              0.7777777777777778,
              "#fb9f3a"
             ],
             [
              0.8888888888888888,
              "#fdca26"
             ],
             [
              1,
              "#f0f921"
             ]
            ],
            "type": "heatmap"
           }
          ],
          "heatmapgl": [
           {
            "colorbar": {
             "outlinewidth": 0,
             "ticks": ""
            },
            "colorscale": [
             [
              0,
              "#0d0887"
             ],
             [
              0.1111111111111111,
              "#46039f"
             ],
             [
              0.2222222222222222,
              "#7201a8"
             ],
             [
              0.3333333333333333,
              "#9c179e"
             ],
             [
              0.4444444444444444,
              "#bd3786"
             ],
             [
              0.5555555555555556,
              "#d8576b"
             ],
             [
              0.6666666666666666,
              "#ed7953"
             ],
             [
              0.7777777777777778,
              "#fb9f3a"
             ],
             [
              0.8888888888888888,
              "#fdca26"
             ],
             [
              1,
              "#f0f921"
             ]
            ],
            "type": "heatmapgl"
           }
          ],
          "histogram": [
           {
            "marker": {
             "pattern": {
              "fillmode": "overlay",
              "size": 10,
              "solidity": 0.2
             }
            },
            "type": "histogram"
           }
          ],
          "histogram2d": [
           {
            "colorbar": {
             "outlinewidth": 0,
             "ticks": ""
            },
            "colorscale": [
             [
              0,
              "#0d0887"
             ],
             [
              0.1111111111111111,
              "#46039f"
             ],
             [
              0.2222222222222222,
              "#7201a8"
             ],
             [
              0.3333333333333333,
              "#9c179e"
             ],
             [
              0.4444444444444444,
              "#bd3786"
             ],
             [
              0.5555555555555556,
              "#d8576b"
             ],
             [
              0.6666666666666666,
              "#ed7953"
             ],
             [
              0.7777777777777778,
              "#fb9f3a"
             ],
             [
              0.8888888888888888,
              "#fdca26"
             ],
             [
              1,
              "#f0f921"
             ]
            ],
            "type": "histogram2d"
           }
          ],
          "histogram2dcontour": [
           {
            "colorbar": {
             "outlinewidth": 0,
             "ticks": ""
            },
            "colorscale": [
             [
              0,
              "#0d0887"
             ],
             [
              0.1111111111111111,
              "#46039f"
             ],
             [
              0.2222222222222222,
              "#7201a8"
             ],
             [
              0.3333333333333333,
              "#9c179e"
             ],
             [
              0.4444444444444444,
              "#bd3786"
             ],
             [
              0.5555555555555556,
              "#d8576b"
             ],
             [
              0.6666666666666666,
              "#ed7953"
             ],
             [
              0.7777777777777778,
              "#fb9f3a"
             ],
             [
              0.8888888888888888,
              "#fdca26"
             ],
             [
              1,
              "#f0f921"
             ]
            ],
            "type": "histogram2dcontour"
           }
          ],
          "mesh3d": [
           {
            "colorbar": {
             "outlinewidth": 0,
             "ticks": ""
            },
            "type": "mesh3d"
           }
          ],
          "parcoords": [
           {
            "line": {
             "colorbar": {
              "outlinewidth": 0,
              "ticks": ""
             }
            },
            "type": "parcoords"
           }
          ],
          "pie": [
           {
            "automargin": true,
            "type": "pie"
           }
          ],
          "scatter": [
           {
            "marker": {
             "colorbar": {
              "outlinewidth": 0,
              "ticks": ""
             }
            },
            "type": "scatter"
           }
          ],
          "scatter3d": [
           {
            "line": {
             "colorbar": {
              "outlinewidth": 0,
              "ticks": ""
             }
            },
            "marker": {
             "colorbar": {
              "outlinewidth": 0,
              "ticks": ""
             }
            },
            "type": "scatter3d"
           }
          ],
          "scattercarpet": [
           {
            "marker": {
             "colorbar": {
              "outlinewidth": 0,
              "ticks": ""
             }
            },
            "type": "scattercarpet"
           }
          ],
          "scattergeo": [
           {
            "marker": {
             "colorbar": {
              "outlinewidth": 0,
              "ticks": ""
             }
            },
            "type": "scattergeo"
           }
          ],
          "scattergl": [
           {
            "marker": {
             "colorbar": {
              "outlinewidth": 0,
              "ticks": ""
             }
            },
            "type": "scattergl"
           }
          ],
          "scattermapbox": [
           {
            "marker": {
             "colorbar": {
              "outlinewidth": 0,
              "ticks": ""
             }
            },
            "type": "scattermapbox"
           }
          ],
          "scatterpolar": [
           {
            "marker": {
             "colorbar": {
              "outlinewidth": 0,
              "ticks": ""
             }
            },
            "type": "scatterpolar"
           }
          ],
          "scatterpolargl": [
           {
            "marker": {
             "colorbar": {
              "outlinewidth": 0,
              "ticks": ""
             }
            },
            "type": "scatterpolargl"
           }
          ],
          "scatterternary": [
           {
            "marker": {
             "colorbar": {
              "outlinewidth": 0,
              "ticks": ""
             }
            },
            "type": "scatterternary"
           }
          ],
          "surface": [
           {
            "colorbar": {
             "outlinewidth": 0,
             "ticks": ""
            },
            "colorscale": [
             [
              0,
              "#0d0887"
             ],
             [
              0.1111111111111111,
              "#46039f"
             ],
             [
              0.2222222222222222,
              "#7201a8"
             ],
             [
              0.3333333333333333,
              "#9c179e"
             ],
             [
              0.4444444444444444,
              "#bd3786"
             ],
             [
              0.5555555555555556,
              "#d8576b"
             ],
             [
              0.6666666666666666,
              "#ed7953"
             ],
             [
              0.7777777777777778,
              "#fb9f3a"
             ],
             [
              0.8888888888888888,
              "#fdca26"
             ],
             [
              1,
              "#f0f921"
             ]
            ],
            "type": "surface"
           }
          ],
          "table": [
           {
            "cells": {
             "fill": {
              "color": "#EBF0F8"
             },
             "line": {
              "color": "white"
             }
            },
            "header": {
             "fill": {
              "color": "#C8D4E3"
             },
             "line": {
              "color": "white"
             }
            },
            "type": "table"
           }
          ]
         },
         "layout": {
          "annotationdefaults": {
           "arrowcolor": "#2a3f5f",
           "arrowhead": 0,
           "arrowwidth": 1
          },
          "autotypenumbers": "strict",
          "coloraxis": {
           "colorbar": {
            "outlinewidth": 0,
            "ticks": ""
           }
          },
          "colorscale": {
           "diverging": [
            [
             0,
             "#8e0152"
            ],
            [
             0.1,
             "#c51b7d"
            ],
            [
             0.2,
             "#de77ae"
            ],
            [
             0.3,
             "#f1b6da"
            ],
            [
             0.4,
             "#fde0ef"
            ],
            [
             0.5,
             "#f7f7f7"
            ],
            [
             0.6,
             "#e6f5d0"
            ],
            [
             0.7,
             "#b8e186"
            ],
            [
             0.8,
             "#7fbc41"
            ],
            [
             0.9,
             "#4d9221"
            ],
            [
             1,
             "#276419"
            ]
           ],
           "sequential": [
            [
             0,
             "#0d0887"
            ],
            [
             0.1111111111111111,
             "#46039f"
            ],
            [
             0.2222222222222222,
             "#7201a8"
            ],
            [
             0.3333333333333333,
             "#9c179e"
            ],
            [
             0.4444444444444444,
             "#bd3786"
            ],
            [
             0.5555555555555556,
             "#d8576b"
            ],
            [
             0.6666666666666666,
             "#ed7953"
            ],
            [
             0.7777777777777778,
             "#fb9f3a"
            ],
            [
             0.8888888888888888,
             "#fdca26"
            ],
            [
             1,
             "#f0f921"
            ]
           ],
           "sequentialminus": [
            [
             0,
             "#0d0887"
            ],
            [
             0.1111111111111111,
             "#46039f"
            ],
            [
             0.2222222222222222,
             "#7201a8"
            ],
            [
             0.3333333333333333,
             "#9c179e"
            ],
            [
             0.4444444444444444,
             "#bd3786"
            ],
            [
             0.5555555555555556,
             "#d8576b"
            ],
            [
             0.6666666666666666,
             "#ed7953"
            ],
            [
             0.7777777777777778,
             "#fb9f3a"
            ],
            [
             0.8888888888888888,
             "#fdca26"
            ],
            [
             1,
             "#f0f921"
            ]
           ]
          },
          "colorway": [
           "#636efa",
           "#EF553B",
           "#00cc96",
           "#ab63fa",
           "#FFA15A",
           "#19d3f3",
           "#FF6692",
           "#B6E880",
           "#FF97FF",
           "#FECB52"
          ],
          "font": {
           "color": "#2a3f5f"
          },
          "geo": {
           "bgcolor": "white",
           "lakecolor": "white",
           "landcolor": "#E5ECF6",
           "showlakes": true,
           "showland": true,
           "subunitcolor": "white"
          },
          "hoverlabel": {
           "align": "left"
          },
          "hovermode": "closest",
          "mapbox": {
           "style": "light"
          },
          "paper_bgcolor": "white",
          "plot_bgcolor": "#E5ECF6",
          "polar": {
           "angularaxis": {
            "gridcolor": "white",
            "linecolor": "white",
            "ticks": ""
           },
           "bgcolor": "#E5ECF6",
           "radialaxis": {
            "gridcolor": "white",
            "linecolor": "white",
            "ticks": ""
           }
          },
          "scene": {
           "xaxis": {
            "backgroundcolor": "#E5ECF6",
            "gridcolor": "white",
            "gridwidth": 2,
            "linecolor": "white",
            "showbackground": true,
            "ticks": "",
            "zerolinecolor": "white"
           },
           "yaxis": {
            "backgroundcolor": "#E5ECF6",
            "gridcolor": "white",
            "gridwidth": 2,
            "linecolor": "white",
            "showbackground": true,
            "ticks": "",
            "zerolinecolor": "white"
           },
           "zaxis": {
            "backgroundcolor": "#E5ECF6",
            "gridcolor": "white",
            "gridwidth": 2,
            "linecolor": "white",
            "showbackground": true,
            "ticks": "",
            "zerolinecolor": "white"
           }
          },
          "shapedefaults": {
           "line": {
            "color": "#2a3f5f"
           }
          },
          "ternary": {
           "aaxis": {
            "gridcolor": "white",
            "linecolor": "white",
            "ticks": ""
           },
           "baxis": {
            "gridcolor": "white",
            "linecolor": "white",
            "ticks": ""
           },
           "bgcolor": "#E5ECF6",
           "caxis": {
            "gridcolor": "white",
            "linecolor": "white",
            "ticks": ""
           }
          },
          "title": {
           "x": 0.05
          },
          "xaxis": {
           "automargin": true,
           "gridcolor": "white",
           "linecolor": "white",
           "ticks": "",
           "title": {
            "standoff": 15
           },
           "zerolinecolor": "white",
           "zerolinewidth": 2
          },
          "yaxis": {
           "automargin": true,
           "gridcolor": "white",
           "linecolor": "white",
           "ticks": "",
           "title": {
            "standoff": 15
           },
           "zerolinecolor": "white",
           "zerolinewidth": 2
          }
         }
        },
        "xaxis": {
         "anchor": "y",
         "domain": [
          0,
          1
         ],
         "title": {
          "text": "survey_end_date"
         }
        },
        "yaxis": {
         "anchor": "x",
         "domain": [
          0,
          1
         ],
         "range": [
          0,
          100
         ],
         "title": {
          "text": "estimate_percentage_num"
         }
        }
       }
      },
      "text/html": [
       "<div>                            <div id=\"1b86df1f-55ca-4c90-9bbd-873579b9d4d6\" class=\"plotly-graph-div\" style=\"height:525px; width:100%;\"></div>            <script type=\"text/javascript\">                require([\"plotly\"], function(Plotly) {                    window.PLOTLYENV=window.PLOTLYENV || {};                                    if (document.getElementById(\"1b86df1f-55ca-4c90-9bbd-873579b9d4d6\")) {                    Plotly.newPlot(                        \"1b86df1f-55ca-4c90-9bbd-873579b9d4d6\",                        [{\"hovertemplate\":\"<b>%{hovertext}</b><br><br>msa=Charlotte-Concord-Gastonia, NC-SC MSA<br>survey_end_date=%{x}<br>estimate_percentage_num=%{y}<extra></extra>\",\"hovertext\":[\"Charlotte-Concord-Gastonia, NC-SC MSA\",\"Charlotte-Concord-Gastonia, NC-SC MSA\",\"Charlotte-Concord-Gastonia, NC-SC MSA\",\"Charlotte-Concord-Gastonia, NC-SC MSA\",\"Charlotte-Concord-Gastonia, NC-SC MSA\",\"Charlotte-Concord-Gastonia, NC-SC MSA\",\"Charlotte-Concord-Gastonia, NC-SC MSA\",\"Charlotte-Concord-Gastonia, NC-SC MSA\",\"Charlotte-Concord-Gastonia, NC-SC MSA\",\"Charlotte-Concord-Gastonia, NC-SC MSA\",\"Charlotte-Concord-Gastonia, NC-SC MSA\",\"Charlotte-Concord-Gastonia, NC-SC MSA\",\"Charlotte-Concord-Gastonia, NC-SC MSA\",\"Charlotte-Concord-Gastonia, NC-SC MSA\",\"Charlotte-Concord-Gastonia, NC-SC MSA\",\"Charlotte-Concord-Gastonia, NC-SC MSA\",\"Charlotte-Concord-Gastonia, NC-SC MSA\",\"Charlotte-Concord-Gastonia, NC-SC MSA\",\"Charlotte-Concord-Gastonia, NC-SC MSA\",\"Charlotte-Concord-Gastonia, NC-SC MSA\",\"Charlotte-Concord-Gastonia, NC-SC MSA\",\"Charlotte-Concord-Gastonia, NC-SC MSA\",\"Charlotte-Concord-Gastonia, NC-SC MSA\",\"Charlotte-Concord-Gastonia, NC-SC MSA\",\"Charlotte-Concord-Gastonia, NC-SC MSA\"],\"legendgroup\":\"Charlotte-Concord-Gastonia, NC-SC MSA\",\"line\":{\"color\":\"#636efa\",\"dash\":\"solid\",\"shape\":\"spline\"},\"marker\":{\"symbol\":\"circle\"},\"mode\":\"markers+lines\",\"name\":\"Charlotte-Concord-Gastonia, NC-SC MSA\",\"orientation\":\"v\",\"showlegend\":true,\"type\":\"scatter\",\"x\":[\"2021-01-04\",\"2021-02-15\",\"2021-02-22\",\"2021-03-01\",\"2021-03-08\",\"2021-03-15\",\"2021-03-22\",\"2021-03-29\",\"2021-04-05\",\"2021-04-12\",\"2021-05-17\",\"2021-05-24\",\"2021-05-31\",\"2021-06-07\",\"2021-06-14\",\"2021-06-21\",\"2021-06-28\",\"2021-07-05\",\"2021-07-12\",\"2021-08-16\",\"2021-08-23\",\"2021-08-30\",\"2021-09-06\",\"2021-09-13\",\"2021-09-20\"],\"xaxis\":\"x\",\"y\":[77.1,72.9,75.4,56.7,67.3,71.9,73.3,64.8,72.0,65.2,68.7,67.0,57.9,64.19999999999999,63.599999999999994,65.8,60.1,70.30000000000001,64.3,72.2,69.5,54.900000000000006,58.900000000000006,63.4,61.2],\"yaxis\":\"y\"},{\"hovertemplate\":\"<b>%{hovertext}</b><br><br>msa=Cleveland-Elyria, OH MSA<br>survey_end_date=%{x}<br>estimate_percentage_num=%{y}<extra></extra>\",\"hovertext\":[\"Cleveland-Elyria, OH MSA\",\"Cleveland-Elyria, OH MSA\",\"Cleveland-Elyria, OH MSA\",\"Cleveland-Elyria, OH MSA\",\"Cleveland-Elyria, OH MSA\",\"Cleveland-Elyria, OH MSA\",\"Cleveland-Elyria, OH MSA\",\"Cleveland-Elyria, OH MSA\",\"Cleveland-Elyria, OH MSA\",\"Cleveland-Elyria, OH MSA\",\"Cleveland-Elyria, OH MSA\",\"Cleveland-Elyria, OH MSA\",\"Cleveland-Elyria, OH MSA\",\"Cleveland-Elyria, OH MSA\",\"Cleveland-Elyria, OH MSA\",\"Cleveland-Elyria, OH MSA\",\"Cleveland-Elyria, OH MSA\",\"Cleveland-Elyria, OH MSA\",\"Cleveland-Elyria, OH MSA\",\"Cleveland-Elyria, OH MSA\",\"Cleveland-Elyria, OH MSA\",\"Cleveland-Elyria, OH MSA\",\"Cleveland-Elyria, OH MSA\",\"Cleveland-Elyria, OH MSA\",\"Cleveland-Elyria, OH MSA\"],\"legendgroup\":\"Cleveland-Elyria, OH MSA\",\"line\":{\"color\":\"#EF553B\",\"dash\":\"solid\",\"shape\":\"spline\"},\"marker\":{\"symbol\":\"circle\"},\"mode\":\"markers+lines\",\"name\":\"Cleveland-Elyria, OH MSA\",\"orientation\":\"v\",\"showlegend\":true,\"type\":\"scatter\",\"x\":[\"2021-01-04\",\"2021-02-15\",\"2021-02-22\",\"2021-03-01\",\"2021-03-08\",\"2021-03-15\",\"2021-03-22\",\"2021-03-29\",\"2021-04-05\",\"2021-04-12\",\"2021-05-17\",\"2021-05-24\",\"2021-05-31\",\"2021-06-07\",\"2021-06-14\",\"2021-06-21\",\"2021-06-28\",\"2021-07-05\",\"2021-07-12\",\"2021-08-16\",\"2021-08-23\",\"2021-08-30\",\"2021-09-06\",\"2021-09-13\",\"2021-09-20\"],\"xaxis\":\"x\",\"y\":[78.5,66.9,75.9,71.6,75.6,76.19999999999999,68.6,76.3,68.4,83.5,65.8,64.9,72.1,70.6,73.4,75.1,75.4,64.5,67.9,65.1,66.0,68.9,71.3,68.1,73.0],\"yaxis\":\"y\"},{\"hovertemplate\":\"<b>%{hovertext}</b><br><br>msa=Las Vegas-Henderson-Paradise, NV MSA<br>survey_end_date=%{x}<br>estimate_percentage_num=%{y}<extra></extra>\",\"hovertext\":[\"Las Vegas-Henderson-Paradise, NV MSA\",\"Las Vegas-Henderson-Paradise, NV MSA\",\"Las Vegas-Henderson-Paradise, NV MSA\",\"Las Vegas-Henderson-Paradise, NV MSA\",\"Las Vegas-Henderson-Paradise, NV MSA\",\"Las Vegas-Henderson-Paradise, NV MSA\",\"Las Vegas-Henderson-Paradise, NV MSA\",\"Las Vegas-Henderson-Paradise, NV MSA\",\"Las Vegas-Henderson-Paradise, NV MSA\",\"Las Vegas-Henderson-Paradise, NV MSA\",\"Las Vegas-Henderson-Paradise, NV MSA\",\"Las Vegas-Henderson-Paradise, NV MSA\",\"Las Vegas-Henderson-Paradise, NV MSA\",\"Las Vegas-Henderson-Paradise, NV MSA\",\"Las Vegas-Henderson-Paradise, NV MSA\",\"Las Vegas-Henderson-Paradise, NV MSA\",\"Las Vegas-Henderson-Paradise, NV MSA\",\"Las Vegas-Henderson-Paradise, NV MSA\",\"Las Vegas-Henderson-Paradise, NV MSA\",\"Las Vegas-Henderson-Paradise, NV MSA\",\"Las Vegas-Henderson-Paradise, NV MSA\",\"Las Vegas-Henderson-Paradise, NV MSA\",\"Las Vegas-Henderson-Paradise, NV MSA\",\"Las Vegas-Henderson-Paradise, NV MSA\",\"Las Vegas-Henderson-Paradise, NV MSA\"],\"legendgroup\":\"Las Vegas-Henderson-Paradise, NV MSA\",\"line\":{\"color\":\"#00cc96\",\"dash\":\"solid\",\"shape\":\"spline\"},\"marker\":{\"symbol\":\"circle\"},\"mode\":\"markers+lines\",\"name\":\"Las Vegas-Henderson-Paradise, NV MSA\",\"orientation\":\"v\",\"showlegend\":true,\"type\":\"scatter\",\"x\":[\"2021-01-04\",\"2021-02-15\",\"2021-02-22\",\"2021-03-01\",\"2021-03-08\",\"2021-03-15\",\"2021-03-22\",\"2021-03-29\",\"2021-04-05\",\"2021-04-12\",\"2021-05-17\",\"2021-05-24\",\"2021-05-31\",\"2021-06-07\",\"2021-06-14\",\"2021-06-21\",\"2021-06-28\",\"2021-07-05\",\"2021-07-12\",\"2021-08-16\",\"2021-08-23\",\"2021-08-30\",\"2021-09-06\",\"2021-09-13\",\"2021-09-20\"],\"xaxis\":\"x\",\"y\":[76.0,83.6,77.7,78.4,81.8,67.80000000000001,76.1,71.0,64.9,69.0,73.2,72.3,73.5,65.6,65.8,71.7,66.6,69.5,70.1,66.6,73.6,73.7,70.0,61.3,74.0],\"yaxis\":\"y\"},{\"hovertemplate\":\"<b>%{hovertext}</b><br><br>msa=Phoenix-Mesa-Chandler, AZ MSA<br>survey_end_date=%{x}<br>estimate_percentage_num=%{y}<extra></extra>\",\"hovertext\":[\"Phoenix-Mesa-Chandler, AZ MSA\",\"Phoenix-Mesa-Chandler, AZ MSA\",\"Phoenix-Mesa-Chandler, AZ MSA\",\"Phoenix-Mesa-Chandler, AZ MSA\",\"Phoenix-Mesa-Chandler, AZ MSA\",\"Phoenix-Mesa-Chandler, AZ MSA\",\"Phoenix-Mesa-Chandler, AZ MSA\",\"Phoenix-Mesa-Chandler, AZ MSA\",\"Phoenix-Mesa-Chandler, AZ MSA\",\"Phoenix-Mesa-Chandler, AZ MSA\",\"Phoenix-Mesa-Chandler, AZ MSA\",\"Phoenix-Mesa-Chandler, AZ MSA\",\"Phoenix-Mesa-Chandler, AZ MSA\",\"Phoenix-Mesa-Chandler, AZ MSA\",\"Phoenix-Mesa-Chandler, AZ MSA\",\"Phoenix-Mesa-Chandler, AZ MSA\",\"Phoenix-Mesa-Chandler, AZ MSA\",\"Phoenix-Mesa-Chandler, AZ MSA\",\"Phoenix-Mesa-Chandler, AZ MSA\",\"Phoenix-Mesa-Chandler, AZ MSA\",\"Phoenix-Mesa-Chandler, AZ MSA\",\"Phoenix-Mesa-Chandler, AZ MSA\",\"Phoenix-Mesa-Chandler, AZ MSA\",\"Phoenix-Mesa-Chandler, AZ MSA\",\"Phoenix-Mesa-Chandler, AZ MSA\"],\"legendgroup\":\"Phoenix-Mesa-Chandler, AZ MSA\",\"line\":{\"color\":\"#ab63fa\",\"dash\":\"solid\",\"shape\":\"spline\"},\"marker\":{\"symbol\":\"circle\"},\"mode\":\"markers+lines\",\"name\":\"Phoenix-Mesa-Chandler, AZ MSA\",\"orientation\":\"v\",\"showlegend\":true,\"type\":\"scatter\",\"x\":[\"2021-01-04\",\"2021-02-15\",\"2021-02-22\",\"2021-03-01\",\"2021-03-08\",\"2021-03-15\",\"2021-03-22\",\"2021-03-29\",\"2021-04-05\",\"2021-04-12\",\"2021-05-17\",\"2021-05-24\",\"2021-05-31\",\"2021-06-07\",\"2021-06-14\",\"2021-06-21\",\"2021-06-28\",\"2021-07-05\",\"2021-07-12\",\"2021-08-16\",\"2021-08-23\",\"2021-08-30\",\"2021-09-06\",\"2021-09-13\",\"2021-09-20\"],\"xaxis\":\"x\",\"y\":[73.3,71.1,67.4,62.1,67.2,65.9,68.1,64.80000000000001,62.400000000000006,70.6,70.30000000000001,55.8,59.5,67.6,66.6,65.4,60.2,56.9,61.5,68.9,61.6,57.4,65.4,68.8,62.199999999999996],\"yaxis\":\"y\"},{\"hovertemplate\":\"<b>%{hovertext}</b><br><br>msa=Pittsburgh, PA MSA<br>survey_end_date=%{x}<br>estimate_percentage_num=%{y}<extra></extra>\",\"hovertext\":[\"Pittsburgh, PA MSA\",\"Pittsburgh, PA MSA\",\"Pittsburgh, PA MSA\",\"Pittsburgh, PA MSA\",\"Pittsburgh, PA MSA\",\"Pittsburgh, PA MSA\",\"Pittsburgh, PA MSA\",\"Pittsburgh, PA MSA\",\"Pittsburgh, PA MSA\",\"Pittsburgh, PA MSA\",\"Pittsburgh, PA MSA\",\"Pittsburgh, PA MSA\",\"Pittsburgh, PA MSA\",\"Pittsburgh, PA MSA\",\"Pittsburgh, PA MSA\",\"Pittsburgh, PA MSA\",\"Pittsburgh, PA MSA\",\"Pittsburgh, PA MSA\",\"Pittsburgh, PA MSA\",\"Pittsburgh, PA MSA\",\"Pittsburgh, PA MSA\",\"Pittsburgh, PA MSA\",\"Pittsburgh, PA MSA\",\"Pittsburgh, PA MSA\",\"Pittsburgh, PA MSA\"],\"legendgroup\":\"Pittsburgh, PA MSA\",\"line\":{\"color\":\"#FFA15A\",\"dash\":\"solid\",\"shape\":\"spline\"},\"marker\":{\"symbol\":\"circle\"},\"mode\":\"markers+lines\",\"name\":\"Pittsburgh, PA MSA\",\"orientation\":\"v\",\"showlegend\":true,\"type\":\"scatter\",\"x\":[\"2021-01-04\",\"2021-02-15\",\"2021-02-22\",\"2021-03-01\",\"2021-03-08\",\"2021-03-15\",\"2021-03-22\",\"2021-03-29\",\"2021-04-05\",\"2021-04-12\",\"2021-05-17\",\"2021-05-24\",\"2021-05-31\",\"2021-06-07\",\"2021-06-14\",\"2021-06-21\",\"2021-06-28\",\"2021-07-05\",\"2021-07-12\",\"2021-08-16\",\"2021-08-23\",\"2021-08-30\",\"2021-09-06\",\"2021-09-13\",\"2021-09-20\"],\"xaxis\":\"x\",\"y\":[77.3,80.2,75.4,72.5,78.9,84.5,74.3,75.6,80.5,76.7,73.4,76.2,73.9,73.19999999999999,70.9,65.0,67.5,74.7,69.0,72.1,74.6,70.1,64.6,78.69999999999999,64.69999999999999],\"yaxis\":\"y\"}],                        {\"legend\":{\"title\":{\"text\":\"msa\"},\"tracegroupgap\":0},\"margin\":{\"t\":60},\"template\":{\"data\":{\"bar\":[{\"error_x\":{\"color\":\"#2a3f5f\"},\"error_y\":{\"color\":\"#2a3f5f\"},\"marker\":{\"line\":{\"color\":\"#E5ECF6\",\"width\":0.5},\"pattern\":{\"fillmode\":\"overlay\",\"size\":10,\"solidity\":0.2}},\"type\":\"bar\"}],\"barpolar\":[{\"marker\":{\"line\":{\"color\":\"#E5ECF6\",\"width\":0.5},\"pattern\":{\"fillmode\":\"overlay\",\"size\":10,\"solidity\":0.2}},\"type\":\"barpolar\"}],\"carpet\":[{\"aaxis\":{\"endlinecolor\":\"#2a3f5f\",\"gridcolor\":\"white\",\"linecolor\":\"white\",\"minorgridcolor\":\"white\",\"startlinecolor\":\"#2a3f5f\"},\"baxis\":{\"endlinecolor\":\"#2a3f5f\",\"gridcolor\":\"white\",\"linecolor\":\"white\",\"minorgridcolor\":\"white\",\"startlinecolor\":\"#2a3f5f\"},\"type\":\"carpet\"}],\"choropleth\":[{\"colorbar\":{\"outlinewidth\":0,\"ticks\":\"\"},\"type\":\"choropleth\"}],\"contour\":[{\"colorbar\":{\"outlinewidth\":0,\"ticks\":\"\"},\"colorscale\":[[0.0,\"#0d0887\"],[0.1111111111111111,\"#46039f\"],[0.2222222222222222,\"#7201a8\"],[0.3333333333333333,\"#9c179e\"],[0.4444444444444444,\"#bd3786\"],[0.5555555555555556,\"#d8576b\"],[0.6666666666666666,\"#ed7953\"],[0.7777777777777778,\"#fb9f3a\"],[0.8888888888888888,\"#fdca26\"],[1.0,\"#f0f921\"]],\"type\":\"contour\"}],\"contourcarpet\":[{\"colorbar\":{\"outlinewidth\":0,\"ticks\":\"\"},\"type\":\"contourcarpet\"}],\"heatmap\":[{\"colorbar\":{\"outlinewidth\":0,\"ticks\":\"\"},\"colorscale\":[[0.0,\"#0d0887\"],[0.1111111111111111,\"#46039f\"],[0.2222222222222222,\"#7201a8\"],[0.3333333333333333,\"#9c179e\"],[0.4444444444444444,\"#bd3786\"],[0.5555555555555556,\"#d8576b\"],[0.6666666666666666,\"#ed7953\"],[0.7777777777777778,\"#fb9f3a\"],[0.8888888888888888,\"#fdca26\"],[1.0,\"#f0f921\"]],\"type\":\"heatmap\"}],\"heatmapgl\":[{\"colorbar\":{\"outlinewidth\":0,\"ticks\":\"\"},\"colorscale\":[[0.0,\"#0d0887\"],[0.1111111111111111,\"#46039f\"],[0.2222222222222222,\"#7201a8\"],[0.3333333333333333,\"#9c179e\"],[0.4444444444444444,\"#bd3786\"],[0.5555555555555556,\"#d8576b\"],[0.6666666666666666,\"#ed7953\"],[0.7777777777777778,\"#fb9f3a\"],[0.8888888888888888,\"#fdca26\"],[1.0,\"#f0f921\"]],\"type\":\"heatmapgl\"}],\"histogram\":[{\"marker\":{\"pattern\":{\"fillmode\":\"overlay\",\"size\":10,\"solidity\":0.2}},\"type\":\"histogram\"}],\"histogram2d\":[{\"colorbar\":{\"outlinewidth\":0,\"ticks\":\"\"},\"colorscale\":[[0.0,\"#0d0887\"],[0.1111111111111111,\"#46039f\"],[0.2222222222222222,\"#7201a8\"],[0.3333333333333333,\"#9c179e\"],[0.4444444444444444,\"#bd3786\"],[0.5555555555555556,\"#d8576b\"],[0.6666666666666666,\"#ed7953\"],[0.7777777777777778,\"#fb9f3a\"],[0.8888888888888888,\"#fdca26\"],[1.0,\"#f0f921\"]],\"type\":\"histogram2d\"}],\"histogram2dcontour\":[{\"colorbar\":{\"outlinewidth\":0,\"ticks\":\"\"},\"colorscale\":[[0.0,\"#0d0887\"],[0.1111111111111111,\"#46039f\"],[0.2222222222222222,\"#7201a8\"],[0.3333333333333333,\"#9c179e\"],[0.4444444444444444,\"#bd3786\"],[0.5555555555555556,\"#d8576b\"],[0.6666666666666666,\"#ed7953\"],[0.7777777777777778,\"#fb9f3a\"],[0.8888888888888888,\"#fdca26\"],[1.0,\"#f0f921\"]],\"type\":\"histogram2dcontour\"}],\"mesh3d\":[{\"colorbar\":{\"outlinewidth\":0,\"ticks\":\"\"},\"type\":\"mesh3d\"}],\"parcoords\":[{\"line\":{\"colorbar\":{\"outlinewidth\":0,\"ticks\":\"\"}},\"type\":\"parcoords\"}],\"pie\":[{\"automargin\":true,\"type\":\"pie\"}],\"scatter\":[{\"marker\":{\"colorbar\":{\"outlinewidth\":0,\"ticks\":\"\"}},\"type\":\"scatter\"}],\"scatter3d\":[{\"line\":{\"colorbar\":{\"outlinewidth\":0,\"ticks\":\"\"}},\"marker\":{\"colorbar\":{\"outlinewidth\":0,\"ticks\":\"\"}},\"type\":\"scatter3d\"}],\"scattercarpet\":[{\"marker\":{\"colorbar\":{\"outlinewidth\":0,\"ticks\":\"\"}},\"type\":\"scattercarpet\"}],\"scattergeo\":[{\"marker\":{\"colorbar\":{\"outlinewidth\":0,\"ticks\":\"\"}},\"type\":\"scattergeo\"}],\"scattergl\":[{\"marker\":{\"colorbar\":{\"outlinewidth\":0,\"ticks\":\"\"}},\"type\":\"scattergl\"}],\"scattermapbox\":[{\"marker\":{\"colorbar\":{\"outlinewidth\":0,\"ticks\":\"\"}},\"type\":\"scattermapbox\"}],\"scatterpolar\":[{\"marker\":{\"colorbar\":{\"outlinewidth\":0,\"ticks\":\"\"}},\"type\":\"scatterpolar\"}],\"scatterpolargl\":[{\"marker\":{\"colorbar\":{\"outlinewidth\":0,\"ticks\":\"\"}},\"type\":\"scatterpolargl\"}],\"scatterternary\":[{\"marker\":{\"colorbar\":{\"outlinewidth\":0,\"ticks\":\"\"}},\"type\":\"scatterternary\"}],\"surface\":[{\"colorbar\":{\"outlinewidth\":0,\"ticks\":\"\"},\"colorscale\":[[0.0,\"#0d0887\"],[0.1111111111111111,\"#46039f\"],[0.2222222222222222,\"#7201a8\"],[0.3333333333333333,\"#9c179e\"],[0.4444444444444444,\"#bd3786\"],[0.5555555555555556,\"#d8576b\"],[0.6666666666666666,\"#ed7953\"],[0.7777777777777778,\"#fb9f3a\"],[0.8888888888888888,\"#fdca26\"],[1.0,\"#f0f921\"]],\"type\":\"surface\"}],\"table\":[{\"cells\":{\"fill\":{\"color\":\"#EBF0F8\"},\"line\":{\"color\":\"white\"}},\"header\":{\"fill\":{\"color\":\"#C8D4E3\"},\"line\":{\"color\":\"white\"}},\"type\":\"table\"}]},\"layout\":{\"annotationdefaults\":{\"arrowcolor\":\"#2a3f5f\",\"arrowhead\":0,\"arrowwidth\":1},\"autotypenumbers\":\"strict\",\"coloraxis\":{\"colorbar\":{\"outlinewidth\":0,\"ticks\":\"\"}},\"colorscale\":{\"diverging\":[[0,\"#8e0152\"],[0.1,\"#c51b7d\"],[0.2,\"#de77ae\"],[0.3,\"#f1b6da\"],[0.4,\"#fde0ef\"],[0.5,\"#f7f7f7\"],[0.6,\"#e6f5d0\"],[0.7,\"#b8e186\"],[0.8,\"#7fbc41\"],[0.9,\"#4d9221\"],[1,\"#276419\"]],\"sequential\":[[0.0,\"#0d0887\"],[0.1111111111111111,\"#46039f\"],[0.2222222222222222,\"#7201a8\"],[0.3333333333333333,\"#9c179e\"],[0.4444444444444444,\"#bd3786\"],[0.5555555555555556,\"#d8576b\"],[0.6666666666666666,\"#ed7953\"],[0.7777777777777778,\"#fb9f3a\"],[0.8888888888888888,\"#fdca26\"],[1.0,\"#f0f921\"]],\"sequentialminus\":[[0.0,\"#0d0887\"],[0.1111111111111111,\"#46039f\"],[0.2222222222222222,\"#7201a8\"],[0.3333333333333333,\"#9c179e\"],[0.4444444444444444,\"#bd3786\"],[0.5555555555555556,\"#d8576b\"],[0.6666666666666666,\"#ed7953\"],[0.7777777777777778,\"#fb9f3a\"],[0.8888888888888888,\"#fdca26\"],[1.0,\"#f0f921\"]]},\"colorway\":[\"#636efa\",\"#EF553B\",\"#00cc96\",\"#ab63fa\",\"#FFA15A\",\"#19d3f3\",\"#FF6692\",\"#B6E880\",\"#FF97FF\",\"#FECB52\"],\"font\":{\"color\":\"#2a3f5f\"},\"geo\":{\"bgcolor\":\"white\",\"lakecolor\":\"white\",\"landcolor\":\"#E5ECF6\",\"showlakes\":true,\"showland\":true,\"subunitcolor\":\"white\"},\"hoverlabel\":{\"align\":\"left\"},\"hovermode\":\"closest\",\"mapbox\":{\"style\":\"light\"},\"paper_bgcolor\":\"white\",\"plot_bgcolor\":\"#E5ECF6\",\"polar\":{\"angularaxis\":{\"gridcolor\":\"white\",\"linecolor\":\"white\",\"ticks\":\"\"},\"bgcolor\":\"#E5ECF6\",\"radialaxis\":{\"gridcolor\":\"white\",\"linecolor\":\"white\",\"ticks\":\"\"}},\"scene\":{\"xaxis\":{\"backgroundcolor\":\"#E5ECF6\",\"gridcolor\":\"white\",\"gridwidth\":2,\"linecolor\":\"white\",\"showbackground\":true,\"ticks\":\"\",\"zerolinecolor\":\"white\"},\"yaxis\":{\"backgroundcolor\":\"#E5ECF6\",\"gridcolor\":\"white\",\"gridwidth\":2,\"linecolor\":\"white\",\"showbackground\":true,\"ticks\":\"\",\"zerolinecolor\":\"white\"},\"zaxis\":{\"backgroundcolor\":\"#E5ECF6\",\"gridcolor\":\"white\",\"gridwidth\":2,\"linecolor\":\"white\",\"showbackground\":true,\"ticks\":\"\",\"zerolinecolor\":\"white\"}},\"shapedefaults\":{\"line\":{\"color\":\"#2a3f5f\"}},\"ternary\":{\"aaxis\":{\"gridcolor\":\"white\",\"linecolor\":\"white\",\"ticks\":\"\"},\"baxis\":{\"gridcolor\":\"white\",\"linecolor\":\"white\",\"ticks\":\"\"},\"bgcolor\":\"#E5ECF6\",\"caxis\":{\"gridcolor\":\"white\",\"linecolor\":\"white\",\"ticks\":\"\"}},\"title\":{\"x\":0.05},\"xaxis\":{\"automargin\":true,\"gridcolor\":\"white\",\"linecolor\":\"white\",\"ticks\":\"\",\"title\":{\"standoff\":15},\"zerolinecolor\":\"white\",\"zerolinewidth\":2},\"yaxis\":{\"automargin\":true,\"gridcolor\":\"white\",\"linecolor\":\"white\",\"ticks\":\"\",\"title\":{\"standoff\":15},\"zerolinecolor\":\"white\",\"zerolinewidth\":2}}},\"xaxis\":{\"anchor\":\"y\",\"domain\":[0.0,1.0],\"title\":{\"text\":\"survey_end_date\"}},\"yaxis\":{\"anchor\":\"x\",\"domain\":[0.0,1.0],\"range\":[0,100],\"title\":{\"text\":\"estimate_percentage_num\"}}},                        {\"responsive\": true}                    ).then(function(){\n",
       "                            \n",
       "var gd = document.getElementById('1b86df1f-55ca-4c90-9bbd-873579b9d4d6');\n",
       "var x = new MutationObserver(function (mutations, observer) {{\n",
       "        var display = window.getComputedStyle(gd).display;\n",
       "        if (!display || display === 'none') {{\n",
       "            console.log([gd, 'removed!']);\n",
       "            Plotly.purge(gd);\n",
       "            observer.disconnect();\n",
       "        }}\n",
       "}});\n",
       "\n",
       "// Listen for the removal of the full notebook cells\n",
       "var notebookContainer = gd.closest('#notebook-container');\n",
       "if (notebookContainer) {{\n",
       "    x.observe(notebookContainer, {childList: true});\n",
       "}}\n",
       "\n",
       "// Listen for the clearing of the current output cell\n",
       "var outputEl = gd.closest('.output');\n",
       "if (outputEl) {{\n",
       "    x.observe(outputEl, {childList: true});\n",
       "}}\n",
       "\n",
       "                        })                };                });            </script>        </div>"
      ]
     },
     "metadata": {},
     "output_type": "display_data"
    }
   ],
   "source": [
    "all_negative = all_msa_data[[\"survey_end_date\", \"estimate_percentage_num\"]]\n",
    "all_negative = all_negative.groupby([\"msa\", \"survey_end_date\"]).sum().reset_index()\n",
    "fig2 = px.line(all_negative, \n",
    "              x=\"survey_end_date\", \n",
    "              y=\"estimate_percentage_num\", \n",
    "              color=\"msa\", \n",
    "              line_group=\"msa\", \n",
    "              hover_name=\"msa\",\n",
    "              line_shape=\"spline\", \n",
    "              render_mode=\"svg\",\n",
    "             markers = True)\n",
    "fig2.update_yaxes(range=[0,100])\n",
    "fig2.show()"
   ]
  },
  {
   "cell_type": "code",
   "execution_count": null,
   "id": "098e4461",
   "metadata": {},
   "outputs": [],
   "source": []
  }
 ],
 "metadata": {
  "kernelspec": {
   "display_name": "project_env",
   "language": "python",
   "name": "project_env"
  },
  "language_info": {
   "codemirror_mode": {
    "name": "ipython",
    "version": 3
   },
   "file_extension": ".py",
   "mimetype": "text/x-python",
   "name": "python",
   "nbconvert_exporter": "python",
   "pygments_lexer": "ipython3",
   "version": "3.8.9"
  }
 },
 "nbformat": 4,
 "nbformat_minor": 5
}
