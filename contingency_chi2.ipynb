{
 "cells": [
  {
   "cell_type": "markdown",
   "id": "10baf61f",
   "metadata": {},
   "source": [
    "# About\n",
    "Contingency table and chi-quare analysis of restaurants in Team 7 dataset."
   ]
  },
  {
   "cell_type": "code",
   "execution_count": 63,
   "id": "ef576043",
   "metadata": {},
   "outputs": [],
   "source": [
    "import json\n",
    "import pandas as pd\n",
    "import matplotlib.pyplot as plt\n",
    "import seaborn as sns\n",
    "from scipy.stats import chi2_contingency\n",
    "import pingouin"
   ]
  },
  {
   "cell_type": "markdown",
   "id": "efc94fba",
   "metadata": {},
   "source": [
    "# Load dataset"
   ]
  },
  {
   "cell_type": "code",
   "execution_count": 64,
   "id": "7be7b081",
   "metadata": {},
   "outputs": [],
   "source": [
    "restaurant_df = pd.read_json('yelp_team7_dataset_restaurant.json')"
   ]
  },
  {
   "cell_type": "code",
   "execution_count": 3,
   "id": "15a33d9a",
   "metadata": {},
   "outputs": [
    {
     "data": {
      "text/plain": [
       "(14970, 14)"
      ]
     },
     "execution_count": 3,
     "metadata": {},
     "output_type": "execute_result"
    }
   ],
   "source": [
    "restaurant_df.shape"
   ]
  },
  {
   "cell_type": "code",
   "execution_count": 4,
   "id": "f71c7b72",
   "metadata": {},
   "outputs": [
    {
     "data": {
      "text/plain": [
       "(14891, 6)"
      ]
     },
     "execution_count": 4,
     "metadata": {},
     "output_type": "execute_result"
    }
   ],
   "source": [
    "categories_df = pd.read_json('yelp_team7_dataset_category.json')\n",
    "categories_df.shape"
   ]
  },
  {
   "cell_type": "code",
   "execution_count": 5,
   "id": "95b00dea",
   "metadata": {},
   "outputs": [],
   "source": [
    "restaurant_df = restaurant_df.merge(categories_df, on = 'business_id', how = 'left')"
   ]
  },
  {
   "cell_type": "code",
   "execution_count": 6,
   "id": "df35d21f",
   "metadata": {},
   "outputs": [
    {
     "data": {
      "text/plain": [
       "(14970, 19)"
      ]
     },
     "execution_count": 6,
     "metadata": {},
     "output_type": "execute_result"
    }
   ],
   "source": [
    "restaurant_df.shape"
   ]
  },
  {
   "cell_type": "markdown",
   "id": "44c855ac",
   "metadata": {},
   "source": [
    "# Preliminary context"
   ]
  },
  {
   "cell_type": "code",
   "execution_count": 66,
   "id": "12b78484",
   "metadata": {},
   "outputs": [
    {
     "data": {
      "text/plain": [
       "1    8376\n",
       "0    6594\n",
       "Name: is_open, dtype: int64"
      ]
     },
     "execution_count": 66,
     "metadata": {},
     "output_type": "execute_result"
    }
   ],
   "source": [
    "# How many restaurants were open?\n",
    "restaurant_df.is_open.value_counts(dropna = False)"
   ]
  },
  {
   "cell_type": "code",
   "execution_count": 70,
   "id": "d073c9ca",
   "metadata": {},
   "outputs": [
    {
     "data": {
      "image/png": "[encoded data removed]",
      "text/plain": [
       "<Figure size 432x288 with 1 Axes>"
      ]
     },
     "metadata": {
      "needs_background": "light"
     },
     "output_type": "display_data"
    }
   ],
   "source": [
    "restaurant_df.is_open.value_counts(normalize = True).plot(kind = 'bar')\n",
    "plt.show()"
   ]
  },
  {
   "cell_type": "markdown",
   "id": "f5b2d99c",
   "metadata": {},
   "source": [
    "# Does restaurant survival in our sample depend on city?"
   ]
  },
  {
   "cell_type": "code",
   "execution_count": 8,
   "id": "eeaa97ce",
   "metadata": {},
   "outputs": [
    {
     "data": {
      "text/html": [
       "<div>\n",
       "<style scoped>\n",
       "    .dataframe tbody tr th:only-of-type {\n",
       "        vertical-align: middle;\n",
       "    }\n",
       "\n",
       "    .dataframe tbody tr th {\n",
       "        vertical-align: top;\n",
       "    }\n",
       "\n",
       "    .dataframe thead th {\n",
       "        text-align: right;\n",
       "    }\n",
       "</style>\n",
       "<table border=\"1\" class=\"dataframe\">\n",
       "  <thead>\n",
       "    <tr style=\"text-align: right;\">\n",
       "      <th>city</th>\n",
       "      <th>ATLANTA</th>\n",
       "      <th>AUSTIN</th>\n",
       "      <th>BOSTON</th>\n",
       "      <th>ORLANDO</th>\n",
       "      <th>PORTLAND</th>\n",
       "    </tr>\n",
       "    <tr>\n",
       "      <th>is_open</th>\n",
       "      <th></th>\n",
       "      <th></th>\n",
       "      <th></th>\n",
       "      <th></th>\n",
       "      <th></th>\n",
       "    </tr>\n",
       "  </thead>\n",
       "  <tbody>\n",
       "    <tr>\n",
       "      <th>0</th>\n",
       "      <td>1406</td>\n",
       "      <td>1456</td>\n",
       "      <td>1034</td>\n",
       "      <td>978</td>\n",
       "      <td>1720</td>\n",
       "    </tr>\n",
       "    <tr>\n",
       "      <th>1</th>\n",
       "      <td>1790</td>\n",
       "      <td>1612</td>\n",
       "      <td>1331</td>\n",
       "      <td>1732</td>\n",
       "      <td>1911</td>\n",
       "    </tr>\n",
       "  </tbody>\n",
       "</table>\n",
       "</div>"
      ],
      "text/plain": [
       "city     ATLANTA  AUSTIN  BOSTON  ORLANDO  PORTLAND\n",
       "is_open                                            \n",
       "0           1406    1456    1034      978      1720\n",
       "1           1790    1612    1331     1732      1911"
      ]
     },
     "execution_count": 8,
     "metadata": {},
     "output_type": "execute_result"
    }
   ],
   "source": [
    "city_contingency_table = pd.crosstab(index=restaurant_df['is_open'], columns=restaurant_df['city'])\n",
    "city_contingency_table"
   ]
  },
  {
   "cell_type": "code",
   "execution_count": 9,
   "id": "2f8f6318",
   "metadata": {},
   "outputs": [
    {
     "data": {
      "text/plain": [
       "Text(0.5, 1.0, 'Restaurant survival status vs. City (counts)')"
      ]
     },
     "execution_count": 9,
     "metadata": {},
     "output_type": "execute_result"
    },
    {
     "data": {
      "image/png": "[encoded data removed]",
      "text/plain": [
       "<Figure size 432x288 with 2 Axes>"
      ]
     },
     "metadata": {
      "needs_background": "light"
     },
     "output_type": "display_data"
    }
   ],
   "source": [
    "ax = sns.heatmap(city_contingency_table, cmap=\"Blues\")\n",
    "ax.set_title(\"Restaurant survival status vs. City (counts)\")"
   ]
  },
  {
   "cell_type": "code",
   "execution_count": 10,
   "id": "700998aa",
   "metadata": {},
   "outputs": [
    {
     "data": {
      "text/html": [
       "<div>\n",
       "<style scoped>\n",
       "    .dataframe tbody tr th:only-of-type {\n",
       "        vertical-align: middle;\n",
       "    }\n",
       "\n",
       "    .dataframe tbody tr th {\n",
       "        vertical-align: top;\n",
       "    }\n",
       "\n",
       "    .dataframe thead th {\n",
       "        text-align: right;\n",
       "    }\n",
       "</style>\n",
       "<table border=\"1\" class=\"dataframe\">\n",
       "  <thead>\n",
       "    <tr style=\"text-align: right;\">\n",
       "      <th>city</th>\n",
       "      <th>ATLANTA</th>\n",
       "      <th>AUSTIN</th>\n",
       "      <th>BOSTON</th>\n",
       "      <th>ORLANDO</th>\n",
       "      <th>PORTLAND</th>\n",
       "    </tr>\n",
       "    <tr>\n",
       "      <th>is_open</th>\n",
       "      <th></th>\n",
       "      <th></th>\n",
       "      <th></th>\n",
       "      <th></th>\n",
       "      <th></th>\n",
       "    </tr>\n",
       "  </thead>\n",
       "  <tbody>\n",
       "    <tr>\n",
       "      <th>0</th>\n",
       "      <td>43.992491</td>\n",
       "      <td>47.457627</td>\n",
       "      <td>43.72093</td>\n",
       "      <td>36.088561</td>\n",
       "      <td>47.369871</td>\n",
       "    </tr>\n",
       "    <tr>\n",
       "      <th>1</th>\n",
       "      <td>56.007509</td>\n",
       "      <td>52.542373</td>\n",
       "      <td>56.27907</td>\n",
       "      <td>63.911439</td>\n",
       "      <td>52.630129</td>\n",
       "    </tr>\n",
       "  </tbody>\n",
       "</table>\n",
       "</div>"
      ],
      "text/plain": [
       "city       ATLANTA     AUSTIN    BOSTON    ORLANDO   PORTLAND\n",
       "is_open                                                      \n",
       "0        43.992491  47.457627  43.72093  36.088561  47.369871\n",
       "1        56.007509  52.542373  56.27907  63.911439  52.630129"
      ]
     },
     "execution_count": 10,
     "metadata": {},
     "output_type": "execute_result"
    }
   ],
   "source": [
    "city_contingency_norm_columns = pd.crosstab(index=restaurant_df['is_open'], columns=restaurant_df['city'],\n",
    "                                          normalize = 'columns') * 100\n",
    "city_contingency_norm_columns"
   ]
  },
  {
   "cell_type": "code",
   "execution_count": 11,
   "id": "3cfc5c91",
   "metadata": {},
   "outputs": [
    {
     "data": {
      "text/plain": [
       "Text(0.5, 1.0, 'Restaurant survival status vs. City (normalize by City)')"
      ]
     },
     "execution_count": 11,
     "metadata": {},
     "output_type": "execute_result"
    },
    {
     "data": {
      "image/png": "[encoded data removed]",
      "text/plain": [
       "<Figure size 432x288 with 2 Axes>"
      ]
     },
     "metadata": {
      "needs_background": "light"
     },
     "output_type": "display_data"
    }
   ],
   "source": [
    "ax = sns.heatmap(city_contingency_norm_columns, cmap=\"Blues\")\n",
    "ax.set_title(\"Restaurant survival status vs. City (normalize by City)\")"
   ]
  },
  {
   "cell_type": "code",
   "execution_count": 12,
   "id": "d5e6acc2",
   "metadata": {},
   "outputs": [
    {
     "data": {
      "text/html": [
       "<div>\n",
       "<style scoped>\n",
       "    .dataframe tbody tr th:only-of-type {\n",
       "        vertical-align: middle;\n",
       "    }\n",
       "\n",
       "    .dataframe tbody tr th {\n",
       "        vertical-align: top;\n",
       "    }\n",
       "\n",
       "    .dataframe thead th {\n",
       "        text-align: right;\n",
       "    }\n",
       "</style>\n",
       "<table border=\"1\" class=\"dataframe\">\n",
       "  <thead>\n",
       "    <tr style=\"text-align: right;\">\n",
       "      <th>city</th>\n",
       "      <th>ATLANTA</th>\n",
       "      <th>AUSTIN</th>\n",
       "      <th>BOSTON</th>\n",
       "      <th>ORLANDO</th>\n",
       "      <th>PORTLAND</th>\n",
       "    </tr>\n",
       "    <tr>\n",
       "      <th>is_open</th>\n",
       "      <th></th>\n",
       "      <th></th>\n",
       "      <th></th>\n",
       "      <th></th>\n",
       "      <th></th>\n",
       "    </tr>\n",
       "  </thead>\n",
       "  <tbody>\n",
       "    <tr>\n",
       "      <th>0</th>\n",
       "      <td>21.322414</td>\n",
       "      <td>22.080679</td>\n",
       "      <td>15.680922</td>\n",
       "      <td>14.831665</td>\n",
       "      <td>26.084319</td>\n",
       "    </tr>\n",
       "    <tr>\n",
       "      <th>1</th>\n",
       "      <td>21.370583</td>\n",
       "      <td>19.245463</td>\n",
       "      <td>15.890640</td>\n",
       "      <td>20.678128</td>\n",
       "      <td>22.815186</td>\n",
       "    </tr>\n",
       "  </tbody>\n",
       "</table>\n",
       "</div>"
      ],
      "text/plain": [
       "city       ATLANTA     AUSTIN     BOSTON    ORLANDO   PORTLAND\n",
       "is_open                                                       \n",
       "0        21.322414  22.080679  15.680922  14.831665  26.084319\n",
       "1        21.370583  19.245463  15.890640  20.678128  22.815186"
      ]
     },
     "execution_count": 12,
     "metadata": {},
     "output_type": "execute_result"
    }
   ],
   "source": [
    "city_contingency_norm_index = pd.crosstab(index=restaurant_df['is_open'], columns=restaurant_df['city'],\n",
    "                                          normalize = 'index') * 100\n",
    "city_contingency_norm_index"
   ]
  },
  {
   "cell_type": "code",
   "execution_count": 13,
   "id": "050e2709",
   "metadata": {},
   "outputs": [
    {
     "data": {
      "text/plain": [
       "Text(0.5, 1.0, 'Restaurant survival status vs. City (normalize by survival status)')"
      ]
     },
     "execution_count": 13,
     "metadata": {},
     "output_type": "execute_result"
    },
    {
     "data": {
      "image/png": "[encoded data removed]",
      "text/plain": [
       "<Figure size 432x288 with 2 Axes>"
      ]
     },
     "metadata": {
      "needs_background": "light"
     },
     "output_type": "display_data"
    }
   ],
   "source": [
    "ax = sns.heatmap(city_contingency_norm_index, cmap=\"Blues\")\n",
    "ax.set_title(\"Restaurant survival status vs. City (normalize by survival status)\")"
   ]
  },
  {
   "cell_type": "markdown",
   "id": "89100abe",
   "metadata": {},
   "source": [
    "$H_0 : $ `is_open` is independent of `city`\n",
    "\n",
    "$H_1$ : `is_open` is not independent of `city`"
   ]
  },
  {
   "cell_type": "code",
   "execution_count": 14,
   "id": "49f03605",
   "metadata": {},
   "outputs": [
    {
     "data": {
      "text/plain": [
       "0.0"
      ]
     },
     "execution_count": 14,
     "metadata": {},
     "output_type": "execute_result"
    }
   ],
   "source": [
    "# chi-square test\n",
    "round(chi2_contingency(city_contingency_table)[1],2)"
   ]
  },
  {
   "cell_type": "markdown",
   "id": "366a210a",
   "metadata": {},
   "source": [
    "Reject the null hypothesis. Restaurant survival status is not independent of city. "
   ]
  },
  {
   "cell_type": "markdown",
   "id": "78e28e5a",
   "metadata": {},
   "source": [
    "# Does restaurant survival depend on cuisine type?"
   ]
  },
  {
   "cell_type": "code",
   "execution_count": 15,
   "id": "2fc0a9ab",
   "metadata": {},
   "outputs": [
    {
     "data": {
      "text/html": [
       "<div>\n",
       "<style scoped>\n",
       "    .dataframe tbody tr th:only-of-type {\n",
       "        vertical-align: middle;\n",
       "    }\n",
       "\n",
       "    .dataframe tbody tr th {\n",
       "        vertical-align: top;\n",
       "    }\n",
       "\n",
       "    .dataframe thead th {\n",
       "        text-align: right;\n",
       "    }\n",
       "</style>\n",
       "<table border=\"1\" class=\"dataframe\">\n",
       "  <thead>\n",
       "    <tr style=\"text-align: right;\">\n",
       "      <th>cuisine_type</th>\n",
       "      <th>African</th>\n",
       "      <th>American</th>\n",
       "      <th>Caribean</th>\n",
       "      <th>Chinese</th>\n",
       "      <th>Italian</th>\n",
       "      <th>Japanese</th>\n",
       "      <th>Mexican</th>\n",
       "      <th>Middle Eastern</th>\n",
       "      <th>Other</th>\n",
       "      <th>Other Asian</th>\n",
       "      <th>Other European</th>\n",
       "      <th>Other Latin American</th>\n",
       "      <th>Other Mediterranean</th>\n",
       "      <th>Tex-Mex</th>\n",
       "      <th>Thai</th>\n",
       "      <th>Vietnamese</th>\n",
       "    </tr>\n",
       "    <tr>\n",
       "      <th>is_open</th>\n",
       "      <th></th>\n",
       "      <th></th>\n",
       "      <th></th>\n",
       "      <th></th>\n",
       "      <th></th>\n",
       "      <th></th>\n",
       "      <th></th>\n",
       "      <th></th>\n",
       "      <th></th>\n",
       "      <th></th>\n",
       "      <th></th>\n",
       "      <th></th>\n",
       "      <th></th>\n",
       "      <th></th>\n",
       "      <th></th>\n",
       "      <th></th>\n",
       "    </tr>\n",
       "  </thead>\n",
       "  <tbody>\n",
       "    <tr>\n",
       "      <th>0</th>\n",
       "      <td>35</td>\n",
       "      <td>1676</td>\n",
       "      <td>93</td>\n",
       "      <td>283</td>\n",
       "      <td>501</td>\n",
       "      <td>242</td>\n",
       "      <td>440</td>\n",
       "      <td>66</td>\n",
       "      <td>0</td>\n",
       "      <td>321</td>\n",
       "      <td>191</td>\n",
       "      <td>155</td>\n",
       "      <td>204</td>\n",
       "      <td>94</td>\n",
       "      <td>161</td>\n",
       "      <td>129</td>\n",
       "    </tr>\n",
       "    <tr>\n",
       "      <th>1</th>\n",
       "      <td>54</td>\n",
       "      <td>2246</td>\n",
       "      <td>130</td>\n",
       "      <td>420</td>\n",
       "      <td>593</td>\n",
       "      <td>367</td>\n",
       "      <td>644</td>\n",
       "      <td>73</td>\n",
       "      <td>5</td>\n",
       "      <td>405</td>\n",
       "      <td>180</td>\n",
       "      <td>231</td>\n",
       "      <td>224</td>\n",
       "      <td>125</td>\n",
       "      <td>189</td>\n",
       "      <td>160</td>\n",
       "    </tr>\n",
       "  </tbody>\n",
       "</table>\n",
       "</div>"
      ],
      "text/plain": [
       "cuisine_type  African  American  Caribean  Chinese  Italian  Japanese  \\\n",
       "is_open                                                                 \n",
       "0                  35      1676        93      283      501       242   \n",
       "1                  54      2246       130      420      593       367   \n",
       "\n",
       "cuisine_type  Mexican  Middle Eastern  Other  Other Asian  Other European  \\\n",
       "is_open                                                                     \n",
       "0                 440              66      0          321             191   \n",
       "1                 644              73      5          405             180   \n",
       "\n",
       "cuisine_type  Other Latin American  Other Mediterranean  Tex-Mex  Thai  \\\n",
       "is_open                                                                  \n",
       "0                              155                  204       94   161   \n",
       "1                              231                  224      125   189   \n",
       "\n",
       "cuisine_type  Vietnamese  \n",
       "is_open                   \n",
       "0                    129  \n",
       "1                    160  "
      ]
     },
     "execution_count": 15,
     "metadata": {},
     "output_type": "execute_result"
    }
   ],
   "source": [
    "cuisine_contingency_table = pd.crosstab(index=restaurant_df['is_open'], columns=restaurant_df['cuisine_type'])\n",
    "cuisine_contingency_table"
   ]
  },
  {
   "cell_type": "code",
   "execution_count": 16,
   "id": "92173bc5",
   "metadata": {},
   "outputs": [
    {
     "data": {
      "text/plain": [
       "Text(0.5, 1.0, 'Restaurant survival status vs. Cuisine (counts)')"
      ]
     },
     "execution_count": 16,
     "metadata": {},
     "output_type": "execute_result"
    },
    {
     "data": {
      "image/png": "[encoded data removed]",
      "text/plain": [
       "<Figure size 432x288 with 2 Axes>"
      ]
     },
     "metadata": {
      "needs_background": "light"
     },
     "output_type": "display_data"
    }
   ],
   "source": [
    "ax = sns.heatmap(cuisine_contingency_table, cmap=\"Blues\")\n",
    "ax.set_title(\"Restaurant survival status vs. Cuisine (counts)\")"
   ]
  },
  {
   "cell_type": "code",
   "execution_count": 18,
   "id": "1ba4cf8f",
   "metadata": {},
   "outputs": [
    {
     "data": {
      "text/html": [
       "<div>\n",
       "<style scoped>\n",
       "    .dataframe tbody tr th:only-of-type {\n",
       "        vertical-align: middle;\n",
       "    }\n",
       "\n",
       "    .dataframe tbody tr th {\n",
       "        vertical-align: top;\n",
       "    }\n",
       "\n",
       "    .dataframe thead th {\n",
       "        text-align: right;\n",
       "    }\n",
       "</style>\n",
       "<table border=\"1\" class=\"dataframe\">\n",
       "  <thead>\n",
       "    <tr style=\"text-align: right;\">\n",
       "      <th>cuisine_type</th>\n",
       "      <th>African</th>\n",
       "      <th>American</th>\n",
       "      <th>Caribean</th>\n",
       "      <th>Chinese</th>\n",
       "      <th>Italian</th>\n",
       "      <th>Japanese</th>\n",
       "      <th>Mexican</th>\n",
       "      <th>Middle Eastern</th>\n",
       "      <th>Other</th>\n",
       "      <th>Other Asian</th>\n",
       "      <th>Other European</th>\n",
       "      <th>Other Latin American</th>\n",
       "      <th>Other Mediterranean</th>\n",
       "      <th>Tex-Mex</th>\n",
       "      <th>Thai</th>\n",
       "      <th>Vietnamese</th>\n",
       "    </tr>\n",
       "    <tr>\n",
       "      <th>is_open</th>\n",
       "      <th></th>\n",
       "      <th></th>\n",
       "      <th></th>\n",
       "      <th></th>\n",
       "      <th></th>\n",
       "      <th></th>\n",
       "      <th></th>\n",
       "      <th></th>\n",
       "      <th></th>\n",
       "      <th></th>\n",
       "      <th></th>\n",
       "      <th></th>\n",
       "      <th></th>\n",
       "      <th></th>\n",
       "      <th></th>\n",
       "      <th></th>\n",
       "    </tr>\n",
       "  </thead>\n",
       "  <tbody>\n",
       "    <tr>\n",
       "      <th>0</th>\n",
       "      <td>39.325843</td>\n",
       "      <td>42.733299</td>\n",
       "      <td>41.704036</td>\n",
       "      <td>40.256046</td>\n",
       "      <td>45.795247</td>\n",
       "      <td>39.737274</td>\n",
       "      <td>40.590406</td>\n",
       "      <td>47.482014</td>\n",
       "      <td>0.0</td>\n",
       "      <td>44.214876</td>\n",
       "      <td>51.48248</td>\n",
       "      <td>40.15544</td>\n",
       "      <td>47.663551</td>\n",
       "      <td>42.922374</td>\n",
       "      <td>46.0</td>\n",
       "      <td>44.636678</td>\n",
       "    </tr>\n",
       "    <tr>\n",
       "      <th>1</th>\n",
       "      <td>60.674157</td>\n",
       "      <td>57.266701</td>\n",
       "      <td>58.295964</td>\n",
       "      <td>59.743954</td>\n",
       "      <td>54.204753</td>\n",
       "      <td>60.262726</td>\n",
       "      <td>59.409594</td>\n",
       "      <td>52.517986</td>\n",
       "      <td>100.0</td>\n",
       "      <td>55.785124</td>\n",
       "      <td>48.51752</td>\n",
       "      <td>59.84456</td>\n",
       "      <td>52.336449</td>\n",
       "      <td>57.077626</td>\n",
       "      <td>54.0</td>\n",
       "      <td>55.363322</td>\n",
       "    </tr>\n",
       "  </tbody>\n",
       "</table>\n",
       "</div>"
      ],
      "text/plain": [
       "cuisine_type    African   American   Caribean    Chinese    Italian  \\\n",
       "is_open                                                               \n",
       "0             39.325843  42.733299  41.704036  40.256046  45.795247   \n",
       "1             60.674157  57.266701  58.295964  59.743954  54.204753   \n",
       "\n",
       "cuisine_type   Japanese    Mexican  Middle Eastern  Other  Other Asian  \\\n",
       "is_open                                                                  \n",
       "0             39.737274  40.590406       47.482014    0.0    44.214876   \n",
       "1             60.262726  59.409594       52.517986  100.0    55.785124   \n",
       "\n",
       "cuisine_type  Other European  Other Latin American  Other Mediterranean  \\\n",
       "is_open                                                                   \n",
       "0                   51.48248              40.15544            47.663551   \n",
       "1                   48.51752              59.84456            52.336449   \n",
       "\n",
       "cuisine_type    Tex-Mex  Thai  Vietnamese  \n",
       "is_open                                    \n",
       "0             42.922374  46.0   44.636678  \n",
       "1             57.077626  54.0   55.363322  "
      ]
     },
     "execution_count": 18,
     "metadata": {},
     "output_type": "execute_result"
    }
   ],
   "source": [
    "cuisine_contingency_norm_columns = pd.crosstab(index=restaurant_df['is_open'], columns=restaurant_df['cuisine_type'],\n",
    "                                          normalize = 'columns') * 100\n",
    "cuisine_contingency_norm_columns"
   ]
  },
  {
   "cell_type": "code",
   "execution_count": 19,
   "id": "ce05ef5c",
   "metadata": {},
   "outputs": [
    {
     "data": {
      "text/plain": [
       "Text(0.5, 1.0, 'Restaurant survival status vs. Cuisine (normalize by Cuisine)')"
      ]
     },
     "execution_count": 19,
     "metadata": {},
     "output_type": "execute_result"
    },
    {
     "data": {
      "image/png": "[encoded data removed]",
      "text/plain": [
       "<Figure size 432x288 with 2 Axes>"
      ]
     },
     "metadata": {
      "needs_background": "light"
     },
     "output_type": "display_data"
    }
   ],
   "source": [
    "ax = sns.heatmap(cuisine_contingency_norm_columns, cmap=\"Blues\")\n",
    "ax.set_title(\"Restaurant survival status vs. Cuisine (normalize by Cuisine)\")"
   ]
  },
  {
   "cell_type": "code",
   "execution_count": 20,
   "id": "86addaa6",
   "metadata": {},
   "outputs": [
    {
     "data": {
      "text/html": [
       "<div>\n",
       "<style scoped>\n",
       "    .dataframe tbody tr th:only-of-type {\n",
       "        vertical-align: middle;\n",
       "    }\n",
       "\n",
       "    .dataframe tbody tr th {\n",
       "        vertical-align: top;\n",
       "    }\n",
       "\n",
       "    .dataframe thead th {\n",
       "        text-align: right;\n",
       "    }\n",
       "</style>\n",
       "<table border=\"1\" class=\"dataframe\">\n",
       "  <thead>\n",
       "    <tr style=\"text-align: right;\">\n",
       "      <th>cuisine_type</th>\n",
       "      <th>African</th>\n",
       "      <th>American</th>\n",
       "      <th>Caribean</th>\n",
       "      <th>Chinese</th>\n",
       "      <th>Italian</th>\n",
       "      <th>Japanese</th>\n",
       "      <th>Mexican</th>\n",
       "      <th>Middle Eastern</th>\n",
       "      <th>Other</th>\n",
       "      <th>Other Asian</th>\n",
       "      <th>Other European</th>\n",
       "      <th>Other Latin American</th>\n",
       "      <th>Other Mediterranean</th>\n",
       "      <th>Tex-Mex</th>\n",
       "      <th>Thai</th>\n",
       "      <th>Vietnamese</th>\n",
       "    </tr>\n",
       "    <tr>\n",
       "      <th>is_open</th>\n",
       "      <th></th>\n",
       "      <th></th>\n",
       "      <th></th>\n",
       "      <th></th>\n",
       "      <th></th>\n",
       "      <th></th>\n",
       "      <th></th>\n",
       "      <th></th>\n",
       "      <th></th>\n",
       "      <th></th>\n",
       "      <th></th>\n",
       "      <th></th>\n",
       "      <th></th>\n",
       "      <th></th>\n",
       "      <th></th>\n",
       "      <th></th>\n",
       "    </tr>\n",
       "  </thead>\n",
       "  <tbody>\n",
       "    <tr>\n",
       "      <th>0</th>\n",
       "      <td>0.762361</td>\n",
       "      <td>36.506208</td>\n",
       "      <td>2.025702</td>\n",
       "      <td>6.164234</td>\n",
       "      <td>10.912655</td>\n",
       "      <td>5.271183</td>\n",
       "      <td>9.583969</td>\n",
       "      <td>1.437595</td>\n",
       "      <td>0.000000</td>\n",
       "      <td>6.991941</td>\n",
       "      <td>4.160314</td>\n",
       "      <td>3.376171</td>\n",
       "      <td>4.443476</td>\n",
       "      <td>2.047484</td>\n",
       "      <td>3.506861</td>\n",
       "      <td>2.809845</td>\n",
       "    </tr>\n",
       "    <tr>\n",
       "      <th>1</th>\n",
       "      <td>0.893152</td>\n",
       "      <td>37.148528</td>\n",
       "      <td>2.150182</td>\n",
       "      <td>6.946742</td>\n",
       "      <td>9.808138</td>\n",
       "      <td>6.070129</td>\n",
       "      <td>10.651671</td>\n",
       "      <td>1.207410</td>\n",
       "      <td>0.082699</td>\n",
       "      <td>6.698644</td>\n",
       "      <td>2.977175</td>\n",
       "      <td>3.820708</td>\n",
       "      <td>3.704929</td>\n",
       "      <td>2.067483</td>\n",
       "      <td>3.126034</td>\n",
       "      <td>2.646378</td>\n",
       "    </tr>\n",
       "  </tbody>\n",
       "</table>\n",
       "</div>"
      ],
      "text/plain": [
       "cuisine_type   African   American  Caribean   Chinese    Italian  Japanese  \\\n",
       "is_open                                                                      \n",
       "0             0.762361  36.506208  2.025702  6.164234  10.912655  5.271183   \n",
       "1             0.893152  37.148528  2.150182  6.946742   9.808138  6.070129   \n",
       "\n",
       "cuisine_type    Mexican  Middle Eastern     Other  Other Asian  \\\n",
       "is_open                                                          \n",
       "0              9.583969        1.437595  0.000000     6.991941   \n",
       "1             10.651671        1.207410  0.082699     6.698644   \n",
       "\n",
       "cuisine_type  Other European  Other Latin American  Other Mediterranean  \\\n",
       "is_open                                                                   \n",
       "0                   4.160314              3.376171             4.443476   \n",
       "1                   2.977175              3.820708             3.704929   \n",
       "\n",
       "cuisine_type   Tex-Mex      Thai  Vietnamese  \n",
       "is_open                                       \n",
       "0             2.047484  3.506861    2.809845  \n",
       "1             2.067483  3.126034    2.646378  "
      ]
     },
     "execution_count": 20,
     "metadata": {},
     "output_type": "execute_result"
    }
   ],
   "source": [
    "cuisine_contingency_norm_index = pd.crosstab(index=restaurant_df['is_open'], columns=restaurant_df['cuisine_type'],\n",
    "                                          normalize = 'index') * 100\n",
    "cuisine_contingency_norm_index"
   ]
  },
  {
   "cell_type": "code",
   "execution_count": 21,
   "id": "af24a342",
   "metadata": {
    "scrolled": true
   },
   "outputs": [
    {
     "data": {
      "text/plain": [
       "Text(0.5, 1.0, 'Restaurant survival status vs. Cuisine (normalize by survival status)')"
      ]
     },
     "execution_count": 21,
     "metadata": {},
     "output_type": "execute_result"
    },
    {
     "data": {
      "image/png": "[encoded data removed]",
      "text/plain": [
       "<Figure size 432x288 with 2 Axes>"
      ]
     },
     "metadata": {
      "needs_background": "light"
     },
     "output_type": "display_data"
    }
   ],
   "source": [
    "ax = sns.heatmap(cuisine_contingency_norm_index, cmap=\"Blues\")\n",
    "ax.set_title(\"Restaurant survival status vs. Cuisine (normalize by survival status)\")"
   ]
  },
  {
   "cell_type": "markdown",
   "id": "e3ebedc7",
   "metadata": {},
   "source": [
    "$H_0 : $ `is_open` is independent of `cuisine_type`\n",
    "\n",
    "$H_1$ : `is_open` is not independent of `cuisine_type`"
   ]
  },
  {
   "cell_type": "code",
   "execution_count": 22,
   "id": "ccb95ad3",
   "metadata": {},
   "outputs": [
    {
     "data": {
      "text/plain": [
       "0.0"
      ]
     },
     "execution_count": 22,
     "metadata": {},
     "output_type": "execute_result"
    }
   ],
   "source": [
    "# chi-square test\n",
    "round(chi2_contingency(cuisine_contingency_table)[1],2)"
   ]
  },
  {
   "cell_type": "markdown",
   "id": "26666001",
   "metadata": {},
   "source": [
    "Reject the null hypothesis that restaurant survival status is independent of cuisine type. "
   ]
  },
  {
   "cell_type": "markdown",
   "id": "3f0796b6",
   "metadata": {},
   "source": [
    "# Does restaurant survival depend on food type?"
   ]
  },
  {
   "cell_type": "code",
   "execution_count": 23,
   "id": "60ae2a59",
   "metadata": {},
   "outputs": [
    {
     "data": {
      "text/html": [
       "<div>\n",
       "<style scoped>\n",
       "    .dataframe tbody tr th:only-of-type {\n",
       "        vertical-align: middle;\n",
       "    }\n",
       "\n",
       "    .dataframe tbody tr th {\n",
       "        vertical-align: top;\n",
       "    }\n",
       "\n",
       "    .dataframe thead th {\n",
       "        text-align: right;\n",
       "    }\n",
       "</style>\n",
       "<table border=\"1\" class=\"dataframe\">\n",
       "  <thead>\n",
       "    <tr style=\"text-align: right;\">\n",
       "      <th>food_type</th>\n",
       "      <th>Alcoholic drinks</th>\n",
       "      <th>Bakeries</th>\n",
       "      <th>Barbeque</th>\n",
       "      <th>Breakfast &amp; Brunch</th>\n",
       "      <th>Burgers</th>\n",
       "      <th>Chicken Wings</th>\n",
       "      <th>Coffee &amp; Tea</th>\n",
       "      <th>Desserts</th>\n",
       "      <th>Juice Bars &amp; Smoothies</th>\n",
       "      <th>Noodles related</th>\n",
       "      <th>Other food</th>\n",
       "      <th>Pizza</th>\n",
       "      <th>Salad</th>\n",
       "      <th>Sandwiches &amp; Wraps</th>\n",
       "      <th>Seafood</th>\n",
       "      <th>Soup</th>\n",
       "      <th>Steakhouses</th>\n",
       "    </tr>\n",
       "    <tr>\n",
       "      <th>is_open</th>\n",
       "      <th></th>\n",
       "      <th></th>\n",
       "      <th></th>\n",
       "      <th></th>\n",
       "      <th></th>\n",
       "      <th></th>\n",
       "      <th></th>\n",
       "      <th></th>\n",
       "      <th></th>\n",
       "      <th></th>\n",
       "      <th></th>\n",
       "      <th></th>\n",
       "      <th></th>\n",
       "      <th></th>\n",
       "      <th></th>\n",
       "      <th></th>\n",
       "      <th></th>\n",
       "    </tr>\n",
       "  </thead>\n",
       "  <tbody>\n",
       "    <tr>\n",
       "      <th>0</th>\n",
       "      <td>124</td>\n",
       "      <td>177</td>\n",
       "      <td>172</td>\n",
       "      <td>433</td>\n",
       "      <td>291</td>\n",
       "      <td>82</td>\n",
       "      <td>328</td>\n",
       "      <td>198</td>\n",
       "      <td>40</td>\n",
       "      <td>50</td>\n",
       "      <td>207</td>\n",
       "      <td>498</td>\n",
       "      <td>122</td>\n",
       "      <td>505</td>\n",
       "      <td>263</td>\n",
       "      <td>35</td>\n",
       "      <td>115</td>\n",
       "    </tr>\n",
       "    <tr>\n",
       "      <th>1</th>\n",
       "      <td>142</td>\n",
       "      <td>271</td>\n",
       "      <td>207</td>\n",
       "      <td>711</td>\n",
       "      <td>317</td>\n",
       "      <td>224</td>\n",
       "      <td>429</td>\n",
       "      <td>279</td>\n",
       "      <td>100</td>\n",
       "      <td>141</td>\n",
       "      <td>401</td>\n",
       "      <td>682</td>\n",
       "      <td>263</td>\n",
       "      <td>579</td>\n",
       "      <td>455</td>\n",
       "      <td>104</td>\n",
       "      <td>165</td>\n",
       "    </tr>\n",
       "  </tbody>\n",
       "</table>\n",
       "</div>"
      ],
      "text/plain": [
       "food_type  Alcoholic drinks  Bakeries  Barbeque  Breakfast & Brunch  Burgers  \\\n",
       "is_open                                                                        \n",
       "0                       124       177       172                 433      291   \n",
       "1                       142       271       207                 711      317   \n",
       "\n",
       "food_type  Chicken Wings  Coffee & Tea  Desserts  Juice Bars & Smoothies  \\\n",
       "is_open                                                                    \n",
       "0                     82           328       198                      40   \n",
       "1                    224           429       279                     100   \n",
       "\n",
       "food_type  Noodles related  Other food  Pizza  Salad  Sandwiches & Wraps  \\\n",
       "is_open                                                                    \n",
       "0                       50         207    498    122                 505   \n",
       "1                      141         401    682    263                 579   \n",
       "\n",
       "food_type  Seafood  Soup  Steakhouses  \n",
       "is_open                                \n",
       "0              263    35          115  \n",
       "1              455   104          165  "
      ]
     },
     "execution_count": 23,
     "metadata": {},
     "output_type": "execute_result"
    }
   ],
   "source": [
    "food_contingency_table = pd.crosstab(index=restaurant_df['is_open'], columns=restaurant_df['food_type'])\n",
    "food_contingency_table"
   ]
  },
  {
   "cell_type": "code",
   "execution_count": 24,
   "id": "6283c092",
   "metadata": {},
   "outputs": [
    {
     "data": {
      "text/plain": [
       "Text(0.5, 1.0, 'Restaurant survival status vs. Food type (counts)')"
      ]
     },
     "execution_count": 24,
     "metadata": {},
     "output_type": "execute_result"
    },
    {
     "data": {
      "image/png": "[encoded data removed]",
      "text/plain": [
       "<Figure size 432x288 with 2 Axes>"
      ]
     },
     "metadata": {
      "needs_background": "light"
     },
     "output_type": "display_data"
    }
   ],
   "source": [
    "ax = sns.heatmap(food_contingency_table, cmap=\"Blues\")\n",
    "ax.set_title(\"Restaurant survival status vs. Food type (counts)\")"
   ]
  },
  {
   "cell_type": "code",
   "execution_count": 26,
   "id": "5a236234",
   "metadata": {},
   "outputs": [
    {
     "data": {
      "text/html": [
       "<div>\n",
       "<style scoped>\n",
       "    .dataframe tbody tr th:only-of-type {\n",
       "        vertical-align: middle;\n",
       "    }\n",
       "\n",
       "    .dataframe tbody tr th {\n",
       "        vertical-align: top;\n",
       "    }\n",
       "\n",
       "    .dataframe thead th {\n",
       "        text-align: right;\n",
       "    }\n",
       "</style>\n",
       "<table border=\"1\" class=\"dataframe\">\n",
       "  <thead>\n",
       "    <tr style=\"text-align: right;\">\n",
       "      <th>food_type</th>\n",
       "      <th>Alcoholic drinks</th>\n",
       "      <th>Bakeries</th>\n",
       "      <th>Barbeque</th>\n",
       "      <th>Breakfast &amp; Brunch</th>\n",
       "      <th>Burgers</th>\n",
       "      <th>Chicken Wings</th>\n",
       "      <th>Coffee &amp; Tea</th>\n",
       "      <th>Desserts</th>\n",
       "      <th>Juice Bars &amp; Smoothies</th>\n",
       "      <th>Noodles related</th>\n",
       "      <th>Other food</th>\n",
       "      <th>Pizza</th>\n",
       "      <th>Salad</th>\n",
       "      <th>Sandwiches &amp; Wraps</th>\n",
       "      <th>Seafood</th>\n",
       "      <th>Soup</th>\n",
       "      <th>Steakhouses</th>\n",
       "    </tr>\n",
       "    <tr>\n",
       "      <th>is_open</th>\n",
       "      <th></th>\n",
       "      <th></th>\n",
       "      <th></th>\n",
       "      <th></th>\n",
       "      <th></th>\n",
       "      <th></th>\n",
       "      <th></th>\n",
       "      <th></th>\n",
       "      <th></th>\n",
       "      <th></th>\n",
       "      <th></th>\n",
       "      <th></th>\n",
       "      <th></th>\n",
       "      <th></th>\n",
       "      <th></th>\n",
       "      <th></th>\n",
       "      <th></th>\n",
       "    </tr>\n",
       "  </thead>\n",
       "  <tbody>\n",
       "    <tr>\n",
       "      <th>0</th>\n",
       "      <td>46.616541</td>\n",
       "      <td>39.508929</td>\n",
       "      <td>45.382586</td>\n",
       "      <td>37.84965</td>\n",
       "      <td>47.861842</td>\n",
       "      <td>26.797386</td>\n",
       "      <td>43.32893</td>\n",
       "      <td>41.509434</td>\n",
       "      <td>28.571429</td>\n",
       "      <td>26.17801</td>\n",
       "      <td>34.046053</td>\n",
       "      <td>42.20339</td>\n",
       "      <td>31.688312</td>\n",
       "      <td>46.586716</td>\n",
       "      <td>36.629526</td>\n",
       "      <td>25.179856</td>\n",
       "      <td>41.071429</td>\n",
       "    </tr>\n",
       "    <tr>\n",
       "      <th>1</th>\n",
       "      <td>53.383459</td>\n",
       "      <td>60.491071</td>\n",
       "      <td>54.617414</td>\n",
       "      <td>62.15035</td>\n",
       "      <td>52.138158</td>\n",
       "      <td>73.202614</td>\n",
       "      <td>56.67107</td>\n",
       "      <td>58.490566</td>\n",
       "      <td>71.428571</td>\n",
       "      <td>73.82199</td>\n",
       "      <td>65.953947</td>\n",
       "      <td>57.79661</td>\n",
       "      <td>68.311688</td>\n",
       "      <td>53.413284</td>\n",
       "      <td>63.370474</td>\n",
       "      <td>74.820144</td>\n",
       "      <td>58.928571</td>\n",
       "    </tr>\n",
       "  </tbody>\n",
       "</table>\n",
       "</div>"
      ],
      "text/plain": [
       "food_type  Alcoholic drinks   Bakeries   Barbeque  Breakfast & Brunch  \\\n",
       "is_open                                                                 \n",
       "0                 46.616541  39.508929  45.382586            37.84965   \n",
       "1                 53.383459  60.491071  54.617414            62.15035   \n",
       "\n",
       "food_type    Burgers  Chicken Wings  Coffee & Tea   Desserts  \\\n",
       "is_open                                                        \n",
       "0          47.861842      26.797386      43.32893  41.509434   \n",
       "1          52.138158      73.202614      56.67107  58.490566   \n",
       "\n",
       "food_type  Juice Bars & Smoothies  Noodles related  Other food     Pizza  \\\n",
       "is_open                                                                    \n",
       "0                       28.571429         26.17801   34.046053  42.20339   \n",
       "1                       71.428571         73.82199   65.953947  57.79661   \n",
       "\n",
       "food_type      Salad  Sandwiches & Wraps    Seafood       Soup  Steakhouses  \n",
       "is_open                                                                      \n",
       "0          31.688312           46.586716  36.629526  25.179856    41.071429  \n",
       "1          68.311688           53.413284  63.370474  74.820144    58.928571  "
      ]
     },
     "execution_count": 26,
     "metadata": {},
     "output_type": "execute_result"
    }
   ],
   "source": [
    "food_contingency_norm_columns = pd.crosstab(index=restaurant_df['is_open'], columns=restaurant_df['food_type'],\n",
    "                                          normalize = 'columns') * 100\n",
    "food_contingency_norm_columns"
   ]
  },
  {
   "cell_type": "code",
   "execution_count": 27,
   "id": "827448be",
   "metadata": {},
   "outputs": [
    {
     "data": {
      "text/plain": [
       "Text(0.5, 1.0, 'Restaurant survival status vs. Food type (normalize by Food type)')"
      ]
     },
     "execution_count": 27,
     "metadata": {},
     "output_type": "execute_result"
    },
    {
     "data": {
      "image/png": "[encoded data removed]",
      "text/plain": [
       "<Figure size 432x288 with 2 Axes>"
      ]
     },
     "metadata": {
      "needs_background": "light"
     },
     "output_type": "display_data"
    }
   ],
   "source": [
    "ax = sns.heatmap(food_contingency_norm_columns, cmap=\"Blues\")\n",
    "ax.set_title(\"Restaurant survival status vs. Food type (normalize by Food type)\")"
   ]
  },
  {
   "cell_type": "code",
   "execution_count": 28,
   "id": "bbf6463c",
   "metadata": {},
   "outputs": [
    {
     "data": {
      "text/html": [
       "<div>\n",
       "<style scoped>\n",
       "    .dataframe tbody tr th:only-of-type {\n",
       "        vertical-align: middle;\n",
       "    }\n",
       "\n",
       "    .dataframe tbody tr th {\n",
       "        vertical-align: top;\n",
       "    }\n",
       "\n",
       "    .dataframe thead th {\n",
       "        text-align: right;\n",
       "    }\n",
       "</style>\n",
       "<table border=\"1\" class=\"dataframe\">\n",
       "  <thead>\n",
       "    <tr style=\"text-align: right;\">\n",
       "      <th>food_type</th>\n",
       "      <th>Alcoholic drinks</th>\n",
       "      <th>Bakeries</th>\n",
       "      <th>Barbeque</th>\n",
       "      <th>Breakfast &amp; Brunch</th>\n",
       "      <th>Burgers</th>\n",
       "      <th>Chicken Wings</th>\n",
       "      <th>Coffee &amp; Tea</th>\n",
       "      <th>Desserts</th>\n",
       "      <th>Juice Bars &amp; Smoothies</th>\n",
       "      <th>Noodles related</th>\n",
       "      <th>Other food</th>\n",
       "      <th>Pizza</th>\n",
       "      <th>Salad</th>\n",
       "      <th>Sandwiches &amp; Wraps</th>\n",
       "      <th>Seafood</th>\n",
       "      <th>Soup</th>\n",
       "      <th>Steakhouses</th>\n",
       "    </tr>\n",
       "    <tr>\n",
       "      <th>is_open</th>\n",
       "      <th></th>\n",
       "      <th></th>\n",
       "      <th></th>\n",
       "      <th></th>\n",
       "      <th></th>\n",
       "      <th></th>\n",
       "      <th></th>\n",
       "      <th></th>\n",
       "      <th></th>\n",
       "      <th></th>\n",
       "      <th></th>\n",
       "      <th></th>\n",
       "      <th></th>\n",
       "      <th></th>\n",
       "      <th></th>\n",
       "      <th></th>\n",
       "      <th></th>\n",
       "    </tr>\n",
       "  </thead>\n",
       "  <tbody>\n",
       "    <tr>\n",
       "      <th>0</th>\n",
       "      <td>3.406593</td>\n",
       "      <td>4.862637</td>\n",
       "      <td>4.725275</td>\n",
       "      <td>11.895604</td>\n",
       "      <td>7.994505</td>\n",
       "      <td>2.252747</td>\n",
       "      <td>9.010989</td>\n",
       "      <td>5.439560</td>\n",
       "      <td>1.098901</td>\n",
       "      <td>1.373626</td>\n",
       "      <td>5.686813</td>\n",
       "      <td>13.681319</td>\n",
       "      <td>3.351648</td>\n",
       "      <td>13.873626</td>\n",
       "      <td>7.225275</td>\n",
       "      <td>0.961538</td>\n",
       "      <td>3.159341</td>\n",
       "    </tr>\n",
       "    <tr>\n",
       "      <th>1</th>\n",
       "      <td>2.595978</td>\n",
       "      <td>4.954296</td>\n",
       "      <td>3.784278</td>\n",
       "      <td>12.998172</td>\n",
       "      <td>5.795247</td>\n",
       "      <td>4.095064</td>\n",
       "      <td>7.842779</td>\n",
       "      <td>5.100548</td>\n",
       "      <td>1.828154</td>\n",
       "      <td>2.577697</td>\n",
       "      <td>7.330896</td>\n",
       "      <td>12.468007</td>\n",
       "      <td>4.808044</td>\n",
       "      <td>10.585009</td>\n",
       "      <td>8.318099</td>\n",
       "      <td>1.901280</td>\n",
       "      <td>3.016453</td>\n",
       "    </tr>\n",
       "  </tbody>\n",
       "</table>\n",
       "</div>"
      ],
      "text/plain": [
       "food_type  Alcoholic drinks  Bakeries  Barbeque  Breakfast & Brunch   Burgers  \\\n",
       "is_open                                                                         \n",
       "0                  3.406593  4.862637  4.725275           11.895604  7.994505   \n",
       "1                  2.595978  4.954296  3.784278           12.998172  5.795247   \n",
       "\n",
       "food_type  Chicken Wings  Coffee & Tea  Desserts  Juice Bars & Smoothies  \\\n",
       "is_open                                                                    \n",
       "0               2.252747      9.010989  5.439560                1.098901   \n",
       "1               4.095064      7.842779  5.100548                1.828154   \n",
       "\n",
       "food_type  Noodles related  Other food      Pizza     Salad  \\\n",
       "is_open                                                       \n",
       "0                 1.373626    5.686813  13.681319  3.351648   \n",
       "1                 2.577697    7.330896  12.468007  4.808044   \n",
       "\n",
       "food_type  Sandwiches & Wraps   Seafood      Soup  Steakhouses  \n",
       "is_open                                                         \n",
       "0                   13.873626  7.225275  0.961538     3.159341  \n",
       "1                   10.585009  8.318099  1.901280     3.016453  "
      ]
     },
     "execution_count": 28,
     "metadata": {},
     "output_type": "execute_result"
    }
   ],
   "source": [
    "food_contingency_norm_index = pd.crosstab(index=restaurant_df['is_open'], columns=restaurant_df['food_type'],\n",
    "                                          normalize = 'index') * 100\n",
    "food_contingency_norm_index"
   ]
  },
  {
   "cell_type": "code",
   "execution_count": 29,
   "id": "f0243f36",
   "metadata": {},
   "outputs": [
    {
     "data": {
      "text/plain": [
       "Text(0.5, 1.0, 'Restaurant survival status vs. Food type (normalize by survival status)')"
      ]
     },
     "execution_count": 29,
     "metadata": {},
     "output_type": "execute_result"
    },
    {
     "data": {
      "image/png": "[encoded data removed]",
      "text/plain": [
       "<Figure size 432x288 with 2 Axes>"
      ]
     },
     "metadata": {
      "needs_background": "light"
     },
     "output_type": "display_data"
    }
   ],
   "source": [
    "ax = sns.heatmap(food_contingency_norm_index, cmap=\"Blues\")\n",
    "ax.set_title(\"Restaurant survival status vs. Food type (normalize by survival status)\")"
   ]
  },
  {
   "cell_type": "markdown",
   "id": "3c216457",
   "metadata": {},
   "source": [
    "$H_0 : $ `is_open` is independent of `food_type`\n",
    "\n",
    "$H_1$ : `is_open` is not independent of `food_type`"
   ]
  },
  {
   "cell_type": "code",
   "execution_count": 30,
   "id": "fd932783",
   "metadata": {},
   "outputs": [
    {
     "data": {
      "text/plain": [
       "0.0"
      ]
     },
     "execution_count": 30,
     "metadata": {},
     "output_type": "execute_result"
    }
   ],
   "source": [
    "# chi-square test\n",
    "round(chi2_contingency(food_contingency_table)[1],2)"
   ]
  },
  {
   "cell_type": "markdown",
   "id": "64dbfa0a",
   "metadata": {},
   "source": [
    "Reject the null hypothesis that restaurant survival status is independent of cuisine type. "
   ]
  },
  {
   "cell_type": "markdown",
   "id": "0e49cbc1",
   "metadata": {},
   "source": [
    "# Does restaurant survival depend on atmosphere type?"
   ]
  },
  {
   "cell_type": "code",
   "execution_count": 31,
   "id": "eebdea0e",
   "metadata": {},
   "outputs": [],
   "source": [
    "columns = ['business_id', 'is_open', 'cuisine_type', 'atmosphere_type', 'food_type', 'dietary_type', 'hi_transmission_risk']\n",
    "subset_df = restaurant_df[columns]"
   ]
  },
  {
   "cell_type": "code",
   "execution_count": 32,
   "id": "1e0323ca",
   "metadata": {},
   "outputs": [],
   "source": [
    "#subset_df.loc[subset_df.atmosphere_type.isna(), 'atmosphere_type'] = 'unidentified'"
   ]
  },
  {
   "cell_type": "code",
   "execution_count": 33,
   "id": "d0468b44",
   "metadata": {},
   "outputs": [],
   "source": [
    "#subset_df.atmosphere_type.value_counts()"
   ]
  },
  {
   "cell_type": "code",
   "execution_count": 34,
   "id": "6921b9c3",
   "metadata": {},
   "outputs": [
    {
     "data": {
      "text/html": [
       "<div>\n",
       "<style scoped>\n",
       "    .dataframe tbody tr th:only-of-type {\n",
       "        vertical-align: middle;\n",
       "    }\n",
       "\n",
       "    .dataframe tbody tr th {\n",
       "        vertical-align: top;\n",
       "    }\n",
       "\n",
       "    .dataframe thead th {\n",
       "        text-align: right;\n",
       "    }\n",
       "</style>\n",
       "<table border=\"1\" class=\"dataframe\">\n",
       "  <thead>\n",
       "    <tr style=\"text-align: right;\">\n",
       "      <th>atmosphere_type</th>\n",
       "      <th>Bars related</th>\n",
       "      <th>Brewery and beer garden related</th>\n",
       "      <th>Buffets</th>\n",
       "      <th>Cafes related</th>\n",
       "      <th>Delis</th>\n",
       "      <th>Diners and cafeteria related</th>\n",
       "      <th>Pubs related</th>\n",
       "    </tr>\n",
       "    <tr>\n",
       "      <th>is_open</th>\n",
       "      <th></th>\n",
       "      <th></th>\n",
       "      <th></th>\n",
       "      <th></th>\n",
       "      <th></th>\n",
       "      <th></th>\n",
       "      <th></th>\n",
       "    </tr>\n",
       "  </thead>\n",
       "  <tbody>\n",
       "    <tr>\n",
       "      <th>0</th>\n",
       "      <td>1408</td>\n",
       "      <td>33</td>\n",
       "      <td>82</td>\n",
       "      <td>319</td>\n",
       "      <td>173</td>\n",
       "      <td>113</td>\n",
       "      <td>112</td>\n",
       "    </tr>\n",
       "    <tr>\n",
       "      <th>1</th>\n",
       "      <td>2240</td>\n",
       "      <td>64</td>\n",
       "      <td>104</td>\n",
       "      <td>526</td>\n",
       "      <td>198</td>\n",
       "      <td>206</td>\n",
       "      <td>170</td>\n",
       "    </tr>\n",
       "  </tbody>\n",
       "</table>\n",
       "</div>"
      ],
      "text/plain": [
       "atmosphere_type  Bars related  Brewery and beer garden related  Buffets  \\\n",
       "is_open                                                                   \n",
       "0                        1408                               33       82   \n",
       "1                        2240                               64      104   \n",
       "\n",
       "atmosphere_type  Cafes related  Delis  Diners and cafeteria related  \\\n",
       "is_open                                                               \n",
       "0                          319    173                           113   \n",
       "1                          526    198                           206   \n",
       "\n",
       "atmosphere_type  Pubs related  \n",
       "is_open                        \n",
       "0                         112  \n",
       "1                         170  "
      ]
     },
     "execution_count": 34,
     "metadata": {},
     "output_type": "execute_result"
    }
   ],
   "source": [
    "atmosphere_contingency_table = pd.crosstab(index=restaurant_df['is_open'], columns=restaurant_df['atmosphere_type'])\n",
    "atmosphere_contingency_table"
   ]
  },
  {
   "cell_type": "code",
   "execution_count": 35,
   "id": "cb7fbe71",
   "metadata": {},
   "outputs": [
    {
     "data": {
      "text/plain": [
       "Text(0.5, 1.0, 'Restaurant survival status vs. Atmosphere type (counts)')"
      ]
     },
     "execution_count": 35,
     "metadata": {},
     "output_type": "execute_result"
    },
    {
     "data": {
      "image/png": "[encoded data removed]",
      "text/plain": [
       "<Figure size 432x288 with 2 Axes>"
      ]
     },
     "metadata": {
      "needs_background": "light"
     },
     "output_type": "display_data"
    }
   ],
   "source": [
    "ax = sns.heatmap(atmosphere_contingency_table, cmap=\"Blues\")\n",
    "ax.set_title(\"Restaurant survival status vs. Atmosphere type (counts)\")"
   ]
  },
  {
   "cell_type": "code",
   "execution_count": 36,
   "id": "fad4e644",
   "metadata": {},
   "outputs": [
    {
     "data": {
      "text/html": [
       "<div>\n",
       "<style scoped>\n",
       "    .dataframe tbody tr th:only-of-type {\n",
       "        vertical-align: middle;\n",
       "    }\n",
       "\n",
       "    .dataframe tbody tr th {\n",
       "        vertical-align: top;\n",
       "    }\n",
       "\n",
       "    .dataframe thead th {\n",
       "        text-align: right;\n",
       "    }\n",
       "</style>\n",
       "<table border=\"1\" class=\"dataframe\">\n",
       "  <thead>\n",
       "    <tr style=\"text-align: right;\">\n",
       "      <th>atmosphere_type</th>\n",
       "      <th>Bars related</th>\n",
       "      <th>Brewery and beer garden related</th>\n",
       "      <th>Buffets</th>\n",
       "      <th>Cafes related</th>\n",
       "      <th>Delis</th>\n",
       "      <th>Diners and cafeteria related</th>\n",
       "      <th>Pubs related</th>\n",
       "    </tr>\n",
       "    <tr>\n",
       "      <th>is_open</th>\n",
       "      <th></th>\n",
       "      <th></th>\n",
       "      <th></th>\n",
       "      <th></th>\n",
       "      <th></th>\n",
       "      <th></th>\n",
       "      <th></th>\n",
       "    </tr>\n",
       "  </thead>\n",
       "  <tbody>\n",
       "    <tr>\n",
       "      <th>0</th>\n",
       "      <td>38.596491</td>\n",
       "      <td>34.020619</td>\n",
       "      <td>44.086022</td>\n",
       "      <td>37.751479</td>\n",
       "      <td>46.630728</td>\n",
       "      <td>35.423197</td>\n",
       "      <td>39.716312</td>\n",
       "    </tr>\n",
       "    <tr>\n",
       "      <th>1</th>\n",
       "      <td>61.403509</td>\n",
       "      <td>65.979381</td>\n",
       "      <td>55.913978</td>\n",
       "      <td>62.248521</td>\n",
       "      <td>53.369272</td>\n",
       "      <td>64.576803</td>\n",
       "      <td>60.283688</td>\n",
       "    </tr>\n",
       "  </tbody>\n",
       "</table>\n",
       "</div>"
      ],
      "text/plain": [
       "atmosphere_type  Bars related  Brewery and beer garden related    Buffets  \\\n",
       "is_open                                                                     \n",
       "0                   38.596491                        34.020619  44.086022   \n",
       "1                   61.403509                        65.979381  55.913978   \n",
       "\n",
       "atmosphere_type  Cafes related      Delis  Diners and cafeteria related  \\\n",
       "is_open                                                                   \n",
       "0                    37.751479  46.630728                     35.423197   \n",
       "1                    62.248521  53.369272                     64.576803   \n",
       "\n",
       "atmosphere_type  Pubs related  \n",
       "is_open                        \n",
       "0                   39.716312  \n",
       "1                   60.283688  "
      ]
     },
     "execution_count": 36,
     "metadata": {},
     "output_type": "execute_result"
    }
   ],
   "source": [
    "atmosphere_contingency_norm_columns = pd.crosstab(index=restaurant_df['is_open'], columns=restaurant_df['atmosphere_type'],\n",
    "                                          normalize = 'columns') * 100\n",
    "atmosphere_contingency_norm_columns"
   ]
  },
  {
   "cell_type": "code",
   "execution_count": 37,
   "id": "e8e2f346",
   "metadata": {},
   "outputs": [
    {
     "data": {
      "text/plain": [
       "Text(0.5, 1.0, 'Restaurant survival status vs. Atmosphere type (normalize by Atmosphere type)')"
      ]
     },
     "execution_count": 37,
     "metadata": {},
     "output_type": "execute_result"
    },
    {
     "data": {
      "image/png": "[encoded data removed]",
      "text/plain": [
       "<Figure size 432x288 with 2 Axes>"
      ]
     },
     "metadata": {
      "needs_background": "light"
     },
     "output_type": "display_data"
    }
   ],
   "source": [
    "ax = sns.heatmap(atmosphere_contingency_norm_columns, cmap=\"Blues\")\n",
    "ax.set_title(\"Restaurant survival status vs. Atmosphere type (normalize by Atmosphere type)\")"
   ]
  },
  {
   "cell_type": "code",
   "execution_count": 38,
   "id": "f013d82d",
   "metadata": {},
   "outputs": [
    {
     "data": {
      "text/html": [
       "<div>\n",
       "<style scoped>\n",
       "    .dataframe tbody tr th:only-of-type {\n",
       "        vertical-align: middle;\n",
       "    }\n",
       "\n",
       "    .dataframe tbody tr th {\n",
       "        vertical-align: top;\n",
       "    }\n",
       "\n",
       "    .dataframe thead th {\n",
       "        text-align: right;\n",
       "    }\n",
       "</style>\n",
       "<table border=\"1\" class=\"dataframe\">\n",
       "  <thead>\n",
       "    <tr style=\"text-align: right;\">\n",
       "      <th>atmosphere_type</th>\n",
       "      <th>Bars related</th>\n",
       "      <th>Brewery and beer garden related</th>\n",
       "      <th>Buffets</th>\n",
       "      <th>Cafes related</th>\n",
       "      <th>Delis</th>\n",
       "      <th>Diners and cafeteria related</th>\n",
       "      <th>Pubs related</th>\n",
       "    </tr>\n",
       "    <tr>\n",
       "      <th>is_open</th>\n",
       "      <th></th>\n",
       "      <th></th>\n",
       "      <th></th>\n",
       "      <th></th>\n",
       "      <th></th>\n",
       "      <th></th>\n",
       "      <th></th>\n",
       "    </tr>\n",
       "  </thead>\n",
       "  <tbody>\n",
       "    <tr>\n",
       "      <th>0</th>\n",
       "      <td>62.857143</td>\n",
       "      <td>1.473214</td>\n",
       "      <td>3.660714</td>\n",
       "      <td>14.241071</td>\n",
       "      <td>7.723214</td>\n",
       "      <td>5.044643</td>\n",
       "      <td>5.000000</td>\n",
       "    </tr>\n",
       "    <tr>\n",
       "      <th>1</th>\n",
       "      <td>63.854048</td>\n",
       "      <td>1.824401</td>\n",
       "      <td>2.964652</td>\n",
       "      <td>14.994299</td>\n",
       "      <td>5.644242</td>\n",
       "      <td>5.872292</td>\n",
       "      <td>4.846066</td>\n",
       "    </tr>\n",
       "  </tbody>\n",
       "</table>\n",
       "</div>"
      ],
      "text/plain": [
       "atmosphere_type  Bars related  Brewery and beer garden related   Buffets  \\\n",
       "is_open                                                                    \n",
       "0                   62.857143                         1.473214  3.660714   \n",
       "1                   63.854048                         1.824401  2.964652   \n",
       "\n",
       "atmosphere_type  Cafes related     Delis  Diners and cafeteria related  \\\n",
       "is_open                                                                  \n",
       "0                    14.241071  7.723214                      5.044643   \n",
       "1                    14.994299  5.644242                      5.872292   \n",
       "\n",
       "atmosphere_type  Pubs related  \n",
       "is_open                        \n",
       "0                    5.000000  \n",
       "1                    4.846066  "
      ]
     },
     "execution_count": 38,
     "metadata": {},
     "output_type": "execute_result"
    }
   ],
   "source": [
    "atmosphere_contingency_norm_index = pd.crosstab(index=restaurant_df['is_open'], columns=restaurant_df['atmosphere_type'],\n",
    "                                          normalize = 'index') * 100\n",
    "atmosphere_contingency_norm_index"
   ]
  },
  {
   "cell_type": "code",
   "execution_count": 39,
   "id": "59b28f6d",
   "metadata": {},
   "outputs": [
    {
     "data": {
      "text/plain": [
       "Text(0.5, 1.0, 'Restaurant survival status vs. Atmosphere type (normalize by survival status)')"
      ]
     },
     "execution_count": 39,
     "metadata": {},
     "output_type": "execute_result"
    },
    {
     "data": {
      "image/png": "[encoded data removed]",
      "text/plain": [
       "<Figure size 432x288 with 2 Axes>"
      ]
     },
     "metadata": {
      "needs_background": "light"
     },
     "output_type": "display_data"
    }
   ],
   "source": [
    "ax = sns.heatmap(atmosphere_contingency_norm_index, cmap=\"Blues\")\n",
    "ax.set_title(\"Restaurant survival status vs. Atmosphere type (normalize by survival status)\")"
   ]
  },
  {
   "cell_type": "markdown",
   "id": "e20e66b4",
   "metadata": {},
   "source": [
    "$H_0 : $ `is_open` is independent of `atmosphere_type`\n",
    "\n",
    "$H_1$ : `is_open` is not independent of `atmosphere_type`"
   ]
  },
  {
   "cell_type": "code",
   "execution_count": 40,
   "id": "f91da5e2",
   "metadata": {},
   "outputs": [
    {
     "data": {
      "text/plain": [
       "0.02"
      ]
     },
     "execution_count": 40,
     "metadata": {},
     "output_type": "execute_result"
    }
   ],
   "source": [
    "# chi-square test\n",
    "round(chi2_contingency(atmosphere_contingency_table)[1],2)"
   ]
  },
  {
   "cell_type": "markdown",
   "id": "55d64481",
   "metadata": {},
   "source": [
    "If we were to analyze restaurants that have atmosphere type identified, we get p-value of 0.02. Thus at $\\alpha = 0.01$, we do not have sufficient evidence to reject the null hypothesis that is survival status is independent of atmosphere type. If we are willing to increase the type-I error to 0.05, we reject the null hypothesis."
   ]
  },
  {
   "cell_type": "markdown",
   "id": "53344148",
   "metadata": {},
   "source": [
    "# Does restaurant survival depend on its risk of covid tranmission?"
   ]
  },
  {
   "cell_type": "code",
   "execution_count": 41,
   "id": "f2ae468b",
   "metadata": {},
   "outputs": [
    {
     "data": {
      "text/plain": [
       "NaN                          10192\n",
       "Bars related                  2404\n",
       "Nightlife                     1230\n",
       "Event Planning & Services      438\n",
       "Pubs related                   252\n",
       "Buffets                        190\n",
       "Lounges                        125\n",
       "Venues & Event Spaces           54\n",
       "Arts & Entertainment            46\n",
       "Music Venues                    39\n",
       "Name: hi_transmission_risk, dtype: int64"
      ]
     },
     "execution_count": 41,
     "metadata": {},
     "output_type": "execute_result"
    }
   ],
   "source": [
    "subset_df.hi_transmission_risk.value_counts(dropna = False)"
   ]
  },
  {
   "cell_type": "code",
   "execution_count": 43,
   "id": "589fb032",
   "metadata": {},
   "outputs": [],
   "source": [
    "subset_df.loc[subset_df.hi_transmission_risk.isna(), 'hi_transmission_risk'] = 'Category of Low Transmission Risk'"
   ]
  },
  {
   "cell_type": "code",
   "execution_count": 44,
   "id": "94831aff",
   "metadata": {},
   "outputs": [
    {
     "data": {
      "text/plain": [
       "Category of Low Transmission Risk    10192\n",
       "Bars related                          2404\n",
       "Nightlife                             1230\n",
       "Event Planning & Services              438\n",
       "Pubs related                           252\n",
       "Buffets                                190\n",
       "Lounges                                125\n",
       "Venues & Event Spaces                   54\n",
       "Arts & Entertainment                    46\n",
       "Music Venues                            39\n",
       "Name: hi_transmission_risk, dtype: int64"
      ]
     },
     "execution_count": 44,
     "metadata": {},
     "output_type": "execute_result"
    }
   ],
   "source": [
    "subset_df.hi_transmission_risk.value_counts()"
   ]
  },
  {
   "cell_type": "code",
   "execution_count": 45,
   "id": "7b25d28c",
   "metadata": {},
   "outputs": [
    {
     "data": {
      "text/html": [
       "<div>\n",
       "<style scoped>\n",
       "    .dataframe tbody tr th:only-of-type {\n",
       "        vertical-align: middle;\n",
       "    }\n",
       "\n",
       "    .dataframe tbody tr th {\n",
       "        vertical-align: top;\n",
       "    }\n",
       "\n",
       "    .dataframe thead th {\n",
       "        text-align: right;\n",
       "    }\n",
       "</style>\n",
       "<table border=\"1\" class=\"dataframe\">\n",
       "  <thead>\n",
       "    <tr style=\"text-align: right;\">\n",
       "      <th>hi_transmission_risk</th>\n",
       "      <th>Arts &amp; Entertainment</th>\n",
       "      <th>Bars related</th>\n",
       "      <th>Buffets</th>\n",
       "      <th>Category of Low Transmission Risk</th>\n",
       "      <th>Event Planning &amp; Services</th>\n",
       "      <th>Lounges</th>\n",
       "      <th>Music Venues</th>\n",
       "      <th>Nightlife</th>\n",
       "      <th>Pubs related</th>\n",
       "      <th>Venues &amp; Event Spaces</th>\n",
       "    </tr>\n",
       "    <tr>\n",
       "      <th>is_open</th>\n",
       "      <th></th>\n",
       "      <th></th>\n",
       "      <th></th>\n",
       "      <th></th>\n",
       "      <th></th>\n",
       "      <th></th>\n",
       "      <th></th>\n",
       "      <th></th>\n",
       "      <th></th>\n",
       "      <th></th>\n",
       "    </tr>\n",
       "  </thead>\n",
       "  <tbody>\n",
       "    <tr>\n",
       "      <th>0</th>\n",
       "      <td>24</td>\n",
       "      <td>919</td>\n",
       "      <td>84</td>\n",
       "      <td>4744</td>\n",
       "      <td>151</td>\n",
       "      <td>68</td>\n",
       "      <td>20</td>\n",
       "      <td>466</td>\n",
       "      <td>95</td>\n",
       "      <td>23</td>\n",
       "    </tr>\n",
       "    <tr>\n",
       "      <th>1</th>\n",
       "      <td>22</td>\n",
       "      <td>1485</td>\n",
       "      <td>106</td>\n",
       "      <td>5448</td>\n",
       "      <td>287</td>\n",
       "      <td>57</td>\n",
       "      <td>19</td>\n",
       "      <td>764</td>\n",
       "      <td>157</td>\n",
       "      <td>31</td>\n",
       "    </tr>\n",
       "  </tbody>\n",
       "</table>\n",
       "</div>"
      ],
      "text/plain": [
       "hi_transmission_risk  Arts & Entertainment  Bars related  Buffets  \\\n",
       "is_open                                                             \n",
       "0                                       24           919       84   \n",
       "1                                       22          1485      106   \n",
       "\n",
       "hi_transmission_risk  Category of Low Transmission Risk  \\\n",
       "is_open                                                   \n",
       "0                                                  4744   \n",
       "1                                                  5448   \n",
       "\n",
       "hi_transmission_risk  Event Planning & Services  Lounges  Music Venues  \\\n",
       "is_open                                                                  \n",
       "0                                           151       68            20   \n",
       "1                                           287       57            19   \n",
       "\n",
       "hi_transmission_risk  Nightlife  Pubs related  Venues & Event Spaces  \n",
       "is_open                                                               \n",
       "0                           466            95                     23  \n",
       "1                           764           157                     31  "
      ]
     },
     "execution_count": 45,
     "metadata": {},
     "output_type": "execute_result"
    }
   ],
   "source": [
    "transmission_contingency_table = pd.crosstab(index=subset_df['is_open'], columns=subset_df['hi_transmission_risk'])\n",
    "transmission_contingency_table"
   ]
  },
  {
   "cell_type": "code",
   "execution_count": 46,
   "id": "34c1317d",
   "metadata": {},
   "outputs": [
    {
     "data": {
      "text/plain": [
       "Text(0.5, 1.0, 'Restaurant survival status vs. Transmission risk (counts)')"
      ]
     },
     "execution_count": 46,
     "metadata": {},
     "output_type": "execute_result"
    },
    {
     "data": {
      "image/png": "[encoded data removed]",
      "text/plain": [
       "<Figure size 432x288 with 2 Axes>"
      ]
     },
     "metadata": {
      "needs_background": "light"
     },
     "output_type": "display_data"
    }
   ],
   "source": [
    "ax = sns.heatmap(transmission_contingency_table, cmap=\"Blues\")\n",
    "ax.set_title(\"Restaurant survival status vs. Transmission risk (counts)\")"
   ]
  },
  {
   "cell_type": "code",
   "execution_count": 47,
   "id": "3c5d46d0",
   "metadata": {},
   "outputs": [
    {
     "data": {
      "text/html": [
       "<div>\n",
       "<style scoped>\n",
       "    .dataframe tbody tr th:only-of-type {\n",
       "        vertical-align: middle;\n",
       "    }\n",
       "\n",
       "    .dataframe tbody tr th {\n",
       "        vertical-align: top;\n",
       "    }\n",
       "\n",
       "    .dataframe thead th {\n",
       "        text-align: right;\n",
       "    }\n",
       "</style>\n",
       "<table border=\"1\" class=\"dataframe\">\n",
       "  <thead>\n",
       "    <tr style=\"text-align: right;\">\n",
       "      <th>hi_transmission_risk</th>\n",
       "      <th>Arts &amp; Entertainment</th>\n",
       "      <th>Bars related</th>\n",
       "      <th>Buffets</th>\n",
       "      <th>Category of Low Transmission Risk</th>\n",
       "      <th>Event Planning &amp; Services</th>\n",
       "      <th>Lounges</th>\n",
       "      <th>Music Venues</th>\n",
       "      <th>Nightlife</th>\n",
       "      <th>Pubs related</th>\n",
       "      <th>Venues &amp; Event Spaces</th>\n",
       "    </tr>\n",
       "    <tr>\n",
       "      <th>is_open</th>\n",
       "      <th></th>\n",
       "      <th></th>\n",
       "      <th></th>\n",
       "      <th></th>\n",
       "      <th></th>\n",
       "      <th></th>\n",
       "      <th></th>\n",
       "      <th></th>\n",
       "      <th></th>\n",
       "      <th></th>\n",
       "    </tr>\n",
       "  </thead>\n",
       "  <tbody>\n",
       "    <tr>\n",
       "      <th>0</th>\n",
       "      <td>52.173913</td>\n",
       "      <td>38.227953</td>\n",
       "      <td>44.210526</td>\n",
       "      <td>46.546311</td>\n",
       "      <td>34.474886</td>\n",
       "      <td>54.4</td>\n",
       "      <td>51.282051</td>\n",
       "      <td>37.886179</td>\n",
       "      <td>37.698413</td>\n",
       "      <td>42.592593</td>\n",
       "    </tr>\n",
       "    <tr>\n",
       "      <th>1</th>\n",
       "      <td>47.826087</td>\n",
       "      <td>61.772047</td>\n",
       "      <td>55.789474</td>\n",
       "      <td>53.453689</td>\n",
       "      <td>65.525114</td>\n",
       "      <td>45.6</td>\n",
       "      <td>48.717949</td>\n",
       "      <td>62.113821</td>\n",
       "      <td>62.301587</td>\n",
       "      <td>57.407407</td>\n",
       "    </tr>\n",
       "  </tbody>\n",
       "</table>\n",
       "</div>"
      ],
      "text/plain": [
       "hi_transmission_risk  Arts & Entertainment  Bars related    Buffets  \\\n",
       "is_open                                                               \n",
       "0                                52.173913     38.227953  44.210526   \n",
       "1                                47.826087     61.772047  55.789474   \n",
       "\n",
       "hi_transmission_risk  Category of Low Transmission Risk  \\\n",
       "is_open                                                   \n",
       "0                                             46.546311   \n",
       "1                                             53.453689   \n",
       "\n",
       "hi_transmission_risk  Event Planning & Services  Lounges  Music Venues  \\\n",
       "is_open                                                                  \n",
       "0                                     34.474886     54.4     51.282051   \n",
       "1                                     65.525114     45.6     48.717949   \n",
       "\n",
       "hi_transmission_risk  Nightlife  Pubs related  Venues & Event Spaces  \n",
       "is_open                                                               \n",
       "0                     37.886179     37.698413              42.592593  \n",
       "1                     62.113821     62.301587              57.407407  "
      ]
     },
     "execution_count": 47,
     "metadata": {},
     "output_type": "execute_result"
    }
   ],
   "source": [
    "transmission_contingency_norm_columns = pd.crosstab(index=subset_df['is_open'], columns=subset_df['hi_transmission_risk'],\n",
    "                                          normalize = 'columns') * 100\n",
    "transmission_contingency_norm_columns"
   ]
  },
  {
   "cell_type": "code",
   "execution_count": 48,
   "id": "277fc84e",
   "metadata": {},
   "outputs": [
    {
     "data": {
      "text/plain": [
       "Text(0.5, 1.0, 'Restaurant survival status vs. Transmission risk (normalize by Transmission risk)')"
      ]
     },
     "execution_count": 48,
     "metadata": {},
     "output_type": "execute_result"
    },
    {
     "data": {
      "image/png": "[encoded data removed]",
      "text/plain": [
       "<Figure size 432x288 with 2 Axes>"
      ]
     },
     "metadata": {
      "needs_background": "light"
     },
     "output_type": "display_data"
    }
   ],
   "source": [
    "ax = sns.heatmap(transmission_contingency_norm_columns, cmap=\"Blues\")\n",
    "ax.set_title(\"Restaurant survival status vs. Transmission risk (normalize by Transmission risk)\")"
   ]
  },
  {
   "cell_type": "code",
   "execution_count": 49,
   "id": "d86a6233",
   "metadata": {},
   "outputs": [
    {
     "data": {
      "text/html": [
       "<div>\n",
       "<style scoped>\n",
       "    .dataframe tbody tr th:only-of-type {\n",
       "        vertical-align: middle;\n",
       "    }\n",
       "\n",
       "    .dataframe tbody tr th {\n",
       "        vertical-align: top;\n",
       "    }\n",
       "\n",
       "    .dataframe thead th {\n",
       "        text-align: right;\n",
       "    }\n",
       "</style>\n",
       "<table border=\"1\" class=\"dataframe\">\n",
       "  <thead>\n",
       "    <tr style=\"text-align: right;\">\n",
       "      <th>hi_transmission_risk</th>\n",
       "      <th>Arts &amp; Entertainment</th>\n",
       "      <th>Bars related</th>\n",
       "      <th>Buffets</th>\n",
       "      <th>Category of Low Transmission Risk</th>\n",
       "      <th>Event Planning &amp; Services</th>\n",
       "      <th>Lounges</th>\n",
       "      <th>Music Venues</th>\n",
       "      <th>Nightlife</th>\n",
       "      <th>Pubs related</th>\n",
       "      <th>Venues &amp; Event Spaces</th>\n",
       "    </tr>\n",
       "    <tr>\n",
       "      <th>is_open</th>\n",
       "      <th></th>\n",
       "      <th></th>\n",
       "      <th></th>\n",
       "      <th></th>\n",
       "      <th></th>\n",
       "      <th></th>\n",
       "      <th></th>\n",
       "      <th></th>\n",
       "      <th></th>\n",
       "      <th></th>\n",
       "    </tr>\n",
       "  </thead>\n",
       "  <tbody>\n",
       "    <tr>\n",
       "      <th>0</th>\n",
       "      <td>0.363967</td>\n",
       "      <td>13.936912</td>\n",
       "      <td>1.273885</td>\n",
       "      <td>71.944192</td>\n",
       "      <td>2.289961</td>\n",
       "      <td>1.031241</td>\n",
       "      <td>0.303306</td>\n",
       "      <td>7.067031</td>\n",
       "      <td>1.440704</td>\n",
       "      <td>0.348802</td>\n",
       "    </tr>\n",
       "    <tr>\n",
       "      <th>1</th>\n",
       "      <td>0.262655</td>\n",
       "      <td>17.729226</td>\n",
       "      <td>1.265521</td>\n",
       "      <td>65.042980</td>\n",
       "      <td>3.426457</td>\n",
       "      <td>0.680516</td>\n",
       "      <td>0.226839</td>\n",
       "      <td>9.121299</td>\n",
       "      <td>1.874403</td>\n",
       "      <td>0.370105</td>\n",
       "    </tr>\n",
       "  </tbody>\n",
       "</table>\n",
       "</div>"
      ],
      "text/plain": [
       "hi_transmission_risk  Arts & Entertainment  Bars related   Buffets  \\\n",
       "is_open                                                              \n",
       "0                                 0.363967     13.936912  1.273885   \n",
       "1                                 0.262655     17.729226  1.265521   \n",
       "\n",
       "hi_transmission_risk  Category of Low Transmission Risk  \\\n",
       "is_open                                                   \n",
       "0                                             71.944192   \n",
       "1                                             65.042980   \n",
       "\n",
       "hi_transmission_risk  Event Planning & Services   Lounges  Music Venues  \\\n",
       "is_open                                                                   \n",
       "0                                      2.289961  1.031241      0.303306   \n",
       "1                                      3.426457  0.680516      0.226839   \n",
       "\n",
       "hi_transmission_risk  Nightlife  Pubs related  Venues & Event Spaces  \n",
       "is_open                                                               \n",
       "0                      7.067031      1.440704               0.348802  \n",
       "1                      9.121299      1.874403               0.370105  "
      ]
     },
     "execution_count": 49,
     "metadata": {},
     "output_type": "execute_result"
    }
   ],
   "source": [
    "transmission_contingency_norm_index = pd.crosstab(index=subset_df['is_open'], columns=subset_df['hi_transmission_risk'],\n",
    "                                          normalize = 'index') * 100\n",
    "transmission_contingency_norm_index"
   ]
  },
  {
   "cell_type": "code",
   "execution_count": 74,
   "id": "72e0b005",
   "metadata": {},
   "outputs": [
    {
     "data": {
      "text/plain": [
       "Text(0.5, 1.0, 'Restaurant survival status vs. Transmission risk (normalize by survival status)')"
      ]
     },
     "execution_count": 74,
     "metadata": {},
     "output_type": "execute_result"
    },
    {
     "data": {
      "image/png": "[encoded data removed]",
      "text/plain": [
       "<Figure size 432x288 with 2 Axes>"
      ]
     },
     "metadata": {
      "needs_background": "light"
     },
     "output_type": "display_data"
    }
   ],
   "source": [
    "ax = sns.heatmap(transmission_contingency_norm_index, cmap=\"Blues\")\n",
    "ax.set_title(\"Restaurant survival status vs. Transmission risk (normalize by survival status)\")"
   ]
  },
  {
   "cell_type": "code",
   "execution_count": 50,
   "id": "5e8fd665",
   "metadata": {},
   "outputs": [
    {
     "data": {
      "text/plain": [
       "0.0"
      ]
     },
     "execution_count": 50,
     "metadata": {},
     "output_type": "execute_result"
    }
   ],
   "source": [
    "# chi-square test\n",
    "round(chi2_contingency(transmission_contingency_table)[1],2)"
   ]
  },
  {
   "cell_type": "code",
   "execution_count": 53,
   "id": "6582d2cf",
   "metadata": {},
   "outputs": [],
   "source": [
    "# create an indicator column\n",
    "subset_df.loc[subset_df['hi_transmission_risk'] == 'Category of Low Transmission Risk', 'transmission_risk'] = 'Low risk'\n",
    "subset_df.loc[subset_df['hi_transmission_risk'] != 'Category of Low Transmission Risk', 'transmission_risk'] = 'High risk'"
   ]
  },
  {
   "cell_type": "code",
   "execution_count": 54,
   "id": "34d7a094",
   "metadata": {},
   "outputs": [
    {
     "data": {
      "text/plain": [
       "Low risk     10192\n",
       "High risk     4778\n",
       "Name: transmission_risk, dtype: int64"
      ]
     },
     "execution_count": 54,
     "metadata": {},
     "output_type": "execute_result"
    }
   ],
   "source": [
    "subset_df['transmission_risk'].value_counts()"
   ]
  },
  {
   "cell_type": "code",
   "execution_count": 55,
   "id": "15f9fa6b",
   "metadata": {},
   "outputs": [
    {
     "data": {
      "text/html": [
       "<div>\n",
       "<style scoped>\n",
       "    .dataframe tbody tr th:only-of-type {\n",
       "        vertical-align: middle;\n",
       "    }\n",
       "\n",
       "    .dataframe tbody tr th {\n",
       "        vertical-align: top;\n",
       "    }\n",
       "\n",
       "    .dataframe thead th {\n",
       "        text-align: right;\n",
       "    }\n",
       "</style>\n",
       "<table border=\"1\" class=\"dataframe\">\n",
       "  <thead>\n",
       "    <tr style=\"text-align: right;\">\n",
       "      <th>transmission_risk</th>\n",
       "      <th>High risk</th>\n",
       "      <th>Low risk</th>\n",
       "    </tr>\n",
       "    <tr>\n",
       "      <th>is_open</th>\n",
       "      <th></th>\n",
       "      <th></th>\n",
       "    </tr>\n",
       "  </thead>\n",
       "  <tbody>\n",
       "    <tr>\n",
       "      <th>0</th>\n",
       "      <td>1850</td>\n",
       "      <td>4744</td>\n",
       "    </tr>\n",
       "    <tr>\n",
       "      <th>1</th>\n",
       "      <td>2928</td>\n",
       "      <td>5448</td>\n",
       "    </tr>\n",
       "  </tbody>\n",
       "</table>\n",
       "</div>"
      ],
      "text/plain": [
       "transmission_risk  High risk  Low risk\n",
       "is_open                               \n",
       "0                       1850      4744\n",
       "1                       2928      5448"
      ]
     },
     "execution_count": 55,
     "metadata": {},
     "output_type": "execute_result"
    }
   ],
   "source": [
    "risk_contingency_table = pd.crosstab(index=subset_df['is_open'], columns=subset_df['transmission_risk'])\n",
    "risk_contingency_table"
   ]
  },
  {
   "cell_type": "code",
   "execution_count": 56,
   "id": "1b5b789d",
   "metadata": {},
   "outputs": [
    {
     "data": {
      "text/plain": [
       "Text(0.5, 1.0, 'Restaurant survival status vs. Transmission risk (counts)')"
      ]
     },
     "execution_count": 56,
     "metadata": {},
     "output_type": "execute_result"
    },
    {
     "data": {
      "image/png": "[encoded data removed]",
      "text/plain": [
       "<Figure size 432x288 with 2 Axes>"
      ]
     },
     "metadata": {
      "needs_background": "light"
     },
     "output_type": "display_data"
    }
   ],
   "source": [
    "ax = sns.heatmap(risk_contingency_table, cmap=\"Blues\")\n",
    "ax.set_title(\"Restaurant survival status vs. Transmission risk (counts)\")"
   ]
  },
  {
   "cell_type": "code",
   "execution_count": 57,
   "id": "18f57456",
   "metadata": {},
   "outputs": [
    {
     "data": {
      "text/html": [
       "<div>\n",
       "<style scoped>\n",
       "    .dataframe tbody tr th:only-of-type {\n",
       "        vertical-align: middle;\n",
       "    }\n",
       "\n",
       "    .dataframe tbody tr th {\n",
       "        vertical-align: top;\n",
       "    }\n",
       "\n",
       "    .dataframe thead th {\n",
       "        text-align: right;\n",
       "    }\n",
       "</style>\n",
       "<table border=\"1\" class=\"dataframe\">\n",
       "  <thead>\n",
       "    <tr style=\"text-align: right;\">\n",
       "      <th>transmission_risk</th>\n",
       "      <th>High risk</th>\n",
       "      <th>Low risk</th>\n",
       "    </tr>\n",
       "    <tr>\n",
       "      <th>is_open</th>\n",
       "      <th></th>\n",
       "      <th></th>\n",
       "    </tr>\n",
       "  </thead>\n",
       "  <tbody>\n",
       "    <tr>\n",
       "      <th>0</th>\n",
       "      <td>38.719129</td>\n",
       "      <td>46.546311</td>\n",
       "    </tr>\n",
       "    <tr>\n",
       "      <th>1</th>\n",
       "      <td>61.280871</td>\n",
       "      <td>53.453689</td>\n",
       "    </tr>\n",
       "  </tbody>\n",
       "</table>\n",
       "</div>"
      ],
      "text/plain": [
       "transmission_risk  High risk   Low risk\n",
       "is_open                                \n",
       "0                  38.719129  46.546311\n",
       "1                  61.280871  53.453689"
      ]
     },
     "execution_count": 57,
     "metadata": {},
     "output_type": "execute_result"
    }
   ],
   "source": [
    "risk_contingency_norm_columns = pd.crosstab(index=subset_df['is_open'], columns=subset_df['transmission_risk'],\n",
    "                                          normalize = 'columns') * 100\n",
    "risk_contingency_norm_columns"
   ]
  },
  {
   "cell_type": "code",
   "execution_count": 81,
   "id": "1132b1da",
   "metadata": {},
   "outputs": [
    {
     "data": {
      "text/plain": [
       "Text(0.5, 1.0, 'Restaurant survival status vs. Transmission risk (normalize by Transmission risk)')"
      ]
     },
     "execution_count": 81,
     "metadata": {},
     "output_type": "execute_result"
    },
    {
     "data": {
      "image/png": "[encoded data removed]",
      "text/plain": [
       "<Figure size 432x288 with 2 Axes>"
      ]
     },
     "metadata": {
      "needs_background": "light"
     },
     "output_type": "display_data"
    }
   ],
   "source": [
    "ax = sns.heatmap(risk_contingency_norm_columns, cmap=\"Blues\")\n",
    "ax.set_title(\"Restaurant survival status vs. Transmission risk (normalize by Transmission risk)\")"
   ]
  },
  {
   "cell_type": "code",
   "execution_count": 58,
   "id": "77932ffd",
   "metadata": {},
   "outputs": [
    {
     "data": {
      "text/html": [
       "<div>\n",
       "<style scoped>\n",
       "    .dataframe tbody tr th:only-of-type {\n",
       "        vertical-align: middle;\n",
       "    }\n",
       "\n",
       "    .dataframe tbody tr th {\n",
       "        vertical-align: top;\n",
       "    }\n",
       "\n",
       "    .dataframe thead th {\n",
       "        text-align: right;\n",
       "    }\n",
       "</style>\n",
       "<table border=\"1\" class=\"dataframe\">\n",
       "  <thead>\n",
       "    <tr style=\"text-align: right;\">\n",
       "      <th>transmission_risk</th>\n",
       "      <th>High risk</th>\n",
       "      <th>Low risk</th>\n",
       "    </tr>\n",
       "    <tr>\n",
       "      <th>is_open</th>\n",
       "      <th></th>\n",
       "      <th></th>\n",
       "    </tr>\n",
       "  </thead>\n",
       "  <tbody>\n",
       "    <tr>\n",
       "      <th>0</th>\n",
       "      <td>28.055808</td>\n",
       "      <td>71.944192</td>\n",
       "    </tr>\n",
       "    <tr>\n",
       "      <th>1</th>\n",
       "      <td>34.957020</td>\n",
       "      <td>65.042980</td>\n",
       "    </tr>\n",
       "  </tbody>\n",
       "</table>\n",
       "</div>"
      ],
      "text/plain": [
       "transmission_risk  High risk   Low risk\n",
       "is_open                                \n",
       "0                  28.055808  71.944192\n",
       "1                  34.957020  65.042980"
      ]
     },
     "execution_count": 58,
     "metadata": {},
     "output_type": "execute_result"
    }
   ],
   "source": [
    "risk_contingency_norm_index = pd.crosstab(index=subset_df['is_open'], columns=subset_df['transmission_risk'],\n",
    "                                          normalize = 'index') * 100\n",
    "risk_contingency_norm_index"
   ]
  },
  {
   "cell_type": "code",
   "execution_count": 59,
   "id": "276e866a",
   "metadata": {},
   "outputs": [
    {
     "data": {
      "text/plain": [
       "Text(0.5, 1.0, 'Restaurant survival status vs. Transmission risk (normalize by survival status)')"
      ]
     },
     "execution_count": 59,
     "metadata": {},
     "output_type": "execute_result"
    },
    {
     "data": {
      "image/png": "[encoded data removed]",
      "text/plain": [
       "<Figure size 432x288 with 2 Axes>"
      ]
     },
     "metadata": {
      "needs_background": "light"
     },
     "output_type": "display_data"
    }
   ],
   "source": [
    "ax = sns.heatmap(risk_contingency_norm_index, cmap=\"Blues\")\n",
    "ax.set_title(\"Restaurant survival status vs. Transmission risk (normalize by survival status)\")"
   ]
  },
  {
   "cell_type": "markdown",
   "id": "d8270b44",
   "metadata": {},
   "source": [
    "$H_0 : $ `is_open` is independent of `transmission_risk`\n",
    "\n",
    "$H_1$ : `is_open` is not independent of `transmission_risk`"
   ]
  },
  {
   "cell_type": "code",
   "execution_count": 60,
   "id": "f701213f",
   "metadata": {},
   "outputs": [
    {
     "data": {
      "text/plain": [
       "0.0"
      ]
     },
     "execution_count": 60,
     "metadata": {},
     "output_type": "execute_result"
    }
   ],
   "source": [
    "# chi-square test\n",
    "round(chi2_contingency(risk_contingency_table)[1],2)"
   ]
  },
  {
   "cell_type": "markdown",
   "id": "2e48411f",
   "metadata": {},
   "source": [
    "Reject the null hypothesis that restaurant survival status is independent of the transmission risk of its categories."
   ]
  },
  {
   "cell_type": "code",
   "execution_count": null,
   "id": "a3cd94cf",
   "metadata": {},
   "outputs": [],
   "source": []
  }
 ],
 "metadata": {
  "kernelspec": {
   "display_name": "ds4aw-env",
   "language": "python",
   "name": "ds4aw-env"
  },
  "language_info": {
   "codemirror_mode": {
    "name": "ipython",
    "version": 3
   },
   "file_extension": ".py",
   "mimetype": "text/x-python",
   "name": "python",
   "nbconvert_exporter": "python",
   "pygments_lexer": "ipython3",
   "version": "3.7.11"
  }
 },
 "nbformat": 4,
 "nbformat_minor": 5
}
