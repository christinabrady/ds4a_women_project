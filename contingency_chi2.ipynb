{
 "cells": [
  {
   "cell_type": "markdown",
   "id": "10baf61f",
   "metadata": {},
   "source": [
    "# About\n",
    "Contingency table and chi-quare analysis of restaurants in Team 7 dataset."
   ]
  },
  {
   "cell_type": "code",
   "execution_count": null,
   "id": "ef576043",
   "metadata": {},
   "outputs": [],
   "source": [
    "import json\n",
    "import pandas as pd\n",
    "import matplotlib.pyplot as plt\n",
    "import seaborn as sns\n",
    "from scipy.stats import chi2_contingency\n",
    "import pingouin\n",
    "import numpy as np"
   ]
  },
  {
   "cell_type": "markdown",
   "id": "efc94fba",
   "metadata": {},
   "source": [
    "# Load dataset"
   ]
  },
  {
   "cell_type": "code",
   "execution_count": null,
   "id": "7be7b081",
   "metadata": {},
   "outputs": [],
   "source": [
    "restaurant_df = pd.read_json('yelp_team7_dataset_restaurant.json')"
   ]
  },
  {
   "cell_type": "code",
   "execution_count": null,
   "id": "15a33d9a",
   "metadata": {},
   "outputs": [],
   "source": [
    "restaurant_df.shape"
   ]
  },
  {
   "cell_type": "code",
   "execution_count": null,
   "id": "f71c7b72",
   "metadata": {},
   "outputs": [],
   "source": [
    "categories_df = pd.read_json('yelp_team7_dataset_category.json')\n",
    "categories_df.shape"
   ]
  },
  {
   "cell_type": "code",
   "execution_count": null,
   "id": "95b00dea",
   "metadata": {},
   "outputs": [],
   "source": [
    "restaurant_df = restaurant_df.merge(categories_df, on = 'business_id', how = 'left')"
   ]
  },
  {
   "cell_type": "code",
   "execution_count": null,
   "id": "df35d21f",
   "metadata": {},
   "outputs": [],
   "source": [
    "restaurant_df.shape"
   ]
  },
  {
   "cell_type": "markdown",
   "id": "44c855ac",
   "metadata": {},
   "source": [
    "# Preliminary context"
   ]
  },
  {
   "cell_type": "code",
   "execution_count": null,
   "id": "12b78484",
   "metadata": {},
   "outputs": [],
   "source": [
    "# How many restaurants were open?\n",
    "restaurant_df.is_open.value_counts(dropna = False)"
   ]
  },
  {
   "cell_type": "code",
   "execution_count": null,
   "id": "d073c9ca",
   "metadata": {},
   "outputs": [],
   "source": [
    "restaurant_df.is_open.value_counts(normalize = True).plot(kind = 'bar')\n",
    "plt.show()"
   ]
  },
  {
   "cell_type": "markdown",
   "id": "f5b2d99c",
   "metadata": {},
   "source": [
    "# Does restaurant survival in our sample depend on city?"
   ]
  },
  {
   "cell_type": "code",
   "execution_count": null,
   "id": "eeaa97ce",
   "metadata": {},
   "outputs": [],
   "source": [
    "city_contingency_table = pd.crosstab(index=restaurant_df['is_open'], columns=restaurant_df['city'])\n",
    "city_contingency_table"
   ]
  },
  {
   "cell_type": "code",
   "execution_count": null,
   "id": "2f8f6318",
   "metadata": {},
   "outputs": [],
   "source": [
    "ax = sns.heatmap(city_contingency_table, cmap=\"Blues\")\n",
    "ax.set_title(\"Restaurant survival status vs. City (counts)\")"
   ]
  },
  {
   "cell_type": "code",
   "execution_count": null,
   "id": "700998aa",
   "metadata": {},
   "outputs": [],
   "source": [
    "city_contingency_norm_columns = pd.crosstab(index=restaurant_df['is_open'], columns=restaurant_df['city'],\n",
    "                                          normalize = 'columns') * 100\n",
    "city_contingency_norm_columns"
   ]
  },
  {
   "cell_type": "code",
   "execution_count": null,
   "id": "3cfc5c91",
   "metadata": {},
   "outputs": [],
   "source": [
    "ax = sns.heatmap(city_contingency_norm_columns, cmap=\"Blues\")\n",
    "ax.set_title(\"Restaurant survival status vs. City (column normalized)\")\n",
    "#plt.show()\n",
    "plt.savefig('heatmap_city_col.png', bbox_inches='tight')"
   ]
  },
  {
   "cell_type": "code",
   "execution_count": null,
   "id": "d5e6acc2",
   "metadata": {},
   "outputs": [],
   "source": [
    "city_contingency_norm_index = pd.crosstab(index=restaurant_df['is_open'], columns=restaurant_df['city'],\n",
    "                                          normalize = 'index') * 100\n",
    "city_contingency_norm_index"
   ]
  },
  {
   "cell_type": "code",
   "execution_count": null,
   "id": "050e2709",
   "metadata": {},
   "outputs": [],
   "source": [
    "ax = sns.heatmap(city_contingency_norm_index, cmap=\"Blues\")\n",
    "ax.set_title(\"Restaurant survival status vs. City (index normalized)\")\n",
    "#plt.show()\n",
    "plt.savefig('heatmap_city_index.png', bbox_inches='tight')"
   ]
  },
  {
   "cell_type": "markdown",
   "id": "89100abe",
   "metadata": {},
   "source": [
    "$H_0 : $ `is_open` is independent of `city`\n",
    "\n",
    "$H_1$ : `is_open` is not independent of `city`"
   ]
  },
  {
   "cell_type": "code",
   "execution_count": null,
   "id": "49f03605",
   "metadata": {},
   "outputs": [],
   "source": [
    "# chi-square test\n",
    "round(chi2_contingency(city_contingency_table)[1],2)"
   ]
  },
  {
   "cell_type": "markdown",
   "id": "366a210a",
   "metadata": {},
   "source": [
    "Reject the null hypothesis. Restaurant survival status is not independent of city. "
   ]
  },
  {
   "cell_type": "markdown",
   "id": "78e28e5a",
   "metadata": {},
   "source": [
    "# Does restaurant survival depend on cuisine type?"
   ]
  },
  {
   "cell_type": "code",
   "execution_count": null,
   "id": "2fc0a9ab",
   "metadata": {},
   "outputs": [],
   "source": [
    "cuisine_contingency_table = pd.crosstab(index=restaurant_df['is_open'], columns=restaurant_df['cuisine_type'])\n",
    "cuisine_contingency_table"
   ]
  },
  {
   "cell_type": "markdown",
   "id": "160fcb1d",
   "metadata": {},
   "source": [
    "Very few observations in `Other`, which will influence later analyses by normalization. Combine `Other` with `Other Asian`"
   ]
  },
  {
   "cell_type": "code",
   "execution_count": null,
   "id": "debe0865",
   "metadata": {},
   "outputs": [],
   "source": [
    "restaurant_df.cuisine_type.value_counts(dropna = False)"
   ]
  },
  {
   "cell_type": "code",
   "execution_count": null,
   "id": "fcd2bfb1",
   "metadata": {},
   "outputs": [],
   "source": [
    "cuisines_to_combine = ['Other', 'Other Asian']\n",
    "condition = restaurant_df['cuisine_type'].isin(cuisines_to_combine)"
   ]
  },
  {
   "cell_type": "code",
   "execution_count": null,
   "id": "dbefda63",
   "metadata": {},
   "outputs": [],
   "source": [
    "restaurant_df.loc[condition, 'cuisine_type'] = 'Other Asian and Australian'"
   ]
  },
  {
   "cell_type": "code",
   "execution_count": null,
   "id": "c058cdee",
   "metadata": {},
   "outputs": [],
   "source": [
    "restaurant_df.cuisine_type.value_counts(dropna = False)"
   ]
  },
  {
   "cell_type": "code",
   "execution_count": null,
   "id": "9c431ba0",
   "metadata": {},
   "outputs": [],
   "source": [
    "cuisine_contingency_table = pd.crosstab(index=restaurant_df['is_open'], columns=restaurant_df['cuisine_type'])\n",
    "cuisine_contingency_table"
   ]
  },
  {
   "cell_type": "code",
   "execution_count": null,
   "id": "92173bc5",
   "metadata": {},
   "outputs": [],
   "source": [
    "ax = sns.heatmap(cuisine_contingency_table, cmap=\"Blues\")\n",
    "ax.set_title(\"Restaurant survival status vs. Cuisine (counts)\")"
   ]
  },
  {
   "cell_type": "code",
   "execution_count": null,
   "id": "1ba4cf8f",
   "metadata": {},
   "outputs": [],
   "source": [
    "cuisine_contingency_norm_columns = pd.crosstab(index=restaurant_df['is_open'], columns=restaurant_df['cuisine_type'],\n",
    "                                          normalize = 'columns') * 100\n",
    "cuisine_contingency_norm_columns"
   ]
  },
  {
   "cell_type": "code",
   "execution_count": null,
   "id": "ce05ef5c",
   "metadata": {},
   "outputs": [],
   "source": [
    "ax = sns.heatmap(cuisine_contingency_norm_columns, cmap=\"Blues\")\n",
    "ax.set_title(\"Restaurant survival status vs. Cuisine (column normalized)\")\n",
    "#plt.show()\n",
    "plt.savefig('heatmap_cuisine_col.png', bbox_inches='tight')"
   ]
  },
  {
   "cell_type": "code",
   "execution_count": null,
   "id": "86addaa6",
   "metadata": {},
   "outputs": [],
   "source": [
    "cuisine_contingency_norm_index = pd.crosstab(index=restaurant_df['is_open'], columns=restaurant_df['cuisine_type'],\n",
    "                                          normalize = 'index') * 100\n",
    "cuisine_contingency_norm_index"
   ]
  },
  {
   "cell_type": "code",
   "execution_count": null,
   "id": "af24a342",
   "metadata": {
    "scrolled": true
   },
   "outputs": [],
   "source": [
    "ax = sns.heatmap(cuisine_contingency_norm_index, cmap=\"Blues\")\n",
    "ax.set_title(\"Restaurant survival status vs. Cuisine (index normalized)\")\n",
    "#plt.show()\n",
    "plt.savefig('heatmap_cuisine_index.png', bbox_inches='tight')"
   ]
  },
  {
   "cell_type": "markdown",
   "id": "e3ebedc7",
   "metadata": {},
   "source": [
    "$H_0 : $ `is_open` is independent of `cuisine_type`\n",
    "\n",
    "$H_1$ : `is_open` is not independent of `cuisine_type`"
   ]
  },
  {
   "cell_type": "code",
   "execution_count": null,
   "id": "ccb95ad3",
   "metadata": {},
   "outputs": [],
   "source": [
    "# chi-square test\n",
    "round(chi2_contingency(cuisine_contingency_table)[1],2)"
   ]
  },
  {
   "cell_type": "markdown",
   "id": "26666001",
   "metadata": {},
   "source": [
    "Reject the null hypothesis that restaurant survival status is independent of cuisine type. "
   ]
  },
  {
   "cell_type": "markdown",
   "id": "3f0796b6",
   "metadata": {},
   "source": [
    "# Does restaurant survival depend on food type?"
   ]
  },
  {
   "cell_type": "code",
   "execution_count": null,
   "id": "60ae2a59",
   "metadata": {},
   "outputs": [],
   "source": [
    "food_contingency_table = pd.crosstab(index=restaurant_df['is_open'], columns=restaurant_df['food_type'])\n",
    "food_contingency_table"
   ]
  },
  {
   "cell_type": "code",
   "execution_count": null,
   "id": "6283c092",
   "metadata": {},
   "outputs": [],
   "source": [
    "ax = sns.heatmap(food_contingency_table, cmap=\"Blues\")\n",
    "ax.set_title(\"Restaurant survival status vs. Food type (counts)\")"
   ]
  },
  {
   "cell_type": "code",
   "execution_count": null,
   "id": "5a236234",
   "metadata": {},
   "outputs": [],
   "source": [
    "food_contingency_norm_columns = pd.crosstab(index=restaurant_df['is_open'], columns=restaurant_df['food_type'],\n",
    "                                          normalize = 'columns') * 100\n",
    "food_contingency_norm_columns"
   ]
  },
  {
   "cell_type": "code",
   "execution_count": null,
   "id": "827448be",
   "metadata": {},
   "outputs": [],
   "source": [
    "ax = sns.heatmap(food_contingency_norm_columns, cmap=\"Blues\")\n",
    "ax.set_title(\"Restaurant survival status vs. Food type (normalize by Food type)\")"
   ]
  },
  {
   "cell_type": "code",
   "execution_count": null,
   "id": "bbf6463c",
   "metadata": {},
   "outputs": [],
   "source": [
    "food_contingency_norm_index = pd.crosstab(index=restaurant_df['is_open'], columns=restaurant_df['food_type'],\n",
    "                                          normalize = 'index') * 100\n",
    "food_contingency_norm_index"
   ]
  },
  {
   "cell_type": "code",
   "execution_count": null,
   "id": "f0243f36",
   "metadata": {},
   "outputs": [],
   "source": [
    "ax = sns.heatmap(food_contingency_norm_index, cmap=\"Blues\")\n",
    "ax.set_title(\"Restaurant survival status vs. Food type (normalize by survival status)\")"
   ]
  },
  {
   "cell_type": "markdown",
   "id": "3c216457",
   "metadata": {},
   "source": [
    "$H_0 : $ `is_open` is independent of `food_type`\n",
    "\n",
    "$H_1$ : `is_open` is not independent of `food_type`"
   ]
  },
  {
   "cell_type": "code",
   "execution_count": null,
   "id": "fd932783",
   "metadata": {},
   "outputs": [],
   "source": [
    "# chi-square test\n",
    "round(chi2_contingency(food_contingency_table)[1],2)"
   ]
  },
  {
   "cell_type": "markdown",
   "id": "64dbfa0a",
   "metadata": {},
   "source": [
    "Reject the null hypothesis that restaurant survival status is independent of cuisine type. "
   ]
  },
  {
   "cell_type": "markdown",
   "id": "0e49cbc1",
   "metadata": {},
   "source": [
    "# Does restaurant survival depend on atmosphere type?"
   ]
  },
  {
   "cell_type": "code",
   "execution_count": null,
   "id": "eebdea0e",
   "metadata": {},
   "outputs": [],
   "source": [
    "columns = ['business_id', 'is_open', 'cuisine_type', 'atmosphere_type', 'food_type', 'dietary_type', 'hi_transmission_risk']\n",
    "subset_df = restaurant_df[columns]"
   ]
  },
  {
   "cell_type": "code",
   "execution_count": null,
   "id": "1e0323ca",
   "metadata": {},
   "outputs": [],
   "source": [
    "#subset_df.loc[subset_df.atmosphere_type.isna(), 'atmosphere_type'] = 'unidentified'"
   ]
  },
  {
   "cell_type": "code",
   "execution_count": null,
   "id": "d0468b44",
   "metadata": {},
   "outputs": [],
   "source": [
    "#subset_df.atmosphere_type.value_counts()"
   ]
  },
  {
   "cell_type": "code",
   "execution_count": null,
   "id": "6921b9c3",
   "metadata": {},
   "outputs": [],
   "source": [
    "atmosphere_contingency_table = pd.crosstab(index=restaurant_df['is_open'], columns=restaurant_df['atmosphere_type'])\n",
    "atmosphere_contingency_table"
   ]
  },
  {
   "cell_type": "code",
   "execution_count": null,
   "id": "cb7fbe71",
   "metadata": {},
   "outputs": [],
   "source": [
    "ax = sns.heatmap(atmosphere_contingency_table, cmap=\"Blues\")\n",
    "ax.set_title(\"Restaurant survival status vs. Atmosphere type (counts)\")"
   ]
  },
  {
   "cell_type": "code",
   "execution_count": null,
   "id": "fad4e644",
   "metadata": {},
   "outputs": [],
   "source": [
    "atmosphere_contingency_norm_columns = pd.crosstab(index=restaurant_df['is_open'], columns=restaurant_df['atmosphere_type'],\n",
    "                                          normalize = 'columns') * 100\n",
    "atmosphere_contingency_norm_columns"
   ]
  },
  {
   "cell_type": "code",
   "execution_count": null,
   "id": "e8e2f346",
   "metadata": {},
   "outputs": [],
   "source": [
    "ax = sns.heatmap(atmosphere_contingency_norm_columns, cmap=\"Blues\")\n",
    "ax.set_title(\"Restaurant survival status vs. Atmosphere type (normalize by Atmosphere type)\")"
   ]
  },
  {
   "cell_type": "code",
   "execution_count": null,
   "id": "f013d82d",
   "metadata": {},
   "outputs": [],
   "source": [
    "atmosphere_contingency_norm_index = pd.crosstab(index=restaurant_df['is_open'], columns=restaurant_df['atmosphere_type'],\n",
    "                                          normalize = 'index') * 100\n",
    "atmosphere_contingency_norm_index"
   ]
  },
  {
   "cell_type": "code",
   "execution_count": null,
   "id": "59b28f6d",
   "metadata": {},
   "outputs": [],
   "source": [
    "ax = sns.heatmap(atmosphere_contingency_norm_index, cmap=\"Blues\")\n",
    "ax.set_title(\"Restaurant survival status vs. Atmosphere type (normalize by survival status)\")"
   ]
  },
  {
   "cell_type": "markdown",
   "id": "e20e66b4",
   "metadata": {},
   "source": [
    "$H_0 : $ `is_open` is independent of `atmosphere_type`\n",
    "\n",
    "$H_1$ : `is_open` is not independent of `atmosphere_type`"
   ]
  },
  {
   "cell_type": "code",
   "execution_count": null,
   "id": "f91da5e2",
   "metadata": {},
   "outputs": [],
   "source": [
    "# chi-square test\n",
    "round(chi2_contingency(atmosphere_contingency_table)[1],2)"
   ]
  },
  {
   "cell_type": "markdown",
   "id": "55d64481",
   "metadata": {},
   "source": [
    "If we were to analyze restaurants that have atmosphere type identified, we get p-value of 0.02. Thus at $\\alpha = 0.01$, we do not have sufficient evidence to reject the null hypothesis that is survival status is independent of atmosphere type. If we are willing to increase the type-I error to 0.05, we reject the null hypothesis."
   ]
  },
  {
   "cell_type": "markdown",
   "id": "53344148",
   "metadata": {},
   "source": [
    "# Does restaurant survival depend on its risk of covid tranmission?"
   ]
  },
  {
   "cell_type": "markdown",
   "id": "9c7e2d4f",
   "metadata": {},
   "source": [
    "## Using trasmission risk category"
   ]
  },
  {
   "cell_type": "code",
   "execution_count": null,
   "id": "f2ae468b",
   "metadata": {},
   "outputs": [],
   "source": [
    "subset_df.hi_transmission_risk.value_counts(dropna = False)"
   ]
  },
  {
   "cell_type": "code",
   "execution_count": null,
   "id": "589fb032",
   "metadata": {},
   "outputs": [],
   "source": [
    "subset_df.loc[subset_df.hi_transmission_risk.isna(), 'hi_transmission_risk'] = 'Category of Low Transmission Risk'"
   ]
  },
  {
   "cell_type": "code",
   "execution_count": null,
   "id": "94831aff",
   "metadata": {},
   "outputs": [],
   "source": [
    "subset_df.hi_transmission_risk.value_counts()"
   ]
  },
  {
   "cell_type": "code",
   "execution_count": null,
   "id": "7b25d28c",
   "metadata": {},
   "outputs": [],
   "source": [
    "transmission_contingency_table = pd.crosstab(index=subset_df['is_open'], columns=subset_df['hi_transmission_risk'])\n",
    "transmission_contingency_table"
   ]
  },
  {
   "cell_type": "code",
   "execution_count": null,
   "id": "34c1317d",
   "metadata": {},
   "outputs": [],
   "source": [
    "ax = sns.heatmap(transmission_contingency_table, cmap=\"Blues\")\n",
    "ax.set_title(\"Restaurant survival status vs. Transmission risk (counts)\")"
   ]
  },
  {
   "cell_type": "code",
   "execution_count": null,
   "id": "3c5d46d0",
   "metadata": {},
   "outputs": [],
   "source": [
    "transmission_contingency_norm_columns = pd.crosstab(index=subset_df['is_open'], columns=subset_df['hi_transmission_risk'],\n",
    "                                          normalize = 'columns') * 100\n",
    "transmission_contingency_norm_columns"
   ]
  },
  {
   "cell_type": "code",
   "execution_count": null,
   "id": "277fc84e",
   "metadata": {},
   "outputs": [],
   "source": [
    "ax = sns.heatmap(transmission_contingency_norm_columns, cmap=\"Blues\")\n",
    "ax.set_title(\"Restaurant survival status vs. Transmission risk (normalize by Transmission risk)\")"
   ]
  },
  {
   "cell_type": "code",
   "execution_count": null,
   "id": "d86a6233",
   "metadata": {},
   "outputs": [],
   "source": [
    "transmission_contingency_norm_index = pd.crosstab(index=subset_df['is_open'], columns=subset_df['hi_transmission_risk'],\n",
    "                                          normalize = 'index') * 100\n",
    "transmission_contingency_norm_index"
   ]
  },
  {
   "cell_type": "code",
   "execution_count": null,
   "id": "72e0b005",
   "metadata": {},
   "outputs": [],
   "source": [
    "ax = sns.heatmap(transmission_contingency_norm_index, cmap=\"Blues\")\n",
    "ax.set_title(\"Restaurant survival status vs. Transmission risk (normalize by survival status)\")"
   ]
  },
  {
   "cell_type": "code",
   "execution_count": null,
   "id": "5e8fd665",
   "metadata": {},
   "outputs": [],
   "source": [
    "# chi-square test\n",
    "round(chi2_contingency(transmission_contingency_table)[1],2)"
   ]
  },
  {
   "cell_type": "code",
   "execution_count": null,
   "id": "6582d2cf",
   "metadata": {},
   "outputs": [],
   "source": [
    "# create an indicator column\n",
    "subset_df.loc[subset_df['hi_transmission_risk'] == 'Category of Low Transmission Risk', 'transmission_risk'] = 'Low risk'\n",
    "subset_df.loc[subset_df['hi_transmission_risk'] != 'Category of Low Transmission Risk', 'transmission_risk'] = 'High risk'"
   ]
  },
  {
   "cell_type": "code",
   "execution_count": null,
   "id": "34d7a094",
   "metadata": {},
   "outputs": [],
   "source": [
    "subset_df['transmission_risk'].value_counts()"
   ]
  },
  {
   "cell_type": "code",
   "execution_count": null,
   "id": "15f9fa6b",
   "metadata": {},
   "outputs": [],
   "source": [
    "risk_contingency_table = pd.crosstab(index=subset_df['is_open'], columns=subset_df['transmission_risk'])\n",
    "risk_contingency_table"
   ]
  },
  {
   "cell_type": "code",
   "execution_count": null,
   "id": "1b5b789d",
   "metadata": {},
   "outputs": [],
   "source": [
    "ax = sns.heatmap(risk_contingency_table, cmap=\"Blues\")\n",
    "ax.set_title(\"Restaurant survival status vs. Transmission risk (counts)\")"
   ]
  },
  {
   "cell_type": "code",
   "execution_count": null,
   "id": "18f57456",
   "metadata": {},
   "outputs": [],
   "source": [
    "risk_contingency_norm_columns = pd.crosstab(index=subset_df['is_open'], columns=subset_df['transmission_risk'],\n",
    "                                          normalize = 'columns') * 100\n",
    "risk_contingency_norm_columns"
   ]
  },
  {
   "cell_type": "code",
   "execution_count": null,
   "id": "1132b1da",
   "metadata": {},
   "outputs": [],
   "source": [
    "ax = sns.heatmap(risk_contingency_norm_columns, cmap=\"Blues\")\n",
    "ax.set_title(\"Restaurant survival status vs. Transmission risk (normalize by Transmission risk)\")"
   ]
  },
  {
   "cell_type": "code",
   "execution_count": null,
   "id": "77932ffd",
   "metadata": {},
   "outputs": [],
   "source": [
    "risk_contingency_norm_index = pd.crosstab(index=subset_df['is_open'], columns=subset_df['transmission_risk'],\n",
    "                                          normalize = 'index') * 100\n",
    "risk_contingency_norm_index"
   ]
  },
  {
   "cell_type": "code",
   "execution_count": null,
   "id": "276e866a",
   "metadata": {},
   "outputs": [],
   "source": [
    "ax = sns.heatmap(risk_contingency_norm_index, cmap=\"Blues\")\n",
    "ax.set_title(\"Restaurant survival status vs. Transmission risk (normalize by survival status)\")"
   ]
  },
  {
   "cell_type": "markdown",
   "id": "d8270b44",
   "metadata": {},
   "source": [
    "$H_0 : $ `is_open` is independent of `transmission_risk`\n",
    "\n",
    "$H_1$ : `is_open` is not independent of `transmission_risk`"
   ]
  },
  {
   "cell_type": "code",
   "execution_count": null,
   "id": "f701213f",
   "metadata": {},
   "outputs": [],
   "source": [
    "# chi-square test\n",
    "round(chi2_contingency(risk_contingency_table)[1],2)"
   ]
  },
  {
   "cell_type": "markdown",
   "id": "2e48411f",
   "metadata": {},
   "source": [
    "Reject the null hypothesis that restaurant survival status is independent of the transmission risk of its categories."
   ]
  },
  {
   "cell_type": "markdown",
   "id": "2dc6fd4b",
   "metadata": {},
   "source": [
    "## Using covid incidence"
   ]
  },
  {
   "cell_type": "code",
   "execution_count": null,
   "id": "8602c42d",
   "metadata": {},
   "outputs": [],
   "source": [
    "# load the covid rate file\n",
    "covid_df = pd.read_csv('covid_incidence_by_city.csv')"
   ]
  },
  {
   "cell_type": "code",
   "execution_count": null,
   "id": "560275e3",
   "metadata": {},
   "outputs": [],
   "source": [
    "median_incidence = np.median(covid_df.incidence)\n",
    "covid_df.loc[covid_df.incidence <= median_incidence, 'risk'] = 'low'\n",
    "covid_df.loc[covid_df.incidence > median_incidence, 'risk'] = 'high'"
   ]
  },
  {
   "cell_type": "code",
   "execution_count": null,
   "id": "139f30dc",
   "metadata": {},
   "outputs": [],
   "source": [
    "covid_df"
   ]
  },
  {
   "cell_type": "code",
   "execution_count": null,
   "id": "da3166cb",
   "metadata": {},
   "outputs": [],
   "source": [
    "cities_hi_covid_incidence = ['ORLANDO', 'BOSTON']"
   ]
  },
  {
   "cell_type": "code",
   "execution_count": null,
   "id": "8101181d",
   "metadata": {},
   "outputs": [],
   "source": [
    "restaurant_df.city.isin(cities_hi_covid_incidence).value_counts()"
   ]
  },
  {
   "cell_type": "code",
   "execution_count": null,
   "id": "01b592da",
   "metadata": {},
   "outputs": [],
   "source": [
    "restaurant_df.city.value_counts() #sanity check"
   ]
  },
  {
   "cell_type": "code",
   "execution_count": null,
   "id": "81fa9055",
   "metadata": {},
   "outputs": [],
   "source": [
    "is_high_incidence = restaurant_df.city.isin(cities_hi_covid_incidence)\n",
    "restaurant_df.loc[is_high_incidence, 'covid_incidence'] = 'High'\n",
    "restaurant_df.loc[~is_high_incidence, 'covid_incidence'] = 'Low'"
   ]
  },
  {
   "cell_type": "code",
   "execution_count": null,
   "id": "aad28b95",
   "metadata": {},
   "outputs": [],
   "source": [
    "restaurant_df.covid_incidence.value_counts(dropna = False)"
   ]
  },
  {
   "cell_type": "code",
   "execution_count": null,
   "id": "0f2ad35c",
   "metadata": {},
   "outputs": [],
   "source": [
    "# create contingency table\n",
    "covid_incidence_contingency_table = pd.crosstab(index=restaurant_df['is_open'], columns=restaurant_df['covid_incidence'])\n",
    "covid_incidence_contingency_table"
   ]
  },
  {
   "cell_type": "code",
   "execution_count": null,
   "id": "a02c8b4d",
   "metadata": {},
   "outputs": [],
   "source": [
    "ax = sns.heatmap(covid_incidence_contingency_table, cmap=\"Blues\")\n",
    "ax.set_title(\"Restaurant survival status vs. COVID incidence (counts)\")\n",
    "plt.show()"
   ]
  },
  {
   "cell_type": "code",
   "execution_count": null,
   "id": "818b8ec8",
   "metadata": {},
   "outputs": [],
   "source": [
    "covid_contingency_norm_columns = pd.crosstab(index=restaurant_df['is_open'], columns=restaurant_df['covid_incidence'],\n",
    "                                          normalize = 'columns') * 100\n",
    "covid_contingency_norm_columns"
   ]
  },
  {
   "cell_type": "code",
   "execution_count": null,
   "id": "99b3c5ec",
   "metadata": {},
   "outputs": [],
   "source": [
    "ax = sns.heatmap(covid_contingency_norm_columns, cmap=\"Blues\")\n",
    "ax.set_title(\"Restaurant survival status vs. COVID incidence (column normalized)\")\n",
    "plt.show()"
   ]
  },
  {
   "cell_type": "code",
   "execution_count": null,
   "id": "a24873bb",
   "metadata": {},
   "outputs": [],
   "source": [
    "covid_contingency_norm_index = pd.crosstab(index=restaurant_df['is_open'], columns=restaurant_df['covid_incidence'],\n",
    "                                          normalize = 'index') * 100\n",
    "covid_contingency_norm_index"
   ]
  },
  {
   "cell_type": "code",
   "execution_count": null,
   "id": "09ddaf66",
   "metadata": {},
   "outputs": [],
   "source": [
    "ax = sns.heatmap(covid_contingency_norm_index, cmap=\"Blues\")\n",
    "ax.set_title(\"Restaurant survival status vs. COVID incidence (index normalized)\")\n",
    "plt.show()"
   ]
  },
  {
   "cell_type": "code",
   "execution_count": null,
   "id": "20cfcac8",
   "metadata": {},
   "outputs": [],
   "source": [
    "# chi-square test\n",
    "round(chi2_contingency(covid_incidence_contingency_table)[1],2)"
   ]
  },
  {
   "cell_type": "code",
   "execution_count": null,
   "id": "63b7bccc",
   "metadata": {},
   "outputs": [],
   "source": []
  }
 ],
 "metadata": {
  "kernelspec": {
   "display_name": "ds4aw-env",
   "language": "python",
   "name": "ds4aw-env"
  },
  "language_info": {
   "codemirror_mode": {
    "name": "ipython",
    "version": 3
   },
   "file_extension": ".py",
   "mimetype": "text/x-python",
   "name": "python",
   "nbconvert_exporter": "python",
   "pygments_lexer": "ipython3",
   "version": "3.7.11"
  }
 },
 "nbformat": 4,
 "nbformat_minor": 5
}
