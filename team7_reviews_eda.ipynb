{
 "cells": [
  {
   "cell_type": "markdown",
   "id": "121612b1",
   "metadata": {},
   "source": [
    "## Summary\n",
    "\n",
    "1. The number of reviews per business ranges from 5 to >9,000. \n",
    "2. The businesses with more reviews tend to be older, some going back to 2004.\n",
    "3. About 55% of the businesses have been reviewed at least once during the pandemic. \n",
    "4. About 40% of all of the reviews are tagged as useful by at least one person.   \n",
    "5. About 99% of businesses in this data have at least one review that has been tagged as useful.\n",
    "6. Any given business's reviews may be anywhere between 100% useful and 0.\n",
    "7. I was worried that there might be a correlation between useful reviews and age (existing longer would give businesses more time to wrack up useful reviews). The correlation coefficient is positive but VERY low. \n",
    "8. \"Useful\" scores range from 1 to 411. \n",
    "9. There is a very slight (-0.05) negative correlation between the star rating and the usefulness score\n",
    "\n"
   ]
  },
  {
   "cell_type": "code",
   "execution_count": null,
   "id": "3d8bd4ff",
   "metadata": {},
   "outputs": [],
   "source": [
    "import json\n",
    "import pandas as pd\n",
    "import plotly.express as px\n",
    "import datetime\n",
    "import re"
   ]
  },
  {
   "cell_type": "code",
   "execution_count": null,
   "id": "cf4c3be7",
   "metadata": {},
   "outputs": [],
   "source": [
    "reviews = pd.read_json(\"processed_data/yelp_team7_dataset_review.json\")\n",
    "reviews.head()"
   ]
  },
  {
   "cell_type": "markdown",
   "id": "b1b882d8",
   "metadata": {},
   "source": [
    "### How many reviews does an individual business have?"
   ]
  },
  {
   "cell_type": "code",
   "execution_count": null,
   "id": "47fb299d",
   "metadata": {},
   "outputs": [],
   "source": [
    "reviews_per_biz = reviews.groupby(\"business_id\").review_id.count()\n",
    "rperbiz_fig =px.histogram(reviews_per_biz,\n",
    "                          title = \"Reviews per Business\",\n",
    "                         labels = {'value': 'Number of reviews'})\n",
    "rperbiz_fig.show()"
   ]
  },
  {
   "cell_type": "markdown",
   "id": "7f6a9318",
   "metadata": {},
   "source": [
    "**Note:** I'd like to see where these restaurants are. Let also see when the first review was and how many reviews the restaurants had pre-pandemic."
   ]
  },
  {
   "cell_type": "markdown",
   "id": "d32b8ae7",
   "metadata": {},
   "source": [
    "That is a pretty wide range of reviews. Let's look at when the business was first reviewed to see if this makes sense."
   ]
  },
  {
   "cell_type": "code",
   "execution_count": null,
   "id": "4cec7ab7",
   "metadata": {},
   "outputs": [],
   "source": [
    "first_review = reviews.groupby(\"business_id\").agg({'review_id': 'count', \n",
    "                                                  'date': 'min'})\n",
    "first_review.sort_values([\"review_id\"], ascending = False)"
   ]
  },
  {
   "cell_type": "code",
   "execution_count": null,
   "id": "587bfc6a",
   "metadata": {},
   "outputs": [],
   "source": [
    "reviews[\"review_year\"] = reviews.date.dt.year\n",
    "first_review_year = reviews.groupby(\"business_id\").agg({'review_id': 'count', \n",
    "                                                  'review_year': 'min'})\n",
    "first_review_fig = px.scatter(first_review_year, \n",
    "                             x = \"review_year\", \n",
    "                             y = \"review_id\", \n",
    "                             title = \"Year of First Review x Number of Reviews\")\n",
    "\n",
    "first_review_fig.show()"
   ]
  },
  {
   "cell_type": "markdown",
   "id": "7bde02a5",
   "metadata": {},
   "source": [
    "Let's make sure that a majority of these have reviews in the last year. Otherwise, we won't get any info about adaptations due to COVID."
   ]
  },
  {
   "cell_type": "code",
   "execution_count": null,
   "id": "4b0ba6fc",
   "metadata": {},
   "outputs": [],
   "source": [
    "pandemic_reviews = reviews[reviews.date >= datetime.datetime(2020, 2, 1)]\n",
    "print(\"%s percent of reviews happened during the pandemic\" %round(pandemic_reviews.shape[0]/reviews.shape[0]*100))"
   ]
  },
  {
   "cell_type": "code",
   "execution_count": null,
   "id": "e831ee60",
   "metadata": {},
   "outputs": [],
   "source": [
    "reviews_per_biz_pan = pandemic_reviews.groupby(\"business_id\").review_id.count()\n",
    "rperbiz_pandemic_fig =px.histogram(reviews_per_biz_pan,\n",
    "                          title = \"Reviews per Business During the Pandemic\",\n",
    "                         labels = {'value': 'Number of reviews'})\n",
    "rperbiz_pandemic_fig.show()"
   ]
  },
  {
   "cell_type": "code",
   "execution_count": null,
   "id": "65c1dd8e",
   "metadata": {},
   "outputs": [],
   "source": [
    "print(\"%s percent of businesses have reviews during the pandemic\" %round(reviews_per_biz_pan[reviews_per_biz_pan > 0].shape[0]/\n",
    "                                                                         reviews_per_biz.shape[0]*100))"
   ]
  },
  {
   "cell_type": "markdown",
   "id": "ac080e72",
   "metadata": {},
   "source": [
    "### Let's look at the usefulness of reviews. Specifically, let's look at:\n",
    "\n",
    "1. What percentage of reviews are useful?\n",
    "2. What is the distribution restaurants with useful reviews?\n",
    "3. Are some reviewers more useful than others?\n",
    "4. What is the overall distribution of useful scores?\n",
    "5. How does the distribution of useful scores relate to the overall distribution of reviews?\n"
   ]
  },
  {
   "cell_type": "code",
   "execution_count": null,
   "id": "e375ea9a",
   "metadata": {},
   "outputs": [],
   "source": [
    "print(\"%s percent of reviews are tagged as useful\" %round(reviews[reviews.useful > 0].shape[0]/reviews.shape[0]*100))"
   ]
  },
  {
   "cell_type": "code",
   "execution_count": null,
   "id": "b6b3e990",
   "metadata": {},
   "outputs": [],
   "source": [
    "reviews[\"review_is_useful\"] = reviews.useful > 0\n",
    "useful_reviews_per_biz = reviews.groupby(\"business_id\").agg({\"review_is_useful\": \"sum\", \"review_id\": \"count\"})\n",
    "useful_reviews_per_biz[\"percent_useful\"] = round(\n",
    "    useful_reviews_per_biz.review_is_useful/useful_reviews_per_biz.review_id*100)\n",
    "\n",
    "percent_biz_with_reviews = round(useful_reviews_per_biz[useful_reviews_per_biz.review_is_useful > 0].shape[0]/\n",
    "    reviews_per_biz.shape[0]*100)\n",
    "\n",
    "print(\"%s percent of business have at least one useful review\" %percent_biz_with_reviews)"
   ]
  },
  {
   "cell_type": "markdown",
   "id": "7180d937",
   "metadata": {},
   "source": [
    "Does the percent of useful reviews correlate with age of reviews?"
   ]
  },
  {
   "cell_type": "code",
   "execution_count": null,
   "id": "8275ba38",
   "metadata": {},
   "outputs": [],
   "source": [
    "first_review[\"first_review_year\"] = first_review.date.dt.year\n",
    "first_review['age'] = 2021 - first_review.first_review_year\n",
    "useful_age = first_review.merge(useful_reviews_per_biz,\n",
    "                               how='inner',\n",
    "                               left_index=True,\n",
    "                               right_index=True)\n",
    "\n",
    "useful_age_fig = px.box(useful_age, \n",
    "                            x = \"age\", \n",
    "                            y = \"percent_useful\", \n",
    "                            title = \"Percent of reviews that are useful X age\")\n",
    "\n",
    "useful_age_fig.show()"
   ]
  },
  {
   "cell_type": "code",
   "execution_count": null,
   "id": "7a71d744",
   "metadata": {},
   "outputs": [],
   "source": [
    "useful_age.age.corr(useful_age.percent_useful)"
   ]
  },
  {
   "cell_type": "code",
   "execution_count": null,
   "id": "56bfc3d4",
   "metadata": {},
   "outputs": [],
   "source": [
    "reviews.useful.sort_values().unique()"
   ]
  },
  {
   "cell_type": "markdown",
   "id": "8e179718",
   "metadata": {},
   "source": [
    "Is the \"usefulness\" of a review correlated with the star rating?"
   ]
  },
  {
   "cell_type": "code",
   "execution_count": null,
   "id": "42a5b4f8",
   "metadata": {},
   "outputs": [],
   "source": [
    "useful_review_stars = px.scatter(reviews, \n",
    "                                x = \"stars\",\n",
    "                                y = \"useful\")\n",
    "useful_review_stars.show()"
   ]
  },
  {
   "cell_type": "code",
   "execution_count": null,
   "id": "1715a70f",
   "metadata": {},
   "outputs": [],
   "source": [
    "reviews.stars.corr(reviews.useful)"
   ]
  },
  {
   "cell_type": "markdown",
   "id": "87e8f294",
   "metadata": {},
   "source": [
    "Let's look at a few of the most useful reviews:"
   ]
  },
  {
   "cell_type": "code",
   "execution_count": null,
   "id": "fb9539f9",
   "metadata": {},
   "outputs": [],
   "source": [
    "list(reviews[reviews.useful == 313].text)"
   ]
  },
  {
   "cell_type": "code",
   "execution_count": null,
   "id": "03ff6b83",
   "metadata": {},
   "outputs": [],
   "source": []
  }
 ],
 "metadata": {
  "kernelspec": {
   "display_name": "project_env",
   "language": "python",
   "name": "project_env"
  },
  "language_info": {
   "codemirror_mode": {
    "name": "ipython",
    "version": 3
   },
   "file_extension": ".py",
   "mimetype": "text/x-python",
   "name": "python",
   "nbconvert_exporter": "python",
   "pygments_lexer": "ipython3",
   "version": "3.8.9"
  }
 },
 "nbformat": 4,
 "nbformat_minor": 5
}
