{
 "cells": [
  {
   "cell_type": "code",
   "execution_count": null,
   "id": "4485ec60",
   "metadata": {},
   "outputs": [],
   "source": [
    "import pandas as pd\n",
    "import json\n",
    "from collections import Counter"
   ]
  },
  {
   "cell_type": "code",
   "execution_count": null,
   "id": "cf6abb78",
   "metadata": {},
   "outputs": [],
   "source": [
    "terms = pd.read_csv(\"processed_data/review_terms_for_model.csv\")\n",
    "reviews = pd.read_json(\"processed_data/yelp_team7_dataset_review.json\")\n",
    "with open(\"processed_data/review_all_tokens.json\") as f:\n",
    "    all_term_freqs = json.load(f)"
   ]
  },
  {
   "cell_type": "code",
   "execution_count": null,
   "id": "343b1eb4",
   "metadata": {},
   "outputs": [],
   "source": [
    "model_terms = set(terms.word)\n",
    "model_term_reviews = dict((k, all_term_freqs[k]) for k in model_terms)"
   ]
  },
  {
   "cell_type": "code",
   "execution_count": null,
   "id": "2ad35380",
   "metadata": {},
   "outputs": [],
   "source": [
    "counted = {}\n",
    "for t in model_terms:\n",
    "    counted[t] = Counter(model_term_reviews[t])"
   ]
  },
  {
   "cell_type": "code",
   "execution_count": null,
   "id": "6af40bc3",
   "metadata": {},
   "outputs": [],
   "source": [
    "df = pd.DataFrame(counted).fillna(0)\n",
    "df = df.reset_index()\n",
    "df.rename(columns={\"index\":\"review_id\"}, inplace = True)"
   ]
  },
  {
   "cell_type": "code",
   "execution_count": null,
   "id": "b28fa713",
   "metadata": {},
   "outputs": [],
   "source": [
    "biz = reviews[[\"business_id\", \"review_id\"]]\n",
    "biz_terms = biz.merge(df, how = \"left\", on = \"review_id\")"
   ]
  },
  {
   "cell_type": "code",
   "execution_count": null,
   "id": "161217cc",
   "metadata": {},
   "outputs": [],
   "source": [
    "export = biz_terms.groupby(\"business_id\").sum()"
   ]
  },
  {
   "cell_type": "code",
   "execution_count": null,
   "id": "d92d02ec",
   "metadata": {},
   "outputs": [],
   "source": [
    "### let check a couple\n",
    "\n",
    "biz_terms.loc[biz_terms.business_id == \"zzin1d1oHi81GuI0ufo1VA\", [\"perfect\"]].sum()"
   ]
  },
  {
   "cell_type": "code",
   "execution_count": null,
   "id": "de49e8a3",
   "metadata": {},
   "outputs": [],
   "source": [
    "export.to_csv(\"processed_data/term_matrix.csv\", index = True)"
   ]
  },
  {
   "cell_type": "code",
   "execution_count": null,
   "id": "887ff7fb",
   "metadata": {},
   "outputs": [],
   "source": [
    "import numpy as np\n",
    "def check_reviews(term):\n",
    "    ids = all_term_freqs[term]\n",
    "    sample_id = ids[np.random.randint(0, len(ids), 1)[0]]\n",
    "    print(reviews.loc[reviews.review_id == sample_id, ['text']].values)\n",
    "    \n",
    "## test \n",
    "check_reviews(\"stop\")"
   ]
  },
  {
   "cell_type": "code",
   "execution_count": null,
   "id": "30c22426",
   "metadata": {},
   "outputs": [],
   "source": []
  },
  {
   "cell_type": "code",
   "execution_count": null,
   "id": "4428a949",
   "metadata": {},
   "outputs": [],
   "source": []
  }
 ],
 "metadata": {
  "kernelspec": {
   "display_name": "project_env",
   "language": "python",
   "name": "project_env"
  },
  "language_info": {
   "codemirror_mode": {
    "name": "ipython",
    "version": 3
   },
   "file_extension": ".py",
   "mimetype": "text/x-python",
   "name": "python",
   "nbconvert_exporter": "python",
   "pygments_lexer": "ipython3",
   "version": "3.8.9"
  }
 },
 "nbformat": 4,
 "nbformat_minor": 5
}
