{
 "cells": [
  {
   "cell_type": "markdown",
   "metadata": {},
   "source": [
    "# About\n",
    "This notebook is to create a data frame containing `business_id`'s of restaurants which Team 7 would analyze. These are restaurants in top 5 cities in Yelp business dataset that have highest number of restaurants, and they existed prior to the pandemic. "
   ]
  },
  {
   "cell_type": "code",
   "execution_count": 1,
   "metadata": {},
   "outputs": [
    {
     "name": "stderr",
     "output_type": "stream",
     "text": [
      "/opt/anaconda3/envs/ds4aw-env/lib/python3.7/site-packages/fuzzywuzzy/fuzz.py:11: UserWarning: Using slow pure-python SequenceMatcher. Install python-Levenshtein to remove this warning\n",
      "  warnings.warn('Using slow pure-python SequenceMatcher. Install python-Levenshtein to remove this warning')\n"
     ]
    }
   ],
   "source": [
    "import json\n",
    "import pandas as pd\n",
    "import preprocess"
   ]
  },
  {
   "cell_type": "markdown",
   "metadata": {},
   "source": [
    "# 1. Get the restaurants' business_ids"
   ]
  },
  {
   "cell_type": "markdown",
   "metadata": {},
   "source": [
    "## Load Yelp business dataset"
   ]
  },
  {
   "cell_type": "code",
   "execution_count": 2,
   "metadata": {},
   "outputs": [],
   "source": [
    "data_file = open(\"yelp_academic_dataset_business.json\")\n",
    "data = []\n",
    "for line in data_file:\n",
    "    data.append(json.loads(line))\n",
    "business_df = pd.DataFrame(data)\n",
    "data_file.close()"
   ]
  },
  {
   "cell_type": "markdown",
   "metadata": {},
   "source": [
    "## Subset to restaurants in top 5 cities"
   ]
  },
  {
   "cell_type": "code",
   "execution_count": 4,
   "metadata": {},
   "outputs": [],
   "source": [
    "# subset the business dataset to obtain only restaurants located in the U.S.\n",
    "restaurants_us = preprocess.get_restaurants_usa(business_df, 'categories_agg_211011.csv')"
   ]
  },
  {
   "cell_type": "code",
   "execution_count": 5,
   "metadata": {},
   "outputs": [
    {
     "data": {
      "text/plain": [
       "(32318, 14)"
      ]
     },
     "execution_count": 5,
     "metadata": {},
     "output_type": "execute_result"
    }
   ],
   "source": [
    "restaurants_us.shape"
   ]
  },
  {
   "cell_type": "code",
   "execution_count": 6,
   "metadata": {},
   "outputs": [
    {
     "data": {
      "text/plain": [
       "['PORTLAND', 'ATLANTA', 'AUSTIN', 'ORLANDO', 'BOSTON']"
      ]
     },
     "execution_count": 6,
     "metadata": {},
     "output_type": "execute_result"
    }
   ],
   "source": [
    "# get the top 5 cities that has the most restaurants\n",
    "top5 = preprocess.get_top_cities(restaurants_us)\n",
    "top5"
   ]
  },
  {
   "cell_type": "code",
   "execution_count": 11,
   "metadata": {},
   "outputs": [],
   "source": [
    "# identify keywords\n",
    "include_city1 = restaurants_us['city'].str.contains('PORTLAND', na = False)\n",
    "include_city2 = restaurants_us['city'].str.contains('AUSTIN', na = False)\n",
    "include_city3 = restaurants_us['city'].str.contains('ATLANTA', na = False)\n",
    "include_city4 = restaurants_us['city'].str.contains('ORLANDO', na = False)\n",
    "include_city5 = restaurants_us['city'].str.contains('BOSTON', na = False)"
   ]
  },
  {
   "cell_type": "code",
   "execution_count": 12,
   "metadata": {},
   "outputs": [],
   "source": [
    "restaurants_us['city'] = restaurants_us['city'].str.upper()"
   ]
  },
  {
   "cell_type": "code",
   "execution_count": 13,
   "metadata": {},
   "outputs": [],
   "source": [
    "# subset restaurants in top 5 cities\n",
    "restaurants_top5_raw = restaurants_us[include_city1 | include_city2 | include_city3 | include_city4 | include_city5]"
   ]
  },
  {
   "cell_type": "code",
   "execution_count": 14,
   "metadata": {},
   "outputs": [
    {
     "data": {
      "text/plain": [
       "(15478, 14)"
      ]
     },
     "execution_count": 14,
     "metadata": {},
     "output_type": "execute_result"
    }
   ],
   "source": [
    "restaurants_top5_raw.shape"
   ]
  },
  {
   "cell_type": "code",
   "execution_count": 15,
   "metadata": {},
   "outputs": [],
   "source": [
    "# get rid of misidentified restaurants due to city name similarity\n",
    "# these restaurants are located in cities with names similar to the top 5 cities but they are in different states\n",
    "restaurants_top5 = preprocess.clean_states(restaurants_top5_raw)"
   ]
  },
  {
   "cell_type": "code",
   "execution_count": 16,
   "metadata": {},
   "outputs": [
    {
     "data": {
      "text/plain": [
       "(15476, 14)"
      ]
     },
     "execution_count": 16,
     "metadata": {},
     "output_type": "execute_result"
    }
   ],
   "source": [
    "restaurants_top5.shape"
   ]
  },
  {
   "cell_type": "code",
   "execution_count": 17,
   "metadata": {},
   "outputs": [],
   "source": [
    "# get these restaurants' business_ids\n",
    "ids_restaurants_top5 = restaurants_top5[['business_id']]"
   ]
  },
  {
   "cell_type": "markdown",
   "metadata": {},
   "source": [
    "# 2. Get reviews' business_ids"
   ]
  },
  {
   "cell_type": "markdown",
   "metadata": {},
   "source": [
    "## Load Yelp review dataset"
   ]
  },
  {
   "cell_type": "code",
   "execution_count": 19,
   "metadata": {},
   "outputs": [],
   "source": [
    "data_file = open(\"yelp_academic_dataset_review.json\")\n",
    "data = []\n",
    "for line in data_file:\n",
    "    data.append(json.loads(line))\n",
    "review_df = pd.DataFrame(data)\n",
    "data_file.close()"
   ]
  },
  {
   "cell_type": "markdown",
   "metadata": {},
   "source": [
    "## Subset review dataset"
   ]
  },
  {
   "cell_type": "code",
   "execution_count": 20,
   "metadata": {},
   "outputs": [],
   "source": [
    "# get business_ids of reviews posted pre pandemic\n",
    "ids_reviews_pre_covid = preprocess.get_ids_reviews_pre_covid(review_df)"
   ]
  },
  {
   "cell_type": "code",
   "execution_count": 21,
   "metadata": {},
   "outputs": [
    {
     "data": {
      "text/plain": [
       "(158582, 1)"
      ]
     },
     "execution_count": 21,
     "metadata": {},
     "output_type": "execute_result"
    }
   ],
   "source": [
    "ids_reviews_pre_covid.shape"
   ]
  },
  {
   "cell_type": "markdown",
   "metadata": {},
   "source": [
    "# 3. Inner join restaurants' and reviews' business_ids"
   ]
  },
  {
   "cell_type": "code",
   "execution_count": 22,
   "metadata": {},
   "outputs": [
    {
     "data": {
      "text/html": [
       "<div>\n",
       "<style scoped>\n",
       "    .dataframe tbody tr th:only-of-type {\n",
       "        vertical-align: middle;\n",
       "    }\n",
       "\n",
       "    .dataframe tbody tr th {\n",
       "        vertical-align: top;\n",
       "    }\n",
       "\n",
       "    .dataframe thead th {\n",
       "        text-align: right;\n",
       "    }\n",
       "</style>\n",
       "<table border=\"1\" class=\"dataframe\">\n",
       "  <thead>\n",
       "    <tr style=\"text-align: right;\">\n",
       "      <th></th>\n",
       "      <th>business_id</th>\n",
       "    </tr>\n",
       "  </thead>\n",
       "  <tbody>\n",
       "    <tr>\n",
       "      <th>0</th>\n",
       "      <td>tCbdrRPZA0oiIYSmHG3J0w</td>\n",
       "    </tr>\n",
       "    <tr>\n",
       "      <th>1</th>\n",
       "      <td>ufCxltuh56FF4-ZFZ6cVhg</td>\n",
       "    </tr>\n",
       "    <tr>\n",
       "      <th>2</th>\n",
       "      <td>jGennaZUr2MsJyRhijNBfA</td>\n",
       "    </tr>\n",
       "    <tr>\n",
       "      <th>3</th>\n",
       "      <td>iPD8BBvea6YldQZPHzVrSQ</td>\n",
       "    </tr>\n",
       "    <tr>\n",
       "      <th>4</th>\n",
       "      <td>jx91IMdGOmLOo8h_F9z39g</td>\n",
       "    </tr>\n",
       "    <tr>\n",
       "      <th>...</th>\n",
       "      <td>...</td>\n",
       "    </tr>\n",
       "    <tr>\n",
       "      <th>14965</th>\n",
       "      <td>m5eUPVD0Hu39Ff-Uqe-FLA</td>\n",
       "    </tr>\n",
       "    <tr>\n",
       "      <th>14966</th>\n",
       "      <td>87f7kR7nTz8WHnmtLM_S6w</td>\n",
       "    </tr>\n",
       "    <tr>\n",
       "      <th>14967</th>\n",
       "      <td>jYgqSazE0gUyI7qq086Dzw</td>\n",
       "    </tr>\n",
       "    <tr>\n",
       "      <th>14968</th>\n",
       "      <td>r5Uag1JqYjr2nbxQCVqm8A</td>\n",
       "    </tr>\n",
       "    <tr>\n",
       "      <th>14969</th>\n",
       "      <td>uXdQkuEtvLAzfc3MsO-sTQ</td>\n",
       "    </tr>\n",
       "  </tbody>\n",
       "</table>\n",
       "<p>14970 rows × 1 columns</p>\n",
       "</div>"
      ],
      "text/plain": [
       "                  business_id\n",
       "0      tCbdrRPZA0oiIYSmHG3J0w\n",
       "1      ufCxltuh56FF4-ZFZ6cVhg\n",
       "2      jGennaZUr2MsJyRhijNBfA\n",
       "3      iPD8BBvea6YldQZPHzVrSQ\n",
       "4      jx91IMdGOmLOo8h_F9z39g\n",
       "...                       ...\n",
       "14965  m5eUPVD0Hu39Ff-Uqe-FLA\n",
       "14966  87f7kR7nTz8WHnmtLM_S6w\n",
       "14967  jYgqSazE0gUyI7qq086Dzw\n",
       "14968  r5Uag1JqYjr2nbxQCVqm8A\n",
       "14969  uXdQkuEtvLAzfc3MsO-sTQ\n",
       "\n",
       "[14970 rows x 1 columns]"
      ]
     },
     "execution_count": 22,
     "metadata": {},
     "output_type": "execute_result"
    }
   ],
   "source": [
    "ids_restaurants_top5cities_pre_pandemic = ids_restaurants_top5.merge(ids_reviews_pre_covid, on = 'business_id')\n",
    "ids_restaurants_top5cities_pre_pandemic"
   ]
  },
  {
   "cell_type": "code",
   "execution_count": 23,
   "metadata": {},
   "outputs": [
    {
     "data": {
      "text/plain": [
       "(14970, 1)"
      ]
     },
     "execution_count": 23,
     "metadata": {},
     "output_type": "execute_result"
    }
   ],
   "source": [
    "ids_restaurants_top5cities_pre_pandemic.shape"
   ]
  },
  {
   "cell_type": "code",
   "execution_count": 26,
   "metadata": {},
   "outputs": [],
   "source": [
    "# export business_id of this restaurants\n",
    "ids_restaurants_top5cities_pre_pandemic.to_csv(r'ids_restaurants_top5cities_pre_pandemic.csv',index = False)"
   ]
  }
 ],
 "metadata": {
  "kernelspec": {
   "display_name": "ds4aw-env",
   "language": "python",
   "name": "ds4aw-env"
  },
  "language_info": {
   "codemirror_mode": {
    "name": "ipython",
    "version": 3
   },
   "file_extension": ".py",
   "mimetype": "text/x-python",
   "name": "python",
   "nbconvert_exporter": "python",
   "pygments_lexer": "ipython3",
   "version": "3.7.11"
  }
 },
 "nbformat": 4,
 "nbformat_minor": 4
}
