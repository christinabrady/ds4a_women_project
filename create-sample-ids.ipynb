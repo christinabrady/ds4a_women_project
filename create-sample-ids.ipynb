{
 "cells": [
  {
   "cell_type": "markdown",
   "metadata": {},
   "source": [
    "# About\n",
    "This notebook is to create a data frame containing `business_id`'s of restaurants which Team 7 would analyze. These are restaurants in top 5 cities in Yelp business dataset that have highest number of restaurants, and they existed prior to the pandemic. "
   ]
  },
  {
   "cell_type": "code",
   "execution_count": 1,
   "metadata": {},
   "outputs": [],
   "source": [
    "import json\n",
    "import pandas as pd\n",
    "import preprocess"
   ]
  },
  {
   "cell_type": "markdown",
   "metadata": {},
   "source": [
    "# 1. Get the restaurants' business_ids"
   ]
  },
  {
   "cell_type": "markdown",
   "metadata": {},
   "source": [
    "## Load Yelp business dataset"
   ]
  },
  {
   "cell_type": "code",
   "execution_count": 2,
   "metadata": {},
   "outputs": [],
   "source": [
    "data_file = open(\"yelp_academic_dataset_business.json\")\n",
    "data = []\n",
    "for line in data_file:\n",
    "    data.append(json.loads(line))\n",
    "business_df = pd.DataFrame(data)\n",
    "data_file.close()"
   ]
  },
  {
   "cell_type": "markdown",
   "metadata": {},
   "source": [
    "## Subset to restaurants in top 5 cities"
   ]
  },
  {
   "cell_type": "code",
   "execution_count": 3,
   "metadata": {},
   "outputs": [],
   "source": [
    "# subset the business dataset to obtain only restaurants located in the U.S.\n",
    "restaurants_us = preprocess.get_restaurants_usa(business_df)"
   ]
  },
  {
   "cell_type": "code",
   "execution_count": 4,
   "metadata": {},
   "outputs": [
    {
     "data": {
      "text/plain": [
       "(42917, 14)"
      ]
     },
     "execution_count": 4,
     "metadata": {},
     "output_type": "execute_result"
    }
   ],
   "source": [
    "restaurants_us.shape"
   ]
  },
  {
   "cell_type": "code",
   "execution_count": 5,
   "metadata": {},
   "outputs": [
    {
     "data": {
      "text/plain": [
       "['PORTLAND', 'AUSTIN', 'ATLANTA', 'ORLANDO', 'BOSTON']"
      ]
     },
     "execution_count": 5,
     "metadata": {},
     "output_type": "execute_result"
    }
   ],
   "source": [
    "# get the top 5 cities that has the most restaurants\n",
    "top5 = preprocess.get_top_cities(restaurants_us)\n",
    "top5"
   ]
  },
  {
   "cell_type": "code",
   "execution_count": 10,
   "metadata": {},
   "outputs": [],
   "source": [
    "# identify keywords\n",
    "include_city1 = restaurants_us['city'].str.contains('PORTLAND', na = False)\n",
    "include_city2 = restaurants_us['city'].str.contains('AUSTIN', na = False)\n",
    "include_city3 = restaurants_us['city'].str.contains('ATLANTA', na = False)\n",
    "include_city4 = restaurants_us['city'].str.contains('ORLANDO', na = False)\n",
    "include_city5 = restaurants_us['city'].str.contains('BOSTON', na = False)"
   ]
  },
  {
   "cell_type": "code",
   "execution_count": 11,
   "metadata": {},
   "outputs": [],
   "source": [
    "restaurants_us['city'] = restaurants_us['city'].str.upper()"
   ]
  },
  {
   "cell_type": "code",
   "execution_count": 12,
   "metadata": {},
   "outputs": [],
   "source": [
    "# subset restaurants in top 5 cities\n",
    "restaurants_top5 = restaurants_us[include_city1 | include_city2 | include_city3 | include_city4 | include_city5]"
   ]
  },
  {
   "cell_type": "code",
   "execution_count": 13,
   "metadata": {},
   "outputs": [
    {
     "data": {
      "text/plain": [
       "(21353, 14)"
      ]
     },
     "execution_count": 13,
     "metadata": {},
     "output_type": "execute_result"
    }
   ],
   "source": [
    "restaurants_top5.shape"
   ]
  },
  {
   "cell_type": "code",
   "execution_count": 14,
   "metadata": {},
   "outputs": [
    {
     "data": {
      "text/plain": [
       "PORTLAND                     5691\n",
       "AUSTIN                       4934\n",
       "ATLANTA                      4158\n",
       "ORLANDO                      3701\n",
       "BOSTON                       2801\n",
       "EAST BOSTON                    40\n",
       "SOUTH BOSTON                   19\n",
       "SOUTHEAST ORLANDO               1\n",
       "PORTLAND-EASTPORT PLAZA         1\n",
       "NORTHEAST ORLANDO               1\n",
       "ALTAMONTE SPRINGS ORLANDO       1\n",
       "AUSTIN TEXAS                    1\n",
       "S BOSTON                        1\n",
       "PORTLAND-GATEWAY PLAZA          1\n",
       "ATLANTA  (BKHD)                 1\n",
       "BOSTON-FENWAY                   1\n",
       "Name: city, dtype: int64"
      ]
     },
     "execution_count": 14,
     "metadata": {},
     "output_type": "execute_result"
    }
   ],
   "source": [
    "restaurants_top5['city'].value_counts() #sanity check"
   ]
  },
  {
   "cell_type": "markdown",
   "metadata": {},
   "source": [
    "### ------ begin insertion ---------------------"
   ]
  },
  {
   "cell_type": "markdown",
   "metadata": {},
   "source": [
    "### ------ end of insertion ---------------------"
   ]
  },
  {
   "cell_type": "code",
   "execution_count": 15,
   "metadata": {},
   "outputs": [],
   "source": [
    "# get these restaurants' business_ids\n",
    "ids_restaurants_top5 = restaurants_top5[['business_id']]"
   ]
  },
  {
   "cell_type": "markdown",
   "metadata": {},
   "source": [
    "# 2. Get reviews' business_ids"
   ]
  },
  {
   "cell_type": "markdown",
   "metadata": {},
   "source": [
    "## Load Yelp review dataset"
   ]
  },
  {
   "cell_type": "code",
   "execution_count": 16,
   "metadata": {},
   "outputs": [],
   "source": [
    "data_file = open(\"yelp_academic_dataset_review.json\")\n",
    "data = []\n",
    "for line in data_file:\n",
    "    data.append(json.loads(line))\n",
    "review_df = pd.DataFrame(data)\n",
    "data_file.close()"
   ]
  },
  {
   "cell_type": "markdown",
   "metadata": {},
   "source": [
    "## Subset review dataset"
   ]
  },
  {
   "cell_type": "code",
   "execution_count": 17,
   "metadata": {},
   "outputs": [],
   "source": [
    "# get business_ids of reviews posted pre pandemic\n",
    "ids_reviews_pre_covid = preprocess.get_ids_reviews_pre_covid(review_df)"
   ]
  },
  {
   "cell_type": "code",
   "execution_count": 18,
   "metadata": {},
   "outputs": [
    {
     "data": {
      "text/plain": [
       "(158582, 1)"
      ]
     },
     "execution_count": 18,
     "metadata": {},
     "output_type": "execute_result"
    }
   ],
   "source": [
    "ids_reviews_pre_covid.shape"
   ]
  },
  {
   "cell_type": "markdown",
   "metadata": {},
   "source": [
    "# 3. Inner join restaurants' and reviews' business_ids"
   ]
  },
  {
   "cell_type": "code",
   "execution_count": 21,
   "metadata": {},
   "outputs": [
    {
     "data": {
      "text/html": [
       "<div>\n",
       "<style scoped>\n",
       "    .dataframe tbody tr th:only-of-type {\n",
       "        vertical-align: middle;\n",
       "    }\n",
       "\n",
       "    .dataframe tbody tr th {\n",
       "        vertical-align: top;\n",
       "    }\n",
       "\n",
       "    .dataframe thead th {\n",
       "        text-align: right;\n",
       "    }\n",
       "</style>\n",
       "<table border=\"1\" class=\"dataframe\">\n",
       "  <thead>\n",
       "    <tr style=\"text-align: right;\">\n",
       "      <th></th>\n",
       "      <th>business_id</th>\n",
       "    </tr>\n",
       "  </thead>\n",
       "  <tbody>\n",
       "    <tr>\n",
       "      <th>0</th>\n",
       "      <td>tCbdrRPZA0oiIYSmHG3J0w</td>\n",
       "    </tr>\n",
       "    <tr>\n",
       "      <th>1</th>\n",
       "      <td>ufCxltuh56FF4-ZFZ6cVhg</td>\n",
       "    </tr>\n",
       "    <tr>\n",
       "      <th>2</th>\n",
       "      <td>hcRxdDg7DYryCxCoI8ySQA</td>\n",
       "    </tr>\n",
       "    <tr>\n",
       "      <th>3</th>\n",
       "      <td>jGennaZUr2MsJyRhijNBfA</td>\n",
       "    </tr>\n",
       "    <tr>\n",
       "      <th>4</th>\n",
       "      <td>iPD8BBvea6YldQZPHzVrSQ</td>\n",
       "    </tr>\n",
       "    <tr>\n",
       "      <th>...</th>\n",
       "      <td>...</td>\n",
       "    </tr>\n",
       "    <tr>\n",
       "      <th>20688</th>\n",
       "      <td>m5eUPVD0Hu39Ff-Uqe-FLA</td>\n",
       "    </tr>\n",
       "    <tr>\n",
       "      <th>20689</th>\n",
       "      <td>87f7kR7nTz8WHnmtLM_S6w</td>\n",
       "    </tr>\n",
       "    <tr>\n",
       "      <th>20690</th>\n",
       "      <td>jYgqSazE0gUyI7qq086Dzw</td>\n",
       "    </tr>\n",
       "    <tr>\n",
       "      <th>20691</th>\n",
       "      <td>r5Uag1JqYjr2nbxQCVqm8A</td>\n",
       "    </tr>\n",
       "    <tr>\n",
       "      <th>20692</th>\n",
       "      <td>uXdQkuEtvLAzfc3MsO-sTQ</td>\n",
       "    </tr>\n",
       "  </tbody>\n",
       "</table>\n",
       "<p>20693 rows × 1 columns</p>\n",
       "</div>"
      ],
      "text/plain": [
       "                  business_id\n",
       "0      tCbdrRPZA0oiIYSmHG3J0w\n",
       "1      ufCxltuh56FF4-ZFZ6cVhg\n",
       "2      hcRxdDg7DYryCxCoI8ySQA\n",
       "3      jGennaZUr2MsJyRhijNBfA\n",
       "4      iPD8BBvea6YldQZPHzVrSQ\n",
       "...                       ...\n",
       "20688  m5eUPVD0Hu39Ff-Uqe-FLA\n",
       "20689  87f7kR7nTz8WHnmtLM_S6w\n",
       "20690  jYgqSazE0gUyI7qq086Dzw\n",
       "20691  r5Uag1JqYjr2nbxQCVqm8A\n",
       "20692  uXdQkuEtvLAzfc3MsO-sTQ\n",
       "\n",
       "[20693 rows x 1 columns]"
      ]
     },
     "execution_count": 21,
     "metadata": {},
     "output_type": "execute_result"
    }
   ],
   "source": [
    "ids_restaurants_top5cities_pre_pandemic = ids_restaurants_top5.merge(ids_reviews_pre_covid, on = 'business_id')\n",
    "ids_restaurants_top5cities_pre_pandemic"
   ]
  },
  {
   "cell_type": "code",
   "execution_count": 22,
   "metadata": {},
   "outputs": [
    {
     "data": {
      "text/plain": [
       "(20693, 1)"
      ]
     },
     "execution_count": 22,
     "metadata": {},
     "output_type": "execute_result"
    }
   ],
   "source": [
    "ids_restaurants_top5cities_pre_pandemic.shape"
   ]
  },
  {
   "cell_type": "code",
   "execution_count": 23,
   "metadata": {},
   "outputs": [],
   "source": [
    "# export business_id of this restaurants\n",
    "ids_restaurants_top5cities_pre_pandemic.to_csv(r'ids_restaurants_top5cities_pre_pandemic.csv',index = False)"
   ]
  }
 ],
 "metadata": {
  "kernelspec": {
   "display_name": "Python 3",
   "language": "python",
   "name": "python3"
  },
  "language_info": {
   "codemirror_mode": {
    "name": "ipython",
    "version": 3
   },
   "file_extension": ".py",
   "mimetype": "text/x-python",
   "name": "python",
   "nbconvert_exporter": "python",
   "pygments_lexer": "ipython3",
   "version": "3.7.6"
  }
 },
 "nbformat": 4,
 "nbformat_minor": 4
}
