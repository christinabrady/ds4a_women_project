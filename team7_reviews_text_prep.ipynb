{
 "cells": [
  {
   "cell_type": "code",
   "execution_count": null,
   "id": "65971aff",
   "metadata": {},
   "outputs": [],
   "source": [
    "### run once to install nltk and download stopwords\n",
    "# !pip3 install nltk\n",
    "# import nltk\n",
    "# nltk.download('stopwords')\n",
    "# nltk.download('punkt')"
   ]
  },
  {
   "cell_type": "code",
   "execution_count": null,
   "id": "769acc2d",
   "metadata": {},
   "outputs": [],
   "source": [
    "import numpy as np\n",
    "import pandas as pd\n",
    "import datetime\n",
    "import re\n",
    "import json"
   ]
  },
  {
   "cell_type": "code",
   "execution_count": null,
   "id": "6f7ab697",
   "metadata": {},
   "outputs": [],
   "source": [
    "reviews = pd.read_json(\"processed_data/yelp_team7_dataset_review.json\")"
   ]
  },
  {
   "cell_type": "markdown",
   "id": "a1cdc82c",
   "metadata": {},
   "source": [
    "### Number of Characters per Review (includes punctuation)"
   ]
  },
  {
   "cell_type": "code",
   "execution_count": null,
   "id": "5fd16907",
   "metadata": {},
   "outputs": [],
   "source": [
    "review_chars = [len(list(x)) for x in reviews.text]"
   ]
  },
  {
   "cell_type": "code",
   "execution_count": null,
   "id": "d66c28ab",
   "metadata": {},
   "outputs": [],
   "source": [
    "review_chars_fig =px.histogram(review_chars,\n",
    "                          title = \"Number of characters in reviews\",\n",
    "                         labels = {'value': 'Number of characters'})\n",
    "review_chars_fig.show()"
   ]
  },
  {
   "cell_type": "code",
   "execution_count": null,
   "id": "a2201360",
   "metadata": {},
   "outputs": [],
   "source": [
    "reviews[\"text_char_len\"] = review_chars\n",
    "review_len_x_star_fig = px.box(reviews, \n",
    "                                  x = \"stars\", \n",
    "                                  y = \"text_char_len\", \n",
    "                                  title = \"Length of Review by Stars\")\n",
    "review_len_x_star_fig.show()"
   ]
  },
  {
   "cell_type": "markdown",
   "id": "797421a1",
   "metadata": {},
   "source": [
    "### Number of words per review"
   ]
  },
  {
   "cell_type": "code",
   "execution_count": null,
   "id": "1a68c8b9",
   "metadata": {},
   "outputs": [],
   "source": [
    "## pull review text into its own list to make the code easier to read\n",
    "review_text = reviews.text.tolist()\n",
    "## before taking out ALL punctuation, let's take out apostrophes and leave the contraction combined\n",
    "review_text = [re.sub(\"'\", \"\", review).strip() for review in review_text]\n",
    "review_text_no_punc = [re.sub(\"[^a-zA-Z]\", \" \", review).strip() for review in review_text]"
   ]
  },
  {
   "cell_type": "code",
   "execution_count": null,
   "id": "3ebb7622",
   "metadata": {},
   "outputs": [],
   "source": [
    "### Let's see if that worked\n",
    "review_text_no_punc[np.random.randint(0, len(review_text_no_punc))]"
   ]
  },
  {
   "cell_type": "code",
   "execution_count": null,
   "id": "8fd8adf5",
   "metadata": {},
   "outputs": [],
   "source": [
    "words_per_review = [len(text.split()) for text in review_text_no_punc]\n",
    "words_per_review_fig =px.histogram(words_per_review,\n",
    "                          title = \"Number of words in reviews\",\n",
    "                         labels = {'value': 'Number of characters'})\n",
    "words_per_review_fig.show()"
   ]
  },
  {
   "cell_type": "code",
   "execution_count": null,
   "id": "bc7c63dd",
   "metadata": {},
   "outputs": [],
   "source": [
    "### What are the most common words overall?\n",
    "# tokens = [word_tokenize(words) for words in review_text_no_punc]\n",
    "tokens = defaultdict(list)\n",
    "\n",
    "for i in range(len(review_text_no_punc)):\n",
    "    for word in review_text_no_punc[i].lower().split():\n",
    "        tokens[word].append(reviews.review_id[i])\n"
   ]
  },
  {
   "cell_type": "code",
   "execution_count": null,
   "id": "11e0761f",
   "metadata": {},
   "outputs": [],
   "source": [
    "### export my initial dictionary\n",
    "with open('processed_data/review_all_tokens.json', \"w\") as f:\n",
    "    json.dump(tokens, f)"
   ]
  },
  {
   "cell_type": "code",
   "execution_count": null,
   "id": "d1d7ec61",
   "metadata": {},
   "outputs": [],
   "source": [
    "tks = tokens.keys()\n",
    "freqs = []\n",
    "for key in tks:\n",
    "    freqs.append(len(tokens[key]))\n",
    "word_freqs = {\"word\":tks,\n",
    "             \"frequency\": freqs}\n",
    "word_freqs = pd.DataFrame(word_freqs)\n",
    "word_freqs.to_csv(\"processed_data/all_reviews_word_freqs.csv\", index = False)"
   ]
  },
  {
   "cell_type": "code",
   "execution_count": null,
   "id": "bbb68667",
   "metadata": {},
   "outputs": [],
   "source": [
    "word_freqs = word_freqs.sort_values(by = \"frequency\", ascending = False)\n",
    "word_freqs.head(50)"
   ]
  },
  {
   "cell_type": "code",
   "execution_count": null,
   "id": "ba6f5e01",
   "metadata": {},
   "outputs": [],
   "source": [
    "nums = [\"one\", \"two\", \"three\", \"four\", \"five\"]\n",
    "\n",
    "for i in range(5):\n",
    "    print(\"working on \" + str(i+1) + \" star reviews\")\n",
    "    review_ids = set(reviews[reviews.stars == i+1].review_id)\n",
    "    tmp_word_freqs = []\n",
    "    for key in tks:\n",
    "        union = review_ids & set(tokens[key])\n",
    "        tmp_word_freqs.append(len(union)) \n",
    "    ret = {\"word\":tks,\n",
    "             \"frequency\": tmp_word_freqs}\n",
    "    ret = pd.DataFrame(ret)\n",
    "    flname = \"processed_data/\" + nums[i] + \"_star_review_word_freqs.csv\"\n",
    "    ret.to_csv(flname, index = False)\n"
   ]
  },
  {
   "cell_type": "code",
   "execution_count": null,
   "id": "57086ca1",
   "metadata": {},
   "outputs": [],
   "source": [
    "## look at pandemic reviews separately?\n",
    "# pandemic_reviews = reviews[reviews.date >= datetime.datetime(2020, 2, 1)] \n",
    "# pandemic_reviews.shape"
   ]
  }
 ],
 "metadata": {
  "kernelspec": {
   "display_name": "project_env",
   "language": "python",
   "name": "project_env"
  },
  "language_info": {
   "codemirror_mode": {
    "name": "ipython",
    "version": 3
   },
   "file_extension": ".py",
   "mimetype": "text/x-python",
   "name": "python",
   "nbconvert_exporter": "python",
   "pygments_lexer": "ipython3",
   "version": "3.8.9"
  }
 },
 "nbformat": 4,
 "nbformat_minor": 5
}
