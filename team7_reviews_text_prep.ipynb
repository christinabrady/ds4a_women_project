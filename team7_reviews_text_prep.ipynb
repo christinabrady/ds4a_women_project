{
 "cells": [
  {
   "cell_type": "code",
   "execution_count": null,
   "id": "65971aff",
   "metadata": {},
   "outputs": [],
   "source": [
    "### run once to install nltk and download stopwords\n",
    "# !pip3 install nltk\n",
    "# import nltk\n",
    "# nltk.download('stopwords')"
   ]
  },
  {
   "cell_type": "code",
   "execution_count": null,
   "id": "769acc2d",
   "metadata": {},
   "outputs": [],
   "source": [
    "# import numpy as np\n",
    "from nltk.corpus import stopwords\n",
    "from nltk.tokenize import word_tokenize\n",
    "from nltk.util import ngrams, bigrams, trigrams\n",
    "\n",
    "review_text_no_punc[np.random.randint(0, len(review_text_no_punc))]\n",
    "stop_words = set(stopwords.words('english'))\n"
   ]
  },
  {
   "cell_type": "code",
   "execution_count": null,
   "id": "6f7ab697",
   "metadata": {},
   "outputs": [],
   "source": [
    "stop_words"
   ]
  },
  {
   "cell_type": "code",
   "execution_count": null,
   "id": "62fbab6d",
   "metadata": {},
   "outputs": [],
   "source": [
    "reviews = pd.read_json(\"processed_data/yelp_team7_dataset_review.json\")\n",
    "pandemic_reviews = reviews[reviews.date >= datetime.datetime(2020, 2, 1)] "
   ]
  },
  {
   "cell_type": "markdown",
   "id": "a1cdc82c",
   "metadata": {},
   "source": [
    "### Number of Characters per Review (includes punctuation)"
   ]
  },
  {
   "cell_type": "code",
   "execution_count": null,
   "id": "5fd16907",
   "metadata": {},
   "outputs": [],
   "source": [
    "review_chars = [len(list(x)) for x in reviews.text]"
   ]
  },
  {
   "cell_type": "code",
   "execution_count": null,
   "id": "d66c28ab",
   "metadata": {},
   "outputs": [],
   "source": [
    "review_chars_fig =px.histogram(review_chars,\n",
    "                          title = \"Number of characters in reviews\",\n",
    "                         labels = {'value': 'Number of characters'})\n",
    "review_chars_fig.show()"
   ]
  },
  {
   "cell_type": "code",
   "execution_count": null,
   "id": "a2201360",
   "metadata": {},
   "outputs": [],
   "source": [
    "reviews[\"text_char_len\"] = review_chars\n",
    "review_len_x_star_fig = px.box(reviews, \n",
    "                                  x = \"stars\", \n",
    "                                  y = \"text_char_len\", \n",
    "                                  title = \"Length of Review by Stars\")\n",
    "review_len_x_star_fig.show()"
   ]
  },
  {
   "cell_type": "markdown",
   "id": "797421a1",
   "metadata": {},
   "source": [
    "### Number of words per review"
   ]
  },
  {
   "cell_type": "code",
   "execution_count": null,
   "id": "1a68c8b9",
   "metadata": {},
   "outputs": [],
   "source": [
    "## pull review text into its own list to make the code easier to read\n",
    "review_text = reviews.text.tolist()\n",
    "## before taking out ALL punctuation, let's take out apostrophes and leave the contraction combined\n",
    "review_text = [re.sub(\"'\", \"\", review).strip() for review in review_text]\n",
    "review_text_no_punc = [re.sub(\"[^a-zA-Z]\", \" \", review).strip() for review in review_text]"
   ]
  },
  {
   "cell_type": "code",
   "execution_count": null,
   "id": "8fd8adf5",
   "metadata": {},
   "outputs": [],
   "source": [
    "words_per_review = [len(text.split()) for text in review_text_no_punc]\n",
    "words_per_review_fig =px.histogram(words_per_review,\n",
    "                          title = \"Number of words in reviews\",\n",
    "                         labels = {'value': 'Number of characters'})\n",
    "words_per_review_fig.show()"
   ]
  },
  {
   "cell_type": "code",
   "execution_count": null,
   "id": "bc7c63dd",
   "metadata": {},
   "outputs": [],
   "source": []
  },
  {
   "cell_type": "markdown",
   "id": "40c9b7de",
   "metadata": {},
   "source": [
    "We want to keep negatives as they probably have meaning for us."
   ]
  },
  {
   "cell_type": "code",
   "execution_count": null,
   "id": "a330d4f3",
   "metadata": {},
   "outputs": [],
   "source": [
    "reviews.text.to_csv(\"processed_data/review_text.csv\")"
   ]
  },
  {
   "cell_type": "code",
   "execution_count": null,
   "id": "5c8235e1",
   "metadata": {},
   "outputs": [],
   "source": []
  }
 ],
 "metadata": {
  "kernelspec": {
   "display_name": "project_env",
   "language": "python",
   "name": "project_env"
  },
  "language_info": {
   "codemirror_mode": {
    "name": "ipython",
    "version": 3
   },
   "file_extension": ".py",
   "mimetype": "text/x-python",
   "name": "python",
   "nbconvert_exporter": "python",
   "pygments_lexer": "ipython3",
   "version": "3.8.9"
  }
 },
 "nbformat": 4,
 "nbformat_minor": 5
}
