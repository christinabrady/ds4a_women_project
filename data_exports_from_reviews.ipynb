{
 "cells": [
  {
   "cell_type": "markdown",
   "id": "ccc0fb82",
   "metadata": {},
   "source": [
    "This code will be used to make the following data exports. The exports will be uploaded to the Google Drive to be used by others/combined into the set of features:\n",
    "\n",
    "1. For each business:\n",
    "    a. Proportion of 1 and 2 star reviews pre-pandemic\n",
    "    b. Proportion of 1 and 2 star reviews throughout the pandemic\n",
    "    c. Proportion of 4 and 5 star reviews pre_pandemic\n",
    "    d. Proportion of 4 and 5 star reviews throughout the pandmic\n",
    "    \n",
    "2. Tokenized reviews "
   ]
  },
  {
   "cell_type": "code",
   "execution_count": null,
   "id": "63f13f1c",
   "metadata": {},
   "outputs": [],
   "source": [
    "import json\n",
    "import pandas as pd\n",
    "import datetime\n",
    "import re"
   ]
  },
  {
   "cell_type": "code",
   "execution_count": null,
   "id": "1ecc363f",
   "metadata": {},
   "outputs": [],
   "source": [
    "## export start ratings data\n",
    "reviews = pd.read_json(\"processed_data/yelp_team7_dataset_review.json\") "
   ]
  }
 ],
 "metadata": {
  "kernelspec": {
   "display_name": "project_env",
   "language": "python",
   "name": "project_env"
  },
  "language_info": {
   "codemirror_mode": {
    "name": "ipython",
    "version": 3
   },
   "file_extension": ".py",
   "mimetype": "text/x-python",
   "name": "python",
   "nbconvert_exporter": "python",
   "pygments_lexer": "ipython3",
   "version": "3.8.9"
  }
 },
 "nbformat": 4,
 "nbformat_minor": 5
}
