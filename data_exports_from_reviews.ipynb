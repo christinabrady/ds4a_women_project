{
 "cells": [
  {
   "cell_type": "markdown",
   "id": "4f22f4a8",
   "metadata": {},
   "source": [
    "This code will be used to make the following data exports. The exports will be uploaded to the Google Drive to be used by others/combined into the set of features:\n",
    "\n",
    "1. For each business:\n",
    "    a. Proportion of 1 and 2 star reviews pre-pandemic\n",
    "    b. Proportion of 1 and 2 star reviews throughout the pandemic\n",
    "    c. Proportion of 4 and 5 star reviews pre_pandemic\n",
    "    d. Proportion of 4 and 5 star reviews throughout the pandmic\n",
    "    \n",
    "2. Tokenized reviews "
   ]
  },
  {
   "cell_type": "code",
   "execution_count": null,
   "id": "671d6691",
   "metadata": {},
   "outputs": [],
   "source": [
    "import json\n",
    "import pandas as pd\n",
    "import datetime\n",
    "import re\n",
    "from functools import reduce"
   ]
  },
  {
   "cell_type": "markdown",
   "id": "f6d18a20",
   "metadata": {},
   "source": [
    "## Calculate and export proportion of star ratings"
   ]
  },
  {
   "cell_type": "code",
   "execution_count": null,
   "id": "ecbdc350",
   "metadata": {},
   "outputs": [],
   "source": [
    "## export start ratings data\n",
    "def calculate_proportions(dat, include_stars):\n",
    "    '''\n",
    "    For each business, this function will calculate the proportion\n",
    "    of reviews that gave certain star ratings. The arguments should be\n",
    "    1. a data frame containing the data to work with and \n",
    "    2. a list of star ratings to be included in the proportion\n",
    "    '''\n",
    "    totals = dat.groupby(\"business_id\").count().reset_index()\n",
    "    star_totals = dat[dat.stars.isin(include_stars)].groupby([\"business_id\"]).count().reset_index()                    \n",
    "    props = star_totals.merge(totals, left_on=\"business_id\", right_on = \"business_id\")\n",
    "    props[\"proportion\"] = props.review_id_x/props.review_id_y\n",
    "    ret = props[[\"business_id\", \"review_id_x\", \"review_id_y\", \"proportion\"]]\n",
    "    ret.columns = [\"business_id\", \"nratings\", \"total_reviews\", \"proportion\"]\n",
    "    return(ret)\n",
    "\n"
   ]
  },
  {
   "cell_type": "code",
   "execution_count": null,
   "id": "10deb9f6",
   "metadata": {},
   "outputs": [],
   "source": [
    "reviews = pd.read_json(\"processed_data/yelp_team7_dataset_review.json\")\n",
    "pre_covid = reviews[reviews.date < datetime.datetime(2020, 3, 1)]\n",
    "covid_times = reviews[reviews.date >= datetime.datetime(2020, 3, 1)]"
   ]
  },
  {
   "cell_type": "code",
   "execution_count": null,
   "id": "4650cbd5",
   "metadata": {},
   "outputs": [],
   "source": [
    "star_ratings = {\"low\": [1, 2],\n",
    "                \"high\" : [4, 5]}\n",
    "timing = {\"pre_covid\": pre_covid, \n",
    "          \"covid_times\": covid_times}\n",
    "          \n",
    "prop_dfs = []\n",
    "\n",
    "for t in timing:\n",
    "    for ratings in star_ratings:\n",
    "        tmpdf = calculate_proportions(dat=timing[t], include_stars = star_ratings[ratings])\n",
    "        prefix = t + \"_\" + ratings\n",
    "        tmpdf.columns = [\"business_id\", \n",
    "                         prefix + \"_\" + \"nratings\", \n",
    "                        prefix + \"_\" + \"total\", \n",
    "                        prefix + \"_\" + \"proportion\"]\n",
    "        prop_dfs.append(tmpdf)\n"
   ]
  },
  {
   "cell_type": "code",
   "execution_count": null,
   "id": "f3de0f60",
   "metadata": {},
   "outputs": [],
   "source": [
    "### check the size of each\n",
    "for df in prop_dfs:\n",
    "    print(len(df.business_id.unique()))"
   ]
  },
  {
   "cell_type": "code",
   "execution_count": null,
   "id": "6692f35d",
   "metadata": {},
   "outputs": [],
   "source": [
    "merged = reduce(lambda  left,right: pd.merge(left,right,on=['business_id'],\n",
    "                                            how='outer'), prop_dfs)\n",
    "\n",
    "merged = merged.fillna(0)\n",
    "# merged.head()\n",
    "merged[\"low_delta\"] = merged.covid_times_low_proportion - merged.pre_covid_low_proportion\n",
    "merged[\"high_delta\"] = merged.covid_times_high_proportion - merged.pre_covid_high_proportion"
   ]
  },
  {
   "cell_type": "code",
   "execution_count": null,
   "id": "757d6cfd",
   "metadata": {},
   "outputs": [],
   "source": [
    "### check the merge\n",
    "# len(reviews.business_id.unique()) == len(merged.business_id.unique())\n",
    "merged.shape"
   ]
  },
  {
   "cell_type": "code",
   "execution_count": null,
   "id": "74c8e01f",
   "metadata": {},
   "outputs": [],
   "source": [
    "merged.to_csv(\"processed_data/proportionate_star_ratings.csv\")"
   ]
  },
  {
   "cell_type": "markdown",
   "id": "382a5929",
   "metadata": {},
   "source": [
    "## Calculate and export age based on first review"
   ]
  },
  {
   "cell_type": "code",
   "execution_count": null,
   "id": "dc0bd5ae",
   "metadata": {},
   "outputs": [],
   "source": [
    "reviews[\"review_year\"] = reviews.date.dt.year\n",
    "reviews['age'] = 2021 - reviews.review_year\n",
    "age = reviews.groupby(\"business_id\").agg({'review_year': 'min'})\n",
    "age[\"age\"] = 2021 - age.review_year\n",
    "age.head()"
   ]
  },
  {
   "cell_type": "code",
   "execution_count": null,
   "id": "ed6bdba1",
   "metadata": {},
   "outputs": [],
   "source": [
    "age.to_csv(\"processed_data/business_age_on_yelp.csv\", index = True)"
   ]
  }
 ],
 "metadata": {
  "kernelspec": {
   "display_name": "project_env",
   "language": "python",
   "name": "project_env"
  },
  "language_info": {
   "codemirror_mode": {
    "name": "ipython",
    "version": 3
   },
   "file_extension": ".py",
   "mimetype": "text/x-python",
   "name": "python",
   "nbconvert_exporter": "python",
   "pygments_lexer": "ipython3",
   "version": "3.8.9"
  }
 },
 "nbformat": 4,
 "nbformat_minor": 5
}
