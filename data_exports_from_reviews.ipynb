{
 "cells": [
  {
   "cell_type": "markdown",
   "id": "8b968754",
   "metadata": {},
   "source": [
    "This code will be used to make the following data exports. The exports will be uploaded to the Google Drive to be used by others/combined into the set of features:\n",
    "\n",
    "1. For each business:\n",
    "    a. Proportion of 1 and 2 star reviews pre-pandemic\n",
    "    b. Proportion of 1 and 2 star reviews throughout the pandemic\n",
    "    c. Proportion of 4 and 5 star reviews pre_pandemic\n",
    "    d. Proportion of 4 and 5 star reviews throughout the pandmic\n",
    "    \n",
    "2. Tokenized reviews "
   ]
  },
  {
   "cell_type": "code",
   "execution_count": null,
   "id": "adba9197",
   "metadata": {},
   "outputs": [],
   "source": [
    "import json\n",
    "import pandas as pd\n",
    "import datetime\n",
    "import re\n",
    "from functools import reduce"
   ]
  },
  {
   "cell_type": "markdown",
   "id": "e42ae26a",
   "metadata": {},
   "source": [
    "## Calculate and export proportion of star ratings"
   ]
  },
  {
   "cell_type": "code",
   "execution_count": null,
   "id": "407c3e47",
   "metadata": {},
   "outputs": [],
   "source": [
    "## export start ratings data\n",
    "def calculate_proportions(dat, stars):\n",
    "    '''\n",
    "    For each business, this function will calculate the proportion\n",
    "    of reviews that gave certain star ratings. The arguments should be\n",
    "    1. a data frame containing the data to work with and \n",
    "    2. a list of star ratings to be included in the proportion\n",
    "    '''\n",
    "    totals = reviews.groupby(\"business_id\").count().reset_index()\n",
    "    star_totals = reviews[reviews.stars.isin(stars)].groupby([\"business_id\", \"stars\"]).count().reset_index()                    \n",
    "    props = star_totals.merge(totals, left_on=\"business_id\", right_on = \"business_id\")\n",
    "    props[\"proportion\"] = props.review_id_x/props.review_id_y\n",
    "    return(props[[\"business_id\", \"review_id_x\", \"review_id_y\", \"proportion\"]])\n",
    "\n"
   ]
  },
  {
   "cell_type": "code",
   "execution_count": null,
   "id": "0c3fec8f",
   "metadata": {},
   "outputs": [],
   "source": [
    "reviews = pd.read_json(\"processed_data/yelp_team7_dataset_review.json\")\n",
    "pre_covid = reviews[reviews.date < datetime.datetime(2020, 3, 1)]\n",
    "covid_times = reviews[reviews.date >= datetime.datetime(2020, 3, 1)]"
   ]
  },
  {
   "cell_type": "code",
   "execution_count": null,
   "id": "df77b1c9",
   "metadata": {},
   "outputs": [],
   "source": [
    "calculate_proportions(dat=pre_covid, stars=[1,2])\n"
   ]
  },
  {
   "cell_type": "code",
   "execution_count": null,
   "id": "5a5ef4ac",
   "metadata": {},
   "outputs": [],
   "source": [
    "pre_covid_low = calculate_proportions(dat=pre_covid, stars=[1, 2])\n",
    "pre_covid_low.rename(columns={\n",
    "    \"review_id_x\": \"pre_covid_low\", \n",
    "    \"review_id_y\": \"pre_covid_total\",\n",
    "    \"proportion\": \"pre_covid_low_prop\"\n",
    "}, inplace = True)\n",
    "\n",
    "pre_covid_high = calculate_proportions(dat=pre_covid, stars=[4, 5])\n",
    "pre_covid_high.rename(columns={\n",
    "    \"review_id_x\": \"pre_covid_high\", \n",
    "    \"review_id_y\": \"pre_covid_total\",\n",
    "    \"proportion\": \"pre_covid_high_prop\"\n",
    "}, inplace = True)\n",
    "\n",
    "covid_low = calculate_proportions(dat=covid_times, stars=[1, 2])\n",
    "covid_low.rename(columns={\n",
    "    \"review_id_x\": \"covid_low\", \n",
    "    \"review_id_y\": \"covid_total\",\n",
    "    \"proportion\": \"covid_low_prop\"\n",
    "}, inplace = True)\n",
    "\n",
    "covid_high = calculate_proportions(dat=covid_times, stars=[4, 5])\n",
    "covid_high.rename(columns={\n",
    "    \"review_id_x\": \"covid_high\", \n",
    "    \"review_id_y\": \"covid_total\",\n",
    "    \"proportion\": \"covid_high_prop\"\n",
    "}, inplace = True)"
   ]
  },
  {
   "cell_type": "code",
   "execution_count": null,
   "id": "4f1395d7",
   "metadata": {},
   "outputs": [],
   "source": [
    "to_merge = [pre_covid_low, pre_covid_high, covid_low, covid_high]\n",
    "merged = reduce(lambda  left,right: pd.merge(left,right,on=['business_id'],\n",
    "                                            how='outer'), to_merge)\n",
    "merged[\"low_delta\"] = merged.covid_low_prop - merged.pre_covid_low_prop\n",
    "merged[\"high_delta\"] = merged.covid_high_prop - merged.pre_covid_high_prop\n",
    "\n",
    "### check the merge\n",
    "len(reviews.business_id.unique()) == len(merged.business_id.unique())"
   ]
  },
  {
   "cell_type": "code",
   "execution_count": null,
   "id": "e865120c",
   "metadata": {},
   "outputs": [],
   "source": [
    "merged.to_csv(\"processed_data/proportionate_star_ratings.csv\")"
   ]
  },
  {
   "cell_type": "markdown",
   "id": "a0a9fcc3",
   "metadata": {},
   "source": [
    "## Calculate and export age based on first review"
   ]
  },
  {
   "cell_type": "code",
   "execution_count": null,
   "id": "c32fd3ba",
   "metadata": {},
   "outputs": [],
   "source": [
    "reviews[\"review_year\"] = reviews.date.dt.year\n",
    "reviews['age'] = 2021 - reviews.review_year\n",
    "age = reviews.groupby(\"business_id\").agg({'review_year': 'min'})\n",
    "age.shape"
   ]
  },
  {
   "cell_type": "code",
   "execution_count": null,
   "id": "f3137eca",
   "metadata": {},
   "outputs": [],
   "source": [
    "age.to_csv(\"processed_data/star_rating_proportions.csv\", index = False)\n",
    "\n"
   ]
  },
  {
   "cell_type": "code",
   "execution_count": null,
   "id": "c29dc050",
   "metadata": {},
   "outputs": [],
   "source": []
  }
 ],
 "metadata": {
  "kernelspec": {
   "display_name": "project_env",
   "language": "python",
   "name": "project_env"
  },
  "language_info": {
   "codemirror_mode": {
    "name": "ipython",
    "version": 3
   },
   "file_extension": ".py",
   "mimetype": "text/x-python",
   "name": "python",
   "nbconvert_exporter": "python",
   "pygments_lexer": "ipython3",
   "version": "3.8.9"
  }
 },
 "nbformat": 4,
 "nbformat_minor": 5
}
