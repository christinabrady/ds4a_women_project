{
 "cells": [
  {
   "cell_type": "markdown",
   "metadata": {},
   "source": [
    "# About\n",
    "\n",
    "This notebook is to clean and wrangle `yelp_team7_dataset_restaurant.json`"
   ]
  },
  {
   "cell_type": "code",
   "execution_count": 1,
   "metadata": {},
   "outputs": [],
   "source": [
    "import json\n",
    "import pandas as pd"
   ]
  },
  {
   "cell_type": "markdown",
   "metadata": {},
   "source": [
    "# Load the restaurant dataset"
   ]
  },
  {
   "cell_type": "code",
   "execution_count": 2,
   "metadata": {},
   "outputs": [],
   "source": [
    "restaurant_df = pd.read_json('yelp_team7_dataset_restaurant.json')"
   ]
  },
  {
   "cell_type": "code",
   "execution_count": 3,
   "metadata": {},
   "outputs": [
    {
     "data": {
      "text/plain": [
       "(20693, 14)"
      ]
     },
     "execution_count": 3,
     "metadata": {},
     "output_type": "execute_result"
    }
   ],
   "source": [
    "restaurant_df.shape"
   ]
  },
  {
   "cell_type": "code",
   "execution_count": 4,
   "metadata": {},
   "outputs": [
    {
     "data": {
      "text/html": [
       "<div>\n",
       "<style scoped>\n",
       "    .dataframe tbody tr th:only-of-type {\n",
       "        vertical-align: middle;\n",
       "    }\n",
       "\n",
       "    .dataframe tbody tr th {\n",
       "        vertical-align: top;\n",
       "    }\n",
       "\n",
       "    .dataframe thead th {\n",
       "        text-align: right;\n",
       "    }\n",
       "</style>\n",
       "<table border=\"1\" class=\"dataframe\">\n",
       "  <thead>\n",
       "    <tr style=\"text-align: right;\">\n",
       "      <th></th>\n",
       "      <th>business_id</th>\n",
       "      <th>name</th>\n",
       "      <th>address</th>\n",
       "      <th>city</th>\n",
       "      <th>state</th>\n",
       "      <th>postal_code</th>\n",
       "      <th>latitude</th>\n",
       "      <th>longitude</th>\n",
       "      <th>stars</th>\n",
       "      <th>review_count</th>\n",
       "      <th>is_open</th>\n",
       "      <th>attributes</th>\n",
       "      <th>categories</th>\n",
       "      <th>hours</th>\n",
       "    </tr>\n",
       "  </thead>\n",
       "  <tbody>\n",
       "    <tr>\n",
       "      <th>0</th>\n",
       "      <td>tCbdrRPZA0oiIYSmHG3J0w</td>\n",
       "      <td>Flying Elephants at PDX</td>\n",
       "      <td>7000 NE Airport Way</td>\n",
       "      <td>Portland</td>\n",
       "      <td>OR</td>\n",
       "      <td>97218</td>\n",
       "      <td>45.588906</td>\n",
       "      <td>-122.593331</td>\n",
       "      <td>4.0</td>\n",
       "      <td>126</td>\n",
       "      <td>1</td>\n",
       "      <td>{'RestaurantsTakeOut': 'True', 'RestaurantsAtt...</td>\n",
       "      <td>Salad, Soup, Sandwiches, Delis, Restaurants, C...</td>\n",
       "      <td>{'Monday': '5:0-18:0', 'Tuesday': '5:0-17:0', ...</td>\n",
       "    </tr>\n",
       "    <tr>\n",
       "      <th>1</th>\n",
       "      <td>ufCxltuh56FF4-ZFZ6cVhg</td>\n",
       "      <td>Sister Honey's</td>\n",
       "      <td>247 E Michigan St</td>\n",
       "      <td>Orlando</td>\n",
       "      <td>FL</td>\n",
       "      <td>32806</td>\n",
       "      <td>28.513265</td>\n",
       "      <td>-81.374707</td>\n",
       "      <td>4.5</td>\n",
       "      <td>135</td>\n",
       "      <td>1</td>\n",
       "      <td>{'BusinessParking': '{'garage': False, 'street...</td>\n",
       "      <td>Restaurants, American (New), Bakeries, Dessert...</td>\n",
       "      <td>{'Tuesday': '11:0-18:0', 'Wednesday': '11:0-18...</td>\n",
       "    </tr>\n",
       "    <tr>\n",
       "      <th>2</th>\n",
       "      <td>hcRxdDg7DYryCxCoI8ySQA</td>\n",
       "      <td>Longwood Galleria</td>\n",
       "      <td>340-350 Longwood Ave</td>\n",
       "      <td>Boston</td>\n",
       "      <td>MA</td>\n",
       "      <td>02215</td>\n",
       "      <td>42.338544</td>\n",
       "      <td>-71.106842</td>\n",
       "      <td>2.5</td>\n",
       "      <td>24</td>\n",
       "      <td>1</td>\n",
       "      <td>{'RestaurantsPriceRange2': '1', 'BusinessAccep...</td>\n",
       "      <td>Restaurants, Shopping, Shopping Centers</td>\n",
       "      <td>{'Monday': '6:30-22:0', 'Tuesday': '6:30-22:0'...</td>\n",
       "    </tr>\n",
       "    <tr>\n",
       "      <th>3</th>\n",
       "      <td>jGennaZUr2MsJyRhijNBfA</td>\n",
       "      <td>Legal Sea Foods</td>\n",
       "      <td>1 Harborside Dr</td>\n",
       "      <td>Boston</td>\n",
       "      <td>MA</td>\n",
       "      <td>02128</td>\n",
       "      <td>42.363442</td>\n",
       "      <td>-71.025781</td>\n",
       "      <td>3.5</td>\n",
       "      <td>856</td>\n",
       "      <td>1</td>\n",
       "      <td>{'NoiseLevel': 'u'average'', 'BikeParking': 'F...</td>\n",
       "      <td>Sandwiches, Food, Restaurants, Breakfast &amp; Bru...</td>\n",
       "      <td>{'Monday': '6:0-21:0', 'Tuesday': '6:0-21:0', ...</td>\n",
       "    </tr>\n",
       "    <tr>\n",
       "      <th>4</th>\n",
       "      <td>iPD8BBvea6YldQZPHzVrSQ</td>\n",
       "      <td>Espresso Minute</td>\n",
       "      <td>334 Mass Ave</td>\n",
       "      <td>Boston</td>\n",
       "      <td>MA</td>\n",
       "      <td>02115</td>\n",
       "      <td>42.342673</td>\n",
       "      <td>-71.084239</td>\n",
       "      <td>4.5</td>\n",
       "      <td>7</td>\n",
       "      <td>0</td>\n",
       "      <td>{'NoiseLevel': ''quiet'', 'GoodForKids': 'True...</td>\n",
       "      <td>Creperies, Restaurants, Food, Coffee &amp; Tea, Br...</td>\n",
       "      <td>{'Tuesday': '8:0-20:0', 'Wednesday': '8:0-20:0...</td>\n",
       "    </tr>\n",
       "  </tbody>\n",
       "</table>\n",
       "</div>"
      ],
      "text/plain": [
       "              business_id                     name               address  \\\n",
       "0  tCbdrRPZA0oiIYSmHG3J0w  Flying Elephants at PDX   7000 NE Airport Way   \n",
       "1  ufCxltuh56FF4-ZFZ6cVhg           Sister Honey's     247 E Michigan St   \n",
       "2  hcRxdDg7DYryCxCoI8ySQA        Longwood Galleria  340-350 Longwood Ave   \n",
       "3  jGennaZUr2MsJyRhijNBfA          Legal Sea Foods       1 Harborside Dr   \n",
       "4  iPD8BBvea6YldQZPHzVrSQ          Espresso Minute          334 Mass Ave   \n",
       "\n",
       "       city state postal_code   latitude   longitude  stars  review_count  \\\n",
       "0  Portland    OR       97218  45.588906 -122.593331    4.0           126   \n",
       "1   Orlando    FL       32806  28.513265  -81.374707    4.5           135   \n",
       "2    Boston    MA       02215  42.338544  -71.106842    2.5            24   \n",
       "3    Boston    MA       02128  42.363442  -71.025781    3.5           856   \n",
       "4    Boston    MA       02115  42.342673  -71.084239    4.5             7   \n",
       "\n",
       "   is_open                                         attributes  \\\n",
       "0        1  {'RestaurantsTakeOut': 'True', 'RestaurantsAtt...   \n",
       "1        1  {'BusinessParking': '{'garage': False, 'street...   \n",
       "2        1  {'RestaurantsPriceRange2': '1', 'BusinessAccep...   \n",
       "3        1  {'NoiseLevel': 'u'average'', 'BikeParking': 'F...   \n",
       "4        0  {'NoiseLevel': ''quiet'', 'GoodForKids': 'True...   \n",
       "\n",
       "                                          categories  \\\n",
       "0  Salad, Soup, Sandwiches, Delis, Restaurants, C...   \n",
       "1  Restaurants, American (New), Bakeries, Dessert...   \n",
       "2            Restaurants, Shopping, Shopping Centers   \n",
       "3  Sandwiches, Food, Restaurants, Breakfast & Bru...   \n",
       "4  Creperies, Restaurants, Food, Coffee & Tea, Br...   \n",
       "\n",
       "                                               hours  \n",
       "0  {'Monday': '5:0-18:0', 'Tuesday': '5:0-17:0', ...  \n",
       "1  {'Tuesday': '11:0-18:0', 'Wednesday': '11:0-18...  \n",
       "2  {'Monday': '6:30-22:0', 'Tuesday': '6:30-22:0'...  \n",
       "3  {'Monday': '6:0-21:0', 'Tuesday': '6:0-21:0', ...  \n",
       "4  {'Tuesday': '8:0-20:0', 'Wednesday': '8:0-20:0...  "
      ]
     },
     "execution_count": 4,
     "metadata": {},
     "output_type": "execute_result"
    }
   ],
   "source": [
    "restaurant_df.head()"
   ]
  },
  {
   "cell_type": "code",
   "execution_count": 5,
   "metadata": {},
   "outputs": [
    {
     "name": "stdout",
     "output_type": "stream",
     "text": [
      "<class 'pandas.core.frame.DataFrame'>\n",
      "Int64Index: 20693 entries, 0 to 20692\n",
      "Data columns (total 14 columns):\n",
      " #   Column        Non-Null Count  Dtype  \n",
      "---  ------        --------------  -----  \n",
      " 0   business_id   20693 non-null  object \n",
      " 1   name          20693 non-null  object \n",
      " 2   address       20693 non-null  object \n",
      " 3   city          20693 non-null  object \n",
      " 4   state         20693 non-null  object \n",
      " 5   postal_code   20693 non-null  object \n",
      " 6   latitude      20693 non-null  float64\n",
      " 7   longitude     20693 non-null  float64\n",
      " 8   stars         20693 non-null  float64\n",
      " 9   review_count  20693 non-null  int64  \n",
      " 10  is_open       20693 non-null  int64  \n",
      " 11  attributes    20591 non-null  object \n",
      " 12  categories    20693 non-null  object \n",
      " 13  hours         17500 non-null  object \n",
      "dtypes: float64(3), int64(2), object(9)\n",
      "memory usage: 2.4+ MB\n"
     ]
    }
   ],
   "source": [
    "restaurant_df.info()"
   ]
  },
  {
   "cell_type": "markdown",
   "metadata": {},
   "source": [
    "# Wrangle *categories* column"
   ]
  },
  {
   "cell_type": "code",
   "execution_count": 6,
   "metadata": {},
   "outputs": [
    {
     "data": {
      "text/html": [
       "<div>\n",
       "<style scoped>\n",
       "    .dataframe tbody tr th:only-of-type {\n",
       "        vertical-align: middle;\n",
       "    }\n",
       "\n",
       "    .dataframe tbody tr th {\n",
       "        vertical-align: top;\n",
       "    }\n",
       "\n",
       "    .dataframe thead th {\n",
       "        text-align: right;\n",
       "    }\n",
       "</style>\n",
       "<table border=\"1\" class=\"dataframe\">\n",
       "  <thead>\n",
       "    <tr style=\"text-align: right;\">\n",
       "      <th></th>\n",
       "      <th>categories</th>\n",
       "    </tr>\n",
       "  </thead>\n",
       "  <tbody>\n",
       "    <tr>\n",
       "      <th>0</th>\n",
       "      <td>Salad, Soup, Sandwiches, Delis, Restaurants, C...</td>\n",
       "    </tr>\n",
       "    <tr>\n",
       "      <th>1</th>\n",
       "      <td>Restaurants, American (New), Bakeries, Dessert...</td>\n",
       "    </tr>\n",
       "    <tr>\n",
       "      <th>2</th>\n",
       "      <td>Restaurants, Shopping, Shopping Centers</td>\n",
       "    </tr>\n",
       "    <tr>\n",
       "      <th>3</th>\n",
       "      <td>Sandwiches, Food, Restaurants, Breakfast &amp; Bru...</td>\n",
       "    </tr>\n",
       "    <tr>\n",
       "      <th>4</th>\n",
       "      <td>Creperies, Restaurants, Food, Coffee &amp; Tea, Br...</td>\n",
       "    </tr>\n",
       "    <tr>\n",
       "      <th>...</th>\n",
       "      <td>...</td>\n",
       "    </tr>\n",
       "    <tr>\n",
       "      <th>20688</th>\n",
       "      <td>Italian, Restaurants</td>\n",
       "    </tr>\n",
       "    <tr>\n",
       "      <th>20689</th>\n",
       "      <td>Japanese, Sushi Bars, Restaurants</td>\n",
       "    </tr>\n",
       "    <tr>\n",
       "      <th>20690</th>\n",
       "      <td>Event Planning &amp; Services, Steakhouses, Seafoo...</td>\n",
       "    </tr>\n",
       "    <tr>\n",
       "      <th>20691</th>\n",
       "      <td>Restaurants, Noodles, Salad, Vietnamese, Veget...</td>\n",
       "    </tr>\n",
       "    <tr>\n",
       "      <th>20692</th>\n",
       "      <td>Restaurants, Mexican, Latin American</td>\n",
       "    </tr>\n",
       "  </tbody>\n",
       "</table>\n",
       "<p>20693 rows × 1 columns</p>\n",
       "</div>"
      ],
      "text/plain": [
       "                                              categories\n",
       "0      Salad, Soup, Sandwiches, Delis, Restaurants, C...\n",
       "1      Restaurants, American (New), Bakeries, Dessert...\n",
       "2                Restaurants, Shopping, Shopping Centers\n",
       "3      Sandwiches, Food, Restaurants, Breakfast & Bru...\n",
       "4      Creperies, Restaurants, Food, Coffee & Tea, Br...\n",
       "...                                                  ...\n",
       "20688                               Italian, Restaurants\n",
       "20689                  Japanese, Sushi Bars, Restaurants\n",
       "20690  Event Planning & Services, Steakhouses, Seafoo...\n",
       "20691  Restaurants, Noodles, Salad, Vietnamese, Veget...\n",
       "20692               Restaurants, Mexican, Latin American\n",
       "\n",
       "[20693 rows x 1 columns]"
      ]
     },
     "execution_count": 6,
     "metadata": {},
     "output_type": "execute_result"
    }
   ],
   "source": [
    "categories_df = restaurant_df[['categories']]\n",
    "categories_df"
   ]
  },
  {
   "cell_type": "code",
   "execution_count": 7,
   "metadata": {},
   "outputs": [
    {
     "data": {
      "text/plain": [
       "'Salad, Soup, Sandwiches, Delis, Restaurants, Cafes, Vegetarian'"
      ]
     },
     "execution_count": 7,
     "metadata": {},
     "output_type": "execute_result"
    }
   ],
   "source": [
    "categories_df.iloc[0,0]"
   ]
  },
  {
   "cell_type": "code",
   "execution_count": 8,
   "metadata": {},
   "outputs": [
    {
     "data": {
      "text/plain": [
       "'Restaurants, American (New), Bakeries, Desserts, Food, Cupcakes'"
      ]
     },
     "execution_count": 8,
     "metadata": {},
     "output_type": "execute_result"
    }
   ],
   "source": [
    "categories_df.iloc[1,0]"
   ]
  },
  {
   "cell_type": "code",
   "execution_count": 16,
   "metadata": {},
   "outputs": [
    {
     "data": {
      "text/plain": [
       "'Restaurants, Shopping, Shopping Centers'"
      ]
     },
     "execution_count": 16,
     "metadata": {},
     "output_type": "execute_result"
    }
   ],
   "source": [
    "categories_df.iloc[2,0]"
   ]
  },
  {
   "cell_type": "code",
   "execution_count": 17,
   "metadata": {},
   "outputs": [
    {
     "data": {
      "text/plain": [
       "'Sandwiches, Food, Restaurants, Breakfast & Brunch, Seafood, Italian, Beer, Wine & Spirits, Cocktail Bars, Gluten-Free, Nightlife, Bars, Salad'"
      ]
     },
     "execution_count": 17,
     "metadata": {},
     "output_type": "execute_result"
    }
   ],
   "source": [
    "categories_df.iloc[3,0]"
   ]
  },
  {
   "cell_type": "code",
   "execution_count": 9,
   "metadata": {},
   "outputs": [
    {
     "data": {
      "text/html": [
       "<div>\n",
       "<style scoped>\n",
       "    .dataframe tbody tr th:only-of-type {\n",
       "        vertical-align: middle;\n",
       "    }\n",
       "\n",
       "    .dataframe tbody tr th {\n",
       "        vertical-align: top;\n",
       "    }\n",
       "\n",
       "    .dataframe thead th {\n",
       "        text-align: right;\n",
       "    }\n",
       "</style>\n",
       "<table border=\"1\" class=\"dataframe\">\n",
       "  <thead>\n",
       "    <tr style=\"text-align: right;\">\n",
       "      <th></th>\n",
       "      <th>categories</th>\n",
       "    </tr>\n",
       "  </thead>\n",
       "  <tbody>\n",
       "    <tr>\n",
       "      <th>0</th>\n",
       "      <td>Salad, Soup, Sandwiches, Delis, Restaurants, C...</td>\n",
       "    </tr>\n",
       "    <tr>\n",
       "      <th>1</th>\n",
       "      <td>Restaurants, American (New), Bakeries, Dessert...</td>\n",
       "    </tr>\n",
       "    <tr>\n",
       "      <th>2</th>\n",
       "      <td>Restaurants, Shopping, Shopping Centers</td>\n",
       "    </tr>\n",
       "    <tr>\n",
       "      <th>3</th>\n",
       "      <td>Sandwiches, Food, Restaurants, Breakfast &amp; Bru...</td>\n",
       "    </tr>\n",
       "    <tr>\n",
       "      <th>4</th>\n",
       "      <td>Creperies, Restaurants, Food, Coffee &amp; Tea, Br...</td>\n",
       "    </tr>\n",
       "    <tr>\n",
       "      <th>5</th>\n",
       "      <td>Nightlife, Sandwiches, Seafood, Restaurants</td>\n",
       "    </tr>\n",
       "    <tr>\n",
       "      <th>6</th>\n",
       "      <td>Food Trucks, Restaurants, Specialty Food, Food...</td>\n",
       "    </tr>\n",
       "    <tr>\n",
       "      <th>7</th>\n",
       "      <td>Bars, Nightlife, Cocktail Bars, Seafood, Resta...</td>\n",
       "    </tr>\n",
       "    <tr>\n",
       "      <th>8</th>\n",
       "      <td>Vegetarian, Vegan, Sandwiches, Soup, American ...</td>\n",
       "    </tr>\n",
       "    <tr>\n",
       "      <th>9</th>\n",
       "      <td>Italian, Restaurants</td>\n",
       "    </tr>\n",
       "    <tr>\n",
       "      <th>10</th>\n",
       "      <td>Fast Food, Restaurants, Burgers</td>\n",
       "    </tr>\n",
       "  </tbody>\n",
       "</table>\n",
       "</div>"
      ],
      "text/plain": [
       "                                           categories\n",
       "0   Salad, Soup, Sandwiches, Delis, Restaurants, C...\n",
       "1   Restaurants, American (New), Bakeries, Dessert...\n",
       "2             Restaurants, Shopping, Shopping Centers\n",
       "3   Sandwiches, Food, Restaurants, Breakfast & Bru...\n",
       "4   Creperies, Restaurants, Food, Coffee & Tea, Br...\n",
       "5         Nightlife, Sandwiches, Seafood, Restaurants\n",
       "6   Food Trucks, Restaurants, Specialty Food, Food...\n",
       "7   Bars, Nightlife, Cocktail Bars, Seafood, Resta...\n",
       "8   Vegetarian, Vegan, Sandwiches, Soup, American ...\n",
       "9                                Italian, Restaurants\n",
       "10                    Fast Food, Restaurants, Burgers"
      ]
     },
     "execution_count": 9,
     "metadata": {},
     "output_type": "execute_result"
    }
   ],
   "source": [
    "tmp_df = categories_df.iloc[0:11,:]\n",
    "tmp_df"
   ]
  },
  {
   "cell_type": "code",
   "execution_count": 10,
   "metadata": {},
   "outputs": [
    {
     "data": {
      "text/plain": [
       "0     Salad, Soup, Sandwiches, Delis, Restaurants, C...\n",
       "1     Restaurants, American (New), Bakeries, Dessert...\n",
       "2               Restaurants, Shopping, Shopping Centers\n",
       "3     Sandwiches, Food, Restaurants, Breakfast & Bru...\n",
       "4     Creperies, Restaurants, Food, Coffee & Tea, Br...\n",
       "5           Nightlife, Sandwiches, Seafood, Restaurants\n",
       "6     Food Trucks, Restaurants, Specialty Food, Food...\n",
       "7     Bars, Nightlife, Cocktail Bars, Seafood, Resta...\n",
       "8     Vegetarian, Vegan, Sandwiches, Soup, American ...\n",
       "9                                  Italian, Restaurants\n",
       "10                      Fast Food, Restaurants, Burgers\n",
       "Name: categories, dtype: object"
      ]
     },
     "execution_count": 10,
     "metadata": {},
     "output_type": "execute_result"
    }
   ],
   "source": [
    "tmp_df['categories']"
   ]
  },
  {
   "cell_type": "markdown",
   "metadata": {},
   "source": [
    "## Create a full list of categories"
   ]
  },
  {
   "cell_type": "markdown",
   "metadata": {},
   "source": [
    "### A mini pilot: make it a list"
   ]
  },
  {
   "cell_type": "code",
   "execution_count": 25,
   "metadata": {},
   "outputs": [
    {
     "name": "stdout",
     "output_type": "stream",
     "text": [
      "0 Salad, Soup, Sandwiches, Delis, Restaurants, Cafes, Vegetarian\n",
      "1 Restaurants, American (New), Bakeries, Desserts, Food, Cupcakes\n",
      "2 Restaurants, Shopping, Shopping Centers\n",
      "3 Sandwiches, Food, Restaurants, Breakfast & Brunch, Seafood, Italian, Beer, Wine & Spirits, Cocktail Bars, Gluten-Free, Nightlife, Bars, Salad\n",
      "4 Creperies, Restaurants, Food, Coffee & Tea, Breakfast & Brunch\n",
      "5 Nightlife, Sandwiches, Seafood, Restaurants\n",
      "6 Food Trucks, Restaurants, Specialty Food, Food, Mexican, Ethnic Food\n",
      "7 Bars, Nightlife, Cocktail Bars, Seafood, Restaurants, Sushi Bars\n",
      "8 Vegetarian, Vegan, Sandwiches, Soup, American (New), Fast Food, Restaurants, Wraps, American (Traditional)\n",
      "9 Italian, Restaurants\n",
      "10 Fast Food, Restaurants, Burgers\n"
     ]
    }
   ],
   "source": [
    "for i,item in enumerate(tmp_df['categories']):\n",
    "    print(i, item)"
   ]
  },
  {
   "cell_type": "code",
   "execution_count": 27,
   "metadata": {},
   "outputs": [
    {
     "name": "stdout",
     "output_type": "stream",
     "text": [
      "['Salad', ' Soup', ' Sandwiches', ' Delis', ' Restaurants', ' Cafes', ' Vegetarian']\n",
      "['Restaurants', ' American (New)', ' Bakeries', ' Desserts', ' Food', ' Cupcakes']\n",
      "['Restaurants', ' Shopping', ' Shopping Centers']\n",
      "['Sandwiches', ' Food', ' Restaurants', ' Breakfast & Brunch', ' Seafood', ' Italian', ' Beer', ' Wine & Spirits', ' Cocktail Bars', ' Gluten-Free', ' Nightlife', ' Bars', ' Salad']\n",
      "['Creperies', ' Restaurants', ' Food', ' Coffee & Tea', ' Breakfast & Brunch']\n",
      "['Nightlife', ' Sandwiches', ' Seafood', ' Restaurants']\n",
      "['Food Trucks', ' Restaurants', ' Specialty Food', ' Food', ' Mexican', ' Ethnic Food']\n",
      "['Bars', ' Nightlife', ' Cocktail Bars', ' Seafood', ' Restaurants', ' Sushi Bars']\n",
      "['Vegetarian', ' Vegan', ' Sandwiches', ' Soup', ' American (New)', ' Fast Food', ' Restaurants', ' Wraps', ' American (Traditional)']\n",
      "['Italian', ' Restaurants']\n",
      "['Fast Food', ' Restaurants', ' Burgers']\n"
     ]
    }
   ],
   "source": [
    "for i,item in enumerate(tmp_df['categories']):\n",
    "    my_list = item.split(',')\n",
    "    print(my_list)"
   ]
  },
  {
   "cell_type": "code",
   "execution_count": 28,
   "metadata": {},
   "outputs": [
    {
     "data": {
      "text/plain": [
       "'Salad, Soup, Sandwiches, Delis, Restaurants, Cafes, Vegetarian'"
      ]
     },
     "execution_count": 28,
     "metadata": {},
     "output_type": "execute_result"
    }
   ],
   "source": [
    "tmp_df['categories'][0]"
   ]
  },
  {
   "cell_type": "code",
   "execution_count": 31,
   "metadata": {},
   "outputs": [
    {
     "data": {
      "text/plain": [
       "False"
      ]
     },
     "execution_count": 31,
     "metadata": {},
     "output_type": "execute_result"
    }
   ],
   "source": [
    "not('Soup' in (tmp_df['categories'][0]))"
   ]
  },
  {
   "cell_type": "code",
   "execution_count": 11,
   "metadata": {},
   "outputs": [
    {
     "name": "stdout",
     "output_type": "stream",
     "text": [
      "['Salad', 'Soup', 'Sandwiches', 'Delis', 'Cafes', 'Vegetarian', 'American (New)', 'Bakeries', 'Desserts', 'Food', 'Cupcakes', 'Shopping', 'Shopping Centers', 'Breakfast & Brunch', 'Seafood', 'Italian', 'Beer', 'Wine & Spirits', 'Cocktail Bars', 'Gluten-Free', 'Nightlife', 'Bars', 'Creperies', 'Coffee & Tea', 'Food Trucks', 'Specialty Food', 'Mexican', 'Ethnic Food', 'Sushi Bars', 'Vegan', 'Fast Food', 'Wraps', 'American (Traditional)', 'Burgers']\n"
     ]
    }
   ],
   "source": [
    "tmp_categories_all = []\n",
    "\n",
    "for item in tmp_df['categories']:\n",
    "    my_list = item.split(',')\n",
    "    for element in my_list:\n",
    "        cleaned_element = element.strip()\n",
    "        if not(cleaned_element in tmp_categories_all):\n",
    "            tmp_categories_all.append(cleaned_element)\n",
    "            \n",
    "tmp_categories_all.remove('Restaurants')\n",
    "\n",
    "print(tmp_categories_all)"
   ]
  },
  {
   "cell_type": "markdown",
   "metadata": {},
   "source": [
    "## mini pilot: make it a dictionary"
   ]
  },
  {
   "cell_type": "code",
   "execution_count": 19,
   "metadata": {},
   "outputs": [
    {
     "name": "stdout",
     "output_type": "stream",
     "text": [
      "{'Salad': 2, 'Soup': 2, 'Sandwiches': 4, 'Delis': 1, 'Restaurants': 11, 'Cafes': 1, 'Vegetarian': 2, 'American (New)': 2, 'Bakeries': 1, 'Desserts': 1, 'Food': 4, 'Cupcakes': 1, 'Shopping': 1, 'Shopping Centers': 1, 'Breakfast & Brunch': 2, 'Seafood': 3, 'Italian': 2, 'Beer': 1, 'Wine & Spirits': 1, 'Cocktail Bars': 2, 'Gluten-Free': 1, 'Nightlife': 3, 'Bars': 2, 'Creperies': 1, 'Coffee & Tea': 1, 'Food Trucks': 1, 'Specialty Food': 1, 'Mexican': 1, 'Ethnic Food': 1, 'Sushi Bars': 1, 'Vegan': 1, 'Fast Food': 2, 'Wraps': 1, 'American (Traditional)': 1, 'Burgers': 1}\n"
     ]
    }
   ],
   "source": [
    "tmp_dict = {}\n",
    "\n",
    "for item in tmp_df['categories']:\n",
    "    my_list = item.split(',')\n",
    "    for element in my_list:\n",
    "        cleaned_element = element.strip()\n",
    "        if not(cleaned_element in tmp_dict):\n",
    "            tmp_dict[cleaned_element] = 1\n",
    "        else:\n",
    "            tmp_dict[cleaned_element] += 1\n",
    "            \n",
    "\n",
    "print(tmp_dict)"
   ]
  },
  {
   "cell_type": "markdown",
   "metadata": {},
   "source": [
    "scribble:\n",
    "* 'Restaurants' for sannity check\n",
    "* see what are businesses that tag themselves as 'Food', 'Shopping', 'Shopping Center'\n",
    "* consider removing businesses that tag themselves as'Food Trucks'"
   ]
  },
  {
   "cell_type": "markdown",
   "metadata": {},
   "source": [
    "### Apply to the entire restaurants"
   ]
  },
  {
   "cell_type": "code",
   "execution_count": 15,
   "metadata": {},
   "outputs": [],
   "source": [
    "categories_dict = {}\n",
    "\n",
    "for item in restaurant_df['categories']:\n",
    "    my_list = item.split(',')\n",
    "    for element in my_list:\n",
    "        cleaned_element = element.strip()\n",
    "        if not(cleaned_element in categories_dict):\n",
    "            categories_dict[cleaned_element] = 1\n",
    "        else:\n",
    "            categories_dict[cleaned_element] += 1\n",
    "            \n",
    "            \n",
    "#print(categories_dict)"
   ]
  },
  {
   "cell_type": "code",
   "execution_count": 23,
   "metadata": {},
   "outputs": [
    {
     "data": {
      "text/html": [
       "<div>\n",
       "<style scoped>\n",
       "    .dataframe tbody tr th:only-of-type {\n",
       "        vertical-align: middle;\n",
       "    }\n",
       "\n",
       "    .dataframe tbody tr th {\n",
       "        vertical-align: top;\n",
       "    }\n",
       "\n",
       "    .dataframe thead th {\n",
       "        text-align: right;\n",
       "    }\n",
       "</style>\n",
       "<table border=\"1\" class=\"dataframe\">\n",
       "  <thead>\n",
       "    <tr style=\"text-align: right;\">\n",
       "      <th></th>\n",
       "      <th>category</th>\n",
       "      <th>number_of_restaurants</th>\n",
       "    </tr>\n",
       "  </thead>\n",
       "  <tbody>\n",
       "    <tr>\n",
       "      <th>0</th>\n",
       "      <td>Salad</td>\n",
       "      <td>1080</td>\n",
       "    </tr>\n",
       "    <tr>\n",
       "      <th>1</th>\n",
       "      <td>Soup</td>\n",
       "      <td>376</td>\n",
       "    </tr>\n",
       "    <tr>\n",
       "      <th>2</th>\n",
       "      <td>Sandwiches</td>\n",
       "      <td>3099</td>\n",
       "    </tr>\n",
       "    <tr>\n",
       "      <th>3</th>\n",
       "      <td>Delis</td>\n",
       "      <td>771</td>\n",
       "    </tr>\n",
       "    <tr>\n",
       "      <th>4</th>\n",
       "      <td>Restaurants</td>\n",
       "      <td>20693</td>\n",
       "    </tr>\n",
       "  </tbody>\n",
       "</table>\n",
       "</div>"
      ],
      "text/plain": [
       "      category  number_of_restaurants\n",
       "0        Salad                   1080\n",
       "1         Soup                    376\n",
       "2   Sandwiches                   3099\n",
       "3        Delis                    771\n",
       "4  Restaurants                  20693"
      ]
     },
     "execution_count": 23,
     "metadata": {},
     "output_type": "execute_result"
    }
   ],
   "source": [
    "# create a data frame\n",
    "categories_agg = pd.DataFrame(list(categories_dict.items()))\n",
    "categories_agg.columns = ['category', 'number_of_restaurants']\n",
    "categories_agg.head()"
   ]
  },
  {
   "cell_type": "code",
   "execution_count": 25,
   "metadata": {},
   "outputs": [
    {
     "data": {
      "text/plain": [
       "count      558.000000\n",
       "mean       182.577061\n",
       "std       1015.494437\n",
       "min          1.000000\n",
       "25%          1.000000\n",
       "50%          6.000000\n",
       "75%         42.750000\n",
       "max      20693.000000\n",
       "Name: number_of_restaurants, dtype: float64"
      ]
     },
     "execution_count": 25,
     "metadata": {},
     "output_type": "execute_result"
    }
   ],
   "source": [
    "categories_agg['number_of_restaurants'].describe()"
   ]
  },
  {
   "cell_type": "code",
   "execution_count": 27,
   "metadata": {},
   "outputs": [
    {
     "data": {
      "text/html": [
       "<div>\n",
       "<style scoped>\n",
       "    .dataframe tbody tr th:only-of-type {\n",
       "        vertical-align: middle;\n",
       "    }\n",
       "\n",
       "    .dataframe tbody tr th {\n",
       "        vertical-align: top;\n",
       "    }\n",
       "\n",
       "    .dataframe thead th {\n",
       "        text-align: right;\n",
       "    }\n",
       "</style>\n",
       "<table border=\"1\" class=\"dataframe\">\n",
       "  <thead>\n",
       "    <tr style=\"text-align: right;\">\n",
       "      <th></th>\n",
       "      <th>category</th>\n",
       "      <th>number_of_restaurants</th>\n",
       "    </tr>\n",
       "  </thead>\n",
       "  <tbody>\n",
       "    <tr>\n",
       "      <th>89</th>\n",
       "      <td>Mass Media</td>\n",
       "      <td>2</td>\n",
       "    </tr>\n",
       "    <tr>\n",
       "      <th>90</th>\n",
       "      <td>Print Media</td>\n",
       "      <td>1</td>\n",
       "    </tr>\n",
       "    <tr>\n",
       "      <th>95</th>\n",
       "      <td>Austrian</td>\n",
       "      <td>4</td>\n",
       "    </tr>\n",
       "    <tr>\n",
       "      <th>102</th>\n",
       "      <td>Nutritionists</td>\n",
       "      <td>6</td>\n",
       "    </tr>\n",
       "    <tr>\n",
       "      <th>104</th>\n",
       "      <td>Vitamins &amp; Supplements</td>\n",
       "      <td>1</td>\n",
       "    </tr>\n",
       "    <tr>\n",
       "      <th>...</th>\n",
       "      <td>...</td>\n",
       "      <td>...</td>\n",
       "    </tr>\n",
       "    <tr>\n",
       "      <th>553</th>\n",
       "      <td>Drive-Thru Bars</td>\n",
       "      <td>1</td>\n",
       "    </tr>\n",
       "    <tr>\n",
       "      <th>554</th>\n",
       "      <td>Veterinarians</td>\n",
       "      <td>1</td>\n",
       "    </tr>\n",
       "    <tr>\n",
       "      <th>555</th>\n",
       "      <td>Tires</td>\n",
       "      <td>1</td>\n",
       "    </tr>\n",
       "    <tr>\n",
       "      <th>556</th>\n",
       "      <td>Trampoline Parks</td>\n",
       "      <td>1</td>\n",
       "    </tr>\n",
       "    <tr>\n",
       "      <th>557</th>\n",
       "      <td>Art Schools</td>\n",
       "      <td>1</td>\n",
       "    </tr>\n",
       "  </tbody>\n",
       "</table>\n",
       "<p>287 rows × 2 columns</p>\n",
       "</div>"
      ],
      "text/plain": [
       "                   category  number_of_restaurants\n",
       "89               Mass Media                      2\n",
       "90              Print Media                      1\n",
       "95                 Austrian                      4\n",
       "102           Nutritionists                      6\n",
       "104  Vitamins & Supplements                      1\n",
       "..                      ...                    ...\n",
       "553         Drive-Thru Bars                      1\n",
       "554           Veterinarians                      1\n",
       "555                   Tires                      1\n",
       "556        Trampoline Parks                      1\n",
       "557             Art Schools                      1\n",
       "\n",
       "[287 rows x 2 columns]"
      ]
     },
     "execution_count": 27,
     "metadata": {},
     "output_type": "execute_result"
    }
   ],
   "source": [
    "categories_agg[categories_agg['number_of_restaurants'] <= 6]"
   ]
  },
  {
   "cell_type": "code",
   "execution_count": 30,
   "metadata": {},
   "outputs": [
    {
     "data": {
      "text/html": [
       "<div>\n",
       "<style scoped>\n",
       "    .dataframe tbody tr th:only-of-type {\n",
       "        vertical-align: middle;\n",
       "    }\n",
       "\n",
       "    .dataframe tbody tr th {\n",
       "        vertical-align: top;\n",
       "    }\n",
       "\n",
       "    .dataframe thead th {\n",
       "        text-align: right;\n",
       "    }\n",
       "</style>\n",
       "<table border=\"1\" class=\"dataframe\">\n",
       "  <thead>\n",
       "    <tr style=\"text-align: right;\">\n",
       "      <th></th>\n",
       "      <th>category</th>\n",
       "      <th>number_of_restaurants</th>\n",
       "    </tr>\n",
       "  </thead>\n",
       "  <tbody>\n",
       "    <tr>\n",
       "      <th>4</th>\n",
       "      <td>Restaurants</td>\n",
       "      <td>20693</td>\n",
       "    </tr>\n",
       "    <tr>\n",
       "      <th>10</th>\n",
       "      <td>Food</td>\n",
       "      <td>7378</td>\n",
       "    </tr>\n",
       "    <tr>\n",
       "      <th>21</th>\n",
       "      <td>Nightlife</td>\n",
       "      <td>4232</td>\n",
       "    </tr>\n",
       "    <tr>\n",
       "      <th>22</th>\n",
       "      <td>Bars</td>\n",
       "      <td>4030</td>\n",
       "    </tr>\n",
       "    <tr>\n",
       "      <th>2</th>\n",
       "      <td>Sandwiches</td>\n",
       "      <td>3099</td>\n",
       "    </tr>\n",
       "    <tr>\n",
       "      <th>...</th>\n",
       "      <td>...</td>\n",
       "      <td>...</td>\n",
       "    </tr>\n",
       "    <tr>\n",
       "      <th>452</th>\n",
       "      <td>Axe Throwing</td>\n",
       "      <td>1</td>\n",
       "    </tr>\n",
       "    <tr>\n",
       "      <th>454</th>\n",
       "      <td>Dumpster Rental</td>\n",
       "      <td>1</td>\n",
       "    </tr>\n",
       "    <tr>\n",
       "      <th>455</th>\n",
       "      <td>Junk Removal &amp; Hauling</td>\n",
       "      <td>1</td>\n",
       "    </tr>\n",
       "    <tr>\n",
       "      <th>456</th>\n",
       "      <td>Boat Charters</td>\n",
       "      <td>1</td>\n",
       "    </tr>\n",
       "    <tr>\n",
       "      <th>557</th>\n",
       "      <td>Art Schools</td>\n",
       "      <td>1</td>\n",
       "    </tr>\n",
       "  </tbody>\n",
       "</table>\n",
       "<p>558 rows × 2 columns</p>\n",
       "</div>"
      ],
      "text/plain": [
       "                   category  number_of_restaurants\n",
       "4               Restaurants                  20693\n",
       "10                     Food                   7378\n",
       "21                Nightlife                   4232\n",
       "22                     Bars                   4030\n",
       "2                Sandwiches                   3099\n",
       "..                      ...                    ...\n",
       "452            Axe Throwing                      1\n",
       "454         Dumpster Rental                      1\n",
       "455  Junk Removal & Hauling                      1\n",
       "456           Boat Charters                      1\n",
       "557             Art Schools                      1\n",
       "\n",
       "[558 rows x 2 columns]"
      ]
     },
     "execution_count": 30,
     "metadata": {},
     "output_type": "execute_result"
    }
   ],
   "source": [
    "categories_agg_sorted = categories_agg.sort_values(by = 'number_of_restaurants', ascending = False)\n",
    "categories_agg_sorted"
   ]
  },
  {
   "cell_type": "code",
   "execution_count": 32,
   "metadata": {},
   "outputs": [],
   "source": [
    "categories_agg_sorted.to_csv('categories_agg.csv', index = False)"
   ]
  },
  {
   "cell_type": "markdown",
   "metadata": {},
   "source": [
    "## Check potential exclusions"
   ]
  },
  {
   "cell_type": "code",
   "execution_count": 66,
   "metadata": {},
   "outputs": [
    {
     "data": {
      "text/html": [
       "<div>\n",
       "<style scoped>\n",
       "    .dataframe tbody tr th:only-of-type {\n",
       "        vertical-align: middle;\n",
       "    }\n",
       "\n",
       "    .dataframe tbody tr th {\n",
       "        vertical-align: top;\n",
       "    }\n",
       "\n",
       "    .dataframe thead th {\n",
       "        text-align: right;\n",
       "    }\n",
       "</style>\n",
       "<table border=\"1\" class=\"dataframe\">\n",
       "  <thead>\n",
       "    <tr style=\"text-align: right;\">\n",
       "      <th></th>\n",
       "      <th>name</th>\n",
       "      <th>attributes</th>\n",
       "      <th>categories</th>\n",
       "    </tr>\n",
       "  </thead>\n",
       "  <tbody>\n",
       "    <tr>\n",
       "      <th>1826</th>\n",
       "      <td>AIX</td>\n",
       "      <td>{'BusinessParking': '{'garage': True, 'street'...</td>\n",
       "      <td>Restaurants, Nightlife, Pop-Up Restaurants, Am...</td>\n",
       "    </tr>\n",
       "    <tr>\n",
       "      <th>2236</th>\n",
       "      <td>Meatballerz Restaurant</td>\n",
       "      <td>{'GoodForMeal': '{'dessert': False, 'latenight...</td>\n",
       "      <td>Food Trucks, Food, Italian, Breakfast &amp; Brunch...</td>\n",
       "    </tr>\n",
       "    <tr>\n",
       "      <th>2872</th>\n",
       "      <td>Smoke &amp; Donuts BBQ</td>\n",
       "      <td>{'RestaurantsTakeOut': 'True', 'Ambience': '{'...</td>\n",
       "      <td>Pop-Up Restaurants, Food, Barbeque, Event Plan...</td>\n",
       "    </tr>\n",
       "    <tr>\n",
       "      <th>2931</th>\n",
       "      <td>Hungry Heart PDX</td>\n",
       "      <td>{'BikeParking': 'True', 'Caters': 'True', 'Amb...</td>\n",
       "      <td>Caterers, Ice Cream &amp; Frozen Yogurt, Restauran...</td>\n",
       "    </tr>\n",
       "    <tr>\n",
       "      <th>3958</th>\n",
       "      <td>Kamayan ATL</td>\n",
       "      <td>{'RestaurantsTakeOut': 'False', 'RestaurantsRe...</td>\n",
       "      <td>Restaurants, Event Planning &amp; Services, Catere...</td>\n",
       "    </tr>\n",
       "    <tr>\n",
       "      <th>4889</th>\n",
       "      <td>Ok Yaki</td>\n",
       "      <td>{'DogsAllowed': 'False', 'Alcohol': 'u'none'',...</td>\n",
       "      <td>Restaurants, Teppanyaki, Street Vendors, Japan...</td>\n",
       "    </tr>\n",
       "    <tr>\n",
       "      <th>5313</th>\n",
       "      <td>Bangrak Thai Street Kitchen</td>\n",
       "      <td>{'BusinessParking': '{'garage': False, 'street...</td>\n",
       "      <td>Pop-Up Restaurants, Restaurants, Thai</td>\n",
       "    </tr>\n",
       "    <tr>\n",
       "      <th>6787</th>\n",
       "      <td>Oisa Ramen</td>\n",
       "      <td>{'WiFi': 'u'free'', 'NoiseLevel': 'u'average''...</td>\n",
       "      <td>Japanese, Poke, Pop-Up Restaurants, Ramen, Sho...</td>\n",
       "    </tr>\n",
       "    <tr>\n",
       "      <th>6924</th>\n",
       "      <td>a mano</td>\n",
       "      <td>{'HappyHour': 'True', 'CoatCheck': 'False', 'B...</td>\n",
       "      <td>Breakfast &amp; Brunch, Italian, Wine Bars, Pop-Up...</td>\n",
       "    </tr>\n",
       "    <tr>\n",
       "      <th>7921</th>\n",
       "      <td>Hernandez Hospitality</td>\n",
       "      <td>{'BusinessAcceptsCreditCards': 'True', 'Wheelc...</td>\n",
       "      <td>Specialty Food, Restaurants, Personal Chefs, F...</td>\n",
       "    </tr>\n",
       "    <tr>\n",
       "      <th>7949</th>\n",
       "      <td>Oddbird</td>\n",
       "      <td>{'RestaurantsPriceRange2': '2', 'RestaurantsTa...</td>\n",
       "      <td>Pop-Up Restaurants, Chicken Shop, Southern, Re...</td>\n",
       "    </tr>\n",
       "    <tr>\n",
       "      <th>8045</th>\n",
       "      <td>Caribana Bliss</td>\n",
       "      <td>{'GoodForMeal': '{'dessert': False, 'latenight...</td>\n",
       "      <td>Caribbean, Restaurants, Pop-Up Restaurants</td>\n",
       "    </tr>\n",
       "    <tr>\n",
       "      <th>8321</th>\n",
       "      <td>PAPA LLAMA</td>\n",
       "      <td>{'BusinessAcceptsBitcoin': 'False', 'DogsAllow...</td>\n",
       "      <td>Latin American, Food Trucks, Restaurants, Food...</td>\n",
       "    </tr>\n",
       "    <tr>\n",
       "      <th>8577</th>\n",
       "      <td>Copper Cove Bistro</td>\n",
       "      <td>{'HappyHour': 'True', 'RestaurantsTakeOut': 'T...</td>\n",
       "      <td>Lounges, Nightlife, Pop-Up Restaurants, Bars, ...</td>\n",
       "    </tr>\n",
       "    <tr>\n",
       "      <th>9545</th>\n",
       "      <td>HunnyMilk</td>\n",
       "      <td>{'GoodForMeal': '{'dessert': False, 'latenight...</td>\n",
       "      <td>Breakfast &amp; Brunch, Event Planning &amp; Services,...</td>\n",
       "    </tr>\n",
       "    <tr>\n",
       "      <th>9750</th>\n",
       "      <td>Poutinerie by Air Canada</td>\n",
       "      <td>{'BusinessParking': '{'garage': False, 'street...</td>\n",
       "      <td>Pop-Up Restaurants, Restaurants, Poutineries</td>\n",
       "    </tr>\n",
       "    <tr>\n",
       "      <th>10270</th>\n",
       "      <td>Truck Stop Restaurant</td>\n",
       "      <td>{'Ambience': '{'touristy': False, 'hipster': F...</td>\n",
       "      <td>Food Trucks, Nightlife, Food, Restaurants, San...</td>\n",
       "    </tr>\n",
       "    <tr>\n",
       "      <th>11408</th>\n",
       "      <td>Talat Market</td>\n",
       "      <td>{'Ambience': '{'touristy': False, 'hipster': F...</td>\n",
       "      <td>Pop-Up Restaurants, Restaurants, Thai</td>\n",
       "    </tr>\n",
       "    <tr>\n",
       "      <th>12009</th>\n",
       "      <td>White Pepper</td>\n",
       "      <td>{'WheelchairAccessible': 'True', 'OutdoorSeati...</td>\n",
       "      <td>Caterers, Pop-Up Restaurants, Restaurants, Eve...</td>\n",
       "    </tr>\n",
       "    <tr>\n",
       "      <th>13184</th>\n",
       "      <td>The Midnight Marauder</td>\n",
       "      <td>{'WiFi': 'u'no'', 'BikeParking': 'True', 'Good...</td>\n",
       "      <td>Hot Dogs, Fast Food, Restaurants, Nightlife, P...</td>\n",
       "    </tr>\n",
       "    <tr>\n",
       "      <th>16023</th>\n",
       "      <td>Porkman's Table</td>\n",
       "      <td>{'HasTV': 'False', 'WiFi': 'u'free'', 'Restaur...</td>\n",
       "      <td>Pop-Up Restaurants, Bars, American (Traditiona...</td>\n",
       "    </tr>\n",
       "    <tr>\n",
       "      <th>17098</th>\n",
       "      <td>Of Roots and Blooms</td>\n",
       "      <td>{'BusinessParking': '{'garage': False, 'street...</td>\n",
       "      <td>Beer, Wine &amp; Spirits, Vegetarian, Vegan, Pop-U...</td>\n",
       "    </tr>\n",
       "    <tr>\n",
       "      <th>17660</th>\n",
       "      <td>Dame</td>\n",
       "      <td>{'Ambience': '{'touristy': False, 'hipster': F...</td>\n",
       "      <td>Nightlife, Bars, Restaurants, Wine Bars, Diner...</td>\n",
       "    </tr>\n",
       "  </tbody>\n",
       "</table>\n",
       "</div>"
      ],
      "text/plain": [
       "                              name  \\\n",
       "1826                           AIX   \n",
       "2236        Meatballerz Restaurant   \n",
       "2872            Smoke & Donuts BBQ   \n",
       "2931              Hungry Heart PDX   \n",
       "3958                   Kamayan ATL   \n",
       "4889                       Ok Yaki   \n",
       "5313   Bangrak Thai Street Kitchen   \n",
       "6787                    Oisa Ramen   \n",
       "6924                        a mano   \n",
       "7921         Hernandez Hospitality   \n",
       "7949                       Oddbird   \n",
       "8045                Caribana Bliss   \n",
       "8321                    PAPA LLAMA   \n",
       "8577            Copper Cove Bistro   \n",
       "9545                     HunnyMilk   \n",
       "9750      Poutinerie by Air Canada   \n",
       "10270        Truck Stop Restaurant   \n",
       "11408                 Talat Market   \n",
       "12009                 White Pepper   \n",
       "13184        The Midnight Marauder   \n",
       "16023              Porkman's Table   \n",
       "17098          Of Roots and Blooms   \n",
       "17660                         Dame   \n",
       "\n",
       "                                              attributes  \\\n",
       "1826   {'BusinessParking': '{'garage': True, 'street'...   \n",
       "2236   {'GoodForMeal': '{'dessert': False, 'latenight...   \n",
       "2872   {'RestaurantsTakeOut': 'True', 'Ambience': '{'...   \n",
       "2931   {'BikeParking': 'True', 'Caters': 'True', 'Amb...   \n",
       "3958   {'RestaurantsTakeOut': 'False', 'RestaurantsRe...   \n",
       "4889   {'DogsAllowed': 'False', 'Alcohol': 'u'none'',...   \n",
       "5313   {'BusinessParking': '{'garage': False, 'street...   \n",
       "6787   {'WiFi': 'u'free'', 'NoiseLevel': 'u'average''...   \n",
       "6924   {'HappyHour': 'True', 'CoatCheck': 'False', 'B...   \n",
       "7921   {'BusinessAcceptsCreditCards': 'True', 'Wheelc...   \n",
       "7949   {'RestaurantsPriceRange2': '2', 'RestaurantsTa...   \n",
       "8045   {'GoodForMeal': '{'dessert': False, 'latenight...   \n",
       "8321   {'BusinessAcceptsBitcoin': 'False', 'DogsAllow...   \n",
       "8577   {'HappyHour': 'True', 'RestaurantsTakeOut': 'T...   \n",
       "9545   {'GoodForMeal': '{'dessert': False, 'latenight...   \n",
       "9750   {'BusinessParking': '{'garage': False, 'street...   \n",
       "10270  {'Ambience': '{'touristy': False, 'hipster': F...   \n",
       "11408  {'Ambience': '{'touristy': False, 'hipster': F...   \n",
       "12009  {'WheelchairAccessible': 'True', 'OutdoorSeati...   \n",
       "13184  {'WiFi': 'u'no'', 'BikeParking': 'True', 'Good...   \n",
       "16023  {'HasTV': 'False', 'WiFi': 'u'free'', 'Restaur...   \n",
       "17098  {'BusinessParking': '{'garage': False, 'street...   \n",
       "17660  {'Ambience': '{'touristy': False, 'hipster': F...   \n",
       "\n",
       "                                              categories  \n",
       "1826   Restaurants, Nightlife, Pop-Up Restaurants, Am...  \n",
       "2236   Food Trucks, Food, Italian, Breakfast & Brunch...  \n",
       "2872   Pop-Up Restaurants, Food, Barbeque, Event Plan...  \n",
       "2931   Caterers, Ice Cream & Frozen Yogurt, Restauran...  \n",
       "3958   Restaurants, Event Planning & Services, Catere...  \n",
       "4889   Restaurants, Teppanyaki, Street Vendors, Japan...  \n",
       "5313               Pop-Up Restaurants, Restaurants, Thai  \n",
       "6787   Japanese, Poke, Pop-Up Restaurants, Ramen, Sho...  \n",
       "6924   Breakfast & Brunch, Italian, Wine Bars, Pop-Up...  \n",
       "7921   Specialty Food, Restaurants, Personal Chefs, F...  \n",
       "7949   Pop-Up Restaurants, Chicken Shop, Southern, Re...  \n",
       "8045          Caribbean, Restaurants, Pop-Up Restaurants  \n",
       "8321   Latin American, Food Trucks, Restaurants, Food...  \n",
       "8577   Lounges, Nightlife, Pop-Up Restaurants, Bars, ...  \n",
       "9545   Breakfast & Brunch, Event Planning & Services,...  \n",
       "9750        Pop-Up Restaurants, Restaurants, Poutineries  \n",
       "10270  Food Trucks, Nightlife, Food, Restaurants, San...  \n",
       "11408              Pop-Up Restaurants, Restaurants, Thai  \n",
       "12009  Caterers, Pop-Up Restaurants, Restaurants, Eve...  \n",
       "13184  Hot Dogs, Fast Food, Restaurants, Nightlife, P...  \n",
       "16023  Pop-Up Restaurants, Bars, American (Traditiona...  \n",
       "17098  Beer, Wine & Spirits, Vegetarian, Vegan, Pop-U...  \n",
       "17660  Nightlife, Bars, Restaurants, Wine Bars, Diner...  "
      ]
     },
     "execution_count": 66,
     "metadata": {},
     "output_type": "execute_result"
    }
   ],
   "source": [
    "restaurant_df[restaurant_df['categories'].str.contains('Pop-Up Restaurants')][['name', 'attributes', 'categories']].head(n= 50)"
   ]
  },
  {
   "cell_type": "code",
   "execution_count": null,
   "metadata": {},
   "outputs": [],
   "source": []
  }
 ],
 "metadata": {
  "kernelspec": {
   "display_name": "Python 3",
   "language": "python",
   "name": "python3"
  },
  "language_info": {
   "codemirror_mode": {
    "name": "ipython",
    "version": 3
   },
   "file_extension": ".py",
   "mimetype": "text/x-python",
   "name": "python",
   "nbconvert_exporter": "python",
   "pygments_lexer": "ipython3",
   "version": "3.7.6"
  }
 },
 "nbformat": 4,
 "nbformat_minor": 4
}
