{
 "cells": [
  {
   "cell_type": "markdown",
   "id": "4524ea10",
   "metadata": {},
   "source": [
    "This notebook shows the COVID incidence rates over time for \n",
    "* Atlanta  \n",
    "* Austin  \n",
    "* Boston  \n",
    "* Portland  \n",
    "* Orlando\n",
    "\n",
    "The COVID incidence data is by FIPS code, which is generally reported by county. So we will look at COVID incidence data for the following counties:\n",
    "* Fulton\n",
    "* Travis  \n",
    "* Suffolk  \n",
    "* Multnomah\n",
    "* Orange\n",
    "\n",
    "The COVID incidence data comes from John Hopkins University and can be found [here](\"https://github.com/CSSEGISandData/COVID-19/tree/master/csse_covid_19_data\"). "
   ]
  },
  {
   "cell_type": "code",
   "execution_count": null,
   "id": "a2f947fa",
   "metadata": {},
   "outputs": [],
   "source": [
    "import pandas as pd\n",
    "import datetime\n",
    "import plotly.express as px\n",
    "import glob\n",
    "import re\n",
    "import get_fips_codes\n",
    "import json\n",
    "import requests"
   ]
  },
  {
   "cell_type": "code",
   "execution_count": null,
   "id": "97e37694",
   "metadata": {},
   "outputs": [],
   "source": [
    "### get the fips codes for the five cities/counties above\n",
    "counties = [\"Fulton\", \"Travis\", \"Suffolk\", \"Multnomah\", \"Orange\"]\n",
    "county_fips = get_fips_codes.get_fips(county_list=counties)\n",
    "\n",
    "### Since at least one county will return multiple entries, filter by state also\n",
    "states = [\"GA\", \"TX\", \"MA\", \"OR\", \"FL\"]\n",
    "fips = county_fips[county_fips.State.isin(states)]\n",
    "\n",
    "### convert fips to a numeric\n",
    "fips[\"FIPS\"] = pd.to_numeric(fips[\"FIPS\"])\n",
    "\n",
    "## There is an Orange County in TX also:\n",
    "fips = fips[fips.FIPS != 48361]\n",
    "print(fips)"
   ]
  },
  {
   "cell_type": "markdown",
   "id": "c87a697e",
   "metadata": {},
   "source": [
    "Some of the earlier files do not have FIPS codes. Since they very early files and we want to look at general trends, I'll keep only the files that do have FIPS codes."
   ]
  },
  {
   "cell_type": "code",
   "execution_count": null,
   "id": "d2827ab1",
   "metadata": {},
   "outputs": [],
   "source": [
    "dpath = \"/Users/christinabrady/Documents/data/COVID-19/csse_covid_19_data/csse_covid_19_daily_reports/*.csv\"\n",
    "covid_files = glob.glob(dpath)\n",
    "\n",
    "covid_files = [fl for fl in covid_files if fl is not None]\n",
    "has_fips = []\n",
    "for fl in covid_files:\n",
    "    tmp = pd.read_csv(fl)\n",
    "    if \"FIPS\" in tmp.columns:\n",
    "        has_fips.append(fl)\n",
    "    else:\n",
    "        pass\n",
    "    \n",
    "# check it\n",
    "# set(covid_files) - set(has_fips)\n"
   ]
  },
  {
   "cell_type": "code",
   "execution_count": null,
   "id": "eda99118",
   "metadata": {},
   "outputs": [],
   "source": [
    "## the early files don't have a calculated incident rate, \n",
    "## so we'll pull the confirmed cases and calculate it ourselves\n",
    "\n",
    "confirmed_cases = []\n",
    "for fl in has_fips:\n",
    "    dt = re.search(\"[0-9]{2}-[0-9]{2}-[0-9]{4}\", fl).group(0)\n",
    "    print(\"working on \", dt)\n",
    "    tmp = pd.read_csv(fl)\n",
    "    ret = tmp.loc[tmp.FIPS.isin(fips.FIPS), ['FIPS', 'Confirmed']]\n",
    "    ret[\"date\"] = datetime.datetime.strptime(dt, \"%m-%d-%Y\").date()\n",
    "    confirmed_cases.append(ret)\n",
    "\n",
    "confirmed_cases = pd.concat(confirmed_cases)\n",
    "confirmed_cases.FIPS = confirmed_cases.FIPS.astype(\"int\") ### this is so we can merge on FIPS later"
   ]
  },
  {
   "cell_type": "code",
   "execution_count": null,
   "id": "854ffd1d",
   "metadata": {},
   "outputs": [],
   "source": [
    "### Use Census API to pull population data for each county \n",
    "## in order to calculate incidence rate for the missing dates\n",
    "\n",
    "base_api_call = \"https://api.census.gov/data/2019/pep/population?get=DATE_DESC,POP,NAME&&for=county:%s&in=state:%s\"\n",
    "pop_stats = []\n",
    "\n",
    "for code in fips.FIPS.values:\n",
    "    print(code)\n",
    "    code_str = str(code)\n",
    "    url = base_api_call %(code_str[2:], code_str[:2])\n",
    "    response = pd.read_json(url)\n",
    "    pop_stats.append(response)\n",
    "\n",
    "    "
   ]
  },
  {
   "cell_type": "code",
   "execution_count": null,
   "id": "4a7a2381",
   "metadata": {},
   "outputs": [],
   "source": [
    "pop = pd.concat(pop_stats)\n",
    "pop.columns = ['date_desc', 'population', 'county_name', 'state', 'county']\n",
    "pop = pop[pop.date_desc.str.contains('2019')]\n",
    "pop['FIPS'] = pop[['state', 'county']].agg(''.join, axis = 1)\n",
    "pop.FIPS = pop.FIPS.astype(\"int\")\n",
    "pop.population = pop.population.astype(\"int\")\n",
    "pop.head()"
   ]
  },
  {
   "cell_type": "code",
   "execution_count": null,
   "id": "da49238f",
   "metadata": {},
   "outputs": [],
   "source": [
    "cases = pd.merge(left=confirmed_cases, right=pop, how='left', left_on='FIPS', right_on='FIPS')\n",
    "cases['incidence'] = cases['Confirmed']/(cases['population']/100000)\n",
    "cases = cases.sort_values(['date', 'county_name'], ascending = True)\n",
    "cases.head()"
   ]
  },
  {
   "cell_type": "code",
   "execution_count": null,
   "id": "ef328147",
   "metadata": {},
   "outputs": [],
   "source": [
    "cases.date = pd.to_datetime(cases.date, format = \"%Y-%m-%d\")\n",
    "\n",
    "covid_fig = px.line(cases,\n",
    "                    x = 'date',\n",
    "                    y = 'incidence',\n",
    "                    color = 'county_name',\n",
    "                    title = \"Incidence of COVID-19\",\n",
    "                    labels = {'date': 'Date', \n",
    "                             'incidence': 'Confirmed Cases per 100,000 people'})\n",
    "covid_fig.show()"
   ]
  },
  {
   "cell_type": "code",
   "execution_count": null,
   "id": "07912045",
   "metadata": {},
   "outputs": [],
   "source": [
    "fips[\"city\"] = [\"Orlando\", \"Atlanta\", \"Boston\", \"Portland\", \"Austin\"]\n",
    "for_export = cases.loc[cases.date == datetime.date(2021, 3, 15), [\"FIPS\", \"date\", \"incidence\"]]\n",
    "for_export = for_export.merge(fips, left_on=\"FIPS\", right_on=\"FIPS\")"
   ]
  },
  {
   "cell_type": "code",
   "execution_count": null,
   "id": "4bb7a735",
   "metadata": {},
   "outputs": [],
   "source": [
    "for_export"
   ]
  },
  {
   "cell_type": "code",
   "execution_count": null,
   "id": "b35073c1",
   "metadata": {},
   "outputs": [],
   "source": [
    "for_export.to_csv(\"processed_data/covid_incidence_by_city.csv\")"
   ]
  },
  {
   "cell_type": "code",
   "execution_count": null,
   "id": "c98b44a5",
   "metadata": {},
   "outputs": [],
   "source": []
  }
 ],
 "metadata": {
  "kernelspec": {
   "display_name": "project_env",
   "language": "python",
   "name": "project_env"
  },
  "language_info": {
   "codemirror_mode": {
    "name": "ipython",
    "version": 3
   },
   "file_extension": ".py",
   "mimetype": "text/x-python",
   "name": "python",
   "nbconvert_exporter": "python",
   "pygments_lexer": "ipython3",
   "version": "3.8.9"
  }
 },
 "nbformat": 4,
 "nbformat_minor": 5
}
