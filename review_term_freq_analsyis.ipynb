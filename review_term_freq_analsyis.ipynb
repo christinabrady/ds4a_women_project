{
 "cells": [
  {
   "cell_type": "code",
   "execution_count": null,
   "id": "2154aa38",
   "metadata": {},
   "outputs": [],
   "source": [
    "import pandas as pd\n",
    "import glob\n",
    "import re\n",
    "import os\n",
    "from functools import reduce\n",
    "import plotly.express as px"
   ]
  },
  {
   "cell_type": "code",
   "execution_count": null,
   "id": "140de4bc",
   "metadata": {},
   "outputs": [],
   "source": [
    "dpath = \"/Users/christinabrady/Documents/codebase/ds4a_women_project/processed_data/*.csv\"\n",
    "allfiles = glob.glob(dpath)\n",
    "word_ct_files = [fl for fl in allfiles if \"word_freqs\" in fl]"
   ]
  },
  {
   "cell_type": "code",
   "execution_count": null,
   "id": "2d0d0e14",
   "metadata": {},
   "outputs": [],
   "source": [
    "word_ct_list = []\n",
    "for fl in word_ct_files:\n",
    "    tmp = pd.read_csv(fl)\n",
    "    tmp.columns = [\"word\", os.path.basename(fl).split(\"_\")[0]]\n",
    "    word_ct_list.append(tmp)\n"
   ]
  },
  {
   "cell_type": "code",
   "execution_count": null,
   "id": "481e6a38",
   "metadata": {},
   "outputs": [],
   "source": [
    "word_cts = reduce(lambda  left,right: pd.merge(left,right,on=['word'],\n",
    "                                            how='outer'), word_ct_list)"
   ]
  },
  {
   "cell_type": "code",
   "execution_count": null,
   "id": "079105b1",
   "metadata": {},
   "outputs": [],
   "source": [
    "### because I used sets in order to speed up the code\n",
    "### the one - five columns don't add up to the all column\n",
    "### Though not ideal, I think it will still work\n",
    "### I'm going to create a new column which is the sum of one - five\n",
    "### to use to create proportions\n",
    "\n",
    "word_cts[\"one_five\"] = word_cts.one + word_cts.two + word_cts.three + word_cts.four + word_cts.five\n",
    "word_cts.head()"
   ]
  },
  {
   "cell_type": "code",
   "execution_count": null,
   "id": "b8701cd0",
   "metadata": {},
   "outputs": [],
   "source": [
    "## use the sum of one-five columns to create proportions\n",
    "## take the range of the proportions and determine which terms to include\n",
    "range_cols = [\"one\", \"two\", \"three\", \"four\", \"five\"]\n",
    "word_cts[\"range\"] = round((word_cts[range_cols].max(axis = 1) - word_cts[range_cols].min(axis = 1))/\n",
    "                          word_cts[range_cols].max(axis = 1)*100)"
   ]
  },
  {
   "cell_type": "code",
   "execution_count": null,
   "id": "d88a9df5",
   "metadata": {},
   "outputs": [],
   "source": [
    "## what does that range look like?\n",
    "fig2 = px.scatter(word_cts, \n",
    "                  x = \"one_five\", \n",
    "                  y = \"range\", \n",
    "                  title = \"Distribution of range\", \n",
    "                  hover_data = [\"word\"])\n",
    "fig2.show()"
   ]
  },
  {
   "cell_type": "code",
   "execution_count": null,
   "id": "5a8475f8",
   "metadata": {},
   "outputs": [],
   "source": [
    "word_cts.sort_values(\"range\", ascending = True)"
   ]
  },
  {
   "cell_type": "code",
   "execution_count": null,
   "id": "4a30265c",
   "metadata": {},
   "outputs": [],
   "source": [
    "def plot_term(term):\n",
    "    dat = word_cts[word_cts.word == term].melt()\n",
    "    dat[\"variable\"] = pd.Categorical(dat[\"variable\"], [\"one\", \"two\", \"three\", \"four\", \"five\", \"one_five\", \"all\", \"term\", \"range\"])\n",
    "    dat = dat.sort_values(\"variable\")\n",
    "    fig = px.histogram(dat[dat.variable.isin([\"one\", \"two\", \"three\", \"four\", \"five\", \"one_five\", \"all\"])], \n",
    "                      x = \"variable\", \n",
    "                      y = \"value\",\n",
    "                      title = \"Term: \" + term + \"; \" + \"Range: \" + \n",
    "                       str(dat.loc[dat.variable == \"range\", [\"value\"]].values))\n",
    "    fig.show()"
   ]
  },
  {
   "cell_type": "code",
   "execution_count": null,
   "id": "b886782a",
   "metadata": {},
   "outputs": [],
   "source": [
    "plot_term(\"amazing\")"
   ]
  },
  {
   "cell_type": "code",
   "execution_count": null,
   "id": "a5a65f62",
   "metadata": {},
   "outputs": [],
   "source": []
  }
 ],
 "metadata": {
  "kernelspec": {
   "display_name": "project_env",
   "language": "python",
   "name": "project_env"
  },
  "language_info": {
   "codemirror_mode": {
    "name": "ipython",
    "version": 3
   },
   "file_extension": ".py",
   "mimetype": "text/x-python",
   "name": "python",
   "nbconvert_exporter": "python",
   "pygments_lexer": "ipython3",
   "version": "3.8.9"
  }
 },
 "nbformat": 4,
 "nbformat_minor": 5
}
